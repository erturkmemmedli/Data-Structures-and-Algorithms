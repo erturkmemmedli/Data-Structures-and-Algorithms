{
 "cells": [
  {
   "cell_type": "markdown",
   "metadata": {},
   "source": [
    "### Money Change"
   ]
  },
  {
   "cell_type": "code",
   "execution_count": 1,
   "metadata": {},
   "outputs": [
    {
     "name": "stdout",
     "output_type": "stream",
     "text": [
      "159\n",
      "20\n"
     ]
    }
   ],
   "source": [
    "def money_change(money):\n",
    "    assert 0 <= money <= 10 ** 3\n",
    "    return int(money / 10) + int((money % 10) / 5) + int(money % 5)\n",
    "\n",
    "if __name__ == '__main__':\n",
    "    input_money = int(input())\n",
    "    print(money_change(input_money))"
   ]
  },
  {
   "cell_type": "markdown",
   "metadata": {},
   "source": [
    "### Car Fueling"
   ]
  },
  {
   "cell_type": "code",
   "execution_count": 3,
   "metadata": {},
   "outputs": [
    {
     "name": "stdout",
     "output_type": "stream",
     "text": [
      "1000\n",
      "200\n",
      "10\n",
      "50 70 150 250 300 340 510 590 700 810\n",
      "[150, 340, 510, 700, 810]\n",
      "5\n"
     ]
    }
   ],
   "source": [
    "def compute_min_number_of_refills(d, m, stops):\n",
    "    assert 1 <= d <= 10 ** 5\n",
    "    assert 1 <= m <= 400\n",
    "    assert 1 <= len(stops) <= 300\n",
    "    assert 0 < stops[0] and all(stops[i] < stops[i + 1] for i in range(len(stops) - 1)) and stops[-1] < d\n",
    "    position = 0\n",
    "    refill = []\n",
    "    i = 0\n",
    "    while i <= len(stops) - 1:\n",
    "        if stops[i] - position < m:\n",
    "            i += 1\n",
    "            continue\n",
    "        if stops[i] - position == m:\n",
    "            position = stops[i]\n",
    "            refill.append(position)\n",
    "            i += 1\n",
    "            continue\n",
    "        if (stops[i] - position > m):\n",
    "            if stops[i] - stops[i-1] <= m:\n",
    "                position = stops[i-1]\n",
    "                refill.append(position)\n",
    "            else:\n",
    "                return -1 # \"Impossible\"\n",
    "    if d - position <= m:\n",
    "        print(refill)\n",
    "        return len(refill)\n",
    "    else:\n",
    "        refill.append(stops[-1])\n",
    "        print(refill)\n",
    "        return len(refill)\n",
    "\n",
    "if __name__ == '__main__':\n",
    "    input_d = int(input())\n",
    "    input_m = int(input())\n",
    "    input_n = int(input())\n",
    "    input_stops = list(map(int, input().split()))\n",
    "    assert len(input_stops) == input_n\n",
    "    print(compute_min_number_of_refills(input_d, input_m, input_stops))"
   ]
  },
  {
   "cell_type": "markdown",
   "metadata": {},
   "source": [
    "### Maximum Value of the Loot"
   ]
  },
  {
   "cell_type": "code",
   "execution_count": 80,
   "metadata": {},
   "outputs": [
    {
     "name": "stdout",
     "output_type": "stream",
     "text": [
      "100\n",
      "60 50 40\n",
      "120 200 120\n",
      "340.0000000000\n"
     ]
    }
   ],
   "source": [
    "def maximum_loot_value(capacity, weights, prices):\n",
    "    assert 0 <= capacity <= 2 * 10 ** 6\n",
    "    assert len(weights) == len(prices)\n",
    "    assert 1 <= len(weights) <= 10 ** 3\n",
    "    assert all(0 < w <= 2 * 10 ** 6 for w in weights)\n",
    "    assert all(0 <= p <= 2 * 10 ** 6 for p in prices)\n",
    "    unit_price = []\n",
    "    for i in range(len(prices)):\n",
    "        unit_price.append(prices[i]/weights[i])\n",
    "    dictionary = dict(zip(weights, unit_price))\n",
    "    sorted_dictionary = sorted(dictionary.items(), key = lambda x: x[1],  reverse = True)\n",
    "    amount = 0\n",
    "    for i in range(len(sorted_dictionary)):\n",
    "        if capacity - sorted_dictionary[i][0] >= 0:\n",
    "            capacity -= sorted_dictionary[i][0]\n",
    "            amount += sorted_dictionary[i][0] * sorted_dictionary[i][1]\n",
    "            i += 1\n",
    "            continue\n",
    "        amount += capacity * sorted_dictionary[i][1]\n",
    "        break\n",
    "    return amount\n",
    "\n",
    "if __name__ == \"__main__\":\n",
    "    input_capacity = int(input())\n",
    "    input_weights = list(map(int, input().split()))\n",
    "    input_prices = list(map(int, input().split()))\n",
    "    opt_value = maximum_loot_value(input_capacity, input_weights, input_prices)\n",
    "    print(\"{:.10f}\".format(opt_value))"
   ]
  },
  {
   "cell_type": "markdown",
   "metadata": {},
   "source": [
    "### Maximum Advertisement Revenue"
   ]
  },
  {
   "cell_type": "code",
   "execution_count": 81,
   "metadata": {},
   "outputs": [
    {
     "name": "stdout",
     "output_type": "stream",
     "text": [
      "5\n",
      "12 543 12 6 132\n",
      "234 765 21 76 0\n",
      "447447\n"
     ]
    }
   ],
   "source": [
    "from itertools import permutations\n",
    "\n",
    "def max_dot_product_naive(first_sequence, second_sequence):\n",
    "    assert len(first_sequence) == len(second_sequence)\n",
    "    assert len(first_sequence) <= 10 ** 3\n",
    "    assert all(0 <= f <= 10 ** 5 for f in first_sequence)\n",
    "    assert all(0 <= s <= 10 ** 5 for s in second_sequence)\n",
    "    \n",
    "    max_product = 0\n",
    "    for permutation in permutations(second_sequence):\n",
    "        dot_product = sum(first_sequence[i] * permutation[i] for i in range(len(first_sequence)))\n",
    "        max_product = max(max_product, dot_product)\n",
    "\n",
    "    return max_product\n",
    "\n",
    "\n",
    "def max_dot_product(first_sequence, second_sequence):\n",
    "    assert len(first_sequence) == len(second_sequence)\n",
    "    assert len(first_sequence) <= 10 ** 3\n",
    "    assert all(0 <= f <= 10 ** 5 for f in first_sequence)\n",
    "    assert all(0 <= s <= 10 ** 5 for s in second_sequence)\n",
    "    \n",
    "    return sum([i * j for i,j in  zip(sorted(first_sequence), sorted(second_sequence))])\n",
    "\n",
    "if __name__ == '__main__':\n",
    "    n = int(input())\n",
    "    prices = list(map(int, input().split()))\n",
    "    clicks = list(map(int, input().split()))\n",
    "    assert len(prices) == len(clicks) == n\n",
    "    print(max_dot_product(prices, clicks))"
   ]
  },
  {
   "cell_type": "markdown",
   "metadata": {},
   "source": [
    "### Collecting Signatures"
   ]
  },
  {
   "cell_type": "code",
   "execution_count": 82,
   "metadata": {},
   "outputs": [
    {
     "name": "stdout",
     "output_type": "stream",
     "text": [
      "5\n",
      "1 3\n",
      "4 10\n",
      "2 5\n",
      "5 9\n",
      "6 8\n",
      "[3, 8]\n",
      "2\n"
     ]
    }
   ],
   "source": [
    "def compute_optimal_points(segments):\n",
    "    position = []\n",
    "    segments = sorted(segments)\n",
    "    for i in range(len(segments)):\n",
    "        if len(position) == 0:\n",
    "            position.append(segments[i][1])\n",
    "        if segments[i][1] < position[-1]:\n",
    "            position = position[:-1]\n",
    "        if position[-1] >= segments[i][0]:\n",
    "            continue\n",
    "        position.append(segments[i][1])\n",
    "    print(position)\n",
    "    return len(position)\n",
    "\n",
    "if __name__ == '__main__':\n",
    "    n = int(input())\n",
    "    assert n >= 2\n",
    "    input_segments = []\n",
    "    for i in range(n):\n",
    "        inputs = tuple(map(int, input().split()))\n",
    "        assert len(inputs) == 2\n",
    "        assert inputs[0] < inputs[1]\n",
    "        input_segments.append(inputs)\n",
    "    output_points = compute_optimal_points(input_segments)\n",
    "    print(output_points)"
   ]
  }
 ],
 "metadata": {
  "kernelspec": {
   "display_name": "Python 3",
   "language": "python",
   "name": "python3"
  },
  "language_info": {
   "codemirror_mode": {
    "name": "ipython",
    "version": 3
   },
   "file_extension": ".py",
   "mimetype": "text/x-python",
   "name": "python",
   "nbconvert_exporter": "python",
   "pygments_lexer": "ipython3",
   "version": "3.7.3"
  }
 },
 "nbformat": 4,
 "nbformat_minor": 2
}
