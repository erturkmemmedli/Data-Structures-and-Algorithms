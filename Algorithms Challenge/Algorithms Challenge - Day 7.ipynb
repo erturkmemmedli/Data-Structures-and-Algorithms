{
 "cells": [
  {
   "cell_type": "markdown",
   "metadata": {},
   "source": [
    "### Quick Sort"
   ]
  },
  {
   "cell_type": "code",
   "execution_count": 9,
   "metadata": {},
   "outputs": [
    {
     "name": "stdout",
     "output_type": "stream",
     "text": [
      "6 2 6 92 1 4654 132 63 213 7 234 23 9870 345 8 12 54\n",
      "[1, 2, 6, 6, 7, 8, 12, 23, 54, 63, 92, 132, 213, 234, 345, 4654, 9870]\n"
     ]
    }
   ],
   "source": [
    "def quick_sort(A, l, r):\n",
    "    if l >= r:\n",
    "        return A\n",
    "    m = partition(A, l, r)\n",
    "    quick_sort(A, l, m - 1)\n",
    "    quick_sort(A, m + 1, r)\n",
    "    return A\n",
    "\n",
    "def partition(A, l, r):\n",
    "    x = A[l]\n",
    "    j = l\n",
    "    for i in range(l + 1, r + 1):\n",
    "        if A[i] <= x:\n",
    "            j += 1\n",
    "            A[i], A[j] = A[j], A[i]\n",
    "    A[l], A[j] = A[j], A[l]    \n",
    "    return j\n",
    "\n",
    "if __name__ == '__main__':\n",
    "    A = list(map(int, input().split()))\n",
    "    l = 0\n",
    "    r = len(A) - 1\n",
    "    print(quick_sort(A, l, r))"
   ]
  },
  {
   "cell_type": "markdown",
   "metadata": {},
   "source": [
    "### Majority Element"
   ]
  },
  {
   "cell_type": "code",
   "execution_count": 10,
   "metadata": {},
   "outputs": [
    {
     "name": "stdout",
     "output_type": "stream",
     "text": [
      "15\n",
      "22 1 54 1 50 21 1 4 1 1 1 44 1 1 1\n",
      "1\n"
     ]
    }
   ],
   "source": [
    "def majority_element(elements):\n",
    "    assert len(elements) <= 10 ** 5\n",
    "\n",
    "    def quicksort(x):\n",
    "        if len(x) < 2:\n",
    "            return x\n",
    "        else:\n",
    "            pivot = x[0]\n",
    "            less = [i for i in x[1:] if i <= pivot]\n",
    "            greater = [i for i in x[1:] if i > pivot]\n",
    "            return quicksort(less) + [pivot] + quicksort(greater)\n",
    "\n",
    "    sorted_elements = quicksort(elements)\n",
    "    n = len(elements)\n",
    "    for i in range(0,n//2):\n",
    "        if sorted_elements[i] == sorted_elements[i + n//2]:\n",
    "            return 1\n",
    "    return 0\n",
    "\n",
    "if __name__ == '__main__':\n",
    "    input_n = int(input())\n",
    "    input_elements = list(map(int, input().split()))\n",
    "    assert len(input_elements) == input_n\n",
    "    print(majority_element(input_elements))"
   ]
  },
  {
   "cell_type": "markdown",
   "metadata": {},
   "source": [
    "### Randomized Quick Sort"
   ]
  },
  {
   "cell_type": "code",
   "execution_count": 11,
   "metadata": {},
   "outputs": [
    {
     "name": "stdout",
     "output_type": "stream",
     "text": [
      "5 2 5 7 3 2 7 8 2 5 87 3 2 7 87 43 2 3 7 7 45 4 3\n",
      "[2, 2, 2, 2, 2, 3, 3, 3, 3, 4, 5, 5, 5, 7, 7, 7, 7, 7, 8, 43, 45, 87, 87]\n"
     ]
    }
   ],
   "source": [
    "from random import randint\n",
    "\n",
    "def randomized_quick_sort(A, l, r):\n",
    "    if l >= r:\n",
    "        return A\n",
    "    k = randint(l,r)\n",
    "    A[l], A[k] = A[k], A[l]\n",
    "    m = partition(A, l, r)\n",
    "    randomized_quick_sort(A, l, m - 1)\n",
    "    randomized_quick_sort(A, m + 1, r)\n",
    "    return A\n",
    "\n",
    "def partition(A, l, r):\n",
    "    x = A[l]\n",
    "    j = l\n",
    "    for i in range(l + 1, r + 1):\n",
    "        if A[i] <= x:\n",
    "            j += 1\n",
    "            A[i], A[j] = A[j], A[i]\n",
    "    A[l], A[j] = A[j], A[l]    \n",
    "    return j\n",
    "\n",
    "if __name__ == '__main__':\n",
    "    A = list(map(int, input().split()))\n",
    "    l = 0\n",
    "    r = len(A) - 1\n",
    "    print(quick_sort(A, l, r))"
   ]
  },
  {
   "cell_type": "markdown",
   "metadata": {},
   "source": [
    "### Improving Quick Sort"
   ]
  },
  {
   "cell_type": "code",
   "execution_count": 19,
   "metadata": {},
   "outputs": [
    {
     "name": "stdout",
     "output_type": "stream",
     "text": [
      "10\n",
      "5 3 6 5 8 1 5 5 4 2\n",
      "1 2 3 4 5 5 5 5 6 8\n"
     ]
    }
   ],
   "source": [
    "from random import randint\n",
    "\n",
    "def partition3(A, l, r):\n",
    "    pivot = A[l]\n",
    "    part1 = l\n",
    "    part2 = l\n",
    "    for i in range(l + 1, r + 1):\n",
    "        if A[i] < pivot:\n",
    "            part1 += 1\n",
    "            part2 += 1\n",
    "            A[i], A[part2] = A[part2], A[i]\n",
    "            A[part2], A[part1] = A[part1], A[part2]\n",
    "        elif A[i] == pivot:\n",
    "            part2 += 1\n",
    "            A[i], A[part2] = A[part2], A[i]\n",
    "    A[l], A[part1] = A[part1], A[l]\n",
    "    return part1, part2\n",
    "\n",
    "def randomized_quick_sort(A, l, r):\n",
    "    if l >= r:\n",
    "        return\n",
    "    k = randint(l, r)\n",
    "    A[l], A[k] = A[k], A[l]\n",
    "    (m1, m2) = partition3(A, l, r)\n",
    "    randomized_quick_sort(A, l, m1 - 1)\n",
    "    randomized_quick_sort(A, m2 + 1, r)\n",
    "\n",
    "if __name__ == '__main__':\n",
    "    input_n = int(input())\n",
    "    elements = list(map(int, input().split()))\n",
    "    assert len(elements) == input_n\n",
    "    randomized_quick_sort(elements, 0, len(elements) - 1)\n",
    "    print(*elements)"
   ]
  }
 ],
 "metadata": {
  "kernelspec": {
   "display_name": "Python 3",
   "language": "python",
   "name": "python3"
  },
  "language_info": {
   "codemirror_mode": {
    "name": "ipython",
    "version": 3
   },
   "file_extension": ".py",
   "mimetype": "text/x-python",
   "name": "python",
   "nbconvert_exporter": "python",
   "pygments_lexer": "ipython3",
   "version": "3.7.3"
  }
 },
 "nbformat": 4,
 "nbformat_minor": 2
}
