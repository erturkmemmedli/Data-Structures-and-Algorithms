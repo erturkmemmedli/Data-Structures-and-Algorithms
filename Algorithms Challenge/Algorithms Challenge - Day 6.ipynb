{
 "cells": [
  {
   "cell_type": "markdown",
   "metadata": {},
   "source": [
    "### Selection Sort"
   ]
  },
  {
   "cell_type": "code",
   "execution_count": 2,
   "metadata": {},
   "outputs": [
    {
     "name": "stdout",
     "output_type": "stream",
     "text": [
      "3,5,87,32,98,321,76,9,23,1\n",
      "[1, 3, 5, 9, 23, 32, 76, 87, 98, 321]\n"
     ]
    }
   ],
   "source": [
    "def selection_sort(A):\n",
    "    for i in range(len(A)):\n",
    "        minimum_index = i\n",
    "        for j in range(i+1,len(A)):\n",
    "            if A[j] < A[minimum_index]:\n",
    "                minimum_index = j\n",
    "        A[i], A[minimum_index] = A[minimum_index], A[i]\n",
    "    return A\n",
    "\n",
    "if __name__ == '__main__':\n",
    "    A = list(map(int, input().split(',')))\n",
    "    print(selection_sort(A))"
   ]
  },
  {
   "cell_type": "markdown",
   "metadata": {},
   "source": [
    "### Merge Sort"
   ]
  },
  {
   "cell_type": "code",
   "execution_count": 3,
   "metadata": {},
   "outputs": [
    {
     "name": "stdout",
     "output_type": "stream",
     "text": [
      "43 21 6 43 3 86 32 322 2 65 5345 5 234 623 234 754 1 90\n",
      "[1, 2, 3, 5, 6, 21, 32, 43, 43, 65, 86, 90, 234, 234, 322, 623, 754, 5345]\n"
     ]
    }
   ],
   "source": [
    "def merge_sort(A):\n",
    "    if len(A) == 1:\n",
    "        return A\n",
    "    mid = len(A) // 2\n",
    "    B = merge_sort(A[:mid])\n",
    "    C = merge_sort(A[mid+1:])\n",
    "    A_new = merge(B,C)\n",
    "    return A_new\n",
    "\n",
    "def merge(B,C):\n",
    "    D = []\n",
    "    while len(B) != 0 and len(C) != 0:\n",
    "        b = B[0]\n",
    "        c = C[0]\n",
    "        if b <= c:\n",
    "            D.append(b)\n",
    "            B = B[1:]\n",
    "        else:\n",
    "            D.append(c)\n",
    "            C = C[1:]\n",
    "    D = D + B + C\n",
    "    return D\n",
    "\n",
    "if __name__ == '__main__':\n",
    "    A = list(map(int, input().split()))\n",
    "    print(selection_sort(A))"
   ]
  },
  {
   "cell_type": "markdown",
   "metadata": {},
   "source": [
    "### Count Sort"
   ]
  },
  {
   "cell_type": "code",
   "execution_count": 6,
   "metadata": {},
   "outputs": [
    {
     "name": "stdout",
     "output_type": "stream",
     "text": [
      "2 3 3 3 2 2 2 1 2 9 3 1 1 9 9 9 2 3 3 3 2 1 1 2 2 2 2 1\n",
      "[1, 1, 1, 1, 1, 1, 2, 2, 2, 2, 2, 2, 2, 2, 2, 2, 2, 3, 3, 3, 3, 3, 3, 3, 9, 9, 9, 9]\n"
     ]
    }
   ],
   "source": [
    "# List must include only integers from 0 to 9. \n",
    "\n",
    "def count_sort(A):\n",
    "    assert all(0 <= A[i] <= 9 for i in range(len(A)))\n",
    "    integers = [0] * 10\n",
    "    result = []\n",
    "    for i in range(len(A)):\n",
    "        integers[A[i]] += 1\n",
    "    for j in range(len(integers)):\n",
    "        if integers[j] == 0:\n",
    "            continue\n",
    "        result += [j] * integers[j]\n",
    "    return result\n",
    "\n",
    "if __name__ == '__main__':\n",
    "    A = list(map(int, input().split()))\n",
    "    print(count_sort(A))"
   ]
  }
 ],
 "metadata": {
  "kernelspec": {
   "display_name": "Python 3",
   "language": "python",
   "name": "python3"
  },
  "language_info": {
   "codemirror_mode": {
    "name": "ipython",
    "version": 3
   },
   "file_extension": ".py",
   "mimetype": "text/x-python",
   "name": "python",
   "nbconvert_exporter": "python",
   "pygments_lexer": "ipython3",
   "version": "3.7.3"
  }
 },
 "nbformat": 4,
 "nbformat_minor": 2
}
