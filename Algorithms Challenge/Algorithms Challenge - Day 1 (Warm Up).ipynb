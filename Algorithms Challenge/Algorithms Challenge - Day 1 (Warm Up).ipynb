{
 "cells": [
  {
   "cell_type": "markdown",
   "metadata": {},
   "source": [
    "### Sum of Two Digits"
   ]
  },
  {
   "cell_type": "code",
   "execution_count": 66,
   "metadata": {},
   "outputs": [
    {
     "name": "stdout",
     "output_type": "stream",
     "text": [
      "4 6\n",
      "10\n"
     ]
    }
   ],
   "source": [
    "def sum_of_two_digits(first_digit, second_digit):\n",
    "    assert 0 <= first_digit <= 9 and 0 <= second_digit <= 9\n",
    "    return first_digit + second_digit\n",
    "\n",
    "if __name__ == '__main__':\n",
    "    a, b = map(int, input().split())\n",
    "    print(sum_of_two_digits(a, b))"
   ]
  },
  {
   "cell_type": "markdown",
   "metadata": {},
   "source": [
    "### Maximum Pairwise Product"
   ]
  },
  {
   "cell_type": "code",
   "execution_count": 67,
   "metadata": {},
   "outputs": [
    {
     "name": "stdout",
     "output_type": "stream",
     "text": [
      "5\n",
      "3 13 8 10 6\n",
      "130\n"
     ]
    }
   ],
   "source": [
    "def max_pairwise_product_naive(numbers):\n",
    "    assert len(numbers) >= 2\n",
    "    assert all(0 <= x <= 2 * 10 ** 5 for x in numbers)\n",
    "    product = 0\n",
    "    for i in range(len(numbers)):\n",
    "        for j in range(i + 1, len(numbers)):\n",
    "            product = max(product, numbers[i] * numbers[j])\n",
    "    return product\n",
    "\n",
    "def max_pairwise_product(numbers):\n",
    "    assert len(numbers) >= 2\n",
    "    assert all(0 <= x <= 2 * 10 ** 5 for x in numbers)\n",
    "    sorted_numbers = sorted(numbers, reverse = True)\n",
    "    return sorted_numbers[0] * sorted_numbers[1]\n",
    "\n",
    "if __name__ == '__main__':\n",
    "    n = int(input())\n",
    "    input_numbers = list(map(int, input().split()))\n",
    "    assert len(input_numbers) == n\n",
    "    print(max_pairwise_product(input_numbers))"
   ]
  },
  {
   "cell_type": "markdown",
   "metadata": {},
   "source": [
    "### Fibonacci Number"
   ]
  },
  {
   "cell_type": "code",
   "execution_count": 68,
   "metadata": {},
   "outputs": [
    {
     "name": "stdout",
     "output_type": "stream",
     "text": [
      "41\n",
      "165580141\n"
     ]
    }
   ],
   "source": [
    "def fibonacci_number_naive(n):\n",
    "    assert 0 <= n <= 45\n",
    "    if n <= 1:\n",
    "        return n\n",
    "    return fibonacci_number_naive(n - 1) + fibonacci_number_naive(n - 2)\n",
    "\n",
    "def fibonacci_number(n):\n",
    "    assert 0 <= n <= 45\n",
    "    Fibonacci = [0,1]\n",
    "    for i in range(2,n+1):\n",
    "        Fibonacci.append(Fibonacci[i-2] + Fibonacci[i-1])\n",
    "    return Fibonacci[n]\n",
    "\n",
    "if __name__ == '__main__':\n",
    "    input_n = int(input())\n",
    "    print(fibonacci_number(input_n))"
   ]
  },
  {
   "cell_type": "markdown",
   "metadata": {},
   "source": [
    "### Last Digit of Fibonacci Number"
   ]
  },
  {
   "cell_type": "code",
   "execution_count": 69,
   "metadata": {},
   "outputs": [
    {
     "name": "stdout",
     "output_type": "stream",
     "text": [
      "32142\n",
      "6\n"
     ]
    }
   ],
   "source": [
    "def last_digit_of_fibonacci_number_naive(n):\n",
    "    assert 0 <= n <= 10 ** 7\n",
    "    if n <= 1:\n",
    "        return n\n",
    "    return (last_digit_of_fibonacci_number_naive(n - 1) + last_digit_of_fibonacci_number_naive(n - 2)) % 10\n",
    "\n",
    "def last_digit_of_fibonacci_number(n):\n",
    "    assert 0 <= n <= 10 ** 7\n",
    "    F = [0,1]\n",
    "    for i in range(2,n+1):\n",
    "        F.append((F[i-1]+F[i-2]) % 10)\n",
    "        if F[i-1] == 0 and F[i] == 1:\n",
    "            F = F[:-2]\n",
    "            break\n",
    "    return F[n % len(F)]\n",
    "\n",
    "if __name__ == '__main__':\n",
    "    input_n = int(input())\n",
    "    print(last_digit_of_fibonacci_number(input_n))"
   ]
  },
  {
   "cell_type": "markdown",
   "metadata": {},
   "source": [
    "### Greatest Common Divisor"
   ]
  },
  {
   "cell_type": "code",
   "execution_count": 70,
   "metadata": {},
   "outputs": [
    {
     "name": "stdout",
     "output_type": "stream",
     "text": [
      "183 69\n",
      "3\n"
     ]
    }
   ],
   "source": [
    "def gcd_naive(a, b):\n",
    "    assert 1 <= a <= 2 * 10 ** 9 and 1 <= b <= 2 * 10 ** 9\n",
    "    for divisor in range(min(a, b), 0, -1):\n",
    "        if a % divisor == 0 and b % divisor == 0:\n",
    "            return divisor\n",
    "    assert False\n",
    "\n",
    "def gcd(a, b):\n",
    "    assert 0 <= a <= 2 * 10 ** 10 and 0 <= b <= 2 * 10 ** 10\n",
    "    if a<b:\n",
    "        return gcd(b,a)\n",
    "    temp = a % b\n",
    "    if temp == 0:\n",
    "        return b\n",
    "    else:\n",
    "        return gcd(b,temp)\n",
    "\n",
    "if __name__ == '__main__':\n",
    "    input_a, input_b = map(int, input().split())\n",
    "    print(gcd(input_a, input_b))"
   ]
  },
  {
   "cell_type": "markdown",
   "metadata": {},
   "source": [
    "### Least Common Multiple"
   ]
  },
  {
   "cell_type": "code",
   "execution_count": 71,
   "metadata": {},
   "outputs": [
    {
     "name": "stdout",
     "output_type": "stream",
     "text": [
      "3452 45214\n",
      "78039364\n"
     ]
    }
   ],
   "source": [
    "def lcm_naive(a, b):\n",
    "    assert 1 <= a <= 2 * 10 ** 9 and 1 <= b <= 2 * 10 ** 9\n",
    "    multiple = max(a, b)\n",
    "    while multiple % a != 0 or multiple % b != 0:\n",
    "        multiple += 1\n",
    "    return multiple\n",
    "\n",
    "\n",
    "def lcm(a, b):\n",
    "    assert 1 <= a <= 2 * 10 ** 9 and 1 <= b <= 2 * 10 ** 9\n",
    "    def gcd(a, b):\n",
    "        if a < b:\n",
    "            return gcd(b,a)\n",
    "        temp = a % b\n",
    "        if temp == 0:\n",
    "            return b\n",
    "        else:\n",
    "            return gcd(b,temp)\n",
    "    return int((a * b) / gcd(a,b))\n",
    "\n",
    "if __name__ == '__main__':\n",
    "    input_a, input_b = map(int, input().split())\n",
    "    print(lcm(input_a, input_b))"
   ]
  },
  {
   "cell_type": "markdown",
   "metadata": {},
   "source": [
    "### Fibonacci Number Again"
   ]
  },
  {
   "cell_type": "code",
   "execution_count": 72,
   "metadata": {},
   "outputs": [
    {
     "name": "stdout",
     "output_type": "stream",
     "text": [
      "3542 6\n",
      "5\n"
     ]
    }
   ],
   "source": [
    "def fibonacci_number_again_naive(n, m):\n",
    "    assert 0 <= n <= 10 ** 18 and 2 <= m <= 10 ** 3\n",
    "    if n <= 1:\n",
    "        return n\n",
    "    previous, current = 0, 1\n",
    "    for _ in range(n - 1):\n",
    "        previous, current = current, (previous + current) % m\n",
    "    return current\n",
    "\n",
    "def fibonacci_number_again(n, m):\n",
    "    assert 0 <= n <= 10 ** 18 and 2 <= m <= 10 ** 6\n",
    "    F = [0,1]\n",
    "    for i in range(2,n+1):\n",
    "        F.append((F[i-1]+F[i-2]) % m)\n",
    "        if F[i-1] == 0 and F[i] == 1:\n",
    "            F = F[:-2]\n",
    "            break\n",
    "    return F[n % len(F)]\n",
    "\n",
    "if __name__ == '__main__':\n",
    "    input_n, input_m = map(int, input().split())\n",
    "    print(fibonacci_number_again(input_n, input_m))"
   ]
  },
  {
   "cell_type": "markdown",
   "metadata": {},
   "source": [
    "### Last Digit of the Sum of Fibonacci Numbers"
   ]
  },
  {
   "cell_type": "code",
   "execution_count": 73,
   "metadata": {},
   "outputs": [
    {
     "name": "stdout",
     "output_type": "stream",
     "text": [
      "3345\n",
      "2\n"
     ]
    }
   ],
   "source": [
    "def last_digit_of_the_sum_of_fibonacci_numbers_naive(n):\n",
    "    assert 0 <= n <= 10 ** 18\n",
    "    if n <= 1:\n",
    "        return n\n",
    "    fibonacci_numbers = [0] * (n + 1)\n",
    "    fibonacci_numbers[0] = 0\n",
    "    fibonacci_numbers[1] = 1\n",
    "    for i in range(2, n + 1):\n",
    "        fibonacci_numbers[i] = fibonacci_numbers[i - 2] + fibonacci_numbers[i - 1]\n",
    "    return sum(fibonacci_numbers) % 10\n",
    "\n",
    "def last_digit_of_the_sum_of_fibonacci_numbers(n):\n",
    "    assert 0 <= n <= 10 ** 18\n",
    "    F = [0,1]\n",
    "    sums = [0,1]\n",
    "    for i in range(2,n+1):\n",
    "        F.append((F[i-1]+F[i-2]) % 10)\n",
    "        sums.append((F[i]+sums[i-1]) % 10)\n",
    "        if sums[i-1] == 0 and sums[i] == 1:\n",
    "            sums = sums[:-2]\n",
    "            break\n",
    "    return sums[n % len(sums)]\n",
    "\n",
    "if __name__ == '__main__':\n",
    "    input_n = int(input())\n",
    "    print(last_digit_of_the_sum_of_fibonacci_numbers(input_n))"
   ]
  },
  {
   "cell_type": "markdown",
   "metadata": {},
   "source": [
    "### Last Digit of the Sum of Fibonacci Numbers Again"
   ]
  },
  {
   "cell_type": "code",
   "execution_count": 74,
   "metadata": {},
   "outputs": [
    {
     "name": "stdout",
     "output_type": "stream",
     "text": [
      "345 654\n",
      "4\n"
     ]
    }
   ],
   "source": [
    "def last_digit_of_the_sum_of_fibonacci_numbers_again_naive(from_index, to_index):\n",
    "    assert 0 <= from_index <= to_index <= 10 ** 18\n",
    "    if to_index == 0:\n",
    "        return 0\n",
    "    fibonacci_numbers = [0] * (to_index + 1)\n",
    "    fibonacci_numbers[0] = 0\n",
    "    fibonacci_numbers[1] = 1\n",
    "    for i in range(2, to_index + 1):\n",
    "        fibonacci_numbers[i] = fibonacci_numbers[i - 2] + fibonacci_numbers[i - 1]\n",
    "    return sum(fibonacci_numbers[from_index:to_index + 1]) % 10\n",
    "\n",
    "def last_digit_of_the_sum_of_fibonacci_numbers_again(from_index, to_index):\n",
    "    assert 0 <= from_index <= to_index <= 10 ** 18\n",
    "    F = [0,1]\n",
    "    sums = [0,1]\n",
    "    for i in range(2,to_index+1):\n",
    "        F.append((F[i-1]+F[i-2]) % 10)\n",
    "        sums.append((F[i]+sums[i-1]) % 10)\n",
    "        if sums[i-1] == 0 and sums[i] == 1:\n",
    "            sums = sums[:-2]\n",
    "            break\n",
    "    if from_index == 0:\n",
    "        return abs(sums[to_index % len(sums)])\n",
    "    else:\n",
    "        if (from_index % len(sums)) <= (to_index % len(sums)):\n",
    "            a = sums[to_index % len(sums)] - sums[(from_index - 1) % len(sums)]\n",
    "            if a >= 0:\n",
    "                return a\n",
    "            else:\n",
    "                return a + 10\n",
    "        else:\n",
    "            b = ((sums[-1] - sums[(from_index-1) % len(sums)]) + sums[to_index % len(sums)]) % 10\n",
    "            if b >= 0:\n",
    "                return b\n",
    "            else:\n",
    "                return b + 10\n",
    "\n",
    "if __name__ == '__main__':\n",
    "    input_from, input_to = map(int, input().split())\n",
    "    print(last_digit_of_the_sum_of_fibonacci_numbers_again(input_from, input_to))"
   ]
  },
  {
   "cell_type": "markdown",
   "metadata": {},
   "source": [
    "### Last Digit of the Sum of Squares of Fibonacci Numbers"
   ]
  },
  {
   "cell_type": "code",
   "execution_count": 79,
   "metadata": {},
   "outputs": [
    {
     "name": "stdout",
     "output_type": "stream",
     "text": [
      "768769\n",
      "5\n"
     ]
    }
   ],
   "source": [
    "def last_digit_of_the_sum_of_squares_of_fibonacci_numbers_naive(n):\n",
    "    assert 0 <= n <= 10 ** 18\n",
    "    if n <= 1:\n",
    "        return n\n",
    "    fibonacci_numbers = [0] * (n + 1)\n",
    "    fibonacci_numbers[0] = 0\n",
    "    fibonacci_numbers[1] = 1\n",
    "    for i in range(2, n + 1):\n",
    "        fibonacci_numbers[i] = fibonacci_numbers[i - 2] + fibonacci_numbers[i - 1]\n",
    "    return sum([f ** 2 for f in fibonacci_numbers]) % 10\n",
    "\n",
    "\n",
    "def last_digit_of_the_sum_of_squares_of_fibonacci_numbers(n):\n",
    "    assert 0 <= n <= 10 ** 18\n",
    "    F = [0,1]\n",
    "    for i in range(2,n+1):\n",
    "        F.append((F[i-1]+F[i-2]) % 10)\n",
    "        if F[i-1] == 0 and F[i] == 1:\n",
    "            F = F[:-2]\n",
    "            break\n",
    "    return (F[n % len(F)] * (F[n % len(F)] + F[(n % len(F)) - 1])) % 10\n",
    "\n",
    "if __name__ == '__main__':\n",
    "    input_n = int(input())\n",
    "    print(last_digit_of_the_sum_of_squares_of_fibonacci_numbers(input_n))"
   ]
  }
 ],
 "metadata": {
  "kernelspec": {
   "display_name": "Python 3",
   "language": "python",
   "name": "python3"
  },
  "language_info": {
   "codemirror_mode": {
    "name": "ipython",
    "version": 3
   },
   "file_extension": ".py",
   "mimetype": "text/x-python",
   "name": "python",
   "nbconvert_exporter": "python",
   "pygments_lexer": "ipython3",
   "version": "3.7.3"
  }
 },
 "nbformat": 4,
 "nbformat_minor": 2
}
