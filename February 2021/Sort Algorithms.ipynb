{
 "cells": [
  {
   "cell_type": "markdown",
   "metadata": {},
   "source": [
    "### Polynomial Multiplication"
   ]
  },
  {
   "cell_type": "code",
   "execution_count": 5,
   "metadata": {},
   "outputs": [
    {
     "name": "stdout",
     "output_type": "stream",
     "text": [
      "12 4 67 89 3 9 3 2 90\n",
      "2 4 9 49 12 78 234 0 1\n",
      "[24, 56, 258, 1070, 1305, 5098, 8354, 7474, 23324, 21697, 2415, 6863, 1941, 7497, 21063, 2, 90]\n"
     ]
    }
   ],
   "source": [
    "def poly_mult(A,B):\n",
    "    Output = [0]*(len(A)+len(B)-1)\n",
    "    for i in range(len(A)):\n",
    "        for j in range(len(B)):\n",
    "            Output[i+j] += A[i]*B[j]\n",
    "    return Output\n",
    "\n",
    "A = list(map(int,input().split())) # first ploynomial - A(x)\n",
    "B = list(map(int,input().split())) # second ploynomial - B(x)\n",
    "print(poly_mult(A,B))"
   ]
  },
  {
   "cell_type": "markdown",
   "metadata": {},
   "source": [
    "### Selection Sort"
   ]
  },
  {
   "cell_type": "code",
   "execution_count": 32,
   "metadata": {},
   "outputs": [
    {
     "name": "stdout",
     "output_type": "stream",
     "text": [
      "3 4 1 56 12 7 2 9 45 90 23 3\n",
      "[1, 4, 3, 56, 12, 7, 2, 9, 45, 90, 23, 3]\n",
      "[1, 2, 3, 56, 12, 7, 4, 9, 45, 90, 23, 3]\n",
      "[1, 2, 3, 56, 12, 7, 4, 9, 45, 90, 23, 3]\n",
      "[1, 2, 3, 3, 12, 7, 4, 9, 45, 90, 23, 56]\n",
      "[1, 2, 3, 3, 4, 7, 12, 9, 45, 90, 23, 56]\n",
      "[1, 2, 3, 3, 4, 7, 12, 9, 45, 90, 23, 56]\n",
      "[1, 2, 3, 3, 4, 7, 9, 12, 45, 90, 23, 56]\n",
      "[1, 2, 3, 3, 4, 7, 9, 12, 45, 90, 23, 56]\n",
      "[1, 2, 3, 3, 4, 7, 9, 12, 23, 90, 45, 56]\n",
      "[1, 2, 3, 3, 4, 7, 9, 12, 23, 45, 90, 56]\n",
      "[1, 2, 3, 3, 4, 7, 9, 12, 23, 45, 56, 90]\n",
      "[1, 2, 3, 3, 4, 7, 9, 12, 23, 45, 56, 90]\n",
      "[1, 2, 3, 3, 4, 7, 9, 12, 23, 45, 56, 90]\n"
     ]
    }
   ],
   "source": [
    "def SelectionSort(A):\n",
    "    for i in range(0,len(A)):\n",
    "        minIndex = i\n",
    "        for j in range(i+1,len(A)):\n",
    "            if A[j] < A[minIndex]:\n",
    "                minIndex = j\n",
    "        temp = A[i]\n",
    "        A[i] = A[minIndex]\n",
    "        A[minIndex] = temp\n",
    "        print(A)\n",
    "    return A\n",
    "\n",
    "A = list(map(int,input().split()))\n",
    "print(SelectionSort(A))"
   ]
  },
  {
   "cell_type": "markdown",
   "metadata": {},
   "source": [
    "### Merge Sort"
   ]
  },
  {
   "cell_type": "code",
   "execution_count": 34,
   "metadata": {},
   "outputs": [
    {
     "name": "stdout",
     "output_type": "stream",
     "text": [
      "3 4 1 56 12 7 2 9 45 90 23 3 77 11 60 22\n",
      "[3]\n",
      "[4]\n",
      "[3, 4]\n",
      "[1]\n",
      "[56]\n",
      "[1, 56]\n",
      "[1, 3, 4, 56]\n",
      "[12]\n",
      "[7]\n",
      "[7, 12]\n",
      "[2]\n",
      "[9]\n",
      "[2, 9]\n",
      "[2, 7, 9, 12]\n",
      "[1, 2, 3, 4, 7, 9, 12, 56]\n",
      "[45]\n",
      "[90]\n",
      "[45, 90]\n",
      "[23]\n",
      "[3]\n",
      "[3, 23]\n",
      "[3, 23, 45, 90]\n",
      "[77]\n",
      "[11]\n",
      "[11, 77]\n",
      "[60]\n",
      "[22]\n",
      "[22, 60]\n",
      "[11, 22, 60, 77]\n",
      "[3, 11, 22, 23, 45, 60, 77, 90]\n",
      "[1, 2, 3, 3, 4, 7, 9, 11, 12, 22, 23, 45, 56, 60, 77, 90]\n"
     ]
    }
   ],
   "source": [
    "def MergeSort(A):\n",
    "    n = len(A)\n",
    "    m = int(len(A)/2)\n",
    "    if n == 1:\n",
    "        return A\n",
    "    B = MergeSort(A[0:m])\n",
    "    print(B)\n",
    "    C = MergeSort(A[m:n])\n",
    "    print(C)\n",
    "    A_new = Merge(B,C)\n",
    "    return A_new\n",
    "\n",
    "def Merge(B,C):\n",
    "    Output = []\n",
    "    while len(B) != 0 and len(C) != 0:\n",
    "        if B[0] <= C[0]:\n",
    "            Output.append(B[0])\n",
    "            B = B[1:]\n",
    "        else:\n",
    "            Output.append(C[0])\n",
    "            C = C[1:]\n",
    "    if len(B) != 0:\n",
    "        Output += B\n",
    "    if len(C) != 0:\n",
    "        Output += C\n",
    "    return Output\n",
    "\n",
    "A = list(map(int,input().split()))\n",
    "print(MergeSort(A))"
   ]
  },
  {
   "cell_type": "markdown",
   "metadata": {},
   "source": [
    "### Count Sort"
   ]
  },
  {
   "cell_type": "code",
   "execution_count": 4,
   "metadata": {},
   "outputs": [
    {
     "name": "stdout",
     "output_type": "stream",
     "text": [
      "2,3,4,2,2,4,2,3,4,2,4,3,2,4,3,2,2,4,2,2,1\n",
      "4\n",
      "[1, 2, 2, 2, 2, 2, 2, 2, 2, 2, 2, 3, 3, 3, 3, 4, 4, 4, 4, 4, 4]\n"
     ]
    }
   ],
   "source": [
    "# A is the list including numbers from 1 to 15 repeatedly,\n",
    "# and the unique elements of the list must be incremented form each other by 1.\n",
    "# n is the number of unique element\n",
    "def CountSort(A,n):\n",
    "    assert min(A) >= 1 and max(A) <= 15\n",
    "    assert n == max(A) - min(A) + 1\n",
    "    Count = [0] * n\n",
    "    for i in range(0,len(A)):\n",
    "        Count[A[i]-min(A)] += 1\n",
    "    Output = []\n",
    "    temp = min(A)\n",
    "    for i in range(n):\n",
    "        Output += [temp] * Count[i]\n",
    "        temp += 1\n",
    "    return Output\n",
    "\n",
    "A = list(map(int,input().split(\",\")))\n",
    "n = int(input())\n",
    "print(CountSort(A,n))"
   ]
  },
  {
   "cell_type": "markdown",
   "metadata": {},
   "source": [
    "### Quick Sort"
   ]
  },
  {
   "cell_type": "code",
   "execution_count": 3,
   "metadata": {},
   "outputs": [
    {
     "data": {
      "text/plain": [
       "[3, 11, 22, 23, 45, 60, 77, 90]"
      ]
     },
     "execution_count": 3,
     "metadata": {},
     "output_type": "execute_result"
    }
   ],
   "source": [
    "def quicksort(x):\n",
    "    if len(x) < 2:\n",
    "        return x\n",
    "    else:\n",
    "        pivot = x[0]\n",
    "        less = [i for i in x[1:] if i <= pivot]\n",
    "        greater = [i for i in x[1:] if i > pivot]\n",
    "        return quicksort(less) + [pivot] + quicksort(greater)\n",
    "    \n",
    "quicksort([3, 11, 22, 23, 45, 60, 77, 90])"
   ]
  },
  {
   "cell_type": "code",
   "execution_count": 5,
   "metadata": {},
   "outputs": [
    {
     "data": {
      "text/plain": [
       "[90, 77, 60, 45, 23, 22, 11, 3]"
      ]
     },
     "execution_count": 5,
     "metadata": {},
     "output_type": "execute_result"
    }
   ],
   "source": [
    "def reverse_quicksort(x):\n",
    "    if len(x) < 2:\n",
    "        return x\n",
    "    else:\n",
    "        pivot = x[0]\n",
    "        less = [i for i in x[1:] if i <= pivot]\n",
    "        greater = [i for i in x[1:] if i > pivot]\n",
    "        return reverse_quicksort(greater) + [pivot] + reverse_quicksort(less)\n",
    "    \n",
    "    \n",
    "reverse_quicksort([3, 11, 22, 23, 45, 60, 77, 90])"
   ]
  },
  {
   "cell_type": "code",
   "execution_count": 5,
   "metadata": {},
   "outputs": [
    {
     "name": "stdout",
     "output_type": "stream",
     "text": [
      "4 1 6 8 2 8 23 76 123 76 23 12 9 34 2 4 78 1 32 6 33\n",
      "[1, 1, 2, 2, 4, 4, 6, 6, 8, 8, 9, 12, 23, 23, 32, 33, 34, 76, 76, 78, 123]\n"
     ]
    }
   ],
   "source": [
    "def quicksort(x):\n",
    "    if len(x) == 1 or len(x) == 0:\n",
    "        return x\n",
    "    else:\n",
    "        pivot = x[0]\n",
    "        i = 0\n",
    "        for j in range(len(x)-1):\n",
    "            if x[j+1] < pivot:\n",
    "                x[j+1],x[i+1] = x[i+1],x[j+1]\n",
    "                i += 1\n",
    "        x[0],x[i] = x[i],x[0]\n",
    "        first_part = quicksort(x[:i])\n",
    "        second_part = quicksort(x[i+1:])  \n",
    "        first_part.append(x[i])\n",
    "        return first_part + second_part\n",
    "\n",
    "A = list(map(int,input().split()))\n",
    "print(quicksort(A))"
   ]
  },
  {
   "cell_type": "code",
   "execution_count": null,
   "metadata": {},
   "outputs": [],
   "source": []
  }
 ],
 "metadata": {
  "kernelspec": {
   "display_name": "Python 3",
   "language": "python",
   "name": "python3"
  },
  "language_info": {
   "codemirror_mode": {
    "name": "ipython",
    "version": 3
   },
   "file_extension": ".py",
   "mimetype": "text/x-python",
   "name": "python",
   "nbconvert_exporter": "python",
   "pygments_lexer": "ipython3",
   "version": "3.8.3"
  }
 },
 "nbformat": 4,
 "nbformat_minor": 4
}
