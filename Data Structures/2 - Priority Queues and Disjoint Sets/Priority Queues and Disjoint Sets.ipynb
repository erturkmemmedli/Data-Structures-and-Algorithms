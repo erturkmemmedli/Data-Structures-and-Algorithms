{
 "cells": [
  {
   "cell_type": "markdown",
   "metadata": {},
   "source": [
    "## Priority Queues and Disjoint Sets"
   ]
  },
  {
   "cell_type": "markdown",
   "metadata": {},
   "source": [
    "### Binary Max Heap"
   ]
  },
  {
   "cell_type": "code",
   "execution_count": 10,
   "metadata": {},
   "outputs": [
    {
     "name": "stdout",
     "output_type": "stream",
     "text": [
      "Given heap:  [42, 29, 18, 14, 7, 18, 12, 11]\n",
      "30 is inserted into heap:  [42, 30, 18, 29, 7, 18, 12, 11, 14]\n",
      "Maximum value extracted:  42\n",
      "Maximum value is extracted from heap:  [30, 29, 18, 14, 7, 18, 12, 11]\n",
      "Maximum value extracted:  30\n",
      "Maximum value is extracted from heap:  [29, 14, 18, 11, 7, 18, 12]\n",
      "5th element is removed from heap:  [29, 14, 18, 11, 12, 18]\n",
      "3nd element is changed to 50 inside heap:  [50, 14, 29, 11, 12, 18]\n",
      "Maximum value not extracted:  50\n"
     ]
    }
   ],
   "source": [
    "class binary_max_heap():\n",
    "    def __init__(self, max_size, given_heap):\n",
    "        self.size = len(given_heap)\n",
    "        self.max_size = max_size\n",
    "        self.max_heap = given_heap + ['-'] * (self.max_size - self.size)\n",
    "        \n",
    "    def parent(self, i):\n",
    "        return (i - 1) // 2\n",
    "    \n",
    "    def left_child(self, i):\n",
    "        return 2 * i + 1\n",
    "    \n",
    "    def right_child(self, i):\n",
    "        return 2 * (i + 1)\n",
    "    \n",
    "    def sift_up(self, i):\n",
    "        while i > 0 and self.max_heap[i] > self.max_heap[self.parent(i)]:\n",
    "            self.max_heap[i], self.max_heap[self.parent(i)] = self.max_heap[self.parent(i)], self.max_heap[i]\n",
    "            i = self.parent(i)\n",
    "    \n",
    "    def sift_down(self, i):\n",
    "        max_node = i\n",
    "        left = self.left_child(i)\n",
    "        if left <= self.size - 1 and self.max_heap[left] > self.max_heap[max_node]:\n",
    "            max_node = left\n",
    "        right = self.right_child(i)\n",
    "        if right <= self.size - 1 and self.max_heap[right] > self.max_heap[max_node]:\n",
    "            max_node = right\n",
    "        if i != max_node:\n",
    "            self.max_heap[i], self.max_heap[max_node] = self.max_heap[max_node], self.max_heap[i]\n",
    "            self.sift_down(max_node)\n",
    "            \n",
    "    def get_max(self):\n",
    "        return self.max_heap[0]\n",
    "    \n",
    "    def insert(self, p):\n",
    "        if self.size == self.max_size:\n",
    "            return 'ERROR'\n",
    "        self.size += 1\n",
    "        self.max_heap[self.size - 1] = p\n",
    "        self.sift_up(self.size - 1)\n",
    "        \n",
    "    def extract_max(self):\n",
    "        result = self.max_heap[0]\n",
    "        self.max_heap[0], self.max_heap[self.size - 1] = self.max_heap[self.size - 1], self.max_heap[0]\n",
    "        self.max_heap.pop()\n",
    "        self.size -= 1\n",
    "        self.sift_down(0)\n",
    "        return result\n",
    "    \n",
    "    def remove(self, i):\n",
    "        if i >= self.size:\n",
    "            return 'ERROR'\n",
    "        self.max_heap[i] = float('inf')\n",
    "        self.sift_up(i)\n",
    "        self.extract_max()\n",
    "    \n",
    "    def change_priority(self, i, p):\n",
    "        old_priority = self.max_heap[i]\n",
    "        self.max_heap[i] = p\n",
    "        if p > old_priority:\n",
    "            self.sift_up(i)\n",
    "        else:\n",
    "            self.sift_down(i)\n",
    "    \n",
    "    def print_heap(self):\n",
    "        return self.max_heap[:self.size]\n",
    "\n",
    "    \n",
    "if __name__ == '__main__':\n",
    "    max_size = 13\n",
    "    given_heap = [42, 29, 18, 14, 7, 18, 12, 11]\n",
    "    assert len(given_heap) <= max_size\n",
    "    heap = binary_max_heap(max_size, given_heap)\n",
    "    print('Given heap: ', heap.print_heap())\n",
    "    heap.insert(30)\n",
    "    print('30 is inserted into heap: ', heap.print_heap())\n",
    "    print('Maximum value extracted: ', heap.extract_max())\n",
    "    print('Maximum value is extracted from heap: ', heap.print_heap())\n",
    "    print('Maximum value extracted: ', heap.extract_max())\n",
    "    print('Maximum value is extracted from heap: ', heap.print_heap())\n",
    "    heap.remove(4)\n",
    "    print('5th element is removed from heap: ', heap.print_heap())\n",
    "    heap.change_priority(2, 50)\n",
    "    print('3nd element is changed to 50 inside heap: ', heap.print_heap())\n",
    "    print('Maximum value not extracted: ', heap.get_max())"
   ]
  },
  {
   "cell_type": "code",
   "execution_count": null,
   "metadata": {},
   "outputs": [],
   "source": []
  }
 ],
 "metadata": {
  "kernelspec": {
   "display_name": "Python 3",
   "language": "python",
   "name": "python3"
  },
  "language_info": {
   "codemirror_mode": {
    "name": "ipython",
    "version": 3
   },
   "file_extension": ".py",
   "mimetype": "text/x-python",
   "name": "python",
   "nbconvert_exporter": "python",
   "pygments_lexer": "ipython3",
   "version": "3.8.3"
  }
 },
 "nbformat": 4,
 "nbformat_minor": 4
}
