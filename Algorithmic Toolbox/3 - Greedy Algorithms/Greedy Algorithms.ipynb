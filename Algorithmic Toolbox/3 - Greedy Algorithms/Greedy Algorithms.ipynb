{
 "cells": [
  {
   "cell_type": "markdown",
   "metadata": {},
   "source": [
    "## Greedy Algorithms"
   ]
  },
  {
   "cell_type": "markdown",
   "metadata": {},
   "source": [
    "### Money Change\n",
    "\n",
    "Given an integer $1 \\le money \\le 10^3$, find\n",
    "the minimum number of coins with\n",
    "denominations 1, 5, and 10 that changes $money$.\n",
    "\n",
    "In this problem, you will implement a simple greedy algorithm used by cashiers all over the world. We assume that a cashier has unlimited number of coins of each denomination.\n"
   ]
  },
  {
   "cell_type": "code",
   "execution_count": 1,
   "metadata": {},
   "outputs": [
    {
     "name": "stdout",
     "output_type": "stream",
     "text": [
      "159\n",
      "20\n"
     ]
    }
   ],
   "source": [
    "def money_change(money):\n",
    "    assert 0 <= money <= 10 ** 3\n",
    "    return int(money / 10) + int((money % 10) / 5) + int(money % 5)\n",
    "\n",
    "if __name__ == '__main__':\n",
    "    input_money = int(input())\n",
    "    print(money_change(input_money))"
   ]
  },
  {
   "cell_type": "markdown",
   "metadata": {},
   "source": [
    "Alternative solution that I have found earlier"
   ]
  },
  {
   "cell_type": "code",
   "execution_count": 6,
   "metadata": {},
   "outputs": [
    {
     "name": "stdout",
     "output_type": "stream",
     "text": [
      "36\n",
      "5\n"
     ]
    }
   ],
   "source": [
    "def money_change(money):\n",
    "    assert 0 <= money <= 10 ** 3\n",
    "\n",
    "    count = 0\n",
    "    if money >= 10:\n",
    "        count += int(money/10)\n",
    "    if money%10 >= 5:\n",
    "        count += 1\n",
    "    count += money%5\n",
    "    return count\n",
    "\n",
    "if __name__ == '__main__':\n",
    "    input_money = int(input())\n",
    "    print(money_change(input_money))"
   ]
  },
  {
   "cell_type": "markdown",
   "metadata": {},
   "source": [
    "### Car Fueling\n",
    "\n",
    "Compute the minimum number of tank refills to get from one city to another.\n",
    "\n",
    "Assuming that the distance between the cities is $1 \\le d \\le 10^5$ miles,\n",
    "a car can travel at most $1 \\le m \\le 400$ miles on a full tank,\n",
    "and there are $1 \\le n \\le 300$ gas stations at distances\n",
    "$stop_1,stop_2,\\dotsc,stop_n$ along the way,\n",
    "output the minimum number of refills needed.\n",
    "Assume that the car starts with a full tank.\n",
    "If it is not possible to reach the destination, output −1.\n",
    "The distances to gas stations satisfy the inequalities\n",
    "$$0 < stop_1 < stop_2 < \\dotsb < stop_n < d .$$\n"
   ]
  },
  {
   "cell_type": "code",
   "execution_count": 3,
   "metadata": {},
   "outputs": [
    {
     "name": "stdout",
     "output_type": "stream",
     "text": [
      "1000\n",
      "200\n",
      "10\n",
      "50 70 150 250 300 340 510 590 700 810\n",
      "5\n"
     ]
    }
   ],
   "source": [
    "def compute_min_number_of_refills(d, m, stops):\n",
    "    assert 1 <= d <= 10 ** 5\n",
    "    assert 1 <= m <= 400\n",
    "    assert 1 <= len(stops) <= 300\n",
    "    assert 0 < stops[0] and all(stops[i] < stops[i + 1] for i in range(len(stops) - 1)) and stops[-1] < d\n",
    "    position = 0\n",
    "    refill = []\n",
    "    i = 0\n",
    "    while i < len(stops):\n",
    "        if stops[0] > m or d - stops[-1] > m or (i > 0 and stops[i] - stops[i - 1] > m):\n",
    "            return -1\n",
    "        if stops[i] - position < m:\n",
    "            i += 1\n",
    "            continue\n",
    "        if stops[i] - position == m:\n",
    "            position = stops[i]\n",
    "            refill.append(position)\n",
    "            i += 1\n",
    "            continue\n",
    "        if stops[i] - position > m:\n",
    "            position = stops[i-1]\n",
    "            refill.append(position)\n",
    "    if d - position <= m:\n",
    "        return len(refill)\n",
    "    else:\n",
    "        refill.append(stops[-1])\n",
    "        return len(refill)\n",
    "\n",
    "if __name__ == '__main__':\n",
    "    input_d = int(input())\n",
    "    input_m = int(input())\n",
    "    input_n = int(input())\n",
    "    input_stops = list(map(int, input().split()))\n",
    "    assert len(input_stops) == input_n\n",
    "    print(compute_min_number_of_refills(input_d, input_m, input_stops))"
   ]
  },
  {
   "cell_type": "markdown",
   "metadata": {},
   "source": [
    "Alternative solution that I have found earlier"
   ]
  },
  {
   "cell_type": "code",
   "execution_count": 4,
   "metadata": {},
   "outputs": [
    {
     "name": "stdout",
     "output_type": "stream",
     "text": [
      "12\n",
      "3\n",
      "8\n",
      "1 2 4 5 8 9 10 11\n",
      "(4, [2, 5, 8, 11])\n"
     ]
    }
   ],
   "source": [
    "def compute_min_number_of_refills(d, m, stops):\n",
    "    assert 1 <= d <= 10 ** 5\n",
    "    assert 1 <= m <= 400\n",
    "    assert 1 <= len(stops) <= 300\n",
    "    assert 0 < stops[0] and all(stops[i] < stops[i + 1] for i in range(len(stops) - 1)) and stops[-1] < d\n",
    "\n",
    "    points = []\n",
    "    station = 0\n",
    "    amount = m\n",
    "    \n",
    "    while station <= len(stops)-1:\n",
    "        if stops[0] > m or d - stops[-1] > m or (station > 0 and stops[station] - stops[station-1] > m):\n",
    "            return \"IMPOSSIBLE\"\n",
    "        if station == 0:\n",
    "            amount = amount - stops[station]\n",
    "            if amount == 0:\n",
    "                points.append(stops[station])\n",
    "                if points[-1] >= d - m:\n",
    "                    break\n",
    "                amount = m\n",
    "        if station > 0 and station <= len(stops)-1:\n",
    "            amount = amount - (stops[station] - stops[station-1])\n",
    "            if amount == 0:\n",
    "                points.append(stops[station])\n",
    "                if points[-1] >= d - m:\n",
    "                    break\n",
    "                amount = m\n",
    "            if amount < 0:\n",
    "                points.append(stops[station-1])\n",
    "                if points[-1] >= d - m:\n",
    "                    break\n",
    "                amount = m - (stops[station] - stops[station-1])\n",
    "        if station == len(stops)-1 and d - stops[station] > amount:\n",
    "            points.append(stops[station])\n",
    "        station += 1\n",
    "    return len(points),points\n",
    "\n",
    "if __name__ == '__main__':\n",
    "    input_d = int(input())\n",
    "    input_m = int(input())\n",
    "    \n",
    "    input_n = int(input())\n",
    "    input_stops = list(map(int, input().split()))\n",
    "    assert len(input_stops) == input_n\n",
    "    print(compute_min_number_of_refills(input_d, input_m, input_stops))"
   ]
  },
  {
   "cell_type": "markdown",
   "metadata": {},
   "source": [
    "### Maximum Value of the Loot (Fractional Knapsack Problem)\n",
    "\n",
    "\n",
    "Given the capacity of a backpack\n",
    "as well as the weights and per pound prices\n",
    "of $n$ different compounds, compute the\n",
    "maximum total price of items that\n",
    "fit into the backpack of the given capacity.\n",
    "\n",
    "A thief breaks into a spice shop and finds \n",
    "four pounds of saffron, three pounds of \n",
    "vanilla, and five pounds of cinnamon. His backpack \n",
    "fits at most nine pounds, therefore he cannot \n",
    "take everything. Assuming that the prices of \n",
    "saffron, vanilla, and cinnamon are \n",
    "5000, 200, and 10 per pound respectively, \n",
    "what is the most valuable loot in this case? \n",
    "If the thief takes $u_1$ pounds of saffron, \n",
    "$u_2$ pounds of vanilla, and $u_3$ pounds of cinnamon, \n",
    "the total price of the loot is \n",
    "$5\\,000 \\cdot u_1 + 200 \\cdot u_2 + 10\\cdot u_3$. \n",
    "The thief would like to maximize the value of this expression \n",
    "subject to the following constraints: \n",
    "$u_1 \\le 4$, $u_2 \\le 3$, $u_3 \\le 5$, $u_1+u_2+u_3 \\le 9$.\n"
   ]
  },
  {
   "cell_type": "code",
   "execution_count": 6,
   "metadata": {},
   "outputs": [
    {
     "name": "stdout",
     "output_type": "stream",
     "text": [
      "3 100\n",
      "120 60\n",
      "200 50\n",
      "120 40\n",
      "340.0000000000\n"
     ]
    }
   ],
   "source": [
    "def maximum_loot_value(capacity, weights, prices):\n",
    "    assert 0 <= capacity <= 2 * 10 ** 6\n",
    "    assert len(weights) == len(prices)\n",
    "    assert 1 <= len(weights) <= 10 ** 3\n",
    "    assert all(0 < w <= 2 * 10 ** 6 for w in weights)\n",
    "    assert all(0 <= p <= 2 * 10 ** 6 for p in prices)\n",
    "    unit_price = []\n",
    "    for i in range(len(prices)):\n",
    "        unit_price.append(prices[i]/weights[i])\n",
    "    combined = []\n",
    "    for i in range(len(prices)):\n",
    "        combined.append([weights[i],unit_price[i]])\n",
    "    sorted_combined = sorted(combined, key = lambda x: x[1],  reverse = True)\n",
    "    amount = 0\n",
    "    for i in range(len(sorted_combined)):\n",
    "        if capacity - sorted_combined[i][0] >= 0:\n",
    "            capacity -= sorted_combined[i][0]\n",
    "            amount += sorted_combined[i][0] * sorted_combined[i][1]\n",
    "            continue\n",
    "        amount += capacity * sorted_combined[i][1]\n",
    "        break\n",
    "    return amount\n",
    "\n",
    "if __name__ == \"__main__\":\n",
    "    n, input_capacity = map(int, input().split())\n",
    "    input_prices = []\n",
    "    input_weights = []\n",
    "    for i in range(n):\n",
    "        inputs = tuple(map(int, input().split()))\n",
    "        input_prices.append(inputs[0])\n",
    "        input_weights.append(inputs[1])\n",
    "    opt_value = maximum_loot_value(input_capacity, input_weights, input_prices)\n",
    "    print(\"{:.10f}\".format(opt_value))"
   ]
  },
  {
   "cell_type": "markdown",
   "metadata": {},
   "source": [
    "Alternative solution that I have found earlier"
   ]
  },
  {
   "cell_type": "code",
   "execution_count": 4,
   "metadata": {},
   "outputs": [
    {
     "name": "stdout",
     "output_type": "stream",
     "text": [
      "3\n",
      "30\n",
      "180 100 76\n",
      "68 15 13\n",
      "181.29\n"
     ]
    }
   ],
   "source": [
    "def maximum_loot_value(capacity, weights, prices):\n",
    "    assert 0 <= capacity <= 2 * 10 ** 6\n",
    "    assert len(weights) == len(prices)\n",
    "    assert 1 <= len(weights) <= 10 ** 3\n",
    "    assert all(0 < w <= 2 * 10 ** 6 for w in weights)\n",
    "    assert all(0 <= p <= 2 * 10 ** 6 for p in prices)\n",
    "\n",
    "    whole = []\n",
    "    for i in range(len(prices)):\n",
    "        whole.append([prices[i]/weights[i],weights[i],prices[i]])\n",
    "    final = sorted(whole,reverse=True)\n",
    "    total_price = 0\n",
    "    index = 0\n",
    "    while capacity > 0:\n",
    "        if capacity >= final[index][1]:\n",
    "            total_price += final[index][2]\n",
    "        else:\n",
    "            total_price += capacity * final[index][0]\n",
    "            break\n",
    "        capacity -= final[index][1]\n",
    "        index += 1\n",
    "    return total_price\n",
    "\n",
    "if __name__ == \"__main__\":\n",
    "    n = int(input())\n",
    "    input_capacity = int(input())\n",
    "    input_prices = list(map(int, input().split()))\n",
    "    input_weights = list(map(int, input().split()))\n",
    "    assert len(input_prices) == len(input_weights) == n\n",
    "    opt_value = maximum_loot_value(input_capacity, input_weights, input_prices)\n",
    "    print(\"{:.2f}\".format(opt_value))"
   ]
  },
  {
   "cell_type": "markdown",
   "metadata": {},
   "source": [
    "### Maximum Advertisement Revenue\n",
    "\n",
    "You have $n=3$ advertisement slots on your popular Internet page and \n",
    "you want to sell them to advertisers. They expect, respectively, \n",
    "${clicks}_1=10$, \n",
    "${clicks}_2=20$, and ${clicks}_3=30$ clicks per day. You found three advertisers \n",
    "willing to pay ${price}_1=2$, ${price}_2=3$, and ${price}_3=5$ per click. \n",
    "How would you pair the slots and advertisers? For example, the blue pairing \n",
    "gives a revenue of $10 \\cdot 5 + 20 \\cdot 2 + 30 \\cdot 3 = 180$ dollars, while \n",
    "the black one results in revenue of $10\\cdot 3 + 20 \\cdot 5 + 30 \\cdot 2=190$ dollars.\n",
    "\n",
    "\n",
    "Find the maximum dot product of two\n",
    "sequences of numbers.\n",
    "* Input: Two sequences of $n$ positive\n",
    "integers: $price_1,\\dots,price_n$\n",
    "and $clicks_1,\\dots,clicks_n$.\n",
    "* Output: The maximum value of\n",
    "$price_1 \\cdot c_1 + \\dots+price_n \\cdot c_n$,\n",
    "where $c_1,\\dots,c_n$ is a\n",
    "permutation of $clicks_1,\\dots,clicks_n$.\n"
   ]
  },
  {
   "cell_type": "code",
   "execution_count": 81,
   "metadata": {},
   "outputs": [
    {
     "name": "stdout",
     "output_type": "stream",
     "text": [
      "5\n",
      "12 543 12 6 132\n",
      "234 765 21 76 0\n",
      "447447\n"
     ]
    }
   ],
   "source": [
    "from itertools import permutations\n",
    "\n",
    "def max_dot_product_naive(first_sequence, second_sequence):\n",
    "    assert len(first_sequence) == len(second_sequence)\n",
    "    assert len(first_sequence) <= 10 ** 3\n",
    "    assert all(0 <= f <= 10 ** 5 for f in first_sequence)\n",
    "    assert all(0 <= s <= 10 ** 5 for s in second_sequence)\n",
    "    \n",
    "    max_product = 0\n",
    "    for permutation in permutations(second_sequence):\n",
    "        dot_product = sum(first_sequence[i] * permutation[i] for i in range(len(first_sequence)))\n",
    "        max_product = max(max_product, dot_product)\n",
    "\n",
    "    return max_product\n",
    "\n",
    "\n",
    "def max_dot_product(first_sequence, second_sequence):\n",
    "    assert len(first_sequence) == len(second_sequence)\n",
    "    assert len(first_sequence) <= 10 ** 3\n",
    "    assert all(0 <= f <= 10 ** 5 for f in first_sequence)\n",
    "    assert all(0 <= s <= 10 ** 5 for s in second_sequence)\n",
    "    \n",
    "    return sum([i * j for i,j in zip(sorted(first_sequence), sorted(second_sequence))])\n",
    "\n",
    "if __name__ == '__main__':\n",
    "    n = int(input())\n",
    "    prices = list(map(int, input().split()))\n",
    "    clicks = list(map(int, input().split()))\n",
    "    assert len(prices) == len(clicks) == n\n",
    "    print(max_dot_product(prices, clicks))"
   ]
  },
  {
   "cell_type": "markdown",
   "metadata": {},
   "source": [
    "Alternative solution that I have found earlier"
   ]
  },
  {
   "cell_type": "code",
   "execution_count": 7,
   "metadata": {},
   "outputs": [
    {
     "name": "stdout",
     "output_type": "stream",
     "text": [
      "3\n",
      "10 20 30\n",
      "2 3 5\n",
      "230\n"
     ]
    }
   ],
   "source": [
    "def max_dot_product(first_sequence, second_sequence):\n",
    "    assert len(first_sequence) == len(second_sequence)\n",
    "    assert len(first_sequence) <= 10 ** 3\n",
    "    assert all(0 <= f <= 10 ** 5 for f in first_sequence)\n",
    "    assert all(0 <= s <= 10 ** 5 for s in second_sequence)\n",
    "\n",
    "    price = sorted(first_sequence)\n",
    "    click = sorted(second_sequence)\n",
    "    max_dot_product = 0\n",
    "    for i in range(len(price)):\n",
    "        max_dot_product += price[i]*click[i]\n",
    "    return max_dot_product\n",
    "\n",
    "if __name__ == '__main__':\n",
    "    n = int(input())\n",
    "    prices = list(map(int, input().split()))\n",
    "    clicks = list(map(int, input().split()))\n",
    "    assert len(prices) == len(clicks) == n\n",
    "    print(max_dot_product(prices, clicks))"
   ]
  },
  {
   "cell_type": "markdown",
   "metadata": {},
   "source": [
    "### Collecting Signatures\n",
    "\n",
    "You are responsible for collecting signatures from all tenants in a building.\n",
    "For each tenant, you know a period of time when he or she is at home.\n",
    "You would like to collect all signatures by visiting the building as\n",
    "few times as possible. For simplicity, we assume that when you enter\n",
    "the building, you instantly collect the signatures of all tenants that\n",
    "are in the building at that time.\n",
    "\n",
    "**Input**: A sequence of $n \\le 10^3$ segments\n",
    "$[l_1,r_1],...,[l_n,r_n]$ on a line.\n",
    "\n",
    "**Output**: A set of points of minimum size\n",
    "such that each segment $[l_i,r_i]$ contains a point,\n",
    "i.e., there exists a point $x$ such that $l_i \\le x \\le r_i$."
   ]
  },
  {
   "cell_type": "code",
   "execution_count": 2,
   "metadata": {},
   "outputs": [
    {
     "name": "stdout",
     "output_type": "stream",
     "text": [
      "4\n",
      "5 10\n",
      "5 9\n",
      "6 7\n",
      "8 9\n",
      "2\n",
      "7 9\n"
     ]
    }
   ],
   "source": [
    "def compute_optimal_points(segments):\n",
    "    position = []\n",
    "    segments = sorted(segments)\n",
    "    for i in range(len(segments)):\n",
    "        if len(position) == 0:\n",
    "            position.append(segments[i][1])\n",
    "        if segments[i][1] < position[-1]:\n",
    "            position = position[:-1]\n",
    "        if len(position) != 0 and position[-1] >= segments[i][0]:\n",
    "            continue\n",
    "        position.append(segments[i][1])\n",
    "    return position\n",
    "\n",
    "if __name__ == '__main__':\n",
    "    n = int(input())\n",
    "    assert n >= 2\n",
    "    input_segments = []\n",
    "    for i in range(n):\n",
    "        inputs = tuple(map(int, input().split()))\n",
    "        input_segments.append(inputs)\n",
    "    output_points = compute_optimal_points(input_segments)\n",
    "    print(len(output_points))\n",
    "    print(*output_points)"
   ]
  },
  {
   "cell_type": "markdown",
   "metadata": {},
   "source": [
    "Alternative solution that I have found earlier"
   ]
  },
  {
   "cell_type": "code",
   "execution_count": 5,
   "metadata": {},
   "outputs": [
    {
     "name": "stdout",
     "output_type": "stream",
     "text": [
      "12\n",
      "1 17\n",
      "4 9\n",
      "1 5\n",
      "20 22\n",
      "4 6\n",
      "12 14\n",
      "8 12\n",
      "8 20\n",
      "3 9\n",
      "7 10\n",
      "16 19\n",
      "7 16\n",
      "5\n",
      "[5, 10, 14, 19, 22]\n"
     ]
    }
   ],
   "source": [
    "#from collections import namedtuple\n",
    "#Segment = namedtuple('Segment', 'start end')\n",
    "\n",
    "def compute_optimal_points(segments):\n",
    "    \n",
    "    segments.sort(key = lambda x:x[0])\n",
    "    start = [x[0] for x in segments]\n",
    "    end = [x[1] for x in segments]\n",
    "    \n",
    "    output = []\n",
    "    condition = True\n",
    "    temp = end[0]\n",
    "    \n",
    "    for i in range(0,len(segments)):\n",
    "        if i != len(segments)-1 and start[i] == start[i+1]:\n",
    "            temp = min(temp,end[i+1])\n",
    "            continue\n",
    "        if condition:\n",
    "            output.append(temp)\n",
    "            condition = False\n",
    "        if i != len(segments)-1 and output[-1] >= start[i+1]:\n",
    "            continue\n",
    "        if i != len(segments)-1 and output[-1] < start[i+1]:\n",
    "            temp = end[i+1]\n",
    "            condition = True\n",
    "        if i == len(segments)-1:\n",
    "            if output[-1] < start[i]:\n",
    "                output.append(temp)                \n",
    "    return output\n",
    "\n",
    "def alternative_main():\n",
    "    n, *data = map(int, input().split())\n",
    "    segments = list(map(lambda x: Segment(x[0], x[1]), zip(data[::2], data[1::2])))\n",
    "    points = compute_optimal_points(segments)\n",
    "    print(len(points))\n",
    "    print(*points)\n",
    "    \n",
    "if __name__ == '__main__':\n",
    "    n = int(input())\n",
    "    assert n >= 2\n",
    "    input_segments = []\n",
    "    for i in range(n):\n",
    "        inputs = tuple(map(int, input().split()))\n",
    "        assert len(inputs) == 2\n",
    "        assert inputs[0] < inputs[1]\n",
    "        input_segments.append(inputs)\n",
    "    output_points = compute_optimal_points(input_segments)\n",
    "    print(len(output_points))\n",
    "    print(output_points)"
   ]
  },
  {
   "cell_type": "markdown",
   "metadata": {},
   "source": [
    "### Maximum Number of Prizes\n",
    "\n",
    "You are organizing a competition for \n",
    "children and have $n$ candies to give as prizes. \n",
    "You would like to use these candies for top $k$ places \n",
    "in a competition with a restriction that a higher place gets \n",
    "a larger number of candies. To make as many children happy \n",
    "as possible, you need to find the largest value of $k$ for \n",
    "which it is possible.\n",
    "\n",
    "**Input**: An integer $1 \\le n \\le 10^9$.\n",
    "\n",
    "**Output**: The maximum \n",
    "number $k$ such that $n$ can be represented as the sum of $k$ pairwise \n",
    "distinct positive integers and these integers (if there are many such \n",
    "representations, output any of them).\n"
   ]
  },
  {
   "cell_type": "code",
   "execution_count": 1,
   "metadata": {},
   "outputs": [
    {
     "name": "stdout",
     "output_type": "stream",
     "text": [
      "100\n",
      "13\n",
      "1 2 3 4 5 6 7 8 9 10 11 12 22\n"
     ]
    }
   ],
   "source": [
    "def compute_optimal_summands(n):\n",
    "    assert 1 <= n <= 10 ** 9\n",
    "    summands = []\n",
    "    i = 1\n",
    "    while n > 0:\n",
    "        if len(summands) == 0:\n",
    "            summands.append(i)\n",
    "        n -= i\n",
    "        if n > summands[-1]:\n",
    "            i += 1\n",
    "            summands.append(i)\n",
    "        else:\n",
    "            summands[-1] += n\n",
    "            break\n",
    "    return summands\n",
    "\n",
    "\n",
    "if __name__ == '__main__':\n",
    "    input_n = int(input())\n",
    "    output_summands = compute_optimal_summands(input_n)\n",
    "    print(len(output_summands))\n",
    "    print(*output_summands)"
   ]
  },
  {
   "cell_type": "markdown",
   "metadata": {},
   "source": [
    "Alternative solution that I found earlier"
   ]
  },
  {
   "cell_type": "code",
   "execution_count": 2,
   "metadata": {},
   "outputs": [
    {
     "name": "stdout",
     "output_type": "stream",
     "text": [
      "76\n",
      "11\n",
      "[1, 2, 3, 4, 5, 6, 7, 8, 9, 10, 21]\n"
     ]
    }
   ],
   "source": [
    "def compute_optimal_summands(n):\n",
    "    assert 1 <= n <= 10 ** 9\n",
    "    \n",
    "    summands = []\n",
    "    if n == 1 or n == 2:\n",
    "        summands = [n]\n",
    "        return summands\n",
    "    while n > 0:\n",
    "        if len(summands) == 0:\n",
    "            summands.append(1)\n",
    "            n -= 1\n",
    "        if n-(summands[-1]+1) >= summands[-1]+2:\n",
    "            summands.append(summands[-1]+1)\n",
    "            n -= summands[-1]\n",
    "            continue\n",
    "        summands.append(n)\n",
    "        break\n",
    "    return summands\n",
    "\n",
    "if __name__ == '__main__':\n",
    "    input_n = int(input())\n",
    "    output_summands = compute_optimal_summands(input_n)\n",
    "    print(len(output_summands))\n",
    "    print(output_summands)"
   ]
  },
  {
   "cell_type": "markdown",
   "metadata": {},
   "source": [
    "### Maximum Salary\n",
    "\n",
    "This is probably the most important problem \n",
    "in this course :). \n",
    "As the last question of an interview, \n",
    "your future boss gives you a few pieces of \n",
    "paper with a single number written on \n",
    "each of them and asks you to compose \n",
    "a largest number from these numbers. \n",
    "The resulting number is going to be \n",
    "your salary, so you are very motivated to \n",
    "solve this problem!\n",
    "\n",
    "**Input**: Integers \n",
    "$1 \\le a_1, a_2, \\dotsc, a_n \\le 10^3$, where\n",
    "$1 \\le n \\le 100$.\n",
    "\n",
    "**Output**: The largest number that \n",
    "can be composed out of $a_1, \\dotsc, a_n$.\n"
   ]
  },
  {
   "cell_type": "code",
   "execution_count": 3,
   "metadata": {},
   "outputs": [
    {
     "name": "stdout",
     "output_type": "stream",
     "text": [
      "8\n",
      "2 21 23 211 213 231 232 234\n",
      "23423232231221321211\n"
     ]
    }
   ],
   "source": [
    "from itertools import permutations\n",
    "\n",
    "def largest_number_naive(numbers):\n",
    "    numbers = list(map(str, numbers))\n",
    "    largest = 0\n",
    "    for permutation in permutations(numbers):\n",
    "        largest = max(largest, int(\"\".join(permutation)))\n",
    "    return largest\n",
    "\n",
    "def largest_number(numbers):\n",
    "    assert all(1 <= int(a) <= 10 ** 4 for a in numbers)\n",
    "    assert 1 <= len(numbers) <= 100\n",
    "    numbers = list(map(str, numbers))\n",
    "    i = 1\n",
    "    while i <= len(numbers) - 1:\n",
    "        j = i\n",
    "        while j >= 1:\n",
    "            if int(numbers[j-1] + numbers[j]) < int(numbers[j] + numbers[j-1]):\n",
    "                numbers[j], numbers[j-1] = numbers[j-1], numbers[j]\n",
    "                j -= 1\n",
    "            else:\n",
    "                break\n",
    "        i += 1\n",
    "    return int(''.join(map(str, numbers)))\n",
    "\n",
    "if __name__ == '__main__':\n",
    "    n = int(input())\n",
    "    input_numbers = input().split()\n",
    "    assert len(input_numbers) == n\n",
    "    print(largest_number(input_numbers))"
   ]
  },
  {
   "cell_type": "code",
   "execution_count": 4,
   "metadata": {},
   "outputs": [],
   "source": [
    "import random\n",
    "import time\n",
    "\n",
    "def StressTest(N, M):\n",
    "    assert 0 <= N <= 100\n",
    "    assert 1 <= M <= 10000\n",
    "    while True:\n",
    "        n = random.randint(1, N)\n",
    "        A = [random.randint(1, M) for i in range(0, n)]\n",
    "        print(A)\n",
    "        result1 = largest_number_naive(A)\n",
    "        result2 = largest_number(A)\n",
    "        if result1 == result2:\n",
    "            print('OK', 'result1, result2 = ', result1)\n",
    "        else:\n",
    "            print('Answer is wrong:', 'result1 = ', result1, 'result2 = ', result2)\n",
    "            break\n",
    "\n",
    "def ComplexityTest(N, M):\n",
    "    assert 1 <= N <= 100\n",
    "    assert 1 <= M <= 10000\n",
    "    start_time = time.time()\n",
    "    n = random.randint(1, N)\n",
    "    A = [random.randint(1, M) for i in range(0, n)]\n",
    "    print(A)\n",
    "    print(largest_number(A))\n",
    "    print(\"--- %s seconds ---\" % (time.time() - start_time))"
   ]
  },
  {
   "cell_type": "markdown",
   "metadata": {},
   "source": [
    "    StressTest() passed for thousands of cases. So, algorithm works properly. Now, let's check the running time."
   ]
  },
  {
   "cell_type": "code",
   "execution_count": 6,
   "metadata": {},
   "outputs": [
    {
     "name": "stdout",
     "output_type": "stream",
     "text": [
      "[139, 7989, 1003, 2241, 7522, 4768, 9470, 212, 1977, 4107, 9680, 6328, 4583, 614, 6487, 8371, 543, 759, 9372, 9306, 5545, 8031, 2671, 4555, 3388, 6658, 6198, 1307, 8101, 7000, 1618, 3264, 6485, 3567, 7301, 1207, 8936, 8186, 6728, 5919, 5794, 3775, 9329, 4812, 4653, 4024, 1513, 2913, 6893, 3466, 2677, 3076, 468, 7680, 1237, 715, 3739, 6633, 2461, 373, 3136, 3997, 9063, 2273, 4816, 6144, 4098, 929, 7822, 5861, 9432, 5028, 7146, 5858, 7692, 1905, 6128, 5443, 8765, 4244, 6773]\n",
      "968094709432937293299306929906389368765837181868101803179897822769276807597522730171571467000689367736728665866336487648563286198614614461285919586158585794554554435435028481648124768468465345834555424441074098402439973775373937335673466338832643136307629132677267124612273224121219771905161815131391307123712071003\n",
      "--- 0.001997709274291992 seconds ---\n"
     ]
    }
   ],
   "source": [
    "ComplexityTest(100,10000)"
   ]
  },
  {
   "cell_type": "markdown",
   "metadata": {},
   "source": [
    "Alternative solution that I found earlier"
   ]
  },
  {
   "cell_type": "code",
   "execution_count": 7,
   "metadata": {},
   "outputs": [
    {
     "name": "stdout",
     "output_type": "stream",
     "text": [
      "17\n",
      "6 62 68 683 689 6837 6611 2 21 23 211 213 231 232 233 5 1\n",
      "68968683768366611625233232322312213212111\n"
     ]
    }
   ],
   "source": [
    "def largest_number(numbers):\n",
    "    assert all(1 <= a <= 10 ** 4 for a in numbers)\n",
    "    assert 1 <= len(numbers) <= 100\n",
    "    \n",
    "    num_sort = sorted(numbers,key=lambda x: x/(10**(len(str(x))-1)),reverse=True)\n",
    "    index = 0\n",
    "    result = int(''.join(map(str,num_sort)))\n",
    "    \n",
    "    while index < len(numbers):\n",
    "        temp = index\n",
    "        a = list(num_sort)\n",
    "        while temp != 0:\n",
    "            flip = a[temp-1]\n",
    "            a[temp-1] = a[temp]\n",
    "            a[temp] = flip\n",
    "            if result > int(''.join(map(str,a))):\n",
    "                temp -= 1\n",
    "                continue\n",
    "            if result < int(''.join(map(str,a))):\n",
    "                result = int(''.join(map(str,a)))\n",
    "                num_sort = list(a)\n",
    "                temp -= 1\n",
    "        index += 1\n",
    "    return result\n",
    "    \n",
    "if __name__ == '__main__':\n",
    "    n = int(input())\n",
    "    input_numbers = list(map(int,input().split()))\n",
    "    assert len(input_numbers) == n\n",
    "    print(largest_number(input_numbers))"
   ]
  }
 ],
 "metadata": {
  "kernelspec": {
   "display_name": "Python 3",
   "language": "python",
   "name": "python3"
  },
  "language_info": {
   "codemirror_mode": {
    "name": "ipython",
    "version": 3
   },
   "file_extension": ".py",
   "mimetype": "text/x-python",
   "name": "python",
   "nbconvert_exporter": "python",
   "pygments_lexer": "ipython3",
   "version": "3.8.3"
  }
 },
 "nbformat": 4,
 "nbformat_minor": 2
}
