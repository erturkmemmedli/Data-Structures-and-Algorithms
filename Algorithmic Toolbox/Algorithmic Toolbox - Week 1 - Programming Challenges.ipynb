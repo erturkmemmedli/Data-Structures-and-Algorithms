{
 "cells": [
  {
   "cell_type": "code",
   "execution_count": 1,
   "metadata": {},
   "outputs": [
    {
     "name": "stdout",
     "output_type": "stream",
     "text": [
      "5 7\n",
      "12\n"
     ]
    }
   ],
   "source": [
    "def sum_of_two_digits(first_digit, second_digit):\n",
    "    assert 0 <= first_digit <= 9 and 0 <= second_digit <= 9\n",
    "    \n",
    "    return first_digit + second_digit\n",
    "\n",
    "if __name__ == '__main__':\n",
    "    a, b = map(int, input().split())\n",
    "    print(sum_of_two_digits(a, b))"
   ]
  },
  {
   "cell_type": "code",
   "execution_count": 2,
   "metadata": {},
   "outputs": [
    {
     "name": "stdout",
     "output_type": "stream",
     "text": [
      "5\n",
      "12 3 7 60 10\n",
      "720\n"
     ]
    }
   ],
   "source": [
    "def max_pairwise_product(numbers):  \n",
    "    assert len(numbers) >= 2\n",
    "    assert all(0 <= x <= 2 * 10 ** 5 for x in numbers)\n",
    "    \n",
    "    sorted_numbers = sorted(numbers,reverse=True) \n",
    "    return sorted_numbers[0] * sorted_numbers[1]\n",
    "\n",
    "if __name__ == '__main__':\n",
    "    n = int(input())\n",
    "    input_numbers = list(map(int, input().split()))\n",
    "    assert len(input_numbers) == n\n",
    "    print(max_pairwise_product(input_numbers))"
   ]
  }
 ],
 "metadata": {
  "kernelspec": {
   "display_name": "Python 3",
   "language": "python",
   "name": "python3"
  },
  "language_info": {
   "codemirror_mode": {
    "name": "ipython",
    "version": 3
   },
   "file_extension": ".py",
   "mimetype": "text/x-python",
   "name": "python",
   "nbconvert_exporter": "python",
   "pygments_lexer": "ipython3",
   "version": "3.8.3"
  }
 },
 "nbformat": 4,
 "nbformat_minor": 4
}
