{
 "cells": [
  {
   "cell_type": "markdown",
   "metadata": {},
   "source": [
    "### 1) Binary Search\n",
    "\n",
    "Input: A sorted array **K=[k0,…,kn−1]** of **1≤n≤3⋅10^4** distinct integers and an array **Q=q0,…,qm−1** of **1≤m≤10^5** integers.\n",
    "\n",
    "Output: For **all i from 0 to m−1**, output an index **0≤j≤n−1** such that **kj=qi or −1**, if there is no such index."
   ]
  },
  {
   "cell_type": "code",
   "execution_count": 1,
   "metadata": {},
   "outputs": [
    {
     "name": "stdout",
     "output_type": "stream",
     "text": [
      "3 7 9 12 19 20 21 23 36 50 61\n",
      "1 3 30 50 61 90\n",
      "Query is not in the range\n",
      "0\n",
      "Query is between index 7 and index 8\n",
      "9\n",
      "10\n",
      "Query is not in the range\n"
     ]
    }
   ],
   "source": [
    "def linear_search(keys, query):\n",
    "    for i in range(len(keys)):\n",
    "        if keys[i] == query:\n",
    "            return i\n",
    "    return -1\n",
    "\n",
    "def binary_search(keys, query):\n",
    "    assert all(keys[i] < keys[i + 1] for i in range(len(keys) - 1))\n",
    "    assert 1 <= len(keys) <= 3 * 10 ** 4\n",
    "\n",
    "    low = 1\n",
    "    high = len(keys)\n",
    "    if query < keys[low-1] or query > keys[high-1]:\n",
    "        return (\"Query is not in the range\")    \n",
    "    \n",
    "    while low <= high:\n",
    "        mid = int(low + (high-low)/2)\n",
    "        if keys[mid-1] == query:\n",
    "            return mid-1\n",
    "        if low == high and keys[mid-1] != query:\n",
    "            return (f'Query is between index {mid-2} and index {mid-1}')\n",
    "        elif keys[mid-1] < query:\n",
    "            low += 1\n",
    "        else:\n",
    "            high -= 1\n",
    "        \n",
    "if __name__ == '__main__':\n",
    "    input_keys = list(map(int, input().split()))\n",
    "    input_queries = list(map(int, input().split()))\n",
    "    for q in input_queries:\n",
    "        print(binary_search(input_keys, q), end='\\n')\n"
   ]
  },
  {
   "cell_type": "markdown",
   "metadata": {},
   "source": [
    "### 2) Majority Element\n",
    "\n",
    "Input. A sequence of **n≤10^5** integers.\n",
    "\n",
    "Output. **1**, if there is an element that is repeated more than **n/2** times, and **0 otherwise**.\n",
    "\n",
    "As you might have already guessed, this problem can be solved by the divide-and-conquer algorithm in time **O(nlogn)**. Indeed, if a sequence of length n contains a majority element, then the same element is also a majority element for one of its halves. Thus, to solve this problem you first split a given sequence into halves and recursively solve it for each half. Do you see how to combine the results of two recursive calls?"
   ]
  },
  {
   "cell_type": "code",
   "execution_count": 11,
   "metadata": {},
   "outputs": [
    {
     "name": "stdout",
     "output_type": "stream",
     "text": [
      "7\n",
      "3 2 4 6 2 2 2\n",
      "1\n"
     ]
    }
   ],
   "source": [
    "def majority_element(elements):\n",
    "    assert len(elements) <= 10 ** 5\n",
    "    \n",
    "    def merge_sort(A):\n",
    "        if len(A) <= 1:\n",
    "            return A\n",
    "        i = 0        \n",
    "        for j in range(len(A)-1):\n",
    "            if A[j+1] <= A[0]:\n",
    "                A[i+1], A[j+1] = A[j+1], A[i+1]\n",
    "                i += 1\n",
    "        A[0], A[i] = A[i], A[0]\n",
    "        head = merge_sort(A[0:i])\n",
    "        head.append(A[i])\n",
    "        tail = merge_sort(A[i+1:])\n",
    "        return head + tail\n",
    "    \n",
    "    x = merge_sort(elements)\n",
    "    i = 0\n",
    "    output = 0\n",
    "    while i < int(len(x)/2):\n",
    "        if x[i] == x[i+int(len(x)/2)]:\n",
    "            output = 1\n",
    "            break\n",
    "        i += 1\n",
    "    return output\n",
    "\n",
    "if __name__ == '__main__':\n",
    "    input_n = int(input())\n",
    "    input_elements = list(map(int, input().split()))\n",
    "    assert len(input_elements) == input_n\n",
    "    print(majority_element(input_elements))"
   ]
  },
  {
   "cell_type": "markdown",
   "metadata": {},
   "source": [
    "### 3) Improving QuickSort\n",
    "\n",
    "Modify the given implementation of the QuickSort algorithm so that it works fast even on sequences containing many identical elements."
   ]
  },
  {
   "cell_type": "code",
   "execution_count": 21,
   "metadata": {},
   "outputs": [
    {
     "name": "stdout",
     "output_type": "stream",
     "text": [
      "3 76 2 9 3 1 34 234 6 12 76 234 124 1 4 78 34 23 6 2 12 56 7 34\n",
      "[1, 1, 2, 2, 3, 3, 4, 6, 6, 7, 9, 12, 12, 23, 34, 34, 34, 56, 76, 76, 78, 124, 234, 234]\n"
     ]
    }
   ],
   "source": [
    "from random import randint\n",
    "\n",
    "def randomized_quick_sort(A):\n",
    "    if len(A) <= 1:\n",
    "        return A\n",
    "    k = randint(0, len(A) - 1)\n",
    "    A[0], A[k] = A[k], A[0]\n",
    "    i = 0        \n",
    "    for j in range(len(A)-1):\n",
    "        if A[j+1] <= A[0]:\n",
    "            A[i+1], A[j+1] = A[j+1], A[i+1]\n",
    "            i += 1\n",
    "    A[0], A[i] = A[i], A[0]\n",
    "    head = randomized_quick_sort(A[0:i])\n",
    "    head.append(A[i])\n",
    "    tail = randomized_quick_sort(A[i+1:])\n",
    "    return head + tail\n",
    "\n",
    "if __name__ == '__main__':\n",
    "    elements = list(map(int, input().split()))\n",
    "    print(randomized_quick_sort(elements))"
   ]
  },
  {
   "cell_type": "markdown",
   "metadata": {},
   "source": [
    "### 4) Number of Inversions\n",
    "\n",
    "The number of inversions in a sequence measures how close the sequence is to being sorted. For example, a sequence sorted in the non-descending order contains no inversions, while a sequence sorted in the descending order contains **n(n−1)/2** inversions (every two elements form an inversion).\n",
    "\n",
    "A naive algorithm for the Number of Inversions Problem goes through all possible pairs **(i,j)** and has running time **O(n^2)**. To solve this problem in time **O(nlogn)** using the divide-and-conquer technique split the input array into two halves and make a recursive call on both halves. What remains to be done is computing the number of inversions formed by two elements from different halves. If we do this naively, this will bring us back to **O(n^2)** running time, since the total number of such pairs is **n/2⋅n/2=n^2/4=O(n^2)**. It turns out that one can compute the number of inversions formed by two elements from different halves in time **O(n)**, if both halves are already sorted. This suggest that instead of solving the original problem we solve a more general problem: compute the number of inversions in the given array and sort it at the same time.\n",
    "\n",
    "Compute the number of inversions in a sequence of length at most **30000**."
   ]
  },
  {
   "cell_type": "code",
   "execution_count": null,
   "metadata": {},
   "outputs": [],
   "source": [
    "def compute_inversions(a):\n",
    "    assert len(a) <= 30000\n",
    "\n",
    "    def sorting(a,count = 0):\n",
    "        if len(a) <= 1:\n",
    "            return 0\n",
    "        i = 0\n",
    "        for j in range(0,len(a)-1):\n",
    "            if a[j+1] <= a[0]:\n",
    "                a[j+1],a[i+1] = a[i+1],a[j+1]\n",
    "                i += 1\n",
    "                count += 1\n",
    "        a[0],a[i] = a[i],a[0]\n",
    "        count += 1\n",
    "        head = sorting(a[:i],count)\n",
    "        head.append(a[i])\n",
    "        tail = sorting(a[i+1:],count)\n",
    "        return count\n",
    "    \n",
    "    result = sorting(a)    \n",
    "    return result\n",
    "    \n",
    "if __name__ == '__main__':\n",
    "    input_n = int(input())\n",
    "    elements = list(map(int, input().split()))\n",
    "    assert len(elements) == input_n\n",
    "    print(compute_inversions(elements))\n",
    "    \n",
    "# SHOULD BE EDITED. NOT WORKING RIGHT NOW."
   ]
  }
 ],
 "metadata": {
  "kernelspec": {
   "display_name": "Python 3",
   "language": "python",
   "name": "python3"
  },
  "language_info": {
   "codemirror_mode": {
    "name": "ipython",
    "version": 3
   },
   "file_extension": ".py",
   "mimetype": "text/x-python",
   "name": "python",
   "nbconvert_exporter": "python",
   "pygments_lexer": "ipython3",
   "version": "3.8.3"
  }
 },
 "nbformat": 4,
 "nbformat_minor": 4
}
