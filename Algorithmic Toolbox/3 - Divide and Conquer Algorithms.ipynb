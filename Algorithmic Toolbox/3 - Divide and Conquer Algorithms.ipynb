{
 "cells": [
  {
   "cell_type": "markdown",
   "metadata": {},
   "source": [
    "## Divide and Conquer Algorithms"
   ]
  },
  {
   "cell_type": "markdown",
   "metadata": {},
   "source": [
    "### Multiplying Polynomials\n",
    "\n",
    "Giving two $ n-1 $ degree polynomials in the lists as $[x^{n-1},x^{n-2},...,x^1,x^0]$, find their multiplication."
   ]
  },
  {
   "cell_type": "code",
   "execution_count": 1,
   "metadata": {},
   "outputs": [
    {
     "name": "stdout",
     "output_type": "stream",
     "text": [
      "4\n",
      "3,6,0,1\n",
      "5,3,9,2\n",
      "[15, 39, 45, 65, 15, 9, 2]\n"
     ]
    }
   ],
   "source": [
    "def mult_poly(A, B, n):\n",
    "    result = [0] * (2*n-1)\n",
    "    for i in range(len(A)):\n",
    "        for j in range(len(B)):\n",
    "            result[i+j] += A[i] * B[j]\n",
    "    return result\n",
    "\n",
    "degree_of_polynimal = int(input())\n",
    "first_polynomial_array = list(map(int, input().split(',')))\n",
    "second_polynomial_array = list(map(int, input().split(',')))\n",
    "print(mult_poly(first_polynomial_array, second_polynomial_array, degree_of_polynimal))"
   ]
  },
  {
   "cell_type": "markdown",
   "metadata": {},
   "source": [
    "### Multiplying Polnomials (Naive Divide and Conquer Algorithm)"
   ]
  },
  {
   "cell_type": "code",
   "execution_count": 2,
   "metadata": {},
   "outputs": [
    {
     "name": "stdout",
     "output_type": "stream",
     "text": [
      "Highest degree of two polynoms:\n",
      "5\n",
      "Arrange lists by putting '0' if there are missing powers!\n",
      "4 7 3 1 2\n",
      "0 5 0 7 8\n",
      "[20, 35, 43, 86, 87, 31, 22, 16]\n"
     ]
    }
   ],
   "source": [
    "def mult_poly_naive_div_and_con(A, B, n, a, b):\n",
    "    result = [0] * (2*n-1)\n",
    "    if n == 1:\n",
    "        result[0] = A[a] * B[b]\n",
    "        return result\n",
    "    result[0: n-1] = mult_poly_naive_div_and_con(A, B, int(n/2), a, b)\n",
    "    #print(f'evvel hesablanir: {result}')\n",
    "    result[n: 2*n-1] = mult_poly_naive_div_and_con(A, B, int(n/2), a+int(n/2), b+int(n/2))\n",
    "    #print(f'axir hesablanir: {result}')\n",
    "    d0e1 = mult_poly_naive_div_and_con(A, B, int(n/2), a, b+int(n/2))\n",
    "    #print(f'orta_1: {d0e1}')\n",
    "    d1e0 = mult_poly_naive_div_and_con(A, B, int(n/2), a+int(n/2), b)\n",
    "    #print(f'orta_2: {d1e0}')\n",
    "    result[int(n/2): n+int(n/2)-1] = [sum(x) for x in zip(result[int(n/2): n+int(n/2)-1], [sum(y) for y in zip(d0e1,d1e0)])]\n",
    "    #print(f'orta hesablanir: {result}')\n",
    "    return result\n",
    "\n",
    "def Correction (x): \n",
    "    return (x and (not(x & (x - 1))))\n",
    "    # Bitwise comparison. Such that 8 is 1000, 7 is 0111.\n",
    "\n",
    "print(\"Highest degree of two polynoms:\")\n",
    "degree = int(input())\n",
    "\n",
    "print(\"Arrange lists by putting '0' if there are missing powers!\")\n",
    "first_polynom = list(map(int, input().split()))\n",
    "second_polynom = list(map(int, input().split()))\n",
    "a = 0\n",
    "b = 0\n",
    "\n",
    "while Correction(degree) == False:\n",
    "    degree += 1\n",
    "    first_polynom = [0] + first_polynom\n",
    "    second_polynom = [0] + second_polynom\n",
    "final = mult_poly_naive_div_and_con(first_polynom, second_polynom, degree, a, b)\n",
    "\n",
    "while final[0] == 0:\n",
    "    final = final[1:]\n",
    "    \n",
    "print(final)"
   ]
  },
  {
   "cell_type": "markdown",
   "metadata": {},
   "source": [
    "### Multiplying Polynomials (Fast Divide and Conquer Algorithm: Karatsuba)"
   ]
  },
  {
   "cell_type": "code",
   "execution_count": 16,
   "metadata": {},
   "outputs": [
    {
     "name": "stdout",
     "output_type": "stream",
     "text": [
      "8\n",
      "Enter the terms of polynomials from 7th term to 0th term!\n",
      "7 8 3 0 1 2 0 6\n",
      "3 6 8 1 9 3 0 1\n",
      "21x^14 + 66x^13 + 113x^12 + 89x^11 + 98x^10 + 108x^9 + 71x^8 + 51x^7 + 55x^6 + 72x^5 + 12x^4 + 55x^3 + 20x^2 + 6\n"
     ]
    }
   ],
   "source": [
    "def mult_poly_fast_div_and_con(A, B, n, a, b):\n",
    "    \n",
    "    result = [0] * (2*n-1)\n",
    "    if n == 1:\n",
    "        result[0] = A[a] * B[b]\n",
    "        return result\n",
    "    \n",
    "    result[0: n-1] = mult_poly_fast_div_and_con(A, B, int(n/2), a, b)\n",
    "    #print(f'evvel: {result}')\n",
    "    result[n: 2*n-1] = mult_poly_fast_div_and_con(A, B, int(n/2), a+int(n/2), b+int(n/2))\n",
    "    #print(f'axir: {result}')\n",
    "\n",
    "    D = [sum(x) for x in zip(A[a:a+int(n/2)], A[a+int(n/2):])]\n",
    "    #print(f'D_0 + D_1: {D}')\n",
    "    E = [sum(x) for x in zip(B[b:b+int(n/2)], B[b+int(n/2):])]\n",
    "    #print(f'E_0 + E_1: {E}')\n",
    "    X = mult_poly_fast_div_and_con(D, E, int(n/2), 0, 0)\n",
    "    #print(f'onlarin hasili: {X}')\n",
    "   \n",
    "    n1 = [i * (-1) for i in result[0: n-1]]\n",
    "    #print(f'D_1*E_1: {n1}')\n",
    "    n2 = [j * (-1) for j in result[n: 2*n-1]]\n",
    "    #print(f'D_0*E_0: {n2}')\n",
    "    \n",
    "    mid = result[int(n/2): n+int(n/2)-1]\n",
    "    result[int(n/2): n+int(n/2)-1] = [sum(x) for x in zip(mid, [sum(y) for y in zip(X, n1, n2)])]\n",
    "    #print(f'netice: {result}')\n",
    "    return result\n",
    "\n",
    "def Correction (x): \n",
    "    return (x and (not(x & (x - 1))))\n",
    "\n",
    "degree = int(input())\n",
    "print(f\"Enter the terms of polynomials from {degree - 1}th term to 0th term!\")\n",
    "first_polynom = list(map(int, input().split()))\n",
    "second_polynom = list(map(int, input().split()))\n",
    "\n",
    "a = 0\n",
    "b = 0\n",
    "\n",
    "while Correction(degree) == False:\n",
    "    degree += 1\n",
    "    first_polynom = [0] + first_polynom\n",
    "    second_polynom = [0] + second_polynom\n",
    "\n",
    "result = mult_poly_fast_div_and_con(first_polynom, second_polynom, degree, a, b)\n",
    "\n",
    "final = ''\n",
    "power = len(result) - 1\n",
    "for i in range(len(result)):\n",
    "    if result[i] == 0:\n",
    "        power -= 1\n",
    "        continue\n",
    "    if i != len(result) - 1:\n",
    "        final += str(result[i]) + \"x^\" + str(power) + \" + \"\n",
    "        power -= 1\n",
    "    else:\n",
    "        final += str(result[i])\n",
    "    \n",
    "print(final)"
   ]
  },
  {
   "cell_type": "markdown",
   "metadata": {},
   "source": [
    "### Linear Search"
   ]
  },
  {
   "cell_type": "code",
   "execution_count": 3,
   "metadata": {},
   "outputs": [],
   "source": [
    "def linear_search(keys, query):\n",
    "    for i in range(len(keys)):\n",
    "        if keys[i] == query:\n",
    "            return i\n",
    "    return -1"
   ]
  },
  {
   "cell_type": "markdown",
   "metadata": {},
   "source": [
    "### Binary Search (While Loop)\n",
    "\n",
    "**Input:** A sorted array $K=[k_0, \\dotsc, k_{n-1}]$ \n",
    "of $1 \\le n \\le 3 \\cdot 10^4$ distinct integers and\n",
    "an array $Q=\\{q_0,\\dotsc,q_{m-1}\\}$ of \n",
    "$1 \\le m \\le 10^5$ integers.\n",
    "\n",
    "**Output:** For all $i$ from $0$ to $m-1$, \n",
    "output an index $0 \\le j \\le n-1$ such \n",
    "that $k_j=q_i$ or $-1$, if there is no such index."
   ]
  },
  {
   "cell_type": "code",
   "execution_count": 11,
   "metadata": {},
   "outputs": [
    {
     "name": "stdout",
     "output_type": "stream",
     "text": [
      "1 5 23 43 54 100 321 765 1244 7500 9999\n",
      "54 1244 0 1 10000 7500 454 23\n",
      "4 8 -1 0 -1 9 -1 2 "
     ]
    }
   ],
   "source": [
    "def binary_search(keys, query):\n",
    "    assert all(keys[i] < keys[i + 1] for i in range(len(keys) - 1))\n",
    "    assert 1 <= len(keys) <= 3 * 10 ** 4\n",
    "\n",
    "    low = 0\n",
    "    high = len(keys)-1\n",
    "    mid = int(low + (high - low) / 2) \n",
    "\n",
    "    while low <= high:\n",
    "        if query == keys[mid]:\n",
    "            return mid\n",
    "        elif query > keys[mid]:\n",
    "            low = mid + 1\n",
    "            mid = int(low + (high - low) / 2)\n",
    "            continue\n",
    "        elif query < keys[mid]:\n",
    "            high = mid - 1\n",
    "            mid = int(low + (high - low) / 2)\n",
    "            continue\n",
    "    return -1\n",
    "\n",
    "if __name__ == '__main__':\n",
    "    input_keys = list(map(int, input().split()))\n",
    "    input_queries = list(map(int, input().split()))\n",
    "\n",
    "    for q in input_queries:\n",
    "        print(binary_search(input_keys, q), end=' ')"
   ]
  },
  {
   "cell_type": "markdown",
   "metadata": {},
   "source": [
    "### Binary Search (Recursion)"
   ]
  },
  {
   "cell_type": "code",
   "execution_count": 8,
   "metadata": {},
   "outputs": [
    {
     "name": "stdout",
     "output_type": "stream",
     "text": [
      "2 3 4 5 6 7 8 9 123 12312\n",
      "1 4 2 65 43 12432 123 99999 9 12312\n",
      "-1 2 0 -1 -1 -1 8 -1 7 9 "
     ]
    }
   ],
   "source": [
    "def binary_search(keys, low, high, query):\n",
    "    assert all(keys[i] < keys[i + 1] for i in range(len(keys) - 1))\n",
    "    assert 1 <= len(keys) <= 3 * 10 ** 4\n",
    "    \n",
    "    if low > high:\n",
    "        return -1\n",
    "    \n",
    "    mid = int(low + (high - low) / 2)\n",
    "    \n",
    "    if keys[mid] == query:\n",
    "        return mid\n",
    "    elif keys[mid] > query:\n",
    "        return binary_search(keys, low, mid - 1, query)\n",
    "    elif keys[mid] < query:\n",
    "        return binary_search(keys, mid + 1, high, query)\n",
    "\n",
    "if __name__ == '__main__':\n",
    "    keys = list(map(int, input().split()))\n",
    "    queries = list(map(int, input().split()))\n",
    "    low = 0\n",
    "    high = len(keys) - 1\n",
    "    \n",
    "    for q in queries:\n",
    "        print(binary_search(keys, low, high, q), end = ' ')"
   ]
  },
  {
   "cell_type": "markdown",
   "metadata": {},
   "source": [
    "Alternative solution that I have found earlier"
   ]
  },
  {
   "cell_type": "code",
   "execution_count": 6,
   "metadata": {},
   "outputs": [
    {
     "name": "stdout",
     "output_type": "stream",
     "text": [
      "3 7 9 12 19 20 21 23 36 50 61\n",
      "1 3 30 50 61 90\n",
      "Query is not in the range\n",
      "0\n",
      "Query is between index 7 and index 8\n",
      "9\n",
      "10\n",
      "Query is not in the range\n"
     ]
    }
   ],
   "source": [
    "def binary_search(keys, query):\n",
    "    assert all(keys[i] < keys[i + 1] for i in range(len(keys) - 1))\n",
    "    assert 1 <= len(keys) <= 3 * 10 ** 4\n",
    "\n",
    "    low = 1\n",
    "    high = len(keys)\n",
    "    if query < keys[low-1] or query > keys[high-1]:\n",
    "        return (\"Query is not in the range\")    \n",
    "    \n",
    "    while low <= high:\n",
    "        mid = int(low + (high-low)/2)\n",
    "        if keys[mid-1] == query:\n",
    "            return mid-1\n",
    "        if low == high and keys[mid-1] != query:\n",
    "            return (f'Query is between index {mid-2} and index {mid-1}')\n",
    "        elif keys[mid-1] < query:\n",
    "            low += 1\n",
    "        else:\n",
    "            high -= 1\n",
    "        \n",
    "if __name__ == '__main__':\n",
    "    input_keys = list(map(int, input().split()))\n",
    "    input_queries = list(map(int, input().split()))\n",
    "    for q in input_queries:\n",
    "        print(binary_search(input_keys, q), end='\\n')"
   ]
  },
  {
   "cell_type": "markdown",
   "metadata": {},
   "source": [
    "    Running time for binary search (recursion)"
   ]
  },
  {
   "cell_type": "code",
   "execution_count": 9,
   "metadata": {},
   "outputs": [
    {
     "name": "stdout",
     "output_type": "stream",
     "text": [
      "15003\n",
      "0.04916095733642578 seconds\n"
     ]
    }
   ],
   "source": [
    "import time\n",
    "\n",
    "keys = []\n",
    "for i in range(3 * 10 ** 4):\n",
    "    keys.append(i)\n",
    "low = 0\n",
    "high = len(keys) - 1\n",
    "query = 15003\n",
    "\n",
    "timer = time.time()\n",
    "print(binary_search(keys, low, high, query))\n",
    "print(f'{time.time() - timer} seconds')"
   ]
  },
  {
   "cell_type": "markdown",
   "metadata": {},
   "source": [
    "    Running time for binary search (while loop)"
   ]
  },
  {
   "cell_type": "code",
   "execution_count": 12,
   "metadata": {},
   "outputs": [
    {
     "name": "stdout",
     "output_type": "stream",
     "text": [
      "14998\n",
      "0.0030012130737304688 seconds\n"
     ]
    }
   ],
   "source": [
    "import time\n",
    "\n",
    "keys = []\n",
    "for i in range(3 * 10 ** 4):\n",
    "    keys.append(i)\n",
    "query = 14998\n",
    "\n",
    "timer = time.time()\n",
    "print(binary_search(keys, query))\n",
    "print(f'{time.time() - timer} seconds')"
   ]
  },
  {
   "cell_type": "markdown",
   "metadata": {},
   "source": [
    "### Selection Sort"
   ]
  },
  {
   "cell_type": "code",
   "execution_count": 13,
   "metadata": {},
   "outputs": [
    {
     "name": "stdout",
     "output_type": "stream",
     "text": [
      "3,5,87,32,98,321,76,9,23,1\n",
      "[1, 3, 5, 9, 23, 32, 76, 87, 98, 321]\n"
     ]
    }
   ],
   "source": [
    "def selection_sort(A):\n",
    "    for i in range(len(A)):\n",
    "        minimum_index = i\n",
    "        for j in range(i+1,len(A)):\n",
    "            if A[j] < A[minimum_index]:\n",
    "                minimum_index = j\n",
    "        A[i], A[minimum_index] = A[minimum_index], A[i]\n",
    "    return A\n",
    "\n",
    "if __name__ == '__main__':\n",
    "    A = list(map(int, input().split(',')))\n",
    "    print(selection_sort(A))"
   ]
  },
  {
   "cell_type": "markdown",
   "metadata": {},
   "source": [
    "### Merge Sort"
   ]
  },
  {
   "cell_type": "code",
   "execution_count": 14,
   "metadata": {},
   "outputs": [
    {
     "name": "stdout",
     "output_type": "stream",
     "text": [
      "54 3 7 87 32 2 76 8 32 2 7 7 45 4 21 4 8 734 3 87 53\n",
      "[2, 2, 3, 3, 4, 4, 7, 7, 7, 8, 8, 21, 32, 32, 45, 53, 54, 76, 87, 87, 734]\n"
     ]
    }
   ],
   "source": [
    "def merge_sort(A):\n",
    "    if len(A) == 1:\n",
    "        return A\n",
    "    mid = len(A) // 2\n",
    "    B = merge_sort(A[:mid])\n",
    "    C = merge_sort(A[mid:])\n",
    "    A_new = merge(B, C)\n",
    "    return A_new\n",
    "\n",
    "def merge(B,C):\n",
    "    D = []\n",
    "    while len(B) != 0 and len(C) != 0:\n",
    "        b = B[0]\n",
    "        c = C[0]\n",
    "        if b <= c:\n",
    "            D.append(b)\n",
    "            B = B[1:]\n",
    "        else:\n",
    "            D.append(c)\n",
    "            C = C[1:]\n",
    "    D = D + B + C\n",
    "    return D\n",
    "\n",
    "if __name__ == '__main__':\n",
    "    A = list(map(int, input().split()))\n",
    "    print(merge_sort(A))"
   ]
  },
  {
   "cell_type": "markdown",
   "metadata": {},
   "source": [
    "### Count Sort"
   ]
  },
  {
   "cell_type": "code",
   "execution_count": 15,
   "metadata": {},
   "outputs": [
    {
     "name": "stdout",
     "output_type": "stream",
     "text": [
      "2 3 3 3 2 2 2 1 2 9 3 1 1 9 9 9 2 3 3 3 2 1 1 2 2 2 2 1\n",
      "[1, 1, 1, 1, 1, 1, 2, 2, 2, 2, 2, 2, 2, 2, 2, 2, 2, 3, 3, 3, 3, 3, 3, 3, 9, 9, 9, 9]\n"
     ]
    }
   ],
   "source": [
    "# List must include only integers from 0 to 9. \n",
    "\n",
    "def count_sort(A):\n",
    "    assert all(0 <= A[i] <= 9 for i in range(len(A)))\n",
    "    integers = [0] * 10\n",
    "    result = []\n",
    "    for i in range(len(A)):\n",
    "        integers[A[i]] += 1\n",
    "    for j in range(len(integers)):\n",
    "        if integers[j] == 0:\n",
    "            continue\n",
    "        result += [j] * integers[j]\n",
    "    return result\n",
    "\n",
    "if __name__ == '__main__':\n",
    "    A = list(map(int, input().split()))\n",
    "    print(count_sort(A))"
   ]
  },
  {
   "cell_type": "markdown",
   "metadata": {},
   "source": [
    "### Insertion Sort"
   ]
  },
  {
   "cell_type": "code",
   "execution_count": 21,
   "metadata": {},
   "outputs": [],
   "source": [
    "def insertion_sort(A):\n",
    "    left = 0\n",
    "    right = len(A)\n",
    "    for i in range(left + 1, right):\n",
    "        temp = A[i]\n",
    "        j = i - 1\n",
    "        while j >= left and temp < A[j]:\n",
    "            A[j + 1] = A[j]\n",
    "            j -= 1\n",
    "        A[j + 1] = temp\n",
    "    return A"
   ]
  },
  {
   "cell_type": "code",
   "execution_count": 22,
   "metadata": {},
   "outputs": [
    {
     "data": {
      "text/plain": [
       "[5, 6, 10, 14, 19, 19, 24, 36, 39, 39, 41, 44, 47, 55, 56, 64, 69, 69, 73, 82]"
      ]
     },
     "execution_count": 22,
     "metadata": {},
     "output_type": "execute_result"
    }
   ],
   "source": [
    "import random\n",
    "A = [random.randint(0,100) for i in range(20)]\n",
    "insertion_sort(A)"
   ]
  },
  {
   "cell_type": "markdown",
   "metadata": {},
   "source": [
    "Some merge algorithms for Tim Sort before I found the faster one and implemented in Tim Sort algorithm"
   ]
  },
  {
   "cell_type": "code",
   "execution_count": 18,
   "metadata": {},
   "outputs": [],
   "source": [
    "def merge_v1(A, left, mid, right):\n",
    "    temp = 0\n",
    "    fix = 0\n",
    "    for i in range(left, right):\n",
    "        if mid + temp < right:\n",
    "            j = mid + temp\n",
    "            k = A[mid + temp]\n",
    "        if mid + fix < right:\n",
    "            r = A[mid + fix]\n",
    "        f = A[i]\n",
    "        while i < j and f > k:\n",
    "            A[j] = A[j - 1]\n",
    "            j -= 1\n",
    "        fix += 1\n",
    "        if j == i:\n",
    "            temp += 1\n",
    "            fix = temp\n",
    "        if fix == temp:\n",
    "            A[j] = k\n",
    "\n",
    "def merge_v2(A, left, mid, right):\n",
    "    l = A[left:mid]\n",
    "    r = A[mid:right]\n",
    "    while len(l) != 0 or len(r) != 0:\n",
    "        if len(l) == 0 or len(r) == 0:\n",
    "            break\n",
    "        if l[0] <= r[0]:\n",
    "            A[left] = l[0]\n",
    "            l = l[1:]\n",
    "            left += 1\n",
    "        else:\n",
    "            A[left] = r[0]\n",
    "            r = r[1:]\n",
    "            left += 1\n",
    "    while left < right:\n",
    "        if len(r) != 0:\n",
    "            A[left] = r[0]\n",
    "            left += 1\n",
    "            r = r[1:]\n",
    "        if len(l) != 0:\n",
    "            A[left] = l[0]\n",
    "            left += 1\n",
    "            l = l[1:]"
   ]
  },
  {
   "cell_type": "markdown",
   "metadata": {},
   "source": [
    "### Tim Sort"
   ]
  },
  {
   "cell_type": "code",
   "execution_count": 24,
   "metadata": {},
   "outputs": [],
   "source": [
    "def insertion_sort(A, left, right):\n",
    "    for i in range(left + 1, right):\n",
    "        temp = A[i]\n",
    "        j = i - 1\n",
    "        while j >= left and temp < A[j]:\n",
    "            A[j + 1] = A[j]\n",
    "            j -= 1\n",
    "        A[j + 1] = temp\n",
    "        \n",
    "def merge(A, left, mid, right):\n",
    "    l = A[left:mid]\n",
    "    r = A[mid:right]\n",
    "    i, j, k = 0, 0, left\n",
    "    while i < len(l) and j < len(r):\n",
    "        if l[i] <= r[j]:\n",
    "            A[k] = l[i]\n",
    "            i += 1\n",
    "        else:\n",
    "            A[k] = r[j]\n",
    "            j += 1\n",
    "        k += 1\n",
    "    while i < len(l):\n",
    "        A[k] = l[i]\n",
    "        k += 1\n",
    "        i += 1\n",
    "    while j < len(r):\n",
    "        A[k] = r[j]\n",
    "        k += 1\n",
    "        j += 1\n",
    "\n",
    "def tim_sort(A):\n",
    "    run = 32\n",
    "    left = 0\n",
    "    right = run\n",
    "    for i in range(0, len(A), run):\n",
    "        if right <= len(A):\n",
    "            insertion_sort(A, left, right)\n",
    "        else:\n",
    "            insertion_sort(A, left, len(A))\n",
    "        left += run\n",
    "        right += run\n",
    "    size = run\n",
    "    left = 0\n",
    "    mid = run\n",
    "    right = run * 2\n",
    "    while size <= len(A):\n",
    "        if right <= len(A):\n",
    "            merge(A, left, mid, right)\n",
    "            left += size * 2\n",
    "            mid += size * 2\n",
    "            right += size * 2\n",
    "        elif mid <= len(A):\n",
    "            merge(A, left, mid, len(A))\n",
    "            left += size * 2\n",
    "            mid += size * 2\n",
    "            right += size * 2\n",
    "        else:\n",
    "            size *= 2\n",
    "            left = 0\n",
    "            mid = size\n",
    "            right = size * 2"
   ]
  },
  {
   "cell_type": "code",
   "execution_count": 25,
   "metadata": {},
   "outputs": [],
   "source": [
    "import random\n",
    "import time"
   ]
  },
  {
   "cell_type": "code",
   "execution_count": 26,
   "metadata": {},
   "outputs": [
    {
     "name": "stdout",
     "output_type": "stream",
     "text": [
      "0.444000244140625 seconds\n"
     ]
    }
   ],
   "source": [
    "A = [random.randint(0, 10000) for i in range(10**5)]\n",
    "timer = time.time()\n",
    "tim_sort(A)\n",
    "print(f'{time.time() - timer} seconds')"
   ]
  },
  {
   "cell_type": "code",
   "execution_count": 27,
   "metadata": {},
   "outputs": [
    {
     "name": "stdout",
     "output_type": "stream",
     "text": [
      "0.37100934982299805 seconds\n"
     ]
    }
   ],
   "source": [
    "A = [random.randint(0, 2) for i in range(10**5)]\n",
    "timer = time.time()\n",
    "tim_sort(A)\n",
    "print(f'{time.time() - timer} seconds')"
   ]
  },
  {
   "cell_type": "markdown",
   "metadata": {},
   "source": [
    "### Quick Sort"
   ]
  },
  {
   "cell_type": "code",
   "execution_count": 28,
   "metadata": {},
   "outputs": [
    {
     "name": "stdout",
     "output_type": "stream",
     "text": [
      "6 2 6 92 1 4654 132 63 213 7 234 23 9870 345 8 12 54\n",
      "[1, 2, 6, 6, 7, 8, 12, 23, 54, 63, 92, 132, 213, 234, 345, 4654, 9870]\n"
     ]
    }
   ],
   "source": [
    "def quick_sort(A, l, r):\n",
    "    if l >= r:\n",
    "        return A\n",
    "    m = partition(A, l, r)\n",
    "    quick_sort(A, l, m - 1)\n",
    "    quick_sort(A, m + 1, r)\n",
    "    return A\n",
    "\n",
    "def partition(A, l, r):\n",
    "    x = A[l]\n",
    "    j = l\n",
    "    for i in range(l + 1, r + 1):\n",
    "        if A[i] <= x:\n",
    "            j += 1\n",
    "            A[i], A[j] = A[j], A[i]\n",
    "    A[l], A[j] = A[j], A[l]    \n",
    "    return j\n",
    "\n",
    "if __name__ == '__main__':\n",
    "    A = list(map(int, input().split()))\n",
    "    l = 0\n",
    "    r = len(A) - 1\n",
    "    print(quick_sort(A, l, r))"
   ]
  },
  {
   "cell_type": "code",
   "execution_count": 29,
   "metadata": {},
   "outputs": [
    {
     "name": "stdout",
     "output_type": "stream",
     "text": [
      "4 1 6 8 2 8 23 76 123 76 23 12 9 34 2 4 78 1 32 6 33\n",
      "[1, 1, 2, 2, 4, 4, 6, 6, 8, 8, 9, 12, 23, 23, 32, 33, 34, 76, 76, 78, 123]\n"
     ]
    }
   ],
   "source": [
    "def quicksort(A):\n",
    "    if len(A) <= 1:\n",
    "        return A\n",
    "    pivot = A[0]\n",
    "    less = [x for x in A[1:] if x <= pivot]\n",
    "    greater = [x for x in A[1:] if x > pivot]\n",
    "    return quicksort(less) + [pivot] + quicksort(greater)\n",
    "\n",
    "A = list(map(int,input().split()))\n",
    "print(quicksort(A))"
   ]
  },
  {
   "cell_type": "code",
   "execution_count": 30,
   "metadata": {},
   "outputs": [
    {
     "name": "stdout",
     "output_type": "stream",
     "text": [
      "4 1 6 8 2 8 23 76 123 76 23 12 9 34 2 4 78 1 32 6 33\n",
      "[123, 78, 76, 76, 34, 33, 32, 23, 23, 12, 9, 8, 8, 6, 6, 4, 4, 2, 2, 1, 1]\n"
     ]
    }
   ],
   "source": [
    "def reversequicksort(A):\n",
    "    if len(A) <= 1:\n",
    "        return A\n",
    "    pivot = A[0]\n",
    "    less = [x for x in A[1:] if x <= pivot]\n",
    "    greater = [x for x in A[1:] if x > pivot]\n",
    "    return reversequicksort(greater) + [pivot] + reversequicksort(less)\n",
    "\n",
    "A = list(map(int,input().split()))\n",
    "print(reversequicksort(A))"
   ]
  },
  {
   "cell_type": "markdown",
   "metadata": {},
   "source": [
    "### Randomized Quick Sort"
   ]
  },
  {
   "cell_type": "code",
   "execution_count": 31,
   "metadata": {},
   "outputs": [
    {
     "name": "stdout",
     "output_type": "stream",
     "text": [
      "5 2 5 7 3 2 7 8 2 5 87 3 2 7 87 43 2 3 7 7 45 4 3\n",
      "[2, 2, 2, 2, 2, 3, 3, 3, 3, 4, 5, 5, 5, 7, 7, 7, 7, 7, 8, 43, 45, 87, 87]\n"
     ]
    }
   ],
   "source": [
    "from random import randint\n",
    "\n",
    "def randomized_quick_sort(A, l, r):\n",
    "    if l >= r:\n",
    "        return A\n",
    "    k = randint(l,r)\n",
    "    A[l], A[k] = A[k], A[l]\n",
    "    m = partition(A, l, r)\n",
    "    randomized_quick_sort(A, l, m - 1)\n",
    "    randomized_quick_sort(A, m + 1, r)\n",
    "    return A\n",
    "\n",
    "def partition(A, l, r):\n",
    "    x = A[l]\n",
    "    j = l\n",
    "    for i in range(l + 1, r + 1):\n",
    "        if A[i] <= x:\n",
    "            j += 1\n",
    "            A[i], A[j] = A[j], A[i]\n",
    "    A[l], A[j] = A[j], A[l]    \n",
    "    return j\n",
    "\n",
    "if __name__ == '__main__':\n",
    "    A = list(map(int, input().split()))\n",
    "    l = 0\n",
    "    r = len(A) - 1\n",
    "    print(quick_sort(A, l, r))"
   ]
  },
  {
   "cell_type": "markdown",
   "metadata": {},
   "source": [
    "### Improving Quick Sort\n",
    "Modify the given implementation of the QuickSort algorithm\n",
    "so that it works fast even on sequences containing\n",
    "many identical elements."
   ]
  },
  {
   "cell_type": "code",
   "execution_count": 32,
   "metadata": {},
   "outputs": [
    {
     "name": "stdout",
     "output_type": "stream",
     "text": [
      "10\n",
      "5 3 6 5 8 1 5 5 4 2\n",
      "1 2 3 4 5 5 5 5 6 8\n"
     ]
    }
   ],
   "source": [
    "from random import randint\n",
    "\n",
    "def partition3(A, l, r):\n",
    "    pivot = A[l]\n",
    "    part1 = l\n",
    "    part2 = l\n",
    "    for i in range(l + 1, r + 1):\n",
    "        if A[i] < pivot:\n",
    "            part1 += 1\n",
    "            part2 += 1\n",
    "            A[i], A[part2] = A[part2], A[i]\n",
    "            A[part2], A[part1] = A[part1], A[part2]\n",
    "        elif A[i] == pivot:\n",
    "            part2 += 1\n",
    "            A[i], A[part2] = A[part2], A[i]\n",
    "    A[l], A[part1] = A[part1], A[l]\n",
    "    return part1, part2\n",
    "\n",
    "def randomized_quick_sort(A, l, r):\n",
    "    if l >= r:\n",
    "        return\n",
    "    k = randint(l, r)\n",
    "    A[l], A[k] = A[k], A[l]\n",
    "    (m1, m2) = partition3(A, l, r)\n",
    "    randomized_quick_sort(A, l, m1 - 1)\n",
    "    randomized_quick_sort(A, m2 + 1, r)\n",
    "\n",
    "if __name__ == '__main__':\n",
    "    input_n = int(input())\n",
    "    elements = list(map(int, input().split()))\n",
    "    assert len(elements) == input_n\n",
    "    randomized_quick_sort(elements, 0, len(elements) - 1)\n",
    "    print(*elements)"
   ]
  },
  {
   "cell_type": "markdown",
   "metadata": {},
   "source": [
    "### Majority Element\n",
    "\n",
    "**Input.** A sequence of $n \\le 10^5$ integers.\n",
    "\n",
    "**Output.** 1, if there is an element \n",
    "that is repeated more than $n/2$ times, \n",
    "and 0 otherwise.\n",
    "\n",
    "As you might have already guessed, this problem can be solved by the divide-and-conquer algorithm in time $O(n\\log n)$. Indeed, if a sequence of length $n$ contains a majority element, then the same element is also a majority element for one of its halves. Thus, to solve this problem you first split a given sequence into halves and recursively solve it for each half. Do you see how to combine the results of two recursive calls?\n"
   ]
  },
  {
   "cell_type": "code",
   "execution_count": 33,
   "metadata": {},
   "outputs": [
    {
     "name": "stdout",
     "output_type": "stream",
     "text": [
      "15\n",
      "22 1 54 1 50 21 1 4 1 1 1 44 1 1 1\n",
      "1\n"
     ]
    }
   ],
   "source": [
    "def majority_element_naive(elements):\n",
    "    assert len(elements) <= 10 ** 5\n",
    "    for e in elements:\n",
    "        if elements.count(e) > len(elements) / 2:\n",
    "            return 1\n",
    "    return 0\n",
    "\n",
    "def majority_element(elements):\n",
    "    assert 1 <= len(elements) <= 10 ** 5\n",
    "    l = 0\n",
    "    r = len(elements) - 1\n",
    "    randomized_quick_sort(elements, l, r)\n",
    "    n = len(elements)\n",
    "    for i in range(0, (n+1)//2):\n",
    "        if elements[i] == elements[i + n//2]:\n",
    "            return 1\n",
    "    return 0\n",
    "\n",
    "if __name__ == '__main__':\n",
    "    input_n = int(input())\n",
    "    input_elements = list(map(int, input().split()))\n",
    "    assert len(input_elements) == input_n\n",
    "    print(majority_element(input_elements))"
   ]
  },
  {
   "cell_type": "code",
   "execution_count": 39,
   "metadata": {},
   "outputs": [],
   "source": [
    "import random\n",
    "import time\n",
    "\n",
    "def StressTest(N, M):\n",
    "    assert 1 <= N <= 10 ** 5\n",
    "    assert 0 <= M <= 10 ** 9\n",
    "    while True:\n",
    "        n = random.randint(1, N)\n",
    "        A = [random.randint(0, M) for i in range(0, n)]\n",
    "        print(A)\n",
    "        result1 = majority_element_naive(A)\n",
    "        result2 = majority_element(A)\n",
    "        if result1 == result2:\n",
    "            print('OK', 'result1, result2 = ', result1)\n",
    "        else:\n",
    "            print('Answer is wrong:', 'result1 = ', result1, 'result2 = ', result2)\n",
    "            break\n",
    "            \n",
    "def ComplexityTest(N, M):\n",
    "    assert 1 <= N <= 10 ** 5\n",
    "    assert 0 <= M <= 10 ** 9\n",
    "    A = [random.randint(0, M) for i in range(0, N)]\n",
    "    start_time = time.time()\n",
    "    print(majority_element(A))\n",
    "    print(\"--- %s seconds ---\" % (time.time() - start_time))"
   ]
  },
  {
   "cell_type": "markdown",
   "metadata": {},
   "source": [
    "    StressTest() passed for thousands of cases. So, algorithm works properly. Now, let's check the running time."
   ]
  },
  {
   "cell_type": "code",
   "execution_count": 38,
   "metadata": {},
   "outputs": [
    {
     "name": "stdout",
     "output_type": "stream",
     "text": [
      "0\n",
      "--- 4.678352117538452 seconds ---\n"
     ]
    }
   ],
   "source": [
    "ComplexityTest(20000, 100) # naive algorithm"
   ]
  },
  {
   "cell_type": "code",
   "execution_count": 40,
   "metadata": {},
   "outputs": [
    {
     "name": "stdout",
     "output_type": "stream",
     "text": [
      "0\n",
      "--- 0.26999926567077637 seconds ---\n"
     ]
    }
   ],
   "source": [
    "ComplexityTest(100000, 10000) # fast algorithm"
   ]
  },
  {
   "cell_type": "code",
   "execution_count": 41,
   "metadata": {},
   "outputs": [
    {
     "name": "stdout",
     "output_type": "stream",
     "text": [
      "0\n",
      "--- 0.03403782844543457 seconds ---\n"
     ]
    }
   ],
   "source": [
    "ComplexityTest(100000, 3) # fast algorithm"
   ]
  },
  {
   "cell_type": "markdown",
   "metadata": {},
   "source": [
    "Alternative solution that I have found earlier"
   ]
  },
  {
   "cell_type": "code",
   "execution_count": 42,
   "metadata": {},
   "outputs": [
    {
     "name": "stdout",
     "output_type": "stream",
     "text": [
      "7\n",
      "3 2 4 6 2 2 2\n",
      "1\n"
     ]
    }
   ],
   "source": [
    "def majority_element(elements):\n",
    "    assert len(elements) <= 10 ** 5\n",
    "    x = quick_sort(elements)\n",
    "    i = 0\n",
    "    output = 0\n",
    "    while i < int(len(x)/2):\n",
    "        if x[i] == x[i+int(len(x)/2)]:\n",
    "            output = 1\n",
    "            break\n",
    "        i += 1\n",
    "    return output\n",
    "\n",
    "def quick_sort(A):\n",
    "    if len(A) <= 1:\n",
    "        return A\n",
    "    i = 0        \n",
    "    for j in range(len(A)-1):\n",
    "        if A[j+1] <= A[0]:\n",
    "            A[i+1], A[j+1] = A[j+1], A[i+1]\n",
    "            i += 1\n",
    "    A[0], A[i] = A[i], A[0]\n",
    "    head = quick_sort(A[0:i])\n",
    "    head.append(A[i])\n",
    "    tail = quick_sort(A[i+1:])\n",
    "    return head + tail\n",
    "\n",
    "if __name__ == '__main__':\n",
    "    input_n = int(input())\n",
    "    input_elements = list(map(int, input().split()))\n",
    "    assert len(input_elements) == input_n\n",
    "    print(majority_element(input_elements))"
   ]
  },
  {
   "cell_type": "markdown",
   "metadata": {},
   "source": [
    "### Number of Inversions\n",
    "\n",
    "The number of inversions in a sequence measures how close the sequence is to being sorted. For example, a sequence sorted in the non-descending order contains no inversions, while a sequence sorted in the descending order contains $n(n-1)/2$ inversions (every two elements form an inversion).\n",
    "\n",
    "A naive algorithm for the Number of Inversions Problem goes through all possible pairs $(i,j)$ and has running time $O(n^2)$. To solve this problem in time $O(n\\log n)$ using the divide-and-conquer technique split the input array\n",
    "into two halves and make a recursive call on both halves. What remains to be done is computing the number of inversions formed by two elements from different halves. If we do this naively, this will bring us back to $O(n^2)$ running time, since the total number of such pairs is $\\frac{n}{2} \\cdot \\frac{n}{2}=\\frac{n^2}{4}=O(n^2)$. It turns out that one can compute the number of inversions formed by two elements from different halves in time $O(n)$, if both halves are already sorted. This suggest that instead of solving the original problem we solve a more general problem: compute the number of inversions in the given array and sort it at the same time.\n",
    "\n",
    "Compute the number of inversions in \n",
    "a sequence of length at most $30000$.\n"
   ]
  },
  {
   "cell_type": "code",
   "execution_count": 43,
   "metadata": {},
   "outputs": [
    {
     "name": "stdout",
     "output_type": "stream",
     "text": [
      "8 7 6 1 5 4 3 2\n",
      "24\n"
     ]
    }
   ],
   "source": [
    "from itertools import combinations\n",
    "\n",
    "def compute_inversions_naive(a):\n",
    "    number_of_inversions = 0\n",
    "    for i, j in combinations(range(len(a)), 2):\n",
    "        if a[i] > a[j]:\n",
    "            number_of_inversions += 1\n",
    "    return number_of_inversions\n",
    "\n",
    "def merge_sort(A):\n",
    "    if len(A) == 1:\n",
    "        return A\n",
    "    mid = len(A) // 2\n",
    "    B = merge_sort(A[:mid])\n",
    "    C = merge_sort(A[mid:])\n",
    "    A_new = merge(B, C)\n",
    "    return A_new\n",
    "\n",
    "def merge(B, C):\n",
    "    global count\n",
    "    D = []\n",
    "    while len(B) != 0 and len(C) != 0:\n",
    "        b = B[0]\n",
    "        c = C[0]\n",
    "        if b <= c:\n",
    "            D.append(b)\n",
    "            B = B[1:]\n",
    "        else:\n",
    "            count += len(B)\n",
    "            D.append(c)\n",
    "            C = C[1:]\n",
    "    D = D + B + C\n",
    "    return D\n",
    "\n",
    "def compute_inversions(a):\n",
    "    assert len(a) <= 300000\n",
    "    global count\n",
    "    count = 0\n",
    "    merge_sort(a)\n",
    "    return count\n",
    "\n",
    "if __name__ == '__main__':\n",
    "    elements = list(map(int, input().split()))\n",
    "    print(compute_inversions(elements))"
   ]
  },
  {
   "cell_type": "code",
   "execution_count": 58,
   "metadata": {},
   "outputs": [],
   "source": [
    "import random\n",
    "import time\n",
    "\n",
    "def StressTest(N, M):\n",
    "    assert 1 <= N <= 3 * 10**4\n",
    "    assert 1 <= M <= 10 ** 9\n",
    "    while True:\n",
    "        n = random.randint(1, N)\n",
    "        A = [random.randint(1, M) for i in range(0, n)]\n",
    "        print(A)\n",
    "        result1 = compute_inversions_naive(A)\n",
    "        result2 = compute_inversions(A)\n",
    "        if result1 == result2:\n",
    "            print('OK', 'result1, result2 = ', result1)\n",
    "        else:\n",
    "            print('Answer is wrong:', 'result1 = ', result1, 'result2 = ', result2)\n",
    "            break\n",
    "            \n",
    "def ComplexityTest(N, M):\n",
    "    assert 1 <= N <= 3 * 10**4\n",
    "    assert 1 <= M <= 10 ** 9\n",
    "    A = [random.randint(0, M) for i in range(0, N)]\n",
    "    start_time = time.time()\n",
    "    print(compute_inversions(A))\n",
    "    print(\"--- %s seconds ---\" % (time.time() - start_time))"
   ]
  },
  {
   "cell_type": "markdown",
   "metadata": {},
   "source": [
    "    StressTest() passed for thousands of cases. So, algorithm works properly. Now, let's check the running time."
   ]
  },
  {
   "cell_type": "code",
   "execution_count": 57,
   "metadata": {},
   "outputs": [
    {
     "name": "stdout",
     "output_type": "stream",
     "text": [
      "56469942\n",
      "--- 7.137564659118652 seconds ---\n"
     ]
    }
   ],
   "source": [
    "ComplexityTest(15000, 10000) # naive algorithm"
   ]
  },
  {
   "cell_type": "code",
   "execution_count": 52,
   "metadata": {},
   "outputs": [
    {
     "name": "stdout",
     "output_type": "stream",
     "text": [
      "169120397\n",
      "--- 1.3043622970581055 seconds ---\n"
     ]
    }
   ],
   "source": [
    "ComplexityTest(30000, 3) # fast algorithm"
   ]
  },
  {
   "cell_type": "code",
   "execution_count": 53,
   "metadata": {},
   "outputs": [
    {
     "name": "stdout",
     "output_type": "stream",
     "text": [
      "225029063\n",
      "--- 1.3614192008972168 seconds ---\n"
     ]
    }
   ],
   "source": [
    "ComplexityTest(30000, 100000000) # fast algorithm"
   ]
  },
  {
   "cell_type": "markdown",
   "metadata": {},
   "source": [
    "### Organizing Lottery\n",
    "You are organizing an online lottery. To participate, a person bets on a single integer. You then draw several segments of consecutive integers at random. A participant’s payoff is proportional to the number of segments that contain the participant’s number. You need an efficient algorithm for computing the payoffs for all participants. A simple scan of the list of all ranges for each participant is too slow since your lottery is very popular: you have thousands of participants and thousands of ranges.\n",
    "\n",
    "\n",
    "**Input:** A list of $n \\le 50000$ segments and \n",
    "a list of $m \\le 50000$ points.\n",
    "\n",
    "**Output:** The number of segments \n",
    "containing each point.\n"
   ]
  },
  {
   "cell_type": "code",
   "execution_count": 59,
   "metadata": {},
   "outputs": [],
   "source": [
    "def points_cover_naive(starts, ends, points):\n",
    "    assert len(starts) == len(ends)\n",
    "    count = [0] * len(points)\n",
    "    for index, point in enumerate(points):\n",
    "        for start, end in zip(starts, ends):\n",
    "            if start > end:\n",
    "                start, end = end, start\n",
    "            if start <= point <= end:\n",
    "                count[index] += 1\n",
    "    return count"
   ]
  },
  {
   "cell_type": "code",
   "execution_count": 70,
   "metadata": {},
   "outputs": [
    {
     "name": "stdout",
     "output_type": "stream",
     "text": [
      "9 9 10 12 1 3 8 10 7 11 10 12 4 5 2 15 9 16 2 7 4 1 6 7 13 8 3 10\n",
      "points: [4, 1, 6, 7, 13, 8, 3, 10]\n",
      "counts: [3, 1, 2, 3, 2, 3, 3, 6]\n"
     ]
    }
   ],
   "source": [
    "def points_cover(starts, ends, points):\n",
    "    assert len(starts) == len(ends)\n",
    "    pair = []\n",
    "    for i in range(len(starts)):\n",
    "        if starts[i] <= ends[i]:\n",
    "            pair.append((starts[i], 'left'))\n",
    "            pair.append((ends[i], 'right'))\n",
    "        else:\n",
    "            pair.append((ends[i], 'left'))     \n",
    "            pair.append((starts[i], 'right'))\n",
    "    for j in range(len(points)):\n",
    "        pair.append((points[j], 'point'))\n",
    "    pair.sort()\n",
    "    result_dictionary = {}\n",
    "    count_left = 0\n",
    "    count_right = 0\n",
    "    for k in pair:\n",
    "        if k[1] == 'left':\n",
    "            count_left += 1\n",
    "        elif k[1] == 'right':\n",
    "            count_right += 1\n",
    "        else:\n",
    "            result_dictionary[f'point {k[0]}'] = count_left - count_right\n",
    "    # print(result_dictionary)\n",
    "    final_result = []\n",
    "    for z in points:\n",
    "        final_result.append(result_dictionary[f'point {z}'])\n",
    "    print(f'points: {points}')\n",
    "    return final_result\n",
    "\n",
    "if __name__ == '__main__':\n",
    "    data = list(map(int, input().split()))\n",
    "    n, m = data[0], data[1]\n",
    "    input_starts, input_ends = data[2:2 * n + 2:2], data[3:2 * n + 2:2]\n",
    "    input_points = data[2 * n + 2:]\n",
    "\n",
    "    output_count = points_cover(input_starts, input_ends, input_points)\n",
    "    print(f'counts: {output_count}')"
   ]
  },
  {
   "cell_type": "code",
   "execution_count": 66,
   "metadata": {},
   "outputs": [],
   "source": [
    "import random\n",
    "import time\n",
    "\n",
    "def StressTest(N, M, L):\n",
    "    assert 1 <= N <= 5 * 10**4\n",
    "    assert 1 <= M <= 5 * 10**4\n",
    "    assert 0 <= L <= 10**8\n",
    "    while True:\n",
    "        n = random.randint(1, N)\n",
    "        m = random.randint(1, M)\n",
    "        A = [random.randint(0, L) for i in range(0, n)]\n",
    "        B = [random.randint(0, L) for i in range(0, n)]\n",
    "        C = [random.randint(0, L) for i in range(0, m)]\n",
    "        print(A)\n",
    "        print(B)\n",
    "        print(C)\n",
    "        result1 = points_cover_naive(A, B, C)\n",
    "        result2 = points_cover(A, B, C)\n",
    "        if result1 == result2:\n",
    "            print('OK', 'result1, result2 = ', result1)\n",
    "        else:\n",
    "            print('Answer is wrong:', 'result1 = ', result1, 'result2 = ', result2)\n",
    "            break\n",
    "            \n",
    "def ComplexityTest(N, M, L):\n",
    "    assert 1 <= N <= 5 * 10**4\n",
    "    assert 1 <= M <= 5 * 10**4\n",
    "    assert 0 <= L <= 10**8\n",
    "    A = [random.randint(0, L) for i in range(0, N)]\n",
    "    B = [random.randint(0, L) for i in range(0, N)]\n",
    "    C = [random.randint(0, L) for i in range(0, M)]\n",
    "    start_time = time.time()\n",
    "    points_cover(A, B, C)\n",
    "    print(\"--- %s seconds ---\" % (time.time() - start_time))"
   ]
  },
  {
   "cell_type": "markdown",
   "metadata": {},
   "source": [
    "    StressTest() passed for thousands of cases. So, algorithm works properly. Now, let's check the running time."
   ]
  },
  {
   "cell_type": "code",
   "execution_count": 65,
   "metadata": {},
   "outputs": [
    {
     "name": "stdout",
     "output_type": "stream",
     "text": [
      "--- 4.31504487991333 seconds ---\n"
     ]
    }
   ],
   "source": [
    "ComplexityTest(50000, 1000, 1000) # naive algorithm"
   ]
  },
  {
   "cell_type": "code",
   "execution_count": 69,
   "metadata": {},
   "outputs": [
    {
     "name": "stdout",
     "output_type": "stream",
     "text": [
      "--- 0.14800143241882324 seconds ---\n"
     ]
    }
   ],
   "source": [
    "ComplexityTest(50000, 50000, 1000000) # fast algorithm"
   ]
  },
  {
   "cell_type": "markdown",
   "metadata": {},
   "source": [
    "### Closest Points\n",
    "Find the closest pair of points in a set of $n \\le 10^5$ \n",
    "points on a plane.\n"
   ]
  },
  {
   "cell_type": "code",
   "execution_count": 71,
   "metadata": {},
   "outputs": [
    {
     "name": "stdout",
     "output_type": "stream",
     "text": [
      "2\n",
      "1 3\n",
      "2 4\n",
      "1.414213562\n"
     ]
    }
   ],
   "source": [
    "from collections import namedtuple\n",
    "from itertools import combinations\n",
    "from math import sqrt\n",
    "\n",
    "Point = namedtuple('Point', 'x y')\n",
    "\n",
    "def distance_squared(first_point, second_point):\n",
    "    return (first_point.x - second_point.x) ** 2 + (first_point.y - second_point.y) ** 2\n",
    "\n",
    "def minimum_distance_squared_naive(points):\n",
    "    min_distance_squared = float(\"inf\")\n",
    "    for p, q in combinations(points, 2):\n",
    "        min_distance_squared = min(min_distance_squared,\n",
    "                                   distance_squared(p, q))\n",
    "    return min_distance_squared\n",
    "\n",
    "if __name__ == '__main__':\n",
    "    input_n = int(input())\n",
    "    input_points = []\n",
    "    for _ in range(input_n):\n",
    "        x, y = map(int, input().split())\n",
    "        input_point = Point(x, y)\n",
    "        input_points.append(input_point)\n",
    "    print(\"{0:.9f}\".format(sqrt(minimum_distance_squared_naive(input_points))))"
   ]
  },
  {
   "cell_type": "code",
   "execution_count": 72,
   "metadata": {},
   "outputs": [],
   "source": [
    "from itertools import combinations\n",
    "import random\n",
    "import time\n",
    "\n",
    "def minimum_distance_squared_naive(points):\n",
    "    min_distance_squared = float(\"inf\")\n",
    "    for p, q in combinations(points, 2):\n",
    "        min_distance_squared = min(min_distance_squared, distance_calculator(p, q))\n",
    "    return min_distance_squared\n",
    "\n",
    "def partition3(A, l, r):\n",
    "    pivot = A[l]\n",
    "    part1 = l\n",
    "    part2 = l\n",
    "    for i in range(l + 1, r + 1):\n",
    "        if A[i] < pivot:\n",
    "            part1 += 1\n",
    "            part2 += 1\n",
    "            A[i], A[part2] = A[part2], A[i]\n",
    "            A[part2], A[part1] = A[part1], A[part2]\n",
    "        elif A[i] == pivot:\n",
    "            part2 += 1\n",
    "            A[i], A[part2] = A[part2], A[i]\n",
    "    A[l], A[part1] = A[part1], A[l]\n",
    "    return part1, part2\n",
    "\n",
    "def randomized_quick_sort(A, l, r):\n",
    "    if l >= r:\n",
    "        return\n",
    "    k = random.randint(l, r)\n",
    "    A[l], A[k] = A[k], A[l]\n",
    "    (m1, m2) = partition3(A, l, r)\n",
    "    randomized_quick_sort(A, l, m1 - 1)\n",
    "    randomized_quick_sort(A, m2 + 1, r)\n",
    "\n",
    "def distance_calculator(first, second):\n",
    "    return ((first[0] - second[0]) ** 2 + (first[1] - second[1]) ** 2) ** 0.5\n",
    "\n",
    "def minimum_left_right(A):\n",
    "    minimum = float('inf')\n",
    "    #print(A)\n",
    "    if len(A) == 3:\n",
    "        if distance_calculator(A[0], A[1]) <= distance_calculator(A[0], A[2]):\n",
    "            A = A[0:2] + A[1:]\n",
    "        else:\n",
    "            A = A[0::2] + A[1:]\n",
    "    if len(A) == 2:\n",
    "        minimum = min(minimum, distance_calculator(A[0], A[1]))\n",
    "        #print('minimum', minimum)\n",
    "        return minimum\n",
    "    mid = len(A) // 2\n",
    "    X = minimum_left_right(A[:mid])\n",
    "    Y = minimum_left_right(A[mid:])\n",
    "    d = min(X, Y)\n",
    "    V = final_test(quicksort(filter_mid(A[:mid], int(d))))\n",
    "    W = final_test(quicksort(filter_mid(A[mid:], int(d))))\n",
    "    d_mid = min(V, W)\n",
    "    return min(d, d_mid)\n",
    "\n",
    "def filter_mid(A, d):\n",
    "    mid = len(A) // 2\n",
    "    P = []\n",
    "    for i in range(len(A)):\n",
    "        if abs(A[mid][0] - A[i][0]) <= int(d):\n",
    "            P.append(A[i])\n",
    "    return P\n",
    "\n",
    "def quicksort(A):\n",
    "    if len(A) <= 1:\n",
    "        return A\n",
    "    pivot = A[0]\n",
    "    less = [y for y in A[1:] if y[1] < pivot[1]]\n",
    "    greater = [y for y in A[1:] if y[1] >= pivot[1]]\n",
    "    return quicksort(less) + [pivot] + quicksort(greater)\n",
    "\n",
    "def final_test(A):\n",
    "    d_prime = float('inf')\n",
    "    for i in range(len(A)):\n",
    "        for j in range(i + 1, len(A)):\n",
    "            if abs(i - j) < 7:\n",
    "                d_prime = min(d_prime, distance_calculator(A[i], A[j]))\n",
    "            else:\n",
    "                break\n",
    "        #print('d_prime', d_prime)\n",
    "    return d_prime\n",
    "\n",
    "def zero_check(A):\n",
    "    for i in range(len(A) - 1):\n",
    "        if A[i] == A[i + 1]:\n",
    "            return distance_calculator(A[i], A[i + 1])\n",
    "        \n",
    "def minimum_distance_squared(points):\n",
    "    assert 2 <= len(points) <= 10 ** 5\n",
    "    l = 0\n",
    "    r = len(points) - 1\n",
    "    randomized_quick_sort(points, l, r)\n",
    "    #print('Points sorted by x-axis: ', points)\n",
    "    if zero_check(points) == 0:\n",
    "        return zero_check(points)\n",
    "    distance = minimum_left_right(points)\n",
    "    #print('Minimum distance between points in right-hand side and left-hand side: ', distance)\n",
    "    mid_points = filter_mid(points, distance)\n",
    "    #print('Points locating in middle part: ', mid_points)\n",
    "    sort_y = quicksort(mid_points)\n",
    "    #print('Middle part sorted by y-axis: ', sort_y)\n",
    "    mid_distance = final_test(sort_y)\n",
    "    #print('Minimum distance between points in middle part: ', mid_distance)\n",
    "    minimum = min(distance, mid_distance)\n",
    "    #print('Distance between closest points: ', minimum)\n",
    "    return minimum\n",
    "\n",
    "def StressTest(N, M):\n",
    "    assert 2 <= N <= 100\n",
    "    assert 0 <= M <= 10**9\n",
    "    while True:\n",
    "        n = random.randint(2, N)\n",
    "        A = [[random.randint(0, M), random.randint(0, M)] for i in range(0, n)]\n",
    "        print(A)\n",
    "        result1 = minimum_distance_squared_naive(A)\n",
    "        result2 = minimum_distance_squared(A)\n",
    "        if result1 == result2:\n",
    "            print('OK', 'result1, result2 = ', result1)\n",
    "        else:\n",
    "            print('Answer is wrong:', 'result1 = ', result1, 'result2 = ', result2)\n",
    "            break\n",
    "\n",
    "def ComplexityTest(N, M):\n",
    "    assert 2 <= N <= 10**5\n",
    "    assert 0 <= M <= 10**9\n",
    "    A = [[random.randint(-M, M), random.randint(-M, M)] for i in range(0, N)]\n",
    "    start_time = time.time()\n",
    "    print(minimum_distance_squared(A))\n",
    "    print(\"--- %s seconds ---\" % (time.time() - start_time))"
   ]
  },
  {
   "cell_type": "markdown",
   "metadata": {},
   "source": [
    "    StressTest() passed for thousands of cases. So, algorithm works properly. Now, let's check the running time."
   ]
  },
  {
   "cell_type": "code",
   "execution_count": 73,
   "metadata": {},
   "outputs": [
    {
     "name": "stdout",
     "output_type": "stream",
     "text": [
      "0.0\n",
      "--- 0.06249856948852539 seconds ---\n"
     ]
    }
   ],
   "source": [
    "ComplexityTest(10**5, 1)"
   ]
  },
  {
   "cell_type": "code",
   "execution_count": 74,
   "metadata": {},
   "outputs": [
    {
     "name": "stdout",
     "output_type": "stream",
     "text": [
      "0.0\n",
      "--- 0.5860023498535156 seconds ---\n"
     ]
    }
   ],
   "source": [
    "ComplexityTest(10**5, 10000)"
   ]
  },
  {
   "cell_type": "code",
   "execution_count": 75,
   "metadata": {},
   "outputs": [
    {
     "name": "stdout",
     "output_type": "stream",
     "text": [
      "25.942243542145693\n",
      "--- 4.537418365478516 seconds ---\n"
     ]
    }
   ],
   "source": [
    "ComplexityTest(10**5, 1000000)"
   ]
  },
  {
   "cell_type": "code",
   "execution_count": 76,
   "metadata": {},
   "outputs": [
    {
     "name": "stdout",
     "output_type": "stream",
     "text": [
      "17735.4699120153\n",
      "--- 4.6439995765686035 seconds ---\n"
     ]
    }
   ],
   "source": [
    "ComplexityTest(10**5, 1000000000)"
   ]
  },
  {
   "cell_type": "code",
   "execution_count": 77,
   "metadata": {},
   "outputs": [
    {
     "name": "stdout",
     "output_type": "stream",
     "text": [
      "99.50376877284599\n",
      "--- 4.63518214225769 seconds ---\n"
     ]
    }
   ],
   "source": [
    "ComplexityTest(10**5, 10000000)"
   ]
  },
  {
   "cell_type": "code",
   "execution_count": 78,
   "metadata": {},
   "outputs": [
    {
     "name": "stdout",
     "output_type": "stream",
     "text": [
      "0.0\n",
      "--- 0.4359917640686035 seconds ---\n"
     ]
    }
   ],
   "source": [
    "ComplexityTest(10**5, 100)"
   ]
  },
  {
   "cell_type": "markdown",
   "metadata": {},
   "source": [
    "Personal Note:\n",
    "       \n",
    "       It seems that the running time of the algorithm is always less than 5 seconds.\n",
    "       It is satisfactory for the task but it can change due to the RAM of the PC.\n",
    "       Since it is around 5 seconds, for less powerful PCs, running time will increase.\n",
    "       In the algorithm I designed above, the complexity must be O(n*(logn)^2).\n",
    "       However, I guess it is O(n*(logn)^m) where m > 2 in my algorithm. But I haven't found what part causes m to increase.\n",
    "       \n",
    "       Below is another algorithm I found from the internet, which is working in O(n*(logn)^2).\n",
    "       It looks like my algorithm, the logic is the same, but I don't know why running times are different."
   ]
  },
  {
   "cell_type": "code",
   "execution_count": 79,
   "metadata": {},
   "outputs": [],
   "source": [
    "import math\n",
    "import copy\n",
    "class Point():\n",
    "    def __init__(self, x, y):\n",
    "        self.x = x\n",
    "        self.y = y\n",
    "def dist(p1, p2):\n",
    "    return math.sqrt((p1.x - p2.x) * (p1.x - p2.x) + (p1.y - p2.y) * (p1.y - p2.y))\n",
    "def bruteForce(P, n):\n",
    "    min_val = float('inf')\n",
    "    for i in range(n):\n",
    "        for j in range(i + 1, n):\n",
    "            if dist(P[i], P[j]) < min_val:\n",
    "                min_val = dist(P[i], P[j])\n",
    "    return min_val\n",
    "def stripClosest(strip, size, d):\n",
    "    min_val = d\n",
    "    for i in range(size):\n",
    "        j = i + 1\n",
    "        while j < size and (strip[j].y - strip[i].y) < min_val:\n",
    "            min_val = dist(strip[i], strip[j])\n",
    "            j += 1\n",
    "    return min_val\n",
    "def closestUtil(P, Q, n):\n",
    "    if n <= 3:\n",
    "        return bruteForce(P, n)\n",
    "    mid = n // 2\n",
    "    midPoint = P[mid]\n",
    "    Pl = P[:mid]\n",
    "    Pr = P[mid:]\n",
    "    dl = closestUtil(Pl, Q, mid)\n",
    "    dr = closestUtil(Pr, Q, n - mid)\n",
    "    d = min(dl, dr)\n",
    "    stripP = []\n",
    "    stripQ = []\n",
    "    lr = Pl + Pr\n",
    "    for i in range(n):\n",
    "        if abs(lr[i].x - midPoint.x) < d:\n",
    "            stripP.append(lr[i])\n",
    "        if abs(Q[i].x - midPoint.x) < d:\n",
    "            stripQ.append(Q[i])\n",
    "    stripP.sort(key = lambda point: point.y)\n",
    "    min_a = min(d, stripClosest(stripP, len(stripP), d))\n",
    "    min_b = min(d, stripClosest(stripQ, len(stripQ), d))\n",
    "    return min(min_a,min_b)\n",
    "def closest(P, n):\n",
    "    P.sort(key = lambda point: point.x)\n",
    "    Q = copy.deepcopy(P)\n",
    "    Q.sort(key = lambda point: point.y)   \n",
    "    return closestUtil(P, Q, n)"
   ]
  },
  {
   "cell_type": "code",
   "execution_count": 80,
   "metadata": {},
   "outputs": [
    {
     "name": "stdout",
     "output_type": "stream",
     "text": [
      "2.0286169052124023 seconds\n"
     ]
    }
   ],
   "source": [
    "import random\n",
    "import time\n",
    "P = []\n",
    "for i in range(100000):\n",
    "    P.append(Point(random.randint(0,100000000), random.randint(0,100000000)))\n",
    "n = len(P)\n",
    "s = time.time()\n",
    "x = closest(P, n)\n",
    "print(time.time() - s,'seconds')"
   ]
  }
 ],
 "metadata": {
  "kernelspec": {
   "display_name": "Python 3",
   "language": "python",
   "name": "python3"
  },
  "language_info": {
   "codemirror_mode": {
    "name": "ipython",
    "version": 3
   },
   "file_extension": ".py",
   "mimetype": "text/x-python",
   "name": "python",
   "nbconvert_exporter": "python",
   "pygments_lexer": "ipython3",
   "version": "3.7.3"
  }
 },
 "nbformat": 4,
 "nbformat_minor": 2
}
