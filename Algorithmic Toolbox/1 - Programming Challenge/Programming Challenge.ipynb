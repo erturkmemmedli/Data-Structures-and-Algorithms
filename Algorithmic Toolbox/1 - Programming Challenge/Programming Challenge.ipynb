{
 "cells": [
  {
   "cell_type": "markdown",
   "metadata": {},
   "source": [
    "## Programming Challenge"
   ]
  },
  {
   "cell_type": "markdown",
   "metadata": {},
   "source": [
    "\n",
    "### Sum of Two Digits\n",
    "\n",
    "Implement the `sum_of_two_digits` function that takes two digits (that is,\n",
    "integers in the range from 0 to 9) and returns the sum of these two digits.\n",
    "\n",
    "We start from this ridiculously simple problem to show you the\n",
    "pipeline of designing an algorithm,\n",
    "implementing it, testing and debugging your program, and\n",
    "submitting it to the grading system."
   ]
  },
  {
   "cell_type": "code",
   "execution_count": 1,
   "metadata": {},
   "outputs": [
    {
     "name": "stdout",
     "output_type": "stream",
     "text": [
      "4 6\n",
      "10\n"
     ]
    }
   ],
   "source": [
    "def sum_of_two_digits(first_digit, second_digit):\n",
    "    assert 0 <= first_digit <= 9 and 0 <= second_digit <= 9\n",
    "    return first_digit + second_digit\n",
    "\n",
    "if __name__ == '__main__':\n",
    "    a, b = map(int, input().split())\n",
    "    print(sum_of_two_digits(a, b))"
   ]
  },
  {
   "cell_type": "markdown",
   "metadata": {},
   "source": [
    "##### Notes: \n",
    "    1) When testing over the constraints (boundaries), change \"assert\" statements to a comment.\n",
    "    2) In ComplexityTest, change the relevant function (naive and fast) and perform the test."
   ]
  },
  {
   "cell_type": "markdown",
   "metadata": {},
   "source": [
    "### Maximum Pairwise Product\n",
    "\n",
    "Given a list $A$ of non-negative integers, find\n",
    "the maximum product of two distinct elements (that is,\n",
    "the maximum value of $A[i] \\cdot A[j]$ where $i \\neq j$;\n",
    "note that it may be the case that $A[i]=A[j]$).\n",
    "The length of $A$ is at least 2 and at most $2 \\cdot 10^5$,\n",
    "all elements are non-negative and do not exceed\n",
    "$2\\cdot 10^5$.\n"
   ]
  },
  {
   "cell_type": "code",
   "execution_count": 9,
   "metadata": {},
   "outputs": [],
   "source": [
    "def max_pairwise_product_naive(numbers):\n",
    "    assert 2 <= len(numbers) <= 2 * 10 ** 5\n",
    "    assert all(0 <= x <= 2 * 10 ** 5 for x in numbers)\n",
    "    product = 0\n",
    "    for i in range(len(numbers)):\n",
    "        for j in range(i + 1, len(numbers)):\n",
    "            product = max(product, numbers[i] * numbers[j])\n",
    "    return product\n",
    "\n",
    "'''\n",
    "if __name__ == '__main__':\n",
    "    n = int(input())\n",
    "    input_numbers = list(map(int, input().split()))\n",
    "    assert len(input_numbers) == n\n",
    "    print(max_pairwise_product_v1(input_numbers))\n",
    "'''\n",
    "\n",
    "def max_pairwise_product_v1(numbers):\n",
    "    assert 2 <= len(numbers) <= 2 * 10 ** 6\n",
    "    assert all(0 <= x <= 2 * 10 ** 6 for x in numbers)\n",
    "    sorted_numbers = sorted(numbers, reverse = True)\n",
    "    return sorted_numbers[0] * sorted_numbers[1]\n",
    "\n",
    "def max_pairwise_product_v2(numbers):\n",
    "    assert 2 <= len(numbers) <= 2 * 10 ** 6\n",
    "    assert all(0 <= x <= 2 * 10 ** 6 for x in numbers)\n",
    "    index1 = 0\n",
    "    for i in range(len(numbers)):\n",
    "        if numbers[i] > numbers[index1]:\n",
    "            index1 = i\n",
    "    index2 = 0\n",
    "    if index1 == 0:\n",
    "        index2 = 1\n",
    "    for j in range(len(numbers)):\n",
    "        if numbers[j] > numbers[index2] and j != index1:\n",
    "            index2 = j\n",
    "    return numbers[index1] * numbers[index2]\n",
    "\n",
    "def max_pairwise_product_v3(A):\n",
    "    assert 2 <= len(A) <= 2 * 10 ** 6\n",
    "    assert all(0 <= x <= 2 * 10 ** 6 for x in A)\n",
    "    if len(A) == 2:\n",
    "        return A[0] * A[1]\n",
    "    max1 = 0\n",
    "    max2 = 0\n",
    "    for i in range(len(A)):\n",
    "        if A[i] > max1:\n",
    "            max2 = max1\n",
    "            max1 = A[i]\n",
    "        elif A[i] > max2:\n",
    "            max2 = A[i]\n",
    "    return max1 * max2"
   ]
  },
  {
   "cell_type": "code",
   "execution_count": 20,
   "metadata": {},
   "outputs": [],
   "source": [
    "import random\n",
    "import time\n",
    "\n",
    "def StressTest(N, M):\n",
    "    assert 2 <= N <= 100\n",
    "    assert 0 <= M <= 10**9\n",
    "    while True:\n",
    "        n = random.randint(2, N)\n",
    "        A = [random.randint(0, M) for i in range(0, n)]\n",
    "        print(A)\n",
    "        result1 = max_pairwise_product_naive(A)\n",
    "        result2 = max_pairwise_product_v3(A)\n",
    "        if result1 == result2:\n",
    "            print('OK', 'result1, result2 = ', result1)\n",
    "        else:\n",
    "            print('Answer is wrong:', 'result1 = ', result1, 'result2 = ', result2)\n",
    "            break\n",
    "            \n",
    "def ComplexityTest(N, M):\n",
    "    assert 2 <= N <= 2 * 10**6\n",
    "    assert 0 <= M <= 2 * 10**6\n",
    "    A = [random.randint(0, M) for i in range(0, N)]\n",
    "    start_time = time.time()\n",
    "    print(max_pairwise_product_v3(A))\n",
    "    print(\"--- %s seconds ---\" % (time.time() - start_time))"
   ]
  },
  {
   "cell_type": "markdown",
   "metadata": {},
   "source": [
    "    StressTest() passed for thousands of cases. So, algorithm works properly. Now, let's check the running time."
   ]
  },
  {
   "cell_type": "code",
   "execution_count": 17,
   "metadata": {},
   "outputs": [
    {
     "name": "stdout",
     "output_type": "stream",
     "text": [
      "4000000000000\n",
      "--- 0.664886474609375 seconds ---\n"
     ]
    }
   ],
   "source": [
    "ComplexityTest(2 * 10**6, 2 * 10**6) # version 1 - O(nlog(n))"
   ]
  },
  {
   "cell_type": "code",
   "execution_count": 19,
   "metadata": {},
   "outputs": [
    {
     "name": "stdout",
     "output_type": "stream",
     "text": [
      "3999992000000\n",
      "--- 0.2923550605773926 seconds ---\n"
     ]
    }
   ],
   "source": [
    "ComplexityTest(2 * 10**6, 2 * 10**6) # version 2 - O(2n)"
   ]
  },
  {
   "cell_type": "code",
   "execution_count": 21,
   "metadata": {},
   "outputs": [
    {
     "name": "stdout",
     "output_type": "stream",
     "text": [
      "4000000000000\n",
      "--- 0.22200417518615723 seconds ---\n"
     ]
    }
   ],
   "source": [
    "ComplexityTest(2 * 10**6, 2 * 10**6) # version 3 - O(n + log(n))"
   ]
  }
 ],
 "metadata": {
  "kernelspec": {
   "display_name": "Python 3",
   "language": "python",
   "name": "python3"
  },
  "language_info": {
   "codemirror_mode": {
    "name": "ipython",
    "version": 3
   },
   "file_extension": ".py",
   "mimetype": "text/x-python",
   "name": "python",
   "nbconvert_exporter": "python",
   "pygments_lexer": "ipython3",
   "version": "3.7.3"
  }
 },
 "nbformat": 4,
 "nbformat_minor": 2
}
