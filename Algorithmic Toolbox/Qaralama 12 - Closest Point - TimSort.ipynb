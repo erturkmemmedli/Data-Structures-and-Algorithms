{
 "cells": [
  {
   "cell_type": "code",
   "execution_count": 280,
   "metadata": {},
   "outputs": [],
   "source": [
    "def minimum_distance_squared_naive(points):\n",
    "    min_distance_squared = float(\"inf\")\n",
    "    for p, q in combinations(points, 2):\n",
    "        min_distance_squared = min(min_distance_squared,\n",
    "                                   distance_calculator(p, q))\n",
    "    return min_distance_squared\n",
    "def quicksort(A):\n",
    "    if len(A) <= 1:\n",
    "        return A\n",
    "    pivot = A[0]\n",
    "    less = [x for x in A[1:] if x < pivot]\n",
    "    greater = [x for x in A[1:] if x >= pivot]\n",
    "    return quicksort(less) + [pivot] + quicksort(greater)\n",
    "def distance_calculator(first, second):\n",
    "    return ((first[0] - second[0]) ** 2 + (first[1] - second[1]) ** 2) ** 0.5\n",
    "def minimum_left_right(A):\n",
    "    minimum = float('inf')\n",
    "    #print(A)\n",
    "    if len(A) == 3:\n",
    "        if distance_calculator(A[0], A[1]) <= distance_calculator(A[0], A[2]):\n",
    "            A = A[0:2] + A[1:]\n",
    "        else:\n",
    "            A = A[0::2] + A[1:]\n",
    "    if len(A) == 2:\n",
    "        minimum = min(minimum, distance_calculator(A[0], A[1]))\n",
    "        #print('minimum', minimum)\n",
    "        return minimum\n",
    "    mid = len(A) // 2\n",
    "    X = minimum_left_right(A[:mid])\n",
    "    Y = minimum_left_right(A[mid:])\n",
    "    d = min(X, Y)\n",
    "    V = final_test(quicksort_y(filter_mid(A[:mid], int(d))))\n",
    "    W = final_test(quicksort_y(filter_mid(A[mid:], int(d))))\n",
    "    d_mid = min(V, W)\n",
    "    return min(d, d_mid)\n",
    "def filter_mid(A, d):\n",
    "    mid = len(A) // 2\n",
    "    P = []\n",
    "    for i in range(len(A)):\n",
    "        if abs(A[mid][0] - A[i][0]) <= int(d):\n",
    "            P.append(A[i])\n",
    "    return P\n",
    "def quicksort_y(A):\n",
    "    if len(A) <= 1:\n",
    "        return A\n",
    "    pivot = A[0]\n",
    "    less = [y for y in A[1:] if y[1] < pivot[1]]\n",
    "    greater = [y for y in A[1:] if y[1] >= pivot[1]]\n",
    "    return quicksort_y(less) + [pivot] + quicksort_y(greater)\n",
    "def final_test(A):\n",
    "    d_prime = float('inf')\n",
    "    for i in range(len(A)):\n",
    "        for j in range(i + 1, len(A)):\n",
    "            if abs(i - j) < 7:\n",
    "                d_prime = min(d_prime, distance_calculator(A[i], A[j]))\n",
    "            else:\n",
    "                break\n",
    "        #print('d_prime', d_prime)\n",
    "    return d_prime\n",
    "def zero_check(A):\n",
    "    for i in range(len(A) - 1):\n",
    "        if A[i] == A[i + 1]:\n",
    "            return distance_calculator([0, 0],[0,0])\n",
    "def minimum_distance_squared(points):\n",
    "    assert 2 <= len(points) <= 10 ** 5\n",
    "    points = quicksort(points)\n",
    "    #print('Points sorted by x-axis: ', points)\n",
    "    if zero_check(points) == 0:\n",
    "        return zero_check(points)\n",
    "    distance = minimum_left_right(points)\n",
    "    #print('Minimum distance between points in right-hand side and left-hand side: ', distance)\n",
    "    mid_points = filter_mid(points, distance)\n",
    "    #print('Points locating in middle part: ', mid_points)\n",
    "    sort_y = quicksort_y(mid_points)\n",
    "    #print('Middle part sorted by y-axis: ', sort_y)\n",
    "    mid_distance = final_test(sort_y)\n",
    "    #print('Minimum distance between points in middle part: ', mid_distance)\n",
    "    minimum = min(distance, mid_distance)\n",
    "    #print('Distance between closest points: ', minimum)\n",
    "    return minimum\n",
    "\n",
    "import random\n",
    "import time\n",
    "\n",
    "def StressTest(N, M):\n",
    "    while True:\n",
    "        n = random.randint(2, N)\n",
    "        A = []\n",
    "        for i in range(n):\n",
    "            A.append([random.randint(0, M), random.randint(0, M)])\n",
    "        print(A)\n",
    "        result1 = minimum_distance_squared_naive(A)\n",
    "        result2 = minimum_distance_squared(A)\n",
    "        if result1 == result2:\n",
    "            print('OK', 'result1, result2 = ', result1)\n",
    "        else:\n",
    "            print('Answer is wrong:', 'result1 = ', result1, 'result2 = ', result2)\n",
    "            break\n",
    "\n",
    "def ComplexityTest(X):\n",
    "    assert 0 <= X <= 10**9\n",
    "    A = []\n",
    "    for i in range(100000):\n",
    "        A.append([random.randint(-X, X), random.randint(-X, X)])\n",
    "    start_time = time.time()\n",
    "    print(minimum_distance_squared(A))\n",
    "    print(\"--- %s seconds ---\" % (time.time() - start_time))"
   ]
  },
  {
   "cell_type": "code",
   "execution_count": 263,
   "metadata": {},
   "outputs": [
    {
     "name": "stdout",
     "output_type": "stream",
     "text": [
      "21181.637000005452\n",
      "--- 4.27167820930481 seconds ---\n"
     ]
    }
   ],
   "source": [
    "ComplexityTest(10**9)"
   ]
  },
  {
   "cell_type": "code",
   "execution_count": 238,
   "metadata": {},
   "outputs": [
    {
     "name": "stdout",
     "output_type": "stream",
     "text": [
      "295.70255325241953\n",
      "--- 4.308741569519043 seconds ---\n"
     ]
    }
   ],
   "source": [
    "ComplexityTest(10**7)"
   ]
  },
  {
   "cell_type": "code",
   "execution_count": 239,
   "metadata": {},
   "outputs": [
    {
     "name": "stdout",
     "output_type": "stream",
     "text": [
      "16.0312195418814\n",
      "--- 4.2776525020599365 seconds ---\n"
     ]
    }
   ],
   "source": [
    "ComplexityTest(10**6)"
   ]
  },
  {
   "cell_type": "code",
   "execution_count": 240,
   "metadata": {},
   "outputs": [
    {
     "name": "stdout",
     "output_type": "stream",
     "text": [
      "1.0\n",
      "--- 4.154857158660889 seconds ---\n"
     ]
    }
   ],
   "source": [
    "ComplexityTest(10**5)"
   ]
  },
  {
   "cell_type": "code",
   "execution_count": 292,
   "metadata": {},
   "outputs": [
    {
     "name": "stdout",
     "output_type": "stream",
     "text": [
      "--- 0.07400751113891602 seconds ---\n"
     ]
    }
   ],
   "source": [
    "points = []\n",
    "for i in range(100000):\n",
    "    points.append([random.randint(-10**9, 10**9), random.randint(-10**9, 10**9)])\n",
    "start_time = time.time()\n",
    "points.sort()\n",
    "print(\"--- %s seconds ---\" % (time.time() - start_time))"
   ]
  },
  {
   "cell_type": "code",
   "execution_count": 198,
   "metadata": {},
   "outputs": [],
   "source": [
    "# StressTest(16, 20), StressTest(29, 10), StressTest(39, 50), StressTest(10, 10)"
   ]
  },
  {
   "cell_type": "code",
   "execution_count": 301,
   "metadata": {},
   "outputs": [],
   "source": [
    "def merge(A, left, mid, right):\n",
    "    temp = 0\n",
    "    fix = 0\n",
    "    for i in range(left, right):\n",
    "        if mid + temp < right:\n",
    "            j = mid + temp\n",
    "            k = A[mid + temp]\n",
    "        if mid + fix < right:\n",
    "            r = A[mid + fix]\n",
    "        f = A[i]\n",
    "        print('i',i)\n",
    "        print('j',j)\n",
    "        print('temp',temp)\n",
    "        print('fix',fix)\n",
    "        print('k',k)\n",
    "        print('r',r)\n",
    "        print('f',f)\n",
    "        while i < j and f > k:\n",
    "            A[j] = A[j - 1]\n",
    "            j -= 1\n",
    "            print(A)\n",
    "        fix += 1\n",
    "        if j == i:\n",
    "            temp += 1\n",
    "            fix = temp\n",
    "        if fix == temp:\n",
    "            A[j] = k\n",
    "        print(A)"
   ]
  },
  {
   "cell_type": "code",
   "execution_count": 516,
   "metadata": {},
   "outputs": [],
   "source": [
    "def insertion_sort(A, left, right):\n",
    "    for i in range(left + 1, right):\n",
    "        temp = A[i]\n",
    "        j = i - 1\n",
    "        while j >= left and temp < A[j]:\n",
    "            A[j + 1] = A[j]\n",
    "            j -= 1\n",
    "        A[j + 1] = temp\n",
    "    \n",
    "def merge(A, left, mid, right):\n",
    "    temp = 0\n",
    "    fix = 0\n",
    "    for i in range(left, right):\n",
    "        if mid + temp < right:\n",
    "            j = mid + temp\n",
    "            k = A[mid + temp]\n",
    "        if mid + fix < right:\n",
    "            r = A[mid + fix]\n",
    "        f = A[i]\n",
    "        while i < j and f > k:\n",
    "            A[j] = A[j - 1]\n",
    "            j -= 1\n",
    "        fix += 1\n",
    "        if j == i:\n",
    "            temp += 1\n",
    "            fix = temp\n",
    "        if fix == temp:\n",
    "            A[j] = k\n",
    "\n",
    "def tim_sort(A):\n",
    "    run = 32\n",
    "    left = 0\n",
    "    right = run\n",
    "    for i in range(0, len(A), run):\n",
    "        if right <= len(A):\n",
    "            insertion_sort(A, left, right)\n",
    "        else:\n",
    "            insertion_sort(A, left, len(A))\n",
    "        left += run\n",
    "        right += run\n",
    "    size = run\n",
    "    left = 0\n",
    "    mid = run\n",
    "    right = run * 2\n",
    "    while size <= len(A):\n",
    "        if right <= len(A):\n",
    "            merge(A, left, mid, right)\n",
    "        elif mid <= len(A):\n",
    "            merge(A, left, mid, len(A))\n",
    "        else:\n",
    "            left = (-1) * size * 4\n",
    "            mid = (-1) * size * 2\n",
    "            right = 0\n",
    "            size *= 2\n",
    "        left += size * 2\n",
    "        mid += size * 2\n",
    "        right += size * 2"
   ]
  },
  {
   "cell_type": "code",
   "execution_count": 531,
   "metadata": {},
   "outputs": [],
   "source": [
    "import random\n",
    "import time\n",
    "A = [random.randint(0,100) for i in range(10000)]"
   ]
  },
  {
   "cell_type": "code",
   "execution_count": 532,
   "metadata": {},
   "outputs": [
    {
     "name": "stdout",
     "output_type": "stream",
     "text": [
      "--- 2.5362017154693604 seconds ---\n"
     ]
    }
   ],
   "source": [
    "start_time = time.time()\n",
    "tim_sort(A)\n",
    "print(\"--- %s seconds ---\" % (time.time() - start_time))"
   ]
  },
  {
   "cell_type": "markdown",
   "metadata": {},
   "source": [
    "### OPTIMIZE MERGE\n",
    "    Merge function merges the sorted runs\n",
    "    Original array is broken in two parts left and right array\n",
    "    After comparing, we merge those two array in larger sub array\n",
    "    Copy remaining elements of left, if any\n",
    "    Copy remaining elements of right, if any\n",
    "\n",
    "\n",
    "### OPTIMIZE TIMSORT\n",
    "    Iterative Timsort function to sort the array[0...n-1] (similar to merge sort)\n",
    "    Sort individual subarrays of size RUN - insertionSort(arr, start, end)\n",
    "    Start merging from size RUN (or 32). It will merge to form size 64, then 128, 256 and so on ....\n",
    "    Pick starting point of left sub array. We are going to merge arr[left..left+size-1] and arr[left+size, left+2 x size-1]\n",
    "    After every merge, we increase left by 2 x size.\n",
    "    Find ending point of left sub array\n",
    "    mid+1 is starting point of right sub array\n",
    "    Merge sub array arr[left.....mid] & arr[mid+1....right]"
   ]
  },
  {
   "cell_type": "code",
   "execution_count": null,
   "metadata": {},
   "outputs": [],
   "source": []
  }
 ],
 "metadata": {
  "kernelspec": {
   "display_name": "Python 3",
   "language": "python",
   "name": "python3"
  },
  "language_info": {
   "codemirror_mode": {
    "name": "ipython",
    "version": 3
   },
   "file_extension": ".py",
   "mimetype": "text/x-python",
   "name": "python",
   "nbconvert_exporter": "python",
   "pygments_lexer": "ipython3",
   "version": "3.7.3"
  }
 },
 "nbformat": 4,
 "nbformat_minor": 2
}
