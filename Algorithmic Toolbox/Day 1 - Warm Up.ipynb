{
 "cells": [
  {
   "cell_type": "markdown",
   "metadata": {},
   "source": [
    "## Programming Challenge"
   ]
  },
  {
   "cell_type": "markdown",
   "metadata": {},
   "source": [
    "### Sum of Two Digits\n",
    "\n",
    "We start from this ridiculously simple problem.\n",
    "\n",
    "Implement the compute_sum function that takes two digits (that is, integers in the range from **0 to 9**) and returns the sum of these two digits."
   ]
  },
  {
   "cell_type": "code",
   "execution_count": 66,
   "metadata": {},
   "outputs": [
    {
     "name": "stdout",
     "output_type": "stream",
     "text": [
      "4 6\n",
      "10\n"
     ]
    }
   ],
   "source": [
    "def sum_of_two_digits(first_digit, second_digit):\n",
    "    assert 0 <= first_digit <= 9 and 0 <= second_digit <= 9\n",
    "    return first_digit + second_digit\n",
    "\n",
    "if __name__ == '__main__':\n",
    "    a, b = map(int, input().split())\n",
    "    print(sum_of_two_digits(a, b))"
   ]
  },
  {
   "cell_type": "markdown",
   "metadata": {},
   "source": [
    "## Algorithmic Warm Up"
   ]
  },
  {
   "cell_type": "markdown",
   "metadata": {},
   "source": [
    "### Maximum Pairwise Product\n",
    "\n",
    "Given a list **A** of non-negative integers, find the maximum product of two distinct elements (that is, the maximum value of **A[i]⋅A[j]** where **i≠j**; note that it may be the case that **A[i]=A[j]**). The length of **A** is at least **2** and at most **2⋅10^5**, all elements are **non-negative** and do not exceed **2⋅10^5**."
   ]
  },
  {
   "cell_type": "code",
   "execution_count": 67,
   "metadata": {},
   "outputs": [
    {
     "name": "stdout",
     "output_type": "stream",
     "text": [
      "5\n",
      "3 13 8 10 6\n",
      "130\n"
     ]
    }
   ],
   "source": [
    "def max_pairwise_product_naive(numbers):\n",
    "    assert len(numbers) >= 2\n",
    "    assert all(0 <= x <= 2 * 10 ** 5 for x in numbers)\n",
    "    product = 0\n",
    "    for i in range(len(numbers)):\n",
    "        for j in range(i + 1, len(numbers)):\n",
    "            product = max(product, numbers[i] * numbers[j])\n",
    "    return product\n",
    "\n",
    "def max_pairwise_product(numbers):\n",
    "    assert len(numbers) >= 2\n",
    "    assert all(0 <= x <= 2 * 10 ** 5 for x in numbers)\n",
    "    sorted_numbers = sorted(numbers, reverse = True)\n",
    "    return sorted_numbers[0] * sorted_numbers[1]\n",
    "\n",
    "def max_pairwise_product2(numbers):\n",
    "    assert len(numbers) >= 2\n",
    "    assert all(0 <= x <= 2 * 10 ** 5 for x in numbers)\n",
    "    first = 0\n",
    "    for i in range(len(numbers)):\n",
    "        if numbers[i] > first:\n",
    "            first = numbers[i]\n",
    "    second = 0\n",
    "    for j in range(len(numbers)):\n",
    "        if numbers[j] > second and numbers[j] != first:\n",
    "            second = numbers[j]\n",
    "    return first * second\n",
    "\n",
    "if __name__ == '__main__':\n",
    "    n = int(input())\n",
    "    input_numbers = list(map(int, input().split()))\n",
    "    assert len(input_numbers) == n\n",
    "    print(max_pairwise_product(input_numbers))"
   ]
  },
  {
   "cell_type": "markdown",
   "metadata": {},
   "source": [
    "### Fibonacci Number\n",
    "\n",
    "Fibonacci numbers are defined recursively: **F0=0, F1=1, and Fn=Fn−1+Fn−2** for **n≥1**.\n",
    "\n",
    "Implement the fibonacci_number function. Make sure to avoid recomputing the same thing again."
   ]
  },
  {
   "cell_type": "code",
   "execution_count": 68,
   "metadata": {},
   "outputs": [
    {
     "name": "stdout",
     "output_type": "stream",
     "text": [
      "41\n",
      "165580141\n"
     ]
    }
   ],
   "source": [
    "def fibonacci_number_naive(n):\n",
    "    assert 0 <= n <= 45\n",
    "    if n <= 1:\n",
    "        return n\n",
    "    return fibonacci_number_naive(n - 1) + fibonacci_number_naive(n - 2)\n",
    "\n",
    "def fibonacci_number(n):\n",
    "    assert 0 <= n <= 45\n",
    "    Fibonacci = [0,1]\n",
    "    for i in range(2,n+1):\n",
    "        Fibonacci.append(Fibonacci[i-2] + Fibonacci[i-1])\n",
    "    return Fibonacci[n]\n",
    "\n",
    "if __name__ == '__main__':\n",
    "    input_n = int(input())\n",
    "    print(fibonacci_number(input_n))"
   ]
  },
  {
   "cell_type": "markdown",
   "metadata": {},
   "source": [
    "Alternative solution that I have found earlier"
   ]
  },
  {
   "cell_type": "code",
   "execution_count": 15,
   "metadata": {},
   "outputs": [
    {
     "name": "stdout",
     "output_type": "stream",
     "text": [
      "34\n",
      "5702887\n"
     ]
    }
   ],
   "source": [
    "def fibonacci_number(n):\n",
    "    assert 0 <= n <= 45\n",
    "    \n",
    "    if n <= 1:\n",
    "        return n\n",
    "    temp = [0,1]\n",
    "    for i in range(2,n+1):\n",
    "        temp.append(temp[i-2]+temp[i-1])\n",
    "    return temp[-1]\n",
    "    \n",
    "if __name__ == '__main__':\n",
    "    input_n = int(input())\n",
    "    print(fibonacci_number(input_n))"
   ]
  },
  {
   "cell_type": "markdown",
   "metadata": {},
   "source": [
    "### Last Digit of Fibonacci Number\n",
    "Implement last_digit_of_fibonacci_number function that takes an integer **0≤n≤10^7** and returns the last digit of **Fn**."
   ]
  },
  {
   "cell_type": "code",
   "execution_count": 69,
   "metadata": {},
   "outputs": [
    {
     "name": "stdout",
     "output_type": "stream",
     "text": [
      "32142\n",
      "6\n"
     ]
    }
   ],
   "source": [
    "def last_digit_of_fibonacci_number_naive(n):\n",
    "    assert 0 <= n <= 10 ** 7\n",
    "    if n <= 1:\n",
    "        return n\n",
    "    return (last_digit_of_fibonacci_number_naive(n - 1) + last_digit_of_fibonacci_number_naive(n - 2)) % 10\n",
    "\n",
    "def last_digit_of_fibonacci_number(n):\n",
    "    assert 0 <= n <= 10 ** 7\n",
    "    F = [0,1]\n",
    "    for i in range(2,n+1):\n",
    "        F.append((F[i-1]+F[i-2]) % 10)\n",
    "        if F[i-1] == 0 and F[i] == 1:\n",
    "            F = F[:-2]\n",
    "            break\n",
    "    return F[n % len(F)]\n",
    "\n",
    "if __name__ == '__main__':\n",
    "    input_n = int(input())\n",
    "    print(last_digit_of_fibonacci_number(input_n))"
   ]
  },
  {
   "cell_type": "markdown",
   "metadata": {},
   "source": [
    "Alternative solution that I have found earlier"
   ]
  },
  {
   "cell_type": "code",
   "execution_count": 1,
   "metadata": {},
   "outputs": [
    {
     "name": "stdout",
     "output_type": "stream",
     "text": [
      "817593\n",
      "8\n"
     ]
    }
   ],
   "source": [
    "def last_digit_of_fibonacci_number(n):\n",
    "    assert 0 <= n <= 10 ** 7\n",
    "\n",
    "    temp = [0,1]\n",
    "    for i in range(2,60):\n",
    "        temp.append(temp[i-2]+temp[i-1])\n",
    "    return temp[n%60] % 10\n",
    "\n",
    "if __name__ == '__main__':\n",
    "    input_n = int(input())\n",
    "    print(last_digit_of_fibonacci_number(input_n))"
   ]
  },
  {
   "cell_type": "markdown",
   "metadata": {},
   "source": [
    "### Greatest Common Divisor\n",
    "\n",
    "The greatest common divisor **GCD(a,b)** of two positive integers **a and b** is the largest integer **d** that divides both **a and b**. The solution of the Greatest Common Divisor Problem was first described (but not discovered!) by the Greek mathematician Euclid twenty three centuries ago. But the name of a mathematician who discovered this algorithm, a century before Euclid described it, remains unknown. Centuries later, Euclid's algorithm was re-discovered by Indian and Chinese astronomers. Now, efficient algorithm for computing the greatest common divisor is an important ingredient of modern cryptographic algorithms.\n",
    "\n",
    "Your goal is to implement Euclid's algorithm for computing GCD.\n",
    "\n",
    "Implement a function that computes the greatest common divisor of two integers **1≤a,b≤2⋅10^9**."
   ]
  },
  {
   "cell_type": "code",
   "execution_count": 70,
   "metadata": {},
   "outputs": [
    {
     "name": "stdout",
     "output_type": "stream",
     "text": [
      "183 69\n",
      "3\n"
     ]
    }
   ],
   "source": [
    "def gcd_naive(a, b):\n",
    "    assert 1 <= a <= 2 * 10 ** 9 and 1 <= b <= 2 * 10 ** 9\n",
    "    for divisor in range(min(a, b), 0, -1):\n",
    "        if a % divisor == 0 and b % divisor == 0:\n",
    "            return divisor\n",
    "    assert False\n",
    "\n",
    "def gcd(a, b):\n",
    "    assert 0 <= a <= 2 * 10 ** 10 and 0 <= b <= 2 * 10 ** 10\n",
    "    if a<b:\n",
    "        return gcd(b,a)\n",
    "    temp = a % b\n",
    "    if temp == 0:\n",
    "        return b\n",
    "    else:\n",
    "        return gcd(b,temp)\n",
    "\n",
    "if __name__ == '__main__':\n",
    "    input_a, input_b = map(int, input().split())\n",
    "    print(gcd(input_a, input_b))"
   ]
  },
  {
   "cell_type": "markdown",
   "metadata": {},
   "source": [
    "Alternative solution that I have found earlier"
   ]
  },
  {
   "cell_type": "code",
   "execution_count": 2,
   "metadata": {},
   "outputs": [
    {
     "name": "stdout",
     "output_type": "stream",
     "text": [
      "980000 5600000\n",
      "140000\n"
     ]
    }
   ],
   "source": [
    "def gcd(a, b):\n",
    "    assert 0 <= a <= 2 * 10 ** 9 and 0 <= b <= 2 * 10 ** 9\n",
    "\n",
    "    if a < b:\n",
    "        return gcd(b, a)\n",
    "    if a >= b:\n",
    "        if a % b == 0:\n",
    "            return b\n",
    "        else:\n",
    "            a = a % b\n",
    "        return gcd(b, a)\n",
    "\n",
    "if __name__ == '__main__':\n",
    "    input_a, input_b = map(int, input().split())\n",
    "    print(gcd(input_a, input_b))"
   ]
  },
  {
   "cell_type": "markdown",
   "metadata": {},
   "source": [
    "### Least Common Multiple\n",
    "\n",
    "The least common multiple **LCM(a,b)** of two positive integers **a and b** is the smallest integer **m** that is divisible by both **a and b**.\n",
    "\n",
    "How **LCM(a,b)** is related to **GCD(a,b)**?\n",
    "\n",
    "Compute the least common multiple of two integers **1≤a,b≤2⋅10^9**."
   ]
  },
  {
   "cell_type": "code",
   "execution_count": 71,
   "metadata": {},
   "outputs": [
    {
     "name": "stdout",
     "output_type": "stream",
     "text": [
      "3452 45214\n",
      "78039364\n"
     ]
    }
   ],
   "source": [
    "def lcm_naive(a, b):\n",
    "    assert 1 <= a <= 2 * 10 ** 9 and 1 <= b <= 2 * 10 ** 9\n",
    "    multiple = max(a, b)\n",
    "    while multiple % a != 0 or multiple % b != 0:\n",
    "        multiple += 1\n",
    "    return multiple\n",
    "\n",
    "\n",
    "def lcm(a, b):\n",
    "    assert 1 <= a <= 2 * 10 ** 9 and 1 <= b <= 2 * 10 ** 9\n",
    "    def gcd(a, b):\n",
    "        if a < b:\n",
    "            return gcd(b,a)\n",
    "        temp = a % b\n",
    "        if temp == 0:\n",
    "            return b\n",
    "        else:\n",
    "            return gcd(b,temp)\n",
    "    return int((a * b) / gcd(a,b))\n",
    "\n",
    "if __name__ == '__main__':\n",
    "    input_a, input_b = map(int, input().split())\n",
    "    print(lcm(input_a, input_b))"
   ]
  },
  {
   "cell_type": "markdown",
   "metadata": {},
   "source": [
    "Alternative solution that I have found earlier"
   ]
  },
  {
   "cell_type": "code",
   "execution_count": 4,
   "metadata": {},
   "outputs": [
    {
     "name": "stdout",
     "output_type": "stream",
     "text": [
      "12345 9485\n",
      "23418465\n"
     ]
    }
   ],
   "source": [
    "def lcm(a, b):\n",
    "    assert 1 <= a <= 2 * 10 ** 9 and 1 <= b <= 2 * 10 ** 9\n",
    "\n",
    "    def gcd(a, b):\n",
    "        assert 0 <= a <= 2 * 10 ** 9 and 0 <= b <= 2 * 10 ** 9\n",
    "\n",
    "        if a < b:\n",
    "            return gcd(b, a)\n",
    "        if a >= b:\n",
    "            if a % b == 0:\n",
    "                return b\n",
    "            else:\n",
    "                a = a % b\n",
    "            return gcd(b, a)\n",
    "        \n",
    "    return int((a*b) / gcd(a, b))\n",
    "\n",
    "if __name__ == '__main__':\n",
    "    input_a, input_b = map(int, input().split())\n",
    "    print(lcm(input_a, input_b))"
   ]
  },
  {
   "cell_type": "markdown",
   "metadata": {},
   "source": [
    "### Fibonacci Number Again\n",
    "\n",
    "Given two integers **0≤n≤10^18** and **2≤m≤10^3**, compute the **n-th Fibonacci number modulo m**.\n",
    "\n",
    "In this problem, **n** may be so huge that an algorithm looping for **n** iterations will be too slow. Therefore we need to avoid such a loop.\n",
    "\n",
    "Both **modulo 2** and **modulo 3**  sequences are periodic! For **m=2**, the period is **011** and has length **3**, while for **m=3** the period is **01120221** and has length **8**.\n",
    "\n",
    "Therefore, to compute, say, **F2015 mod 3** we just need to find the remainder of **2015** when divided by **8**. Since **2015=251⋅8+7**, we conclude that **F2015 mod 3 = F7 mod 3 = 1**.\n",
    "\n",
    "It turns out that for any integer **m≥2**, the sequence **Fn mod m** is periodic. The period always starts with **01** and is known as **Pisano period** (Pisano is another name of Fibonacci)."
   ]
  },
  {
   "cell_type": "code",
   "execution_count": 72,
   "metadata": {},
   "outputs": [
    {
     "name": "stdout",
     "output_type": "stream",
     "text": [
      "3542 6\n",
      "5\n"
     ]
    }
   ],
   "source": [
    "def fibonacci_number_again_naive(n, m):\n",
    "    assert 0 <= n <= 10 ** 18 and 2 <= m <= 10 ** 3\n",
    "    if n <= 1:\n",
    "        return n\n",
    "    previous, current = 0, 1\n",
    "    for _ in range(n - 1):\n",
    "        previous, current = current, (previous + current) % m\n",
    "    return current\n",
    "\n",
    "def fibonacci_number_again(n, m):\n",
    "    assert 0 <= n <= 10 ** 18 and 2 <= m <= 10 ** 6\n",
    "    F = [0,1]\n",
    "    for i in range(2,n+1):\n",
    "        F.append((F[i-1]+F[i-2]) % m)\n",
    "        if F[i-1] == 0 and F[i] == 1:\n",
    "            F = F[:-2]\n",
    "            break\n",
    "    return F[n % len(F)]\n",
    "\n",
    "if __name__ == '__main__':\n",
    "    input_n, input_m = map(int, input().split())\n",
    "    print(fibonacci_number_again(input_n, input_m))"
   ]
  },
  {
   "cell_type": "markdown",
   "metadata": {},
   "source": [
    "Alternative solution that I have found earlier"
   ]
  },
  {
   "cell_type": "code",
   "execution_count": 5,
   "metadata": {},
   "outputs": [
    {
     "name": "stdout",
     "output_type": "stream",
     "text": [
      "4534534559342342 99999\n",
      "18080\n"
     ]
    }
   ],
   "source": [
    "def fibonacci_number_again(n, m):\n",
    "    assert 0 <= n <= 10 ** 18 and 2 <= m <= 10 ** 5\n",
    "\n",
    "    if n <= 1:\n",
    "        return n\n",
    "    temp = [0,1]\n",
    "    for i in range(2,n+1):\n",
    "        temp.append((temp[i-2]+temp[i-1])%m)\n",
    "        if temp[i-1] == 0 and temp[i] == 1:\n",
    "            temp = temp[0:len(temp)-2]\n",
    "            break\n",
    "    return temp[n % len(temp)]\n",
    "\n",
    "if __name__ == '__main__':\n",
    "    input_n, input_m = map(int, input().split())\n",
    "    print(fibonacci_number_again(input_n, input_m))"
   ]
  },
  {
   "cell_type": "markdown",
   "metadata": {},
   "source": [
    "### Last Digit of the Sum of Fibonacci Numbers\n",
    "\n",
    "Given **0≤n≤10^18**, compute the last digit of **F0+F1+⋯+Fn**.\n",
    "\n",
    "Since the brute force approach for this problem is too slow, try to come up with a formula for **F0+F1+F2+⋯+Fn**. Play with small values of **n** to get an insight and use a solution for the previous problem afterwards."
   ]
  },
  {
   "cell_type": "code",
   "execution_count": 73,
   "metadata": {},
   "outputs": [
    {
     "name": "stdout",
     "output_type": "stream",
     "text": [
      "3345\n",
      "2\n"
     ]
    }
   ],
   "source": [
    "def last_digit_of_the_sum_of_fibonacci_numbers_naive(n):\n",
    "    assert 0 <= n <= 10 ** 18\n",
    "    if n <= 1:\n",
    "        return n\n",
    "    fibonacci_numbers = [0] * (n + 1)\n",
    "    fibonacci_numbers[0] = 0\n",
    "    fibonacci_numbers[1] = 1\n",
    "    for i in range(2, n + 1):\n",
    "        fibonacci_numbers[i] = fibonacci_numbers[i - 2] + fibonacci_numbers[i - 1]\n",
    "    return sum(fibonacci_numbers) % 10\n",
    "\n",
    "def last_digit_of_the_sum_of_fibonacci_numbers(n):\n",
    "    assert 0 <= n <= 10 ** 18\n",
    "    F = [0,1]\n",
    "    sums = [0,1]\n",
    "    for i in range(2,n+1):\n",
    "        F.append((F[i-1]+F[i-2]) % 10)\n",
    "        sums.append((F[i]+sums[i-1]) % 10)\n",
    "        if sums[i-1] == 0 and sums[i] == 1:\n",
    "            sums = sums[:-2]\n",
    "            break\n",
    "    return sums[n % len(sums)]\n",
    "\n",
    "if __name__ == '__main__':\n",
    "    input_n = int(input())\n",
    "    print(last_digit_of_the_sum_of_fibonacci_numbers(input_n))"
   ]
  },
  {
   "cell_type": "markdown",
   "metadata": {},
   "source": [
    "Alternative solution that I have found earlier"
   ]
  },
  {
   "cell_type": "code",
   "execution_count": 11,
   "metadata": {},
   "outputs": [
    {
     "name": "stdout",
     "output_type": "stream",
     "text": [
      "21367434526\n",
      "5\n"
     ]
    }
   ],
   "source": [
    "def last_digit_of_the_sum_of_fibonacci_numbers(n):\n",
    "    assert 0 <= n <= 10 ** 18\n",
    "\n",
    "    fibo = [0,1]\n",
    "    for i in range(2,60):\n",
    "        fibo.append(fibo[i-2]+fibo[i-1])\n",
    "    temp = []\n",
    "    for i in range(1,len(fibo)+1):\n",
    "        temp.append(sum(fibo[:i])%10)\n",
    "    return temp[n%60] % 10\n",
    "\n",
    "if __name__ == '__main__':\n",
    "    input_n = int(input())\n",
    "    print(last_digit_of_the_sum_of_fibonacci_numbers(input_n))"
   ]
  },
  {
   "cell_type": "markdown",
   "metadata": {},
   "source": [
    "### Last Digit of the Sum of Fibonacci Numbers Again\n",
    "Given two integers **0≤m≤n≤10^18**, compute the last digit of **Fm+Fm+1+⋯+Fn**."
   ]
  },
  {
   "cell_type": "code",
   "execution_count": 74,
   "metadata": {},
   "outputs": [
    {
     "name": "stdout",
     "output_type": "stream",
     "text": [
      "345 654\n",
      "4\n"
     ]
    }
   ],
   "source": [
    "def last_digit_of_the_sum_of_fibonacci_numbers_again_naive(from_index, to_index):\n",
    "    assert 0 <= from_index <= to_index <= 10 ** 18\n",
    "    if to_index == 0:\n",
    "        return 0\n",
    "    fibonacci_numbers = [0] * (to_index + 1)\n",
    "    fibonacci_numbers[0] = 0\n",
    "    fibonacci_numbers[1] = 1\n",
    "    for i in range(2, to_index + 1):\n",
    "        fibonacci_numbers[i] = fibonacci_numbers[i - 2] + fibonacci_numbers[i - 1]\n",
    "    return sum(fibonacci_numbers[from_index:to_index + 1]) % 10\n",
    "\n",
    "def last_digit_of_the_sum_of_fibonacci_numbers_again(from_index, to_index):\n",
    "    assert 0 <= from_index <= to_index <= 10 ** 18\n",
    "    F = [0,1]\n",
    "    sums = [0,1]\n",
    "    for i in range(2,to_index+1):\n",
    "        F.append((F[i-1]+F[i-2]) % 10)\n",
    "        sums.append((F[i]+sums[i-1]) % 10)\n",
    "        if sums[i-1] == 0 and sums[i] == 1:\n",
    "            sums = sums[:-2]\n",
    "            break\n",
    "    if from_index == 0:\n",
    "        return abs(sums[to_index % len(sums)])\n",
    "    else:\n",
    "        if (from_index % len(sums)) <= (to_index % len(sums)):\n",
    "            a = sums[to_index % len(sums)] - sums[(from_index - 1) % len(sums)]\n",
    "            if a >= 0:\n",
    "                return a\n",
    "            else:\n",
    "                return a + 10\n",
    "        else:\n",
    "            b = ((sums[-1] - sums[(from_index-1) % len(sums)]) + sums[to_index % len(sums)]) % 10\n",
    "            if b >= 0:\n",
    "                return b\n",
    "            else:\n",
    "                return b + 10\n",
    "\n",
    "if __name__ == '__main__':\n",
    "    input_from, input_to = map(int, input().split())\n",
    "    print(last_digit_of_the_sum_of_fibonacci_numbers_again(input_from, input_to))"
   ]
  },
  {
   "cell_type": "markdown",
   "metadata": {},
   "source": [
    "Alternative solution that I have found earlier"
   ]
  },
  {
   "cell_type": "code",
   "execution_count": 12,
   "metadata": {},
   "outputs": [
    {
     "name": "stdout",
     "output_type": "stream",
     "text": [
      "19 10000000000\n",
      "1\n"
     ]
    }
   ],
   "source": [
    "def last_digit_of_the_sum_of_fibonacci_numbers_again(from_index, to_index):\n",
    "    assert 0 <= from_index <= to_index <= 10 ** 18\n",
    "\n",
    "    fiba = [0,1]\n",
    "    for i in range(2,60):\n",
    "        fiba.append(fiba[i-2]+fiba[i-1])\n",
    "    temp = []\n",
    "    for i in range(1,len(fiba)+1):\n",
    "        temp.append(sum(fiba[:i])%10)\n",
    "    result = temp[(to_index % 60)] - temp[(from_index % 60) - 1]\n",
    "    if result < 0:\n",
    "        return result + 10\n",
    "    return result\n",
    "\n",
    "if __name__ == '__main__':\n",
    "    input_from, input_to = map(int, input().split())\n",
    "    print(last_digit_of_the_sum_of_fibonacci_numbers_again(input_from, input_to))"
   ]
  },
  {
   "cell_type": "markdown",
   "metadata": {},
   "source": [
    "### Last Digit of the Sum of Squares of Fibonacci Numbers\n",
    "\n",
    "Given **0≤n≤10^18**, compute the last digit of **F0^2+F1^2+⋯+Fn^2**.\n",
    "\n",
    "Since the brute force search algorithm for this problem is too slow (**n** may be as large as **10^18**), we need to come up with a simple formula for **F0^2+F1^2+⋯+Fn^2**. The figure above represents the sum **F1^2+F2^2+F3^2+F4^2+F5^2** as the area of a rectangle with vertical side **F5=5** and horizontal side **F5+F4=3+5=F6**."
   ]
  },
  {
   "cell_type": "code",
   "execution_count": 13,
   "metadata": {},
   "outputs": [
    {
     "name": "stdout",
     "output_type": "stream",
     "text": [
      "768769\n",
      "5\n"
     ]
    }
   ],
   "source": [
    "def last_digit_of_the_sum_of_squares_of_fibonacci_numbers_naive(n):\n",
    "    assert 0 <= n <= 10 ** 18\n",
    "    if n <= 1:\n",
    "        return n\n",
    "    fibonacci_numbers = [0] * (n + 1)\n",
    "    fibonacci_numbers[0] = 0\n",
    "    fibonacci_numbers[1] = 1\n",
    "    for i in range(2, n + 1):\n",
    "        fibonacci_numbers[i] = fibonacci_numbers[i - 2] + fibonacci_numbers[i - 1]\n",
    "    return sum([f ** 2 for f in fibonacci_numbers]) % 10\n",
    "\n",
    "\n",
    "def last_digit_of_the_sum_of_squares_of_fibonacci_numbers(n):\n",
    "    assert 0 <= n <= 10 ** 18\n",
    "    F = [0,1]\n",
    "    for i in range(2,n+1):\n",
    "        F.append((F[i-1]+F[i-2]) % 10)\n",
    "        if F[i-1] == 0 and F[i] == 1:\n",
    "            F = F[:-2]\n",
    "            break\n",
    "    return (F[n % len(F)] * (F[n % len(F)] + F[(n % len(F)) - 1])) % 10\n",
    "\n",
    "if __name__ == '__main__':\n",
    "    input_n = int(input())\n",
    "    print(last_digit_of_the_sum_of_squares_of_fibonacci_numbers(input_n))"
   ]
  },
  {
   "cell_type": "markdown",
   "metadata": {},
   "source": [
    "Alternative solution that I have found earlier"
   ]
  },
  {
   "cell_type": "code",
   "execution_count": 14,
   "metadata": {},
   "outputs": [
    {
     "name": "stdout",
     "output_type": "stream",
     "text": [
      "397841263\n",
      "1\n"
     ]
    }
   ],
   "source": [
    "def last_digit_of_the_sum_of_squares_of_fibonacci_numbers(n):\n",
    "    assert 0 <= n <= 10 ** 18\n",
    "    \n",
    "    if n == 0:\n",
    "        return n\n",
    "    temp = [0,1]\n",
    "    for i in range(2,60):\n",
    "        temp.append(temp[i-2]+temp[i-1])\n",
    "    return (temp[n%60] * (temp[n%60] + temp[(n%60)-1])) % 10\n",
    "    \n",
    "if __name__ == '__main__':\n",
    "    input_n = int(input())\n",
    "    print(last_digit_of_the_sum_of_squares_of_fibonacci_numbers(input_n))"
   ]
  }
 ],
 "metadata": {
  "kernelspec": {
   "display_name": "Python 3",
   "language": "python",
   "name": "python3"
  },
  "language_info": {
   "codemirror_mode": {
    "name": "ipython",
    "version": 3
   },
   "file_extension": ".py",
   "mimetype": "text/x-python",
   "name": "python",
   "nbconvert_exporter": "python",
   "pygments_lexer": "ipython3",
   "version": "3.7.3"
  }
 },
 "nbformat": 4,
 "nbformat_minor": 2
}
