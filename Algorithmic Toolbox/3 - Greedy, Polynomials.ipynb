{
 "cells": [
  {
   "cell_type": "markdown",
   "metadata": {},
   "source": [
    "## Greedy Algorithms"
   ]
  },
  {
   "cell_type": "markdown",
   "metadata": {},
   "source": [
    "### Maximum Number of Prizes\n",
    "\n",
    "You are organizing a competition for children and have n candies to give as prizes. You would like to use these candies for top **k** places in a competition with a restriction that a higher place gets a larger number of candies. To make as many children happy as possible, you need to find the largest value of **k** for which it is possible.\n",
    "\n",
    "Input: An integer **1≤n≤10^9**.\n",
    "\n",
    "Output: The maximum number **k** such that **n** can be represented as the sum of **k** pairwise distinct positive integers and these integers (if there are many such representations, output any of them)."
   ]
  },
  {
   "cell_type": "code",
   "execution_count": 3,
   "metadata": {},
   "outputs": [
    {
     "name": "stdout",
     "output_type": "stream",
     "text": [
      "100\n",
      "13\n",
      "1 2 3 4 5 6 7 8 9 10 11 12 22\n"
     ]
    }
   ],
   "source": [
    "def compute_optimal_summands(n):\n",
    "    assert 1 <= n <= 10 ** 9\n",
    "    summands = []\n",
    "    i = 1\n",
    "    while n > 0:\n",
    "        if len(summands) == 0:\n",
    "            summands.append(i)\n",
    "        n -= i\n",
    "        if n > summands[-1]:\n",
    "            i += 1\n",
    "            summands.append(i)\n",
    "        else:\n",
    "            summands[-1] += n\n",
    "            break\n",
    "    return summands\n",
    "\n",
    "\n",
    "if __name__ == '__main__':\n",
    "    input_n = int(input())\n",
    "    output_summands = compute_optimal_summands(input_n)\n",
    "    print(len(output_summands))\n",
    "    print(*output_summands)"
   ]
  },
  {
   "cell_type": "markdown",
   "metadata": {},
   "source": [
    "Alternative solution that I found earlier"
   ]
  },
  {
   "cell_type": "code",
   "execution_count": 1,
   "metadata": {},
   "outputs": [
    {
     "name": "stdout",
     "output_type": "stream",
     "text": [
      "76\n",
      "11\n",
      "[1, 2, 3, 4, 5, 6, 7, 8, 9, 10, 21]\n"
     ]
    }
   ],
   "source": [
    "def compute_optimal_summands(n):\n",
    "    assert 1 <= n <= 10 ** 9\n",
    "    \n",
    "    summands = []\n",
    "    if n == 1 or n == 2:\n",
    "        summands = [n]\n",
    "        return summands\n",
    "    while n > 0:\n",
    "        if len(summands) == 0:\n",
    "            summands.append(1)\n",
    "            n -= 1\n",
    "        if n-(summands[-1]+1) >= summands[-1]+2:\n",
    "            summands.append(summands[-1]+1)\n",
    "            n -= summands[-1]\n",
    "            continue\n",
    "        summands.append(n)\n",
    "        break\n",
    "    return summands\n",
    "\n",
    "if __name__ == '__main__':\n",
    "    input_n = int(input())\n",
    "    output_summands = compute_optimal_summands(input_n)\n",
    "    print(len(output_summands))\n",
    "    print(output_summands)"
   ]
  },
  {
   "cell_type": "markdown",
   "metadata": {},
   "source": [
    "### Maximum Salary\n",
    "\n",
    "This is probably the most important problem in this course :). As the last question of an interview, your future boss gives you a few pieces of paper with a single number written on each of them and asks you to compose a largest number from these numbers. The resulting number is going to be your salary, so you are very motivated to solve this problem!\n",
    "\n",
    "Input: Integers **1≤a1,a2,…,an≤10^3**, where **1≤n≤100**.\n",
    "\n",
    "Output: The largest number that can be composed out of **a1,…,an**."
   ]
  },
  {
   "cell_type": "code",
   "execution_count": 10,
   "metadata": {},
   "outputs": [
    {
     "name": "stdout",
     "output_type": "stream",
     "text": [
      "8\n",
      "2 21 23 211 213 231 232 234\n",
      "23423232231221321211\n"
     ]
    }
   ],
   "source": [
    "from itertools import permutations\n",
    "\n",
    "def largest_number_naive(numbers):\n",
    "    numbers = list(map(str, numbers))\n",
    "    largest = 0\n",
    "    for permutation in permutations(numbers):\n",
    "        largest = max(largest, int(\"\".join(permutation)))\n",
    "    return largest\n",
    "\n",
    "def largest_number(numbers):\n",
    "    assert all(1 <= int(a) <= 10 ** 4 for a in numbers)\n",
    "    assert 1 <= len(numbers) <= 100\n",
    "    numbers = list(map(str, numbers))\n",
    "    i = 1\n",
    "    while i <= len(numbers) - 1:\n",
    "        j = i\n",
    "        while j >= 1:\n",
    "            if int(numbers[j-1] + numbers[j]) < int(numbers[j] + numbers[j-1]):\n",
    "                numbers[j], numbers[j-1] = numbers[j-1], numbers[j]\n",
    "                j -= 1\n",
    "            else:\n",
    "                break\n",
    "        i += 1\n",
    "    return int(''.join(map(str, numbers)))\n",
    "\n",
    "if __name__ == '__main__':\n",
    "    n = int(input())\n",
    "    input_numbers = input().split()\n",
    "    assert len(input_numbers) == n\n",
    "    print(largest_number(input_numbers))"
   ]
  },
  {
   "cell_type": "code",
   "execution_count": 19,
   "metadata": {},
   "outputs": [],
   "source": [
    "import random\n",
    "import time\n",
    "\n",
    "def StressTest(N, M):\n",
    "    assert 0 <= N <= 100\n",
    "    assert 1 <= M <= 10000\n",
    "    while True:\n",
    "        n = random.randint(1, N)\n",
    "        A = [random.randint(1, M) for i in range(0, n)]\n",
    "        print(A)\n",
    "        result1 = largest_number_naive(A)\n",
    "        result2 = largest_number(A)\n",
    "        if result1 == result2:\n",
    "            print('OK', 'result1, result2 = ', result1)\n",
    "        else:\n",
    "            print('Answer is wrong:', 'result1 = ', result1, 'result2 = ', result2)\n",
    "            break\n",
    "\n",
    "def ComplexityTest(N, M):\n",
    "    assert 1 <= N <= 100\n",
    "    assert 1 <= M <= 10000\n",
    "    start_time = time.time()\n",
    "    n = random.randint(1, N)\n",
    "    A = [random.randint(1, M) for i in range(0, n)]\n",
    "    print(A)\n",
    "    print(largest_number(A))\n",
    "    print(\"--- %s seconds ---\" % (time.time() - start_time))"
   ]
  },
  {
   "cell_type": "markdown",
   "metadata": {},
   "source": [
    "    StressTest() passed for thousands of cases. So, algorithm works properly. Now, let's check the running time."
   ]
  },
  {
   "cell_type": "code",
   "execution_count": 32,
   "metadata": {},
   "outputs": [
    {
     "name": "stdout",
     "output_type": "stream",
     "text": [
      "[2771, 1336, 5330, 9741, 9455, 2582, 2192, 8823, 1884, 5607, 1553, 7251, 5004, 750, 7186, 5028, 6706, 6007, 1507, 7189, 1405, 7978, 257, 1436, 7030, 1935, 7005, 3733, 5157, 4210, 4533, 1089, 1750, 7695, 2287, 1464, 6456, 1299, 5271, 9638, 2954, 8717, 7035, 6864, 3448, 1622, 479, 8882, 7847, 9251, 2423, 5904, 5214, 181, 4187, 9558, 9250, 328, 3734, 4151, 4900, 3894, 5743, 7342, 7515, 868, 5936, 3548, 7786, 6777, 5393, 2004, 5454, 4673, 9247, 6292]\n",
      "9741963895589455925192509247888288238717868797878477786769575157507342725171897186703570307005686467776706645662926007593659045743560754545393533052715214515750285004490047946734533421041874151389437343733354834483282954277125822572423228721922004193518841811750162215531507146414361405133612991089\n",
      "--- 0.0010004043579101562 seconds ---\n"
     ]
    }
   ],
   "source": [
    "ComplexityTest(100,10000)"
   ]
  },
  {
   "cell_type": "markdown",
   "metadata": {},
   "source": [
    "Alternative solution that I found earlier"
   ]
  },
  {
   "cell_type": "code",
   "execution_count": 7,
   "metadata": {},
   "outputs": [
    {
     "name": "stdout",
     "output_type": "stream",
     "text": [
      "17\n",
      "6 62 68 683 689 6837 6611 2 21 23 211 213 231 232 233 5 1\n",
      "68968683768366611625233232322312213212111\n"
     ]
    }
   ],
   "source": [
    "def largest_number(numbers):\n",
    "    assert all(1 <= a <= 10 ** 4 for a in numbers)\n",
    "    assert 1 <= len(numbers) <= 100\n",
    "    \n",
    "    num_sort = sorted(numbers,key=lambda x: x/(10**(len(str(x))-1)),reverse=True)\n",
    "    index = 0\n",
    "    result = int(''.join(map(str,num_sort)))\n",
    "    \n",
    "    while index < len(numbers):\n",
    "        temp = index\n",
    "        a = list(num_sort)\n",
    "        while temp != 0:\n",
    "            flip = a[temp-1]\n",
    "            a[temp-1] = a[temp]\n",
    "            a[temp] = flip\n",
    "            if result > int(''.join(map(str,a))):\n",
    "                temp -= 1\n",
    "                continue\n",
    "            if result < int(''.join(map(str,a))):\n",
    "                result = int(''.join(map(str,a)))\n",
    "                num_sort = list(a)\n",
    "                temp -= 1\n",
    "        index += 1\n",
    "    return result\n",
    "    \n",
    "if __name__ == '__main__':\n",
    "    n = int(input())\n",
    "    input_numbers = list(map(int,input().split()))\n",
    "    assert len(input_numbers) == n\n",
    "    print(largest_number(input_numbers))"
   ]
  },
  {
   "cell_type": "markdown",
   "metadata": {},
   "source": [
    "## Divide and Conquer Algorithms"
   ]
  },
  {
   "cell_type": "markdown",
   "metadata": {},
   "source": [
    "### Multiplying Polynomials\n",
    "\n",
    "Giving two n-1 degree polynomials in the lists as [x^(n-1),x^(n-2),...,x^1,x^0], find their multiplication."
   ]
  },
  {
   "cell_type": "code",
   "execution_count": 6,
   "metadata": {},
   "outputs": [
    {
     "name": "stdout",
     "output_type": "stream",
     "text": [
      "4\n",
      "3,6,0,1\n",
      "5,3,9,2\n",
      "[15, 39, 45, 65, 15, 9, 2]\n"
     ]
    }
   ],
   "source": [
    "def mult_poly(A, B, n):\n",
    "    result = [0] * (2*n-1)\n",
    "    for i in range(len(A)):\n",
    "        for j in range(len(B)):\n",
    "            result[i+j] += A[i] * B[j]\n",
    "    return result\n",
    "\n",
    "degree_of_polynimal = int(input())\n",
    "first_polynomial_array = list(map(int, input().split(',')))\n",
    "second_polynomial_array = list(map(int, input().split(',')))\n",
    "print(mult_poly(first_polynomial_array, second_polynomial_array, degree_of_polynimal))"
   ]
  },
  {
   "cell_type": "markdown",
   "metadata": {},
   "source": [
    "### Multiplying Polnomials (Naive Divide and Conquer Algorithm)"
   ]
  },
  {
   "cell_type": "code",
   "execution_count": 7,
   "metadata": {},
   "outputs": [
    {
     "name": "stdout",
     "output_type": "stream",
     "text": [
      "Highest degree of two polynoms:\n",
      "5\n",
      "Arrange lists by putting '0' if there are missing powers!\n",
      "4 7 3 1 2\n",
      "0 5 0 7 8\n",
      "[20, 35, 43, 86, 87, 31, 22, 16]\n"
     ]
    }
   ],
   "source": [
    "def mult_poly_naive_div_and_con(A, B, n, a, b):\n",
    "    result = [0] * (2*n-1)\n",
    "    if n == 1:\n",
    "        result[0] = A[a] * B[b]\n",
    "        return result\n",
    "    result[0: n-1] = mult_poly_naive_div_and_con(A, B, int(n/2), a, b)\n",
    "    #print(f'evvel hesablanir: {result}')\n",
    "    result[n: 2*n-1] = mult_poly_naive_div_and_con(A, B, int(n/2), a+int(n/2), b+int(n/2))\n",
    "    #print(f'axir hesablanir: {result}')\n",
    "    d0e1 = mult_poly_naive_div_and_con(A, B, int(n/2), a, b+int(n/2))\n",
    "    #print(f'orta_1: {d0e1}')\n",
    "    d1e0 = mult_poly_naive_div_and_con(A, B, int(n/2), a+int(n/2), b)\n",
    "    #print(f'orta_2: {d1e0}')\n",
    "    result[int(n/2): n+int(n/2)-1] = [sum(x) for x in zip(result[int(n/2): n+int(n/2)-1], [sum(y) for y in zip(d0e1,d1e0)])]\n",
    "    #print(f'orta hesablanir: {result}')\n",
    "    return result\n",
    "\n",
    "def Correction (x): \n",
    "    return (x and (not(x & (x - 1))))\n",
    "    # Bitwise comparison. Such that 8 is 1000, 7 is 0111.\n",
    "\n",
    "print(\"Highest degree of two polynoms:\")\n",
    "degree = int(input())\n",
    "\n",
    "print(\"Arrange lists by putting '0' if there are missing powers!\")\n",
    "first_polynom = list(map(int, input().split()))\n",
    "second_polynom = list(map(int, input().split()))\n",
    "a = 0\n",
    "b = 0\n",
    "\n",
    "while Correction(degree) == False:\n",
    "    degree += 1\n",
    "    first_polynom = [0] + first_polynom\n",
    "    second_polynom = [0] + second_polynom\n",
    "final = mult_poly_naive_div_and_con(first_polynom, second_polynom, degree, a, b)\n",
    "\n",
    "while final[0] == 0:\n",
    "    final = final[1:]\n",
    "    \n",
    "print(final)"
   ]
  }
 ],
 "metadata": {
  "kernelspec": {
   "display_name": "Python 3",
   "language": "python",
   "name": "python3"
  },
  "language_info": {
   "codemirror_mode": {
    "name": "ipython",
    "version": 3
   },
   "file_extension": ".py",
   "mimetype": "text/x-python",
   "name": "python",
   "nbconvert_exporter": "python",
   "pygments_lexer": "ipython3",
   "version": "3.7.3"
  }
 },
 "nbformat": 4,
 "nbformat_minor": 2
}
