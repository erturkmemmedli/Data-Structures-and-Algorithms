{
 "cells": [
  {
   "cell_type": "code",
   "execution_count": 280,
   "metadata": {},
   "outputs": [],
   "source": [
    "def minimum_distance_squared_naive(points):\n",
    "    min_distance_squared = float(\"inf\")\n",
    "    for p, q in combinations(points, 2):\n",
    "        min_distance_squared = min(min_distance_squared,\n",
    "                                   distance_calculator(p, q))\n",
    "    return min_distance_squared\n",
    "def quicksort(A):\n",
    "    if len(A) <= 1:\n",
    "        return A\n",
    "    pivot = A[0]\n",
    "    less = [x for x in A[1:] if x < pivot]\n",
    "    greater = [x for x in A[1:] if x >= pivot]\n",
    "    return quicksort(less) + [pivot] + quicksort(greater)\n",
    "def distance_calculator(first, second):\n",
    "    return ((first[0] - second[0]) ** 2 + (first[1] - second[1]) ** 2) ** 0.5\n",
    "def minimum_left_right(A):\n",
    "    minimum = float('inf')\n",
    "    #print(A)\n",
    "    if len(A) == 3:\n",
    "        if distance_calculator(A[0], A[1]) <= distance_calculator(A[0], A[2]):\n",
    "            A = A[0:2] + A[1:]\n",
    "        else:\n",
    "            A = A[0::2] + A[1:]\n",
    "    if len(A) == 2:\n",
    "        minimum = min(minimum, distance_calculator(A[0], A[1]))\n",
    "        #print('minimum', minimum)\n",
    "        return minimum\n",
    "    mid = len(A) // 2\n",
    "    X = minimum_left_right(A[:mid])\n",
    "    Y = minimum_left_right(A[mid:])\n",
    "    d = min(X, Y)\n",
    "    V = final_test(quicksort_y(filter_mid(A[:mid], int(d))))\n",
    "    W = final_test(quicksort_y(filter_mid(A[mid:], int(d))))\n",
    "    d_mid = min(V, W)\n",
    "    return min(d, d_mid)\n",
    "def filter_mid(A, d):\n",
    "    mid = len(A) // 2\n",
    "    P = []\n",
    "    for i in range(len(A)):\n",
    "        if abs(A[mid][0] - A[i][0]) <= int(d):\n",
    "            P.append(A[i])\n",
    "    return P\n",
    "def quicksort_y(A):\n",
    "    if len(A) <= 1:\n",
    "        return A\n",
    "    pivot = A[0]\n",
    "    less = [y for y in A[1:] if y[1] < pivot[1]]\n",
    "    greater = [y for y in A[1:] if y[1] >= pivot[1]]\n",
    "    return quicksort_y(less) + [pivot] + quicksort_y(greater)\n",
    "def final_test(A):\n",
    "    d_prime = float('inf')\n",
    "    for i in range(len(A)):\n",
    "        for j in range(i + 1, len(A)):\n",
    "            if abs(i - j) < 7:\n",
    "                d_prime = min(d_prime, distance_calculator(A[i], A[j]))\n",
    "            else:\n",
    "                break\n",
    "        #print('d_prime', d_prime)\n",
    "    return d_prime\n",
    "def zero_check(A):\n",
    "    for i in range(len(A) - 1):\n",
    "        if A[i] == A[i + 1]:\n",
    "            return distance_calculator([0, 0],[0,0])\n",
    "def minimum_distance_squared(points):\n",
    "    assert 2 <= len(points) <= 10 ** 5\n",
    "    points = quicksort(points)\n",
    "    #print('Points sorted by x-axis: ', points)\n",
    "    if zero_check(points) == 0:\n",
    "        return zero_check(points)\n",
    "    distance = minimum_left_right(points)\n",
    "    #print('Minimum distance between points in right-hand side and left-hand side: ', distance)\n",
    "    mid_points = filter_mid(points, distance)\n",
    "    #print('Points locating in middle part: ', mid_points)\n",
    "    sort_y = quicksort_y(mid_points)\n",
    "    #print('Middle part sorted by y-axis: ', sort_y)\n",
    "    mid_distance = final_test(sort_y)\n",
    "    #print('Minimum distance between points in middle part: ', mid_distance)\n",
    "    minimum = min(distance, mid_distance)\n",
    "    #print('Distance between closest points: ', minimum)\n",
    "    return minimum\n",
    "\n",
    "import random\n",
    "import time\n",
    "\n",
    "def StressTest(N, M):\n",
    "    while True:\n",
    "        n = random.randint(2, N)\n",
    "        A = []\n",
    "        for i in range(n):\n",
    "            A.append([random.randint(0, M), random.randint(0, M)])\n",
    "        print(A)\n",
    "        result1 = minimum_distance_squared_naive(A)\n",
    "        result2 = minimum_distance_squared(A)\n",
    "        if result1 == result2:\n",
    "            print('OK', 'result1, result2 = ', result1)\n",
    "        else:\n",
    "            print('Answer is wrong:', 'result1 = ', result1, 'result2 = ', result2)\n",
    "            break\n",
    "\n",
    "def ComplexityTest(X):\n",
    "    assert 0 <= X <= 10**9\n",
    "    A = []\n",
    "    for i in range(100000):\n",
    "        A.append([random.randint(-X, X), random.randint(-X, X)])\n",
    "    start_time = time.time()\n",
    "    print(minimum_distance_squared(A))\n",
    "    print(\"--- %s seconds ---\" % (time.time() - start_time))"
   ]
  },
  {
   "cell_type": "code",
   "execution_count": 263,
   "metadata": {},
   "outputs": [
    {
     "name": "stdout",
     "output_type": "stream",
     "text": [
      "21181.637000005452\n",
      "--- 4.27167820930481 seconds ---\n"
     ]
    }
   ],
   "source": [
    "ComplexityTest(10**9)"
   ]
  },
  {
   "cell_type": "code",
   "execution_count": 238,
   "metadata": {},
   "outputs": [
    {
     "name": "stdout",
     "output_type": "stream",
     "text": [
      "295.70255325241953\n",
      "--- 4.308741569519043 seconds ---\n"
     ]
    }
   ],
   "source": [
    "ComplexityTest(10**7)"
   ]
  },
  {
   "cell_type": "code",
   "execution_count": 239,
   "metadata": {},
   "outputs": [
    {
     "name": "stdout",
     "output_type": "stream",
     "text": [
      "16.0312195418814\n",
      "--- 4.2776525020599365 seconds ---\n"
     ]
    }
   ],
   "source": [
    "ComplexityTest(10**6)"
   ]
  },
  {
   "cell_type": "code",
   "execution_count": 240,
   "metadata": {},
   "outputs": [
    {
     "name": "stdout",
     "output_type": "stream",
     "text": [
      "1.0\n",
      "--- 4.154857158660889 seconds ---\n"
     ]
    }
   ],
   "source": [
    "ComplexityTest(10**5)"
   ]
  },
  {
   "cell_type": "code",
   "execution_count": 292,
   "metadata": {},
   "outputs": [
    {
     "name": "stdout",
     "output_type": "stream",
     "text": [
      "--- 0.07400751113891602 seconds ---\n"
     ]
    }
   ],
   "source": [
    "points = []\n",
    "for i in range(100000):\n",
    "    points.append([random.randint(-10**9, 10**9), random.randint(-10**9, 10**9)])\n",
    "start_time = time.time()\n",
    "points.sort()\n",
    "print(\"--- %s seconds ---\" % (time.time() - start_time))"
   ]
  },
  {
   "cell_type": "code",
   "execution_count": 198,
   "metadata": {},
   "outputs": [],
   "source": [
    "# StressTest(16, 20), StressTest(29, 10), StressTest(39, 50), StressTest(10, 10)"
   ]
  },
  {
   "cell_type": "code",
   "execution_count": 301,
   "metadata": {},
   "outputs": [],
   "source": [
    "def insertion_sort(A):\n",
    "    for i in range(1, len(A)):\n",
    "        check = A[i]\n",
    "        j = i - 1\n",
    "        while j >= 0 and check < A[j]:\n",
    "            A[j + 1] = A[j]\n",
    "            j -= 1\n",
    "        A[j + 1] = check\n",
    "    return A\n",
    "        \n",
    "def merge(B, C):\n",
    "    D = []\n",
    "    while len(B) != 0 or len(C) != 0:\n",
    "        if len(B) == 0 or len(C) == 0:\n",
    "            break\n",
    "        if B[0][1] <= C[0][1]:\n",
    "            D.append(B[0])\n",
    "            B = B[1:]\n",
    "        else:\n",
    "            D.append(C[0])\n",
    "            C = C[1:]\n",
    "    D = D + B + C\n",
    "    return D\n",
    "\n",
    "def timsort(A):\n",
    "    run = 32\n",
    "    left = 0\n",
    "    right = run\n",
    "    A_new = []\n",
    "    for i in range(0, len(A), run):\n",
    "        A_new.append(insertion_sort(A[left:right]))\n",
    "        left += run\n",
    "        right += run\n",
    "    #for j in range(0, len(A), 2 * run):\n"
   ]
  },
  {
   "cell_type": "code",
   "execution_count": 302,
   "metadata": {},
   "outputs": [
    {
     "data": {
      "text/plain": [
       "[2, 3, 5, 6, 8, 8, 43]"
      ]
     },
     "execution_count": 302,
     "metadata": {},
     "output_type": "execute_result"
    }
   ],
   "source": [
    "insertion_sort([3,6,8,43,2,8,5])"
   ]
  },
  {
   "cell_type": "code",
   "execution_count": null,
   "metadata": {},
   "outputs": [],
   "source": []
  }
 ],
 "metadata": {
  "kernelspec": {
   "display_name": "Python 3",
   "language": "python",
   "name": "python3"
  },
  "language_info": {
   "codemirror_mode": {
    "name": "ipython",
    "version": 3
   },
   "file_extension": ".py",
   "mimetype": "text/x-python",
   "name": "python",
   "nbconvert_exporter": "python",
   "pygments_lexer": "ipython3",
   "version": "3.7.3"
  }
 },
 "nbformat": 4,
 "nbformat_minor": 2
}
