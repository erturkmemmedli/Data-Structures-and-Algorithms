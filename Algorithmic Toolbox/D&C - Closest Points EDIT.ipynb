{
 "cells": [
  {
   "cell_type": "markdown",
   "metadata": {},
   "source": [
    "## Divide and Conquer Algorithms\n"
   ]
  },
  {
   "cell_type": "markdown",
   "metadata": {},
   "source": [
    "\n",
    "### Closest Points Naive"
   ]
  },
  {
   "cell_type": "code",
   "execution_count": 36,
   "metadata": {},
   "outputs": [
    {
     "name": "stdout",
     "output_type": "stream",
     "text": [
      "2\n",
      "1 3\n",
      "2 4\n",
      "1.4142135623730951\n"
     ]
    }
   ],
   "source": [
    "from collections import namedtuple\n",
    "from itertools import combinations\n",
    "from math import sqrt\n",
    "\n",
    "#Point = namedtuple('Point', 'x y')\n",
    "\n",
    "def distance_squared(first_point, second_point):\n",
    "    #return (first_point.x - second_point.x) ** 2 + (first_point.y - second_point.y) ** 2\n",
    "    return (first_point[0] - second_point[0]) ** 2 + (first_point[1] - second_point[1]) ** 2\n",
    "\n",
    "def minimum_distance_squared_naive(points):\n",
    "    min_distance_squared = float(\"inf\")\n",
    "    for p, q in combinations(points, 2):\n",
    "        min_distance_squared = min(min_distance_squared,\n",
    "                                   distance_squared(p, q))\n",
    "    #return min_distance_squared\n",
    "    return sqrt(min_distance_squared)\n",
    "\n",
    "if __name__ == '__main__':\n",
    "    input_n = int(input())\n",
    "    input_points = []\n",
    "    for _ in range(input_n):\n",
    "        x, y = map(int, input().split())\n",
    "        #input_point = Point(x, y)\n",
    "        input_point = [x, y]\n",
    "        input_points.append(input_point)\n",
    "    #print(\"{0:.9f}\".format(sqrt(minimum_distance_squared_naive(input_points))))\n",
    "    print(minimum_distance_squared_naive(input_points))"
   ]
  },
  {
   "cell_type": "markdown",
   "metadata": {},
   "source": [
    "### Closest Points\n",
    "Find the closest pair of points in a set of **n≤10^5** points on a plane"
   ]
  },
  {
   "cell_type": "code",
   "execution_count": 12,
   "metadata": {},
   "outputs": [],
   "source": [
    "from itertools import combinations\n",
    "import random\n",
    "import time\n",
    "\n",
    "def minimum_distance_squared_naive(points):\n",
    "    min_distance_squared = float(\"inf\")\n",
    "    for p, q in combinations(points, 2):\n",
    "        min_distance_squared = min(min_distance_squared, distance_calculator(p, q))\n",
    "    return min_distance_squared\n",
    "\n",
    "def partition3(A, l, r):\n",
    "    pivot = A[l]\n",
    "    part1 = l\n",
    "    part2 = l\n",
    "    for i in range(l + 1, r + 1):\n",
    "        if A[i] < pivot:\n",
    "            part1 += 1\n",
    "            part2 += 1\n",
    "            A[i], A[part2] = A[part2], A[i]\n",
    "            A[part2], A[part1] = A[part1], A[part2]\n",
    "        elif A[i] == pivot:\n",
    "            part2 += 1\n",
    "            A[i], A[part2] = A[part2], A[i]\n",
    "    A[l], A[part1] = A[part1], A[l]\n",
    "    return part1, part2\n",
    "\n",
    "def randomized_quick_sort(A, l, r):\n",
    "    if l >= r:\n",
    "        return\n",
    "    k = random.randint(l, r)\n",
    "    A[l], A[k] = A[k], A[l]\n",
    "    (m1, m2) = partition3(A, l, r)\n",
    "    randomized_quick_sort(A, l, m1 - 1)\n",
    "    randomized_quick_sort(A, m2 + 1, r)\n",
    "\n",
    "def distance_calculator(first, second):\n",
    "    return ((first[0] - second[0]) ** 2 + (first[1] - second[1]) ** 2) ** 0.5\n",
    "\n",
    "def minimum_left_right(A):\n",
    "    minimum = float('inf')\n",
    "    #print(A)\n",
    "    if len(A) == 3:\n",
    "        if distance_calculator(A[0], A[1]) <= distance_calculator(A[0], A[2]):\n",
    "            A = A[0:2] + A[1:]\n",
    "        else:\n",
    "            A = A[0::2] + A[1:]\n",
    "    if len(A) == 2:\n",
    "        minimum = min(minimum, distance_calculator(A[0], A[1]))\n",
    "        #print('minimum', minimum)\n",
    "        return minimum\n",
    "    mid = len(A) // 2\n",
    "    X = minimum_left_right(A[:mid])\n",
    "    Y = minimum_left_right(A[mid:])\n",
    "    d = min(X, Y)\n",
    "    V = final_test(quicksort(filter_mid(A[:mid], int(d))))\n",
    "    W = final_test(quicksort(filter_mid(A[mid:], int(d))))\n",
    "    d_mid = min(V, W)\n",
    "    return min(d, d_mid)\n",
    "\n",
    "def filter_mid(A, d):\n",
    "    mid = len(A) // 2\n",
    "    P = []\n",
    "    for i in range(len(A)):\n",
    "        if abs(A[mid][0] - A[i][0]) <= int(d):\n",
    "            P.append(A[i])\n",
    "    return P\n",
    "\n",
    "def quicksort(A):\n",
    "    if len(A) <= 1:\n",
    "        return A\n",
    "    pivot = A[0]\n",
    "    less = [y for y in A[1:] if y[1] < pivot[1]]\n",
    "    greater = [y for y in A[1:] if y[1] >= pivot[1]]\n",
    "    return quicksort(less) + [pivot] + quicksort(greater)\n",
    "\n",
    "def final_test(A):\n",
    "    d_prime = float('inf')\n",
    "    for i in range(len(A)):\n",
    "        for j in range(i + 1, len(A)):\n",
    "            if abs(i - j) < 7:\n",
    "                d_prime = min(d_prime, distance_calculator(A[i], A[j]))\n",
    "            else:\n",
    "                break\n",
    "        #print('d_prime', d_prime)\n",
    "    return d_prime\n",
    "\n",
    "def zero_check(A):\n",
    "    for i in range(len(A) - 1):\n",
    "        if A[i] == A[i + 1]:\n",
    "            return distance_calculator(A[i], A[i + 1])\n",
    "        \n",
    "def minimum_distance_squared(points):\n",
    "    assert 2 <= len(points) <= 10 ** 5\n",
    "    l = 0\n",
    "    r = len(points) - 1\n",
    "    randomized_quick_sort(points, l, r)\n",
    "    #print('Points sorted by x-axis: ', points)\n",
    "    if zero_check(points) == 0:\n",
    "        return zero_check(points)\n",
    "    distance = minimum_left_right(points)\n",
    "    #print('Minimum distance between points in right-hand side and left-hand side: ', distance)\n",
    "    mid_points = filter_mid(points, distance)\n",
    "    #print('Points locating in middle part: ', mid_points)\n",
    "    sort_y = quicksort(mid_points)\n",
    "    #print('Middle part sorted by y-axis: ', sort_y)\n",
    "    mid_distance = final_test(sort_y)\n",
    "    #print('Minimum distance between points in middle part: ', mid_distance)\n",
    "    minimum = min(distance, mid_distance)\n",
    "    #print('Distance between closest points: ', minimum)\n",
    "    return minimum\n",
    "\n",
    "def StressTest(N, M):\n",
    "    assert 2 <= N <= 100\n",
    "    assert 0 <= M <= 10**9\n",
    "    while True:\n",
    "        n = random.randint(2, N)\n",
    "        A = [[random.randint(0, M), random.randint(0, M)] for i in range(0, N)]\n",
    "        print(A)\n",
    "        result1 = minimum_distance_squared_naive(A)\n",
    "        result2 = minimum_distance_squared(A)\n",
    "        if result1 == result2:\n",
    "            print('OK', 'result1, result2 = ', result1)\n",
    "        else:\n",
    "            print('Answer is wrong:', 'result1 = ', result1, 'result2 = ', result2)\n",
    "            break\n",
    "\n",
    "def ComplexityTest(N, M):\n",
    "    assert 2 <= N <= 10**5\n",
    "    assert 0 <= M <= 10**9\n",
    "    A = [[random.randint(-M, M), random.randint(-M, M)] for i in range(0, N)]\n",
    "    start_time = time.time()\n",
    "    print(minimum_distance_squared(A))\n",
    "    print(\"--- %s seconds ---\" % (time.time() - start_time))"
   ]
  },
  {
   "cell_type": "code",
   "execution_count": 14,
   "metadata": {},
   "outputs": [
    {
     "name": "stdout",
     "output_type": "stream",
     "text": [
      "[[100, 96], [58, 55], [40, 17], [90, 76], [30, 51], [13, 88], [66, 94], [94, 30], [68, 27], [73, 85], [19, 41], [53, 8], [31, 32], [57, 69], [48, 46], [49, 40], [51, 89], [57, 45], [26, 32], [32, 96]]\n",
      "OK result1, result2 =  5.0\n",
      "[[32, 36], [56, 31], [38, 28], [13, 9], [18, 5], [98, 97], [71, 25], [78, 13], [70, 11], [11, 36], [12, 33], [16, 74], [78, 13], [80, 17], [18, 30], [49, 39], [81, 46], [8, 33], [9, 6], [0, 67]]\n",
      "OK result1, result2 =  0.0\n",
      "[[26, 7], [47, 80], [98, 34], [100, 34], [51, 18], [26, 20], [35, 19], [72, 91], [4, 58], [80, 74], [86, 77], [38, 77], [33, 14], [19, 5], [4, 58], [39, 36], [85, 13], [60, 55], [96, 35], [83, 82]]\n",
      "OK result1, result2 =  0.0\n",
      "[[77, 15], [76, 64], [9, 67], [51, 84], [95, 16], [71, 2], [51, 19], [35, 46], [90, 20], [99, 73], [1, 55], [56, 64], [76, 90], [97, 97], [30, 57], [74, 12], [88, 67], [42, 68], [38, 16], [21, 52]]\n",
      "OK result1, result2 =  4.242640687119285\n",
      "[[28, 66], [29, 65], [60, 53], [75, 29], [68, 8], [68, 54], [25, 25], [77, 21], [13, 77], [59, 88], [68, 99], [9, 44], [2, 100], [35, 72], [81, 94], [36, 14], [36, 86], [84, 54], [1, 43], [87, 25]]\n",
      "OK result1, result2 =  1.4142135623730951\n",
      "[[26, 27], [30, 71], [31, 75], [31, 39], [47, 0], [24, 66], [97, 75], [11, 2], [23, 3], [73, 54], [68, 22], [22, 3], [71, 91], [95, 27], [38, 14], [10, 5], [79, 2], [98, 58], [64, 37], [79, 89]]\n",
      "OK result1, result2 =  1.0\n",
      "[[32, 8], [94, 88], [37, 15], [68, 73], [5, 67], [80, 51], [91, 49], [41, 9], [57, 45], [79, 87], [80, 90], [67, 77], [5, 100], [83, 83], [50, 62], [12, 2], [62, 77], [87, 95], [16, 18], [71, 34]]\n",
      "OK result1, result2 =  3.1622776601683795\n",
      "[[91, 2], [1, 74], [38, 31], [9, 33], [66, 66], [63, 26], [40, 72], [62, 1], [11, 56], [6, 55], [40, 11], [74, 1], [24, 53], [14, 7], [37, 23], [65, 27], [51, 27], [73, 29], [15, 25], [36, 69]]\n",
      "OK result1, result2 =  2.23606797749979\n",
      "[[43, 79], [48, 72], [19, 69], [63, 19], [76, 0], [76, 1], [64, 36], [87, 73], [100, 43], [60, 15], [48, 52], [26, 65], [21, 84], [3, 33], [47, 76], [11, 28], [86, 80], [16, 9], [11, 22], [12, 67]]\n",
      "OK result1, result2 =  1.0\n",
      "[[33, 26], [91, 37], [35, 2], [55, 34], [12, 13], [50, 72], [17, 37], [42, 88], [74, 1], [34, 52], [82, 83], [25, 58], [64, 14], [51, 33], [16, 0], [6, 38], [4, 31], [2, 33], [0, 66], [50, 93]]\n",
      "OK result1, result2 =  2.8284271247461903\n"
     ]
    },
    {
     "ename": "KeyboardInterrupt",
     "evalue": "",
     "output_type": "error",
     "traceback": [
      "\u001b[1;31mKeyboardInterrupt\u001b[0m                         Traceback (most recent call last)"
     ]
    }
   ],
   "source": [
    "StressTest(20, 100)"
   ]
  },
  {
   "cell_type": "code",
   "execution_count": 15,
   "metadata": {},
   "outputs": [
    {
     "name": "stdout",
     "output_type": "stream",
     "text": [
      "23757.4203355499\n",
      "--- 7.161779165267944 seconds ---\n"
     ]
    }
   ],
   "source": [
    "ComplexityTest(10**5, 1000000000)"
   ]
  },
  {
   "cell_type": "code",
   "execution_count": 16,
   "metadata": {},
   "outputs": [
    {
     "name": "stdout",
     "output_type": "stream",
     "text": [
      "3.0\n",
      "--- 6.855934381484985 seconds ---\n"
     ]
    }
   ],
   "source": [
    "ComplexityTest(10**5, 1000000)"
   ]
  },
  {
   "cell_type": "code",
   "execution_count": 17,
   "metadata": {},
   "outputs": [
    {
     "name": "stdout",
     "output_type": "stream",
     "text": [
      "0.0\n",
      "--- 0.9959805011749268 seconds ---\n"
     ]
    }
   ],
   "source": [
    "ComplexityTest(10**5, 10000)"
   ]
  },
  {
   "cell_type": "code",
   "execution_count": 18,
   "metadata": {},
   "outputs": [
    {
     "name": "stdout",
     "output_type": "stream",
     "text": [
      "0.0\n",
      "--- 0.11393475532531738 seconds ---\n"
     ]
    }
   ],
   "source": [
    "ComplexityTest(10**5, 1)"
   ]
  },
  {
   "cell_type": "code",
   "execution_count": null,
   "metadata": {},
   "outputs": [],
   "source": []
  }
 ],
 "metadata": {
  "kernelspec": {
   "display_name": "Python 3",
   "language": "python",
   "name": "python3"
  },
  "language_info": {
   "codemirror_mode": {
    "name": "ipython",
    "version": 3
   },
   "file_extension": ".py",
   "mimetype": "text/x-python",
   "name": "python",
   "nbconvert_exporter": "python",
   "pygments_lexer": "ipython3",
   "version": "3.8.3"
  }
 },
 "nbformat": 4,
 "nbformat_minor": 2
}
