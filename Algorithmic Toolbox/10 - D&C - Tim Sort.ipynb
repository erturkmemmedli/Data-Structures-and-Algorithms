{
 "cells": [
  {
   "cell_type": "markdown",
   "metadata": {},
   "source": [
    "## Divide and Conquer Algorithms"
   ]
  },
  {
   "cell_type": "markdown",
   "metadata": {},
   "source": [
    "### Insertion Sort"
   ]
  },
  {
   "cell_type": "code",
   "execution_count": 117,
   "metadata": {},
   "outputs": [],
   "source": [
    "def insertion_sort(A):\n",
    "    left = 0\n",
    "    right = len(A)\n",
    "    for i in range(left + 1, right):\n",
    "        temp = A[i]\n",
    "        j = i - 1\n",
    "        while j >= left and temp < A[j]:\n",
    "            A[j + 1] = A[j]\n",
    "            j -= 1\n",
    "        A[j + 1] = temp\n",
    "    return A"
   ]
  },
  {
   "cell_type": "code",
   "execution_count": 124,
   "metadata": {},
   "outputs": [],
   "source": [
    "import random\n",
    "A = [random.randint(0,100) for i in range(20)]"
   ]
  },
  {
   "cell_type": "code",
   "execution_count": 125,
   "metadata": {},
   "outputs": [
    {
     "data": {
      "text/plain": [
       "[0, 4, 7, 12, 12, 16, 17, 22, 25, 31, 35, 52, 55, 63, 78, 79, 80, 82, 87, 96]"
      ]
     },
     "execution_count": 125,
     "metadata": {},
     "output_type": "execute_result"
    }
   ],
   "source": [
    "insertion_sort(A)"
   ]
  },
  {
   "cell_type": "markdown",
   "metadata": {},
   "source": [
    "Some merge algorithms for Tim Sort before I found the faster one and implemented in Tim Sort algorithm"
   ]
  },
  {
   "cell_type": "code",
   "execution_count": 126,
   "metadata": {},
   "outputs": [],
   "source": [
    "def merge_v1(A, left, mid, right):\n",
    "    temp = 0\n",
    "    fix = 0\n",
    "    for i in range(left, right):\n",
    "        if mid + temp < right:\n",
    "            j = mid + temp\n",
    "            k = A[mid + temp]\n",
    "        if mid + fix < right:\n",
    "            r = A[mid + fix]\n",
    "        f = A[i]\n",
    "        while i < j and f > k:\n",
    "            A[j] = A[j - 1]\n",
    "            j -= 1\n",
    "        fix += 1\n",
    "        if j == i:\n",
    "            temp += 1\n",
    "            fix = temp\n",
    "        if fix == temp:\n",
    "            A[j] = k\n",
    "\n",
    "def merge_v2(A, left, mid, right):\n",
    "    l = A[left:mid]\n",
    "    r = A[mid:right]\n",
    "    while len(l) != 0 or len(r) != 0:\n",
    "        if len(l) == 0 or len(r) == 0:\n",
    "            break\n",
    "        if l[0] <= r[0]:\n",
    "            A[left] = l[0]\n",
    "            l = l[1:]\n",
    "            left += 1\n",
    "        else:\n",
    "            A[left] = r[0]\n",
    "            r = r[1:]\n",
    "            left += 1\n",
    "    while left < right:\n",
    "        if len(r) != 0:\n",
    "            A[left] = r[0]\n",
    "            left += 1\n",
    "            r = r[1:]\n",
    "        if len(l) != 0:\n",
    "            A[left] = l[0]\n",
    "            left += 1\n",
    "            l = l[1:]"
   ]
  },
  {
   "cell_type": "markdown",
   "metadata": {},
   "source": [
    "### Tim Sort "
   ]
  },
  {
   "cell_type": "code",
   "execution_count": 147,
   "metadata": {},
   "outputs": [],
   "source": [
    "def insertion_sort(A, left, right):\n",
    "    for i in range(left + 1, right):\n",
    "        temp = A[i]\n",
    "        j = i - 1\n",
    "        while j >= left and temp < A[j]:\n",
    "            A[j + 1] = A[j]\n",
    "            j -= 1\n",
    "        A[j + 1] = temp\n",
    "        \n",
    "def merge(A, left, mid, right):\n",
    "    l = A[left:mid]\n",
    "    r = A[mid:right]\n",
    "    i, j, k = 0, 0, left\n",
    "    while i < len(l) and j < len(r):\n",
    "        if l[i] <= r[j]:\n",
    "            A[k] = l[i]\n",
    "            i += 1\n",
    "        else:\n",
    "            A[k] = r[j]\n",
    "            j += 1\n",
    "        k += 1\n",
    "    while i < len(l):\n",
    "        A[k] = l[i]\n",
    "        k += 1\n",
    "        i += 1\n",
    "    while j < len(r):\n",
    "        A[k] = r[j]\n",
    "        k += 1\n",
    "        j += 1\n",
    "\n",
    "def tim_sort(A):\n",
    "    run = 32\n",
    "    left = 0\n",
    "    right = run\n",
    "    for i in range(0, len(A), run):\n",
    "        if right <= len(A):\n",
    "            insertion_sort(A, left, right)\n",
    "        else:\n",
    "            insertion_sort(A, left, len(A))\n",
    "        left += run\n",
    "        right += run\n",
    "    size = run\n",
    "    left = 0\n",
    "    mid = run\n",
    "    right = run * 2\n",
    "    while size <= len(A):\n",
    "        if right <= len(A):\n",
    "            merge(A, left, mid, right)\n",
    "            left += size * 2\n",
    "            mid += size * 2\n",
    "            right += size * 2\n",
    "        elif mid <= len(A):\n",
    "            merge(A, left, mid, len(A))\n",
    "            left += size * 2\n",
    "            mid += size * 2\n",
    "            right += size * 2\n",
    "        else:\n",
    "            size *= 2\n",
    "            left = 0\n",
    "            mid = size\n",
    "            right = size * 2"
   ]
  },
  {
   "cell_type": "code",
   "execution_count": 148,
   "metadata": {},
   "outputs": [],
   "source": [
    "import random\n",
    "import time"
   ]
  },
  {
   "cell_type": "code",
   "execution_count": 149,
   "metadata": {},
   "outputs": [],
   "source": [
    "A = [random.randint(0, 10000) for i in range(10**5)]"
   ]
  },
  {
   "cell_type": "code",
   "execution_count": 150,
   "metadata": {},
   "outputs": [
    {
     "name": "stdout",
     "output_type": "stream",
     "text": [
      "0.8355422019958496 seconds\n"
     ]
    }
   ],
   "source": [
    "timer = time.time()\n",
    "tim_sort(A)\n",
    "print(f'{time.time() - timer} seconds')"
   ]
  }
 ],
 "metadata": {
  "kernelspec": {
   "display_name": "Python 3",
   "language": "python",
   "name": "python3"
  },
  "language_info": {
   "codemirror_mode": {
    "name": "ipython",
    "version": 3
   },
   "file_extension": ".py",
   "mimetype": "text/x-python",
   "name": "python",
   "nbconvert_exporter": "python",
   "pygments_lexer": "ipython3",
   "version": "3.8.3"
  }
 },
 "nbformat": 4,
 "nbformat_minor": 4
}
