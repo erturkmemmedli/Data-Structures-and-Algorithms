{
 "cells": [
  {
   "cell_type": "markdown",
   "metadata": {},
   "source": [
    "### Two Rocks Game (Dynamic Programming ALgorithm)"
   ]
  },
  {
   "cell_type": "markdown",
   "metadata": {},
   "source": [
    "    Play the “Two Rocks Game” in n x m size board with two piles of rocks. In each turn, one player may take either one rock\n",
    "    (from either pile) or two rocks (one from each pile). Once the rocks are taken, they are removed from play. The player\n",
    "    that takes the last rock wins the game. You are the Player 1 and make the first move.\n",
    "    \n",
    "    Denote \"lose\" with L and \"win\" with W."
   ]
  },
  {
   "cell_type": "code",
   "execution_count": 82,
   "metadata": {},
   "outputs": [],
   "source": [
    "def TwoRocks(n, m):\n",
    "    R = [['-'] * (m+1) for i in range(n+1)]\n",
    "    R[0][0] = 'L'\n",
    "    for u in range(1, n+1):\n",
    "        if R[u-1][0] == 'W':\n",
    "            R[u][0] = 'L'\n",
    "        else:\n",
    "            R[u][0] = 'W'\n",
    "    for v in range(1, m+1):\n",
    "        if R[0][v-1] == 'W':\n",
    "            R[0][v] = 'L'\n",
    "        else:\n",
    "            R[0][v] = 'W'\n",
    "    for i in range(1, n+1):\n",
    "        for j in range(1, m+1):\n",
    "            if R[i-1][j-1] == 'W' and R[0][j-1] == 'W' and R[i-1][0] == 'W':\n",
    "                R[i][j] = 'L'\n",
    "            else:\n",
    "                R[i][j] = 'W'\n",
    "    fix = [[\"x\"] + [i for i in range(0, m+1)]] + R\n",
    "    fix = [fix[0]] + [[i] + fix[i] for i in range(1, n+1)]\n",
    "    for k in range(n+1):\n",
    "        print(*fix[k])\n",
    "    if R[i][j] == 'W':\n",
    "        return \"Win\"\n",
    "    else:\n",
    "        return \"Lose\""
   ]
  },
  {
   "cell_type": "code",
   "execution_count": 83,
   "metadata": {},
   "outputs": [
    {
     "name": "stdout",
     "output_type": "stream",
     "text": [
      "x 0 1 2 3 4 5 6 7 8 9 10\n",
      "1 L W L W L W L W L W L\n",
      "2 W W W W W W W W W W W\n",
      "3 L W L W L W L W L W L\n",
      "4 W W W W W W W W W W W\n",
      "5 L W L W L W L W L W L\n",
      "6 W W W W W W W W W W W\n",
      "7 L W L W L W L W L W L\n",
      "8 W W W W W W W W W W W\n",
      "9 L W L W L W L W L W L\n",
      "10 W W W W W W W W W W W\n"
     ]
    },
    {
     "data": {
      "text/plain": [
       "'Lose'"
      ]
     },
     "execution_count": 83,
     "metadata": {},
     "output_type": "execute_result"
    }
   ],
   "source": [
    "TwoRocks(10, 10)"
   ]
  },
  {
   "cell_type": "code",
   "execution_count": 84,
   "metadata": {},
   "outputs": [
    {
     "name": "stdout",
     "output_type": "stream",
     "text": [
      "x 0 1 2 3 4 5 6 7 8 9 10\n",
      "1 L W L W L W L W L W L\n",
      "2 W W W W W W W W W W W\n",
      "3 L W L W L W L W L W L\n",
      "4 W W W W W W W W W W W\n",
      "5 L W L W L W L W L W L\n",
      "6 W W W W W W W W W W W\n",
      "7 L W L W L W L W L W L\n",
      "8 W W W W W W W W W W W\n",
      "9 L W L W L W L W L W L\n",
      "10 W W W W W W W W W W W\n",
      "11 L W L W L W L W L W L\n",
      "12 W W W W W W W W W W W\n",
      "13 L W L W L W L W L W L\n",
      "14 W W W W W W W W W W W\n",
      "15 L W L W L W L W L W L\n"
     ]
    },
    {
     "data": {
      "text/plain": [
       "'Win'"
      ]
     },
     "execution_count": 84,
     "metadata": {},
     "output_type": "execute_result"
    }
   ],
   "source": [
    "TwoRocks(15, 10)"
   ]
  },
  {
   "cell_type": "code",
   "execution_count": 85,
   "metadata": {},
   "outputs": [],
   "source": [
    "def FastTwoRocks(n, m):\n",
    "    if n % 2 == 0 and m % 2 == 0:\n",
    "        return \"Lose\"\n",
    "    else:\n",
    "        return \"Win\""
   ]
  },
  {
   "cell_type": "code",
   "execution_count": 86,
   "metadata": {},
   "outputs": [
    {
     "data": {
      "text/plain": [
       "'Lose'"
      ]
     },
     "execution_count": 86,
     "metadata": {},
     "output_type": "execute_result"
    }
   ],
   "source": [
    "FastTwoRocks(20, 22)"
   ]
  },
  {
   "cell_type": "code",
   "execution_count": 87,
   "metadata": {},
   "outputs": [
    {
     "data": {
      "text/plain": [
       "'Win'"
      ]
     },
     "execution_count": 87,
     "metadata": {},
     "output_type": "execute_result"
    }
   ],
   "source": [
    "FastTwoRocks(25, 25)"
   ]
  },
  {
   "cell_type": "markdown",
   "metadata": {},
   "source": [
    "### 3-Peg Hanoi Towers Game (Recursive Algorithm)"
   ]
  },
  {
   "cell_type": "markdown",
   "metadata": {},
   "source": [
    "    The Towers of Hanoi puzzle consists of three pegs, which we label from left to right as 1, 2, and 3, and a number of\n",
    "    disks of decreasing radius, each with a hole in the center. The disks are initially stacked on the left peg (peg 1)\n",
    "    so that smaller disks are on top of larger ones. The game is played by moving one disk at a time between pegs. You\n",
    "    are only allowed to place smaller disks on top of larger ones, and any disk may go onto an empty peg. The puzzle is\n",
    "    solved when all of the disks have been moved from peg 1 to peg 3 (from_peg = 1 and to_peg = 3).\n",
    "    \n",
    "    Input: An integer n.\n",
    "    Output: A sequence of moves that solve the n-disk Towers of Hanoi puzzle.\n",
    "   "
   ]
  },
  {
   "cell_type": "code",
   "execution_count": 3,
   "metadata": {},
   "outputs": [],
   "source": [
    "def HanoiTowers(n, from_peg, to_peg):\n",
    "    if n == 1:\n",
    "        print(f'Move disk peg {from_peg} to peg {to_peg}')\n",
    "        return\n",
    "    temp_peg = 6 - from_peg - to_peg\n",
    "    HanoiTowers(n-1, from_peg, temp_peg)\n",
    "    print(f'Move disk peg {from_peg} to peg {to_peg}')\n",
    "    HanoiTowers(n-1, temp_peg, to_peg)\n",
    "    return"
   ]
  },
  {
   "cell_type": "code",
   "execution_count": 4,
   "metadata": {},
   "outputs": [
    {
     "name": "stdout",
     "output_type": "stream",
     "text": [
      "Move disk peg 1 to peg 3\n",
      "Move disk peg 1 to peg 2\n",
      "Move disk peg 3 to peg 2\n",
      "Move disk peg 1 to peg 3\n",
      "Move disk peg 2 to peg 1\n",
      "Move disk peg 2 to peg 3\n",
      "Move disk peg 1 to peg 3\n"
     ]
    }
   ],
   "source": [
    "HanoiTowers(3, 1, 3)"
   ]
  },
  {
   "cell_type": "code",
   "execution_count": 5,
   "metadata": {},
   "outputs": [
    {
     "name": "stdout",
     "output_type": "stream",
     "text": [
      "Move disk peg 1 to peg 2\n",
      "Move disk peg 1 to peg 3\n",
      "Move disk peg 2 to peg 3\n",
      "Move disk peg 1 to peg 2\n",
      "Move disk peg 3 to peg 1\n",
      "Move disk peg 3 to peg 2\n",
      "Move disk peg 1 to peg 2\n",
      "Move disk peg 1 to peg 3\n",
      "Move disk peg 2 to peg 3\n",
      "Move disk peg 2 to peg 1\n",
      "Move disk peg 3 to peg 1\n",
      "Move disk peg 2 to peg 3\n",
      "Move disk peg 1 to peg 2\n",
      "Move disk peg 1 to peg 3\n",
      "Move disk peg 2 to peg 3\n"
     ]
    }
   ],
   "source": [
    "HanoiTowers(4, 1, 3)"
   ]
  },
  {
   "cell_type": "code",
   "execution_count": 6,
   "metadata": {},
   "outputs": [
    {
     "name": "stdout",
     "output_type": "stream",
     "text": [
      "Move disk peg 1 to peg 3\n",
      "Move disk peg 1 to peg 2\n",
      "Move disk peg 3 to peg 2\n",
      "Move disk peg 1 to peg 3\n",
      "Move disk peg 2 to peg 1\n",
      "Move disk peg 2 to peg 3\n",
      "Move disk peg 1 to peg 3\n",
      "Move disk peg 1 to peg 2\n",
      "Move disk peg 3 to peg 2\n",
      "Move disk peg 3 to peg 1\n",
      "Move disk peg 2 to peg 1\n",
      "Move disk peg 3 to peg 2\n",
      "Move disk peg 1 to peg 3\n",
      "Move disk peg 1 to peg 2\n",
      "Move disk peg 3 to peg 2\n",
      "Move disk peg 1 to peg 3\n",
      "Move disk peg 2 to peg 1\n",
      "Move disk peg 2 to peg 3\n",
      "Move disk peg 1 to peg 3\n",
      "Move disk peg 2 to peg 1\n",
      "Move disk peg 3 to peg 2\n",
      "Move disk peg 3 to peg 1\n",
      "Move disk peg 2 to peg 1\n",
      "Move disk peg 2 to peg 3\n",
      "Move disk peg 1 to peg 3\n",
      "Move disk peg 1 to peg 2\n",
      "Move disk peg 3 to peg 2\n",
      "Move disk peg 1 to peg 3\n",
      "Move disk peg 2 to peg 1\n",
      "Move disk peg 2 to peg 3\n",
      "Move disk peg 1 to peg 3\n"
     ]
    }
   ],
   "source": [
    "HanoiTowers(5,1,3)"
   ]
  }
 ],
 "metadata": {
  "kernelspec": {
   "display_name": "Python 3",
   "language": "python",
   "name": "python3"
  },
  "language_info": {
   "codemirror_mode": {
    "name": "ipython",
    "version": 3
   },
   "file_extension": ".py",
   "mimetype": "text/x-python",
   "name": "python",
   "nbconvert_exporter": "python",
   "pygments_lexer": "ipython3",
   "version": "3.8.3"
  }
 },
 "nbformat": 4,
 "nbformat_minor": 2
}
