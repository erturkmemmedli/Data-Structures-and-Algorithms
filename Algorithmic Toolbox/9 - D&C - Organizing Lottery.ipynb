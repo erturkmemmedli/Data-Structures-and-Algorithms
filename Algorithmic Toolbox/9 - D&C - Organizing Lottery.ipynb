{
 "cells": [
  {
   "cell_type": "markdown",
   "metadata": {},
   "source": [
    "## Divide and Conquer Algorithms\n"
   ]
  },
  {
   "cell_type": "markdown",
   "metadata": {},
   "source": [
    "### Organizing Lottery\n",
    "You are organizing an online lottery. To participate, a person bets on a single integer. You then draw several segments of consecutive integers at random. A participant’s payoff is proportional to the number of segments that contain the participant’s number. You need an efficient algorithm for computing the payoffs for all participants. A simple scan of the list of all ranges for each participant is too slow since your lottery is very popular: you have thousands of participants and thousands of ranges.\n",
    "\n",
    "Input: A list of **n≤50000** segments and a list of **m≤50000** points.\n",
    "\n",
    "Output: The number of segments containing each point."
   ]
  },
  {
   "cell_type": "code",
   "execution_count": 10,
   "metadata": {},
   "outputs": [],
   "source": [
    "def points_cover_naive(starts, ends, points):\n",
    "    assert len(starts) == len(ends)\n",
    "    count = [0] * len(points)\n",
    "    for index, point in enumerate(points):\n",
    "        for start, end in zip(starts, ends):\n",
    "            if start > end:\n",
    "                start, end = end, start\n",
    "            if start <= point <= end:\n",
    "                count[index] += 1\n",
    "    return count"
   ]
  },
  {
   "cell_type": "code",
   "execution_count": 2,
   "metadata": {},
   "outputs": [
    {
     "name": "stdout",
     "output_type": "stream",
     "text": [
      "9 9 10 12 1 3 8 10 7 11 10 12 4 5 2 15 9 16 2 7 4 1 6 7 13 8 3 10\n",
      "Segments: [[1, 3], [2, 7], [2, 15], [4, 5], [7, 11], [8, 10], [9, 16], [10, 12], [10, 12]]\n",
      "For point 4:\n",
      "Counting segments: [[2, 15], [2, 7], [4, 5]]\n",
      "Total number of segments including 4 is: 3\n",
      "For point 1:\n",
      "Counting segments: [[1, 3]]\n",
      "Total number of segments including 1 is: 1\n",
      "For point 6:\n",
      "Counting segments: [[2, 15], [2, 7]]\n",
      "Total number of segments including 6 is: 2\n",
      "For point 7:\n",
      "Counting segments: [[2, 15], [7, 11], [2, 7]]\n",
      "Total number of segments including 7 is: 3\n",
      "For point 13:\n",
      "Counting segments: [[9, 16], [2, 15]]\n",
      "Total number of segments including 13 is: 2\n",
      "For point 8:\n",
      "Counting segments: [[2, 15], [7, 11], [8, 10]]\n",
      "Total number of segments including 8 is: 3\n",
      "For point 3:\n",
      "Counting segments: [[2, 15], [2, 7], [1, 3]]\n",
      "Total number of segments including 3 is: 3\n",
      "For point 10:\n",
      "Counting segments: [[9, 16], [2, 15], [10, 12], [10, 12], [7, 11], [8, 10]]\n",
      "Total number of segments including 10 is: 6\n",
      "3 1 2 3 2 3 3 6\n"
     ]
    }
   ],
   "source": [
    "def merge_sort(A):\n",
    "    if len(A) == 1:\n",
    "        return A\n",
    "    m = len(A) // 2\n",
    "    B = merge_sort(A[:m])\n",
    "    C = merge_sort(A[m:])\n",
    "    A_new = merge(B, C)\n",
    "    return A_new\n",
    "\n",
    "def merge(B, C):\n",
    "    D = []\n",
    "    while len(B) != 0 and len(C) != 0:\n",
    "        if B[0] <= C[0]:\n",
    "            D.append(B[0])\n",
    "            B = B[1:]\n",
    "        else:\n",
    "            D.append(C[0])\n",
    "            C = C[1:]\n",
    "    D = D + B + C\n",
    "    return D\n",
    "\n",
    "def reverse_merge_sort(A):\n",
    "    if len(A) == 1:\n",
    "        return A\n",
    "    m = len(A) // 2\n",
    "    B = reverse_merge_sort(A[:m])\n",
    "    C = reverse_merge_sort(A[m:])\n",
    "    A_new = reverse_merge(B, C)\n",
    "    return A_new\n",
    "\n",
    "def reverse_merge(B, C):\n",
    "    D = []\n",
    "    while len(B) != 0 and len(C) != 0:\n",
    "        if B[0][1] >= C[0][1]:\n",
    "            D.append(B[0])\n",
    "            B = B[1:]\n",
    "        else:\n",
    "            D.append(C[0])\n",
    "            C = C[1:]\n",
    "    D = D + B + C\n",
    "    return D\n",
    "\n",
    "def starting(A, x):\n",
    "    if len(A) <= 1:\n",
    "        return A\n",
    "    mid = len(A) // 2\n",
    "    left = A[:mid]\n",
    "    right = A[mid:]\n",
    "    if right[0][0] <= x:\n",
    "        return left + starting(right, x)\n",
    "    else:\n",
    "        return starting(left, x)\n",
    "\n",
    "def ending(A, x):\n",
    "    if len(A) <= 1:\n",
    "        return A\n",
    "    mid = len(A) // 2\n",
    "    left = A[:mid]\n",
    "    right = A[mid:]\n",
    "    if right[0][1] >= x:\n",
    "        return left + ending(right, x)\n",
    "    else:\n",
    "        return ending(left, x)\n",
    "\n",
    "def points_cover(starts, ends, points):\n",
    "    assert len(starts) == len(ends)\n",
    "    pair = []\n",
    "    for i in range(len(starts)):\n",
    "        if starts[i] <= ends[i]:\n",
    "            pair.append([starts[i], ends[i]])\n",
    "        else:\n",
    "            pair.append([ends[i], starts[i]])\n",
    "    # Start and End pairs are appended in the list\n",
    "    sorted_pair = merge_sort(pair)\n",
    "    # Pairs are sorted by increasing order\n",
    "    print(f'Segments: {sorted_pair}')\n",
    "    output_count = []\n",
    "    for j in points:\n",
    "        print(f\"For point {j}:\")\n",
    "        start_extracted = starting(sorted_pair, j)\n",
    "        # Some segments are extracted where left parts of the segments are bigger than the point\n",
    "        start_extracted_reversed = reverse_merge_sort(start_extracted)\n",
    "        # What is left from the segments are sorted by decreasing order of the right parts of the segments\n",
    "        end_extracted = ending(start_extracted_reversed, j)\n",
    "        # Some segments are extracted where right parts of the segments are smaller than the point\n",
    "        print(f'Counting segments: {end_extracted}')\n",
    "        output_count.append(len(end_extracted))\n",
    "        print(f'Total number of segments including {j} is: {output_count[-1]}')\n",
    "    return output_count\n",
    "\n",
    "if __name__ == '__main__':\n",
    "    data = list(map(int, input().split()))\n",
    "    n, m = data[0], data[1]\n",
    "    input_starts, input_ends = data[2:2 * n + 2:2], data[3:2 * n + 2:2]\n",
    "    input_points = data[2 * n + 2:]\n",
    "\n",
    "    output_count = points_cover(input_starts, input_ends, input_points)\n",
    "    print(*output_count)"
   ]
  },
  {
   "cell_type": "markdown",
   "metadata": {},
   "source": [
    "    With large input, the algorithm was slow. So, while the complexity was m*n in the naive version, it was m*n*logn in the above version. So I tried to improve it."
   ]
  },
  {
   "cell_type": "code",
   "execution_count": 3,
   "metadata": {},
   "outputs": [],
   "source": [
    "def points_cover(starts, ends, points):\n",
    "    assert len(starts) == len(ends)\n",
    "    pair = []\n",
    "    for i in range(len(starts)):\n",
    "        if starts[i] <= ends[i]:\n",
    "            pair.append([starts[i], ends[i]])\n",
    "        else:\n",
    "            pair.append([ends[i], starts[i]])\n",
    "    segments = merge_sort(pair)\n",
    "    reverse_segments = reverse_merge_sort(pair)\n",
    "    output_count = []\n",
    "    for j in points:\n",
    "        result = []\n",
    "        count = 0\n",
    "        start_extracted = starting(segments, j)\n",
    "        end_extracted = ending(reverse_segments, j)\n",
    "        if len(start_extracted) <= len(end_extracted):\n",
    "            for k in start_extracted:\n",
    "                if k[0] < j < k[1]:\n",
    "                    count += 1\n",
    "            result.append(count)\n",
    "        else:            \n",
    "            for k in end_extracted:\n",
    "                if k[0] < j < k[1]:\n",
    "                    count += 1\n",
    "            result.append(count)\n",
    "    return result"
   ]
  },
  {
   "cell_type": "markdown",
   "metadata": {},
   "source": [
    "    Although some undesired parts are removed with merge sort and recursive binary search algorithm, complexity is again m*n and the code does not work better than the naive algorithm. So I tried again to find the best possible solution."
   ]
  },
  {
   "cell_type": "code",
   "execution_count": 28,
   "metadata": {},
   "outputs": [],
   "source": [
    "def points_cover(starts, ends, points):\n",
    "    assert len(starts) == len(ends)\n",
    "    pair = []\n",
    "    for i in range(len(starts)):\n",
    "        if starts[i] <= ends[i]:\n",
    "            pair.append((starts[i], 'left'))\n",
    "            pair.append((ends[i], 'right'))\n",
    "        else:\n",
    "            pair.append((ends[i], 'left'))     \n",
    "            pair.append((starts[i], 'right'))\n",
    "    for j in range(len(points)):\n",
    "        pair.append((points[j], 'point'))\n",
    "    pair.sort()\n",
    "    result_dictionary = {}\n",
    "    count_left = 0\n",
    "    count_right = 0\n",
    "    for k in pair:\n",
    "        if k[1] == 'left':\n",
    "            count_left += 1\n",
    "        elif k[1] == 'right':\n",
    "            count_right += 1\n",
    "        else:\n",
    "            result_dictionary[f'point {k[0]}'] = count_left - count_right\n",
    "    # print(result_dictionary)\n",
    "    final_result = []\n",
    "    for z in points:\n",
    "        final_result.append(result_dictionary[f'point {z}'])\n",
    "    print(f'points: {points}')\n",
    "    return final_result\n",
    "\n",
    "if __name__ == '__main__':\n",
    "    data = list(map(int, input().split()))\n",
    "    n, m = data[0], data[1]\n",
    "    input_starts, input_ends = data[2:2 * n + 2:2], data[3:2 * n + 2:2]\n",
    "    input_points = data[2 * n + 2:]\n",
    "\n",
    "    output_count = points_cover(input_starts, input_ends, input_points)\n",
    "    print(f'counts: {output_count}')"
   ]
  },
  {
   "cell_type": "code",
   "execution_count": 26,
   "metadata": {},
   "outputs": [],
   "source": [
    "import random\n",
    "import time\n",
    "\n",
    "def StressTest(N, M, L):\n",
    "    assert 1 <= N <= 5 * 10**4\n",
    "    assert 1 <= M <= 5 * 10**4\n",
    "    assert 0 <= L <= 10**8\n",
    "    while True:\n",
    "        n = random.randint(1, N)\n",
    "        m = random.randint(1, M)\n",
    "        A = [random.randint(0, L) for i in range(0, n)]\n",
    "        B = [random.randint(0, L) for i in range(0, n)]\n",
    "        C = [random.randint(0, L) for i in range(0, m)]\n",
    "        print(A)\n",
    "        print(B)\n",
    "        print(C)\n",
    "        result1 = points_cover_naive(A, B, C)\n",
    "        result2 = points_cover(A, B, C)\n",
    "        if result1 == result2:\n",
    "            print('OK', 'result1, result2 = ', result1)\n",
    "        else:\n",
    "            print('Answer is wrong:', 'result1 = ', result1, 'result2 = ', result2)\n",
    "            break\n",
    "            \n",
    "def ComplexityTest(N, M, L):\n",
    "    assert 1 <= N <= 5 * 10**4\n",
    "    assert 1 <= M <= 5 * 10**4\n",
    "    assert 0 <= L <= 10**8\n",
    "    A = [random.randint(0, L) for i in range(0, N)]\n",
    "    B = [random.randint(0, L) for i in range(0, N)]\n",
    "    C = [random.randint(0, L) for i in range(0, M)]\n",
    "    start_time = time.time()\n",
    "    points_cover(A, B, C)\n",
    "    print(\"--- %s seconds ---\" % (time.time() - start_time))"
   ]
  },
  {
   "cell_type": "code",
   "execution_count": 13,
   "metadata": {},
   "outputs": [
    {
     "name": "stdout",
     "output_type": "stream",
     "text": [
      "[628, 60, 888, 645, 681, 447, 15, 785, 785, 577, 223, 55, 415, 11, 996, 702, 650]\n",
      "[964, 511, 969, 134, 539, 773, 987, 463, 632, 622, 113, 772, 660, 96, 779, 377, 536]\n",
      "[702, 843, 171, 470, 412, 376, 440, 849, 228, 701, 453, 521, 401]\n",
      "points: [702, 843, 171, 470, 412, 376, 440, 849, 228, 701, 453, 521, 401]\n",
      "OK result1, result2 =  [7, 3, 5, 8, 5, 4, 6, 3, 4, 7, 7, 7, 5]\n",
      "[878, 854, 426, 647, 679, 3]\n",
      "[447, 904, 95, 579, 222, 230]\n",
      "[231, 176, 381, 567, 408, 719, 135, 392, 690, 319, 675, 824, 636, 950, 951, 828, 27]\n",
      "points: [231, 176, 381, 567, 408, 719, 135, 392, 690, 319, 675, 824, 636, 950, 951, 828, 27]\n",
      "OK result1, result2 =  [2, 2, 2, 2, 2, 1, 2, 2, 1, 2, 2, 1, 3, 0, 0, 1, 1]\n",
      "[227, 400, 907, 165, 165, 873, 349, 317, 491, 592, 106, 841]\n",
      "[51, 962, 682, 57, 81, 123, 909, 801, 641, 676, 58, 910]\n",
      "[387, 464, 418, 28, 135, 24, 808, 169, 321, 938, 915, 535]\n",
      "points: [387, 464, 418, 28, 135, 24, 808, 169, 321, 938, 915, 535]\n",
      "OK result1, result2 =  [3, 4, 4, 0, 4, 0, 4, 2, 2, 1, 1, 5]\n",
      "[83, 70, 320, 668, 865, 765, 320, 524, 731, 496, 311, 916, 757, 563, 759, 274, 208, 806]\n",
      "[72, 154, 396, 190, 409, 708, 790, 519, 410, 88, 314, 930, 995, 173, 876, 885, 668, 33]\n",
      "[765, 924, 595, 68, 775, 377, 906, 660, 868, 798, 923, 981, 836, 292, 596, 566, 512, 908]\n",
      "points: [765, 924, 595, 68, 775, 377, 906, 660, 868, 798, 923, 981, 836, 292, 596, 566, 512, 908]\n",
      "OK result1, result2 =  [7, 2, 7, 1, 6, 8, 1, 7, 3, 5, 2, 1, 4, 6, 7, 7, 8, 1]\n",
      "[803]\n",
      "[985]\n",
      "[214, 258]\n",
      "points: [214, 258]\n",
      "OK result1, result2 =  [0, 0]\n",
      "[302]\n",
      "[627]\n",
      "[345, 92, 472, 325, 924, 222, 38, 528, 627, 752, 626, 496]\n",
      "points: [345, 92, 472, 325, 924, 222, 38, 528, 627, 752, 626, 496]\n",
      "OK result1, result2 =  [1, 0, 1, 1, 0, 0, 0, 1, 1, 0, 1, 1]\n",
      "[370, 721, 49, 334, 586, 466, 827, 246, 1, 265, 695, 672, 422, 875, 19, 855, 831]\n",
      "[66, 79, 765, 777, 167, 582, 585, 266, 741, 468, 362, 941, 562, 423, 947, 797, 699]\n",
      "[543, 621, 742, 536, 43, 824, 192, 813, 386]\n",
      "points: [543, 621, 742, 536, 43, 824, 192, 813, 386]\n",
      "OK result1, result2 =  [10, 8, 7, 10, 2, 6, 6, 6, 8]\n",
      "[677, 861, 373, 313, 440, 771, 97, 995, 329, 282]\n",
      "[463, 993, 501, 152, 328, 57, 643, 511, 932, 27]\n",
      "[931, 200, 577, 962, 16, 710, 678, 899]\n",
      "points: [931, 200, 577, 962, 16, 710, 678, 899]\n",
      "OK result1, result2 =  [3, 4, 5, 2, 0, 3, 3, 3]\n",
      "[581, 213, 255, 276, 412, 307, 786, 445, 494, 156]\n",
      "[873, 695, 855, 929, 263, 947, 655, 279, 450, 811]\n",
      "[910, 355, 692, 919, 525, 62, 763, 72, 998, 450, 156, 422, 990, 761, 775, 718, 275, 720, 437]\n",
      "points: [910, 355, 692, 919, 525, 62, 763, 72, 998, 450, 156, 422, 990, 761, 775, 718, 275, 720, 437]\n",
      "OK result1, result2 =  [2, 7, 7, 2, 5, 0, 6, 0, 0, 6, 1, 6, 0, 6, 6, 6, 4, 6, 6]\n",
     ]
    },
    {
     "ename": "KeyboardInterrupt",
     "evalue": "",
     "output_type": "error",
     "traceback": [
      "\u001b[1;31m---------------------------------------------------------------------------\u001b[0m",
      "\u001b[1;31mKeyboardInterrupt\u001b[0m"
     ]
    }
   ],
   "source": [
    "StressTest(20, 20, 1000)"
   ]
  },
  {
   "cell_type": "code",
   "execution_count": 25,
   "metadata": {},
   "outputs": [
    {
     "name": "stdout",
     "output_type": "stream",
     "text": [
      "--- 9.490639925003052 seconds ---\n"
     ]
    }
   ],
   "source": [
    "ComplexityTest(50000, 1000, 1000) # naive algorithm"
   ]
  },
  {
   "cell_type": "code",
   "execution_count": 33,
   "metadata": {},
   "outputs": [
    {
     "name": "stdout",
     "output_type": "stream",
     "text": [
      "--- 0.274843692779541 seconds ---\n"
     ]
    }
   ],
   "source": [
    "ComplexityTest(50000, 50000, 1000000) # fast algorithm"
   ]
  }
 ],
 "metadata": {
  "kernelspec": {
   "display_name": "Python 3",
   "language": "python",
   "name": "python3"
  },
  "language_info": {
   "codemirror_mode": {
    "name": "ipython",
    "version": 3
   },
   "file_extension": ".py",
   "mimetype": "text/x-python",
   "name": "python",
   "nbconvert_exporter": "python",
   "pygments_lexer": "ipython3",
   "version": "3.8.3"
  }
 },
 "nbformat": 4,
 "nbformat_minor": 2
}
