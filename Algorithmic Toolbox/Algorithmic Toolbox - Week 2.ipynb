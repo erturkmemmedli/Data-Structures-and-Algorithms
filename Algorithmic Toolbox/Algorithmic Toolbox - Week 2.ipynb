{
 "cells": [
  {
   "cell_type": "code",
   "execution_count": 3,
   "metadata": {},
   "outputs": [
    {
     "name": "stdout",
     "output_type": "stream",
     "text": [
      "10\n",
      "55\n"
     ]
    }
   ],
   "source": [
    "def fibonacci_number(n):\n",
    "    assert 0 <= n <= 45\n",
    "    \n",
    "    if n <= 1:\n",
    "        return n\n",
    "    temp = [0,1]\n",
    "    for i in range(2,n+1):\n",
    "        temp.append(temp[i-2]+temp[i-1])\n",
    "    return temp[-1]\n",
    "    \n",
    "if __name__ == '__main__':\n",
    "    input_n = int(input())\n",
    "    print(fibonacci_number(input_n))"
   ]
  },
  {
   "cell_type": "code",
   "execution_count": 55,
   "metadata": {},
   "outputs": [
    {
     "name": "stdout",
     "output_type": "stream",
     "text": [
      "817593\n",
      "8\n"
     ]
    }
   ],
   "source": [
    "def last_digit_of_fibonacci_number(n):\n",
    "    assert 0 <= n <= 10 ** 7\n",
    "\n",
    "    temp = [0,1]\n",
    "    for i in range(2,60):\n",
    "        temp.append(temp[i-2]+temp[i-1])\n",
    "    return temp[n%60] % 10\n",
    "\n",
    "if __name__ == '__main__':\n",
    "    input_n = int(input())\n",
    "    print(last_digit_of_fibonacci_number(input_n))"
   ]
  },
  {
   "cell_type": "code",
   "execution_count": 4,
   "metadata": {},
   "outputs": [
    {
     "name": "stdout",
     "output_type": "stream",
     "text": [
      "980000 5600000\n",
      "140000\n"
     ]
    }
   ],
   "source": [
    "def gcd(a, b):\n",
    "    assert 0 <= a <= 2 * 10 ** 9 and 0 <= b <= 2 * 10 ** 9\n",
    "\n",
    "    if a < b:\n",
    "        return gcd(b, a)\n",
    "    if a >= b:\n",
    "        if a % b == 0:\n",
    "            return b\n",
    "        else:\n",
    "            a = a % b\n",
    "        return gcd(b, a)\n",
    "\n",
    "if __name__ == '__main__':\n",
    "    input_a, input_b = map(int, input().split())\n",
    "    print(gcd(input_a, input_b))\n"
   ]
  },
  {
   "cell_type": "code",
   "execution_count": 20,
   "metadata": {},
   "outputs": [
    {
     "name": "stdout",
     "output_type": "stream",
     "text": [
      "23452342 632\n",
      "7410940072\n"
     ]
    }
   ],
   "source": [
    "def lcm(a, b):\n",
    "    assert 1 <= a <= 2 * 10 ** 9 and 1 <= b <= 2 * 10 ** 9\n",
    "\n",
    "    def gcd(a, b):\n",
    "        assert 0 <= a <= 2 * 10 ** 9 and 0 <= b <= 2 * 10 ** 9\n",
    "\n",
    "        if a < b:\n",
    "            return gcd(b, a)\n",
    "        if a >= b:\n",
    "            if a % b == 0:\n",
    "                return b\n",
    "            else:\n",
    "                a = a % b\n",
    "            return gcd(b, a)\n",
    "        \n",
    "    return int((a*b) / gcd(a, b))\n",
    "\n",
    "if __name__ == '__main__':\n",
    "    input_a, input_b = map(int, input().split())\n",
    "    print(lcm(input_a, input_b))\n"
   ]
  },
  {
   "cell_type": "code",
   "execution_count": 6,
   "metadata": {},
   "outputs": [
    {
     "name": "stdout",
     "output_type": "stream",
     "text": [
      "4534534559342342 99999\n",
      "18080\n"
     ]
    }
   ],
   "source": [
    "def fibonacci_number_again(n, m):\n",
    "    assert 0 <= n <= 10 ** 18 and 2 <= m <= 10 ** 5\n",
    "\n",
    "    if n <= 1:\n",
    "        return n\n",
    "    temp = [0,1]\n",
    "    for i in range(2,n+1):\n",
    "        temp.append((temp[i-2]+temp[i-1])%m)\n",
    "        if temp[i-1] == 0 and temp[i] == 1:\n",
    "            temp = temp[0:len(temp)-2]\n",
    "            break\n",
    "    return temp[n % len(temp)]\n",
    "\n",
    "if __name__ == '__main__':\n",
    "    input_n, input_m = map(int, input().split())\n",
    "    print(fibonacci_number_again(input_n, input_m))"
   ]
  },
  {
   "cell_type": "code",
   "execution_count": 17,
   "metadata": {},
   "outputs": [
    {
     "name": "stdout",
     "output_type": "stream",
     "text": [
      "213\n",
      "4\n"
     ]
    }
   ],
   "source": [
    "def last_digit_of_the_sum_of_fibonacci_numbers(n):\n",
    "    assert 0 <= n <= 10 ** 18\n",
    "\n",
    "    fibo = [0,1]\n",
    "    for i in range(2,60):\n",
    "        fibo.append(fibo[i-2]+fibo[i-1])\n",
    "    temp = []\n",
    "    for i in range(1,len(fibo)+1):\n",
    "        temp.append(sum(fibo[:i])%10)\n",
    "    return temp[n%60] % 10\n",
    "\n",
    "if __name__ == '__main__':\n",
    "    input_n = int(input())\n",
    "    print(last_digit_of_the_sum_of_fibonacci_numbers(input_n))"
   ]
  },
  {
   "cell_type": "code",
   "execution_count": 12,
   "metadata": {},
   "outputs": [
    {
     "name": "stdout",
     "output_type": "stream",
     "text": [
      "19 10000000000\n",
      "1\n"
     ]
    }
   ],
   "source": [
    "def last_digit_of_the_sum_of_fibonacci_numbers_again(from_index, to_index):\n",
    "    assert 0 <= from_index <= to_index <= 10 ** 18\n",
    "\n",
    "    fiba = [0,1]\n",
    "    for i in range(2,60):\n",
    "        fiba.append(fiba[i-2]+fiba[i-1])\n",
    "    temp = []\n",
    "    for i in range(1,len(fiba)+1):\n",
    "        temp.append(sum(fiba[:i])%10)\n",
    "    result = temp[(to_index % 60)] - temp[(from_index % 60) - 1]\n",
    "    if result < 0:\n",
    "        return result + 10\n",
    "    return result\n",
    "\n",
    "if __name__ == '__main__':\n",
    "    input_from, input_to = map(int, input().split())\n",
    "    print(last_digit_of_the_sum_of_fibonacci_numbers_again(input_from, input_to))"
   ]
  },
  {
   "cell_type": "code",
   "execution_count": 9,
   "metadata": {},
   "outputs": [
    {
     "name": "stdout",
     "output_type": "stream",
     "text": [
      "397841263\n",
      "1\n"
     ]
    }
   ],
   "source": [
    "def last_digit_of_the_sum_of_squares_of_fibonacci_numbers(n):\n",
    "    assert 0 <= n <= 10 ** 18\n",
    "    \n",
    "    if n == 0:\n",
    "        return n\n",
    "    temp = [0,1]\n",
    "    for i in range(2,60):\n",
    "        temp.append(temp[i-2]+temp[i-1])\n",
    "    return (temp[n%60] * (temp[n%60] + temp[(n%60)-1])) % 10\n",
    "    \n",
    "if __name__ == '__main__':\n",
    "    input_n = int(input())\n",
    "    print(last_digit_of_the_sum_of_squares_of_fibonacci_numbers(input_n))"
   ]
  }
 ],
 "metadata": {
  "kernelspec": {
   "display_name": "Python 3",
   "language": "python",
   "name": "python3"
  },
  "language_info": {
   "codemirror_mode": {
    "name": "ipython",
    "version": 3
   },
   "file_extension": ".py",
   "mimetype": "text/x-python",
   "name": "python",
   "nbconvert_exporter": "python",
   "pygments_lexer": "ipython3",
   "version": "3.8.3"
  }
 },
 "nbformat": 4,
 "nbformat_minor": 4
}
