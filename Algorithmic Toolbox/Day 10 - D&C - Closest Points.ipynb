{
 "cells": [
  {
   "cell_type": "markdown",
   "metadata": {},
   "source": [
    "## Divide and Conquer Algorithms\n"
   ]
  },
  {
   "cell_type": "markdown",
   "metadata": {},
   "source": [
    "\n",
    "### Closest Points Naive"
   ]
  },
  {
   "cell_type": "code",
   "execution_count": 1,
   "metadata": {},
   "outputs": [
    {
     "name": "stdout",
     "output_type": "stream",
     "text": [
      "3\n",
      "1 4\n",
      "2 6\n",
      "7 9\n",
      "2.236067977\n"
     ]
    }
   ],
   "source": [
    "from collections import namedtuple\n",
    "from itertools import combinations\n",
    "from math import sqrt\n",
    "\n",
    "Point = namedtuple('Point', 'x y')\n",
    "\n",
    "def distance_squared(first_point, second_point):\n",
    "    return (first_point.x - second_point.x) ** 2 + (first_point.y - second_point.y) ** 2\n",
    "\n",
    "def minimum_distance_squared_naive(points):\n",
    "    min_distance_squared = float(\"inf\")\n",
    "    for p, q in combinations(points, 2):\n",
    "        min_distance_squared = min(min_distance_squared,\n",
    "                                   distance_squared(p, q))\n",
    "    return min_distance_squared\n",
    "\n",
    "if __name__ == '__main__':\n",
    "    input_n = int(input())\n",
    "    input_points = []\n",
    "    for _ in range(input_n):\n",
    "        x, y = map(int, input().split())\n",
    "        input_point = Point(x, y)\n",
    "        input_points.append(input_point)\n",
    "    print(\"{0:.9f}\".format(sqrt(minimum_distance_squared_naive(input_points))))"
   ]
  },
  {
   "cell_type": "markdown",
   "metadata": {},
   "source": [
    "### Closest Points\n",
    "Find the closest pair of points in a set of **n≤10^5** points on a plane"
   ]
  },
  {
   "cell_type": "code",
   "execution_count": 16,
   "metadata": {},
   "outputs": [],
   "source": [
    "# In large dataset with 10^5 points, mergesort algorithm gives result in almost 20 seconds.\n",
    "# So, for sorting given points, we will use quicksort algorithm, which performs faster.\n",
    "def quicksort(A):\n",
    "    if len(A) <= 1:\n",
    "        return A\n",
    "    pivot = A[0]\n",
    "    greater = [x for x in A[1:] if x > pivot]\n",
    "    less = [x for x in A[1:] if x <= pivot]\n",
    "    return quicksort(less) + [pivot] + quicksort(greater)\n",
    "\n",
    "# To calculate distance between two points, we will use Pythagorean Theorem.\n",
    "# So, distance = hypotenuse = sqrt((x1 - x2)^2 + (y1 - y2)^2).\n",
    "def distance_calculator(first, second):\n",
    "    return ((first[0] - second[0]) ** 2 + (first[1] - second[1]) ** 2) ** 0.5\n",
    "\n",
    "# We will use recursive algorithm to seperate points into two parts and solve side-by-side.\n",
    "# We will find minimum distance in left-hand side and right-hand side and get the minimum between them.\n",
    "def minimum_left_right(A):\n",
    "    minimum = float('inf')\n",
    "    #print(A)\n",
    "    if len(A) == 3:\n",
    "        if distance_calculator(A[0], A[1]) <= distance_calculator(A[0], A[2]):\n",
    "            A = A[0:2] + A[1:]\n",
    "        else:\n",
    "            A = A[0::2] + A[1:]\n",
    "    if len(A) == 2:\n",
    "        minimum = min(minimum, distance_calculator(A[0], A[1]))\n",
    "        #print(minimum)\n",
    "        return minimum\n",
    "    mid = len(A) // 2\n",
    "    X = minimum_left_right(A[:mid])\n",
    "    Y = minimum_left_right(A[mid:])\n",
    "    d = min(X, Y)\n",
    "    return d\n",
    "\n",
    "# We will look at the middle part because there may be closest points which are not included due to the seperation.\n",
    "# So, we will filter the boundaries of points so that the distances from the x-axis of the mid-point to \n",
    "# the x-axes of filtered points are not bigger than the minimum distance found by \"minimum_left_right\" function.\n",
    "def filter_mid(A, d):\n",
    "    mid = len(A) // 2\n",
    "    P = []\n",
    "    for i in range(len(A)):\n",
    "        if abs(A[mid][0] - A[i][0]) <= int(d):\n",
    "            P.append(A[i])\n",
    "    return P\n",
    "\n",
    "# For filtered points, we will use mergesort algorithm to sort points by y-coordinates.\n",
    "def mergesort(A):\n",
    "    if len(A) <= 1:\n",
    "        return A\n",
    "    mid = len(A) // 2\n",
    "    B = mergesort(A[:mid])\n",
    "    C = mergesort(A[mid:])\n",
    "    A_new = merge(B, C)\n",
    "    return A_new\n",
    "\n",
    "def merge(B, C):\n",
    "    D = []\n",
    "    while len(B) != 0 or len(C) != 0:\n",
    "        if len(B) == 0 or len(C) == 0:\n",
    "            break\n",
    "        if B[0][1] <= C[0][1]:\n",
    "            D.append(B[0])\n",
    "            B = B[1:]\n",
    "        else:\n",
    "            D.append(C[0])\n",
    "            C = C[1:]\n",
    "    D = D + B + C\n",
    "    return D\n",
    "\n",
    "# Since filtered points are sorted by y-axis, we do not need to check every combination.\n",
    "# Only 8 points will be enough to check whether closest points are there.\n",
    "def final_test(A):\n",
    "    d_prime = float('inf')\n",
    "    for i in range(len(A)):\n",
    "        for j in range(len(A)):\n",
    "            if i != j:\n",
    "                if abs(i - j) < 7:\n",
    "                    d_prime = min(d_prime, distance_calculator(A[i], A[j]))\n",
    "                else:\n",
    "                    break\n",
    "    return d_prime\n",
    "\n",
    "# Finally, we will use all the functions we defined above and find the distance between closest points.\n",
    "def minimum_distance_squared(points):\n",
    "    assert 2 <= len(points) <= 10 ** 5\n",
    "    points = quicksort(points)\n",
    "    print('Points sorted by x-axis: ', points)\n",
    "    distance = minimum_left_right(points)\n",
    "    print('Minimum distance between points in right-hand side and left-hand side: ', distance)\n",
    "    mid_points = filter_mid(points, distance)\n",
    "    print('Points locating in middle part: ', mid_points)\n",
    "    sort_y = mergesort(mid_points)\n",
    "    print('Middle part sorted by y-axis: ', sort_y)\n",
    "    mid_distance = final_test(sort_y)\n",
    "    print('Minimum distance between points in middle part: ', mid_distance)\n",
    "    minimum = min(distance, mid_distance)\n",
    "    print('Distance between closest points: ', minimum)\n",
    "    return minimum"
   ]
  },
  {
   "cell_type": "code",
   "execution_count": 10,
   "metadata": {},
   "outputs": [],
   "source": [
    "# Constraints: 2 <= n <= 10^5 and -10^3 <= xi ; yi <= 10^3\n",
    "import random\n",
    "points = []\n",
    "for i in range(100000):\n",
    "    points.append([random.randint(-10**3, 10**3), random.randint(-10**3, 10**3)])"
   ]
  },
  {
   "cell_type": "code",
   "execution_count": 11,
   "metadata": {},
   "outputs": [
    {
     "name": "stdout",
     "output_type": "stream",
     "text": [
      "0.0\n",
      "--- 0.659386396408081 seconds ---\n"
     ]
    }
   ],
   "source": [
    "import time\n",
    "start_time = time.time()\n",
    "print(minimum_distance_squared(points))\n",
    "print(\"--- %s seaconds ---\" % (time.time() - start_time))"
   ]
  },
  {
   "cell_type": "code",
   "execution_count": 12,
   "metadata": {},
   "outputs": [],
   "source": [
    "# Constraints: 2 <= n <= 10^5 and -10^9 <= xi ; yi <= 10^9\n",
    "import random\n",
    "points = []\n",
    "for i in range(50000):\n",
    "    points.append([random.randint(-10**9, 10**9), random.randint(-10**9, 10**9)])"
   ]
  },
  {
   "cell_type": "code",
   "execution_count": 13,
   "metadata": {},
   "outputs": [
    {
     "name": "stdout",
     "output_type": "stream",
     "text": [
      "19443.762598838734\n",
      "--- 0.29181575775146484 seaconds ---\n"
     ]
    }
   ],
   "source": [
    "import time\n",
    "start_time = time.time()\n",
    "print(minimum_distance_squared(points))\n",
    "print(\"--- %s seaconds ---\" % (time.time() - start_time))"
   ]
  },
  {
   "cell_type": "code",
   "execution_count": 14,
   "metadata": {},
   "outputs": [],
   "source": [
    "# Constraints: 2 <= n <= 10^5 and 0 <= xi ; yi <= 10^9\n",
    "import random\n",
    "points = []\n",
    "for i in range(50000):\n",
    "    points.append([random.randint(0, 10**9), random.randint(0, 10**9)])"
   ]
  },
  {
   "cell_type": "code",
   "execution_count": 15,
   "metadata": {},
   "outputs": [
    {
     "name": "stdout",
     "output_type": "stream",
     "text": [
      "25111.342815548516\n",
      "--- 0.28199148178100586 seaconds ---\n"
     ]
    }
   ],
   "source": [
    "import time\n",
    "start_time = time.time()\n",
    "print(minimum_distance_squared(points))\n",
    "print(\"--- %s seaconds ---\" % (time.time() - start_time))"
   ]
  },
  {
   "cell_type": "code",
   "execution_count": 17,
   "metadata": {},
   "outputs": [
    {
     "name": "stdout",
     "output_type": "stream",
     "text": [
      "Points sorted by x-axis:  [(1, 2), (1, 16), (2, 3), (3, 7), (3, 17), (5, 3), (6, 9), (7, 1), (7, 21), (8, 12), (9, 15), (15, 4)]\n",
      "Minimum distance between points in right-hand side and left-hand side:  1.4142135623730951\n",
      "Points locating in middle part:  [(5, 3), (6, 9), (7, 1), (7, 21)]\n",
      "Middle part sorted by y-axis:  [(7, 1), (5, 3), (6, 9), (7, 21)]\n",
      "Minimum distance between points in middle part:  2.8284271247461903\n",
      "Distance between closest points:  1.4142135623730951\n"
     ]
    },
    {
     "data": {
      "text/plain": [
       "1.4142135623730951"
      ]
     },
     "execution_count": 17,
     "metadata": {},
     "output_type": "execute_result"
    }
   ],
   "source": [
    "points = [(6,9),(3,7),(15,4),(7,1),(9,15),(1,2),(3,17),(8,12),(5,3),(1,16),(2,3),(7,21)]\n",
    "minimum_distance_squared(points)"
   ]
  },
  {
   "cell_type": "code",
   "execution_count": 18,
   "metadata": {},
   "outputs": [
    {
     "name": "stdout",
     "output_type": "stream",
     "text": [
      "Points sorted by x-axis:  [(1, 2), (1, 16), (2, 3), (3, 7), (3, 17), (4, 3), (4, 4), (7, 9), (8, 1), (8, 21), (9, 12), (10, 15)]\n",
      "Minimum distance between points in right-hand side and left-hand side:  1.4142135623730951\n",
      "Points locating in middle part:  [(3, 7), (3, 17), (4, 3), (4, 4)]\n",
      "Middle part sorted by y-axis:  [(4, 3), (4, 4), (3, 7), (3, 17)]\n",
      "Minimum distance between points in middle part:  1.0\n",
      "Distance between closest points:  1.0\n"
     ]
    },
    {
     "data": {
      "text/plain": [
       "1.0"
      ]
     },
     "execution_count": 18,
     "metadata": {},
     "output_type": "execute_result"
    }
   ],
   "source": [
    "points = [(7,9),(3,7),(4,4),(8,1),(10,15),(1,2),(3,17),(9,12),(4,3),(1,16),(2,3),(8,21)]\n",
    "minimum_distance_squared(points)"
   ]
  }
 ],
 "metadata": {
  "kernelspec": {
   "display_name": "Python 3",
   "language": "python",
   "name": "python3"
  },
  "language_info": {
   "codemirror_mode": {
    "name": "ipython",
    "version": 3
   },
   "file_extension": ".py",
   "mimetype": "text/x-python",
   "name": "python",
   "nbconvert_exporter": "python",
   "pygments_lexer": "ipython3",
   "version": "3.7.3"
  }
 },
 "nbformat": 4,
 "nbformat_minor": 2
}
