{
 "cells": [
  {
   "cell_type": "markdown",
   "metadata": {},
   "source": [
    "## Divide and Conquer Algorithms\n"
   ]
  },
  {
   "cell_type": "markdown",
   "metadata": {},
   "source": [
    "\n",
    "### Closest Points Naive"
   ]
  },
  {
   "cell_type": "code",
   "execution_count": 5,
   "metadata": {},
   "outputs": [
    {
     "name": "stdout",
     "output_type": "stream",
     "text": [
      "3\n",
      "1 4\n",
      "2 6\n",
      "7 9\n",
      "2.236067977\n"
     ]
    }
   ],
   "source": [
    "from collections import namedtuple\n",
    "from itertools import combinations\n",
    "from math import sqrt\n",
    "\n",
    "Point = namedtuple('Point', 'x y')\n",
    "\n",
    "def distance_squared(first_point, second_point):\n",
    "    return (first_point.x - second_point.x) ** 2 + (first_point.y - second_point.y) ** 2\n",
    "\n",
    "def minimum_distance_squared_naive(points):\n",
    "    min_distance_squ ared = float(\"inf\")\n",
    "    for p, q in combinations(points, 2):\n",
    "        min_distance_squared = min(min_distance_squared,\n",
    "                                   distance_squared(p, q))\n",
    "    return min_distance_squared\n",
    "\n",
    "if __name__ == '__main__':\n",
    "    input_n = int(input())\n",
    "    input_points = []\n",
    "    for _ in range(input_n):\n",
    "        x, y = map(int, input().split())\n",
    "        input_point = Point(x, y)\n",
    "        input_points.append(input_point)\n",
    "    print(\"{0:.9f}\".format(sqrt(minimum_distance_squared_naive(input_points))))"
   ]
  },
  {
   "cell_type": "markdown",
   "metadata": {},
   "source": [
    "### Closest Points\n",
    "Find the closest pair of points in a set of **n≤10^5** points on a plane"
   ]
  },
  {
   "cell_type": "code",
   "execution_count": 306,
   "metadata": {},
   "outputs": [],
   "source": [
    "def mergesort(A):\n",
    "    if len(A) <= 1:\n",
    "        return A\n",
    "    mid = len(A) // 2\n",
    "    B = mergesort(A[:mid])\n",
    "    C = mergesort(A[mid:])\n",
    "    A_new = merge(B, C)\n",
    "    return A_new\n",
    "\n",
    "def merge(B, C):\n",
    "    D = []\n",
    "    while len(B) != 0 or len(C) != 0:\n",
    "        if len(B) == 0 or len(C) == 0:\n",
    "            break\n",
    "        if B[0] <= C[0]:\n",
    "            D.append(B[0])\n",
    "            B = B[1:]\n",
    "        else:\n",
    "            D.append(C[0])\n",
    "            C = C[1:]\n",
    "    D = D + B + C\n",
    "    return D\n",
    "\n",
    "def distance_calculator(first, second):\n",
    "    return ((first[0] - second[0]) ** 2 + (first[1] - second[1]) ** 2) ** 0.5\n",
    "\n",
    "def minimum_left_right(A):\n",
    "    minimum = float('inf')\n",
    "    if len(A) == 3:\n",
    "        A = A[0:2] + A[1:]\n",
    "    if len(A) == 2:\n",
    "        minimum = min(minimum, distance_calculator(A[0], A[1]))\n",
    "        return minimum\n",
    "    mid = len(A) // 2\n",
    "    X = minimum_left_right(A[:mid])\n",
    "    Y = minimum_left_right(A[mid:])\n",
    "    d = min(X, Y)\n",
    "    return d\n",
    "\n",
    "def filter_mid(A, d):\n",
    "    new_d = int(d)\n",
    "    mid = len(A) // 2\n",
    "    P = []\n",
    "    for i in range(len(A)):\n",
    "        if abs(mid - A[i][0]) <= new_d:\n",
    "            P.append(A[i])\n",
    "    return P\n",
    "\n",
    "def mergesort2(A):\n",
    "    if len(A) <= 1:\n",
    "        return A\n",
    "    mid = len(A) // 2\n",
    "    B = mergesort2(A[:mid])\n",
    "    C = mergesort2(A[mid:])\n",
    "    A_new = merge2(B, C)\n",
    "    return A_new\n",
    "\n",
    "def merge2(B, C):\n",
    "    D = []\n",
    "    while len(B) != 0 or len(C) != 0:\n",
    "        if len(B) == 0 or len(C) == 0:\n",
    "            break\n",
    "        if B[0][1] <= C[0][1]:\n",
    "            D.append(B[0])\n",
    "            B = B[1:]\n",
    "        else:\n",
    "            D.append(C[0])\n",
    "            C = C[1:]\n",
    "    D = D + B + C\n",
    "    return D\n",
    "\n",
    "def final_test(A):\n",
    "    d_prime = float('inf')\n",
    "    for i in range(len(A)):\n",
    "        for j in range(len(A)):\n",
    "            if i != j:\n",
    "                if abs(i - j) < 7:\n",
    "                    d_prime = min(d_prime, distance_calculator(A[i], A[j]))\n",
    "                else:\n",
    "                    break\n",
    "    return d_prime\n",
    "\n",
    "def closest_point(points):\n",
    "    points = mergesort(points)\n",
    "    distance = minimum_left_right(points)\n",
    "    mid_points = filter_mid(points, distance)\n",
    "    sort_y = mergesort2(mid_points)\n",
    "    mid_distance = final_test(sort_y)\n",
    "    return min(distance, mid_distance)"
   ]
  },
  {
   "cell_type": "code",
   "execution_count": 307,
   "metadata": {},
   "outputs": [],
   "source": [
    "import random\n",
    "points = []\n",
    "for i in range(50000):\n",
    "    points.append([random.randint(-10**9, 10**9), random.randint(-10**9, 10**9)])"
   ]
  },
  {
   "cell_type": "code",
   "execution_count": 308,
   "metadata": {},
   "outputs": [
    {
     "name": "stdout",
     "output_type": "stream",
     "text": [
      "67795.41262504418\n",
      "--- 7.925497531890869 seconds ---\n"
     ]
    }
   ],
   "source": [
    "import time\n",
    "start_time = time.time()\n",
    "print(closest_point(points))\n",
    "print(\"--- %s seconds ---\" % (time.time() - start_time))"
   ]
  },
  {
   "cell_type": "code",
   "execution_count": null,
   "metadata": {},
   "outputs": [],
   "source": []
  }
 ],
 "metadata": {
  "kernelspec": {
   "display_name": "Python 3",
   "language": "python",
   "name": "python3"
  },
  "language_info": {
   "codemirror_mode": {
    "name": "ipython",
    "version": 3
   },
   "file_extension": ".py",
   "mimetype": "text/x-python",
   "name": "python",
   "nbconvert_exporter": "python",
   "pygments_lexer": "ipython3",
   "version": "3.8.3"
  }
 },
 "nbformat": 4,
 "nbformat_minor": 2
}
