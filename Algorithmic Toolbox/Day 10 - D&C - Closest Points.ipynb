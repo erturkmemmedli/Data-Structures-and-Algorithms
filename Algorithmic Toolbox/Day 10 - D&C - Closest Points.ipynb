{
 "cells": [
  {
   "cell_type": "markdown",
   "metadata": {},
   "source": [
    "## Divide and Conquer Algorithms\n"
   ]
  },
  {
   "cell_type": "markdown",
   "metadata": {},
   "source": [
    "\n",
    "### Closest Points Naive"
   ]
  },
  {
   "cell_type": "code",
   "execution_count": 1,
   "metadata": {},
   "outputs": [
    {
     "name": "stdout",
     "output_type": "stream",
     "text": [
      "3\n",
      "1 4\n",
      "2 6\n",
      "7 9\n",
      "2.236067977\n"
     ]
    }
   ],
   "source": [
    "from collections import namedtuple\n",
    "from itertools import combinations\n",
    "from math import sqrt\n",
    "\n",
    "Point = namedtuple('Point', 'x y')\n",
    "\n",
    "def distance_squared(first_point, second_point):\n",
    "    return (first_point.x - second_point.x) ** 2 + (first_point.y - second_point.y) ** 2\n",
    "\n",
    "def minimum_distance_squared_naive(points):\n",
    "    min_distance_squared = float(\"inf\")\n",
    "    for p, q in combinations(points, 2):\n",
    "        min_distance_squared = min(min_distance_squared,\n",
    "                                   distance_squared(p, q))\n",
    "    return min_distance_squared\n",
    "\n",
    "if __name__ == '__main__':\n",
    "    input_n = int(input())\n",
    "    input_points = []\n",
    "    for _ in range(input_n):\n",
    "        x, y = map(int, input().split())\n",
    "        input_point = Point(x, y)\n",
    "        input_points.append(input_point)\n",
    "    print(\"{0:.9f}\".format(sqrt(minimum_distance_squared_naive(input_points))))"
   ]
  },
  {
   "cell_type": "markdown",
   "metadata": {},
   "source": [
    "### Closest Points\n",
    "Find the closest pair of points in a set of **n≤10^5** points on a plane"
   ]
  },
  {
   "cell_type": "code",
   "execution_count": 155,
   "metadata": {},
   "outputs": [],
   "source": [
    "def mergesort(A):\n",
    "    if len(A) <= 1:\n",
    "        return A\n",
    "    mid = len(A) // 2\n",
    "    B = mergesort(A[:mid])\n",
    "    C = mergesort(A[mid:])\n",
    "    A_new = merge(B, C)\n",
    "    return A_new\n",
    "\n",
    "def merge(B, C):\n",
    "    D = []\n",
    "    while len(B) != 0 or len(C) != 0:\n",
    "        if len(B) == 0 or len(C) == 0:\n",
    "            break\n",
    "        if B[0] < C[0]:\n",
    "            D.append(B[0])\n",
    "            B = B[1:]\n",
    "        else:\n",
    "            D.append(C[0])\n",
    "            C = C[1:]\n",
    "    D = D + B + C\n",
    "    return D\n",
    "\n",
    "def distance_calculator(first, second):\n",
    "    return ((first[0] - second[0]) ** 2 + (first[1] -second[1]) ** 2) ** 0.5\n",
    "\n",
    "def minimum_distance_squared(points):\n",
    "    minimum = float('inf')\n",
    "    points = mergesort(points) # points (xy-coordinates) are sorted according to the x-axis\n",
    "    print('points',points)\n",
    "    if len(points) == 1:\n",
    "        return minimum\n",
    "    if len(points) == 2:\n",
    "        minimum = min(minimum, distance_calculator(points[0], points[1]))\n",
    "        return minimum\n",
    "    print('minimum',minimum)\n",
    "    mid = len(points) // 2\n",
    "    X = minimum_distance_squared(points[:mid])\n",
    "    Y = minimum_distance_squared(points[mid:])\n",
    "    d = min(X, Y)\n",
    "    print('d',d)\n",
    "    Z = minimum_distance_squared(points[mid//2 : mid+mid//2])\n",
    "    print('Z',Z)\n",
    "    d = min(d,Z)\n",
    "    return d"
   ]
  },
  {
   "cell_type": "code",
   "execution_count": 156,
   "metadata": {},
   "outputs": [
    {
     "name": "stdout",
     "output_type": "stream",
     "text": [
      "points [(1, 2), (2, 3), (3, 7), (3, 17), (4, 3), (4, 4), (6, 9), (7, 1), (8, 12), (9, 15)]\n",
      "minimum inf\n",
      "points [(1, 2), (2, 3), (3, 7), (3, 17), (4, 3)]\n",
      "minimum inf\n",
      "points [(1, 2), (2, 3)]\n",
      "points [(3, 7), (3, 17), (4, 3)]\n",
      "minimum inf\n",
      "points [(3, 7)]\n",
      "points [(3, 17), (4, 3)]\n",
      "d 14.035668847618199\n",
      "points [(3, 7)]\n",
      "Z inf\n",
      "d 1.4142135623730951\n",
      "points [(2, 3), (3, 7)]\n",
      "Z 4.123105625617661\n",
      "points [(4, 4), (6, 9), (7, 1), (8, 12), (9, 15)]\n",
      "minimum inf\n",
      "points [(4, 4), (6, 9)]\n",
      "points [(7, 1), (8, 12), (9, 15)]\n",
      "minimum inf\n",
      "points [(7, 1)]\n",
      "points [(8, 12), (9, 15)]\n",
      "d 3.1622776601683795\n",
      "points [(7, 1)]\n",
      "Z inf\n",
      "d 3.1622776601683795\n",
      "points [(6, 9), (7, 1)]\n",
      "Z 8.06225774829855\n",
      "d 1.4142135623730951\n",
      "points [(3, 7), (3, 17), (4, 3), (4, 4), (6, 9)]\n",
      "minimum inf\n",
      "points [(3, 7), (3, 17)]\n",
      "points [(4, 3), (4, 4), (6, 9)]\n",
      "minimum inf\n",
      "points [(4, 3)]\n",
      "points [(4, 4), (6, 9)]\n",
      "d 5.385164807134504\n",
      "points [(4, 3)]\n",
      "Z inf\n",
      "d 5.385164807134504\n",
      "points [(3, 17), (4, 3)]\n",
      "Z 14.035668847618199\n",
      "Z 5.385164807134504\n"
     ]
    },
    {
     "data": {
      "text/plain": [
       "1.4142135623730951"
      ]
     },
     "execution_count": 156,
     "metadata": {},
     "output_type": "execute_result"
    }
   ],
   "source": [
    "minimum_distance_squared([(6,9),(3,7),(4,4),(7,1),(9,15),(1,2),(3,17),(8,12),(4,3),(2,3)])"
   ]
  },
  {
   "cell_type": "markdown",
   "metadata": {},
   "source": [
    "d-ni tapan function-i ayri ele, function-i deyis, adini qoy \"distance of two sides\".\n",
    "\n",
    "Z ucun ayrica function yaz, d onun inputlarindan biri olsun, icinde \"mid +- mid/2\" yerine \"mid +- d\" yaz.\n",
    "\n",
    "geriye qalan versiyani y ucun sort ele (look Week 4 material).\n",
    "\n",
    "tek point qalanda onu check elemir deye qonsusu ile de check alinmir, onu fikirles, ele yaz ki qonsusu ile check elesin."
   ]
  }
 ],
 "metadata": {
  "kernelspec": {
   "display_name": "Python 3",
   "language": "python",
   "name": "python3"
  },
  "language_info": {
   "codemirror_mode": {
    "name": "ipython",
    "version": 3
   },
   "file_extension": ".py",
   "mimetype": "text/x-python",
   "name": "python",
   "nbconvert_exporter": "python",
   "pygments_lexer": "ipython3",
   "version": "3.7.3"
  }
 },
 "nbformat": 4,
 "nbformat_minor": 2
}
