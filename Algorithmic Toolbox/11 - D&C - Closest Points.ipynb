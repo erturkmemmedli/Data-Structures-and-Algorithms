{
 "cells": [
  {
   "cell_type": "markdown",
   "metadata": {},
   "source": [
    "## Divide and Conquer Algorithms\n"
   ]
  },
  {
   "cell_type": "markdown",
   "metadata": {},
   "source": [
    "### Closest Points Naive"
   ]
  },
  {
   "cell_type": "code",
   "execution_count": 20,
   "metadata": {},
   "outputs": [
    {
     "name": "stdout",
     "output_type": "stream",
     "text": [
      "2\n",
      "1 3\n",
      "2 4\n",
      "1.414213562\n"
     ]
    }
   ],
   "source": [
    "from collections import namedtuple\n",
    "from itertools import combinations\n",
    "from math import sqrt\n",
    "\n",
    "Point = namedtuple('Point', 'x y')\n",
    "\n",
    "def distance_squared(first_point, second_point):\n",
    "    return (first_point.x - second_point.x) ** 2 + (first_point.y - second_point.y) ** 2\n",
    "\n",
    "def minimum_distance_squared_naive(points):\n",
    "    min_distance_squared = float(\"inf\")\n",
    "    for p, q in combinations(points, 2):\n",
    "        min_distance_squared = min(min_distance_squared,\n",
    "                                   distance_squared(p, q))\n",
    "    return min_distance_squared\n",
    "\n",
    "if __name__ == '__main__':\n",
    "    input_n = int(input())\n",
    "    input_points = []\n",
    "    for _ in range(input_n):\n",
    "        x, y = map(int, input().split())\n",
    "        input_point = Point(x, y)\n",
    "        input_points.append(input_point)\n",
    "    print(\"{0:.9f}\".format(sqrt(minimum_distance_squared_naive(input_points))))"
   ]
  },
  {
   "cell_type": "markdown",
   "metadata": {},
   "source": [
    "### Closest Points\n",
    "Find the closest pair of points in a set of **n≤10^5** points on a plane"
   ]
  },
  {
   "cell_type": "code",
   "execution_count": 22,
   "metadata": {},
   "outputs": [],
   "source": [
    "from itertools import combinations\n",
    "import random\n",
    "import time\n",
    "\n",
    "def minimum_distance_squared_naive(points):\n",
    "    min_distance_squared = float(\"inf\")\n",
    "    for p, q in combinations(points, 2):\n",
    "        min_distance_squared = min(min_distance_squared, distance_calculator(p, q))\n",
    "    return min_distance_squared\n",
    "\n",
    "def partition3(A, l, r):\n",
    "    pivot = A[l]\n",
    "    part1 = l\n",
    "    part2 = l\n",
    "    for i in range(l + 1, r + 1):\n",
    "        if A[i] < pivot:\n",
    "            part1 += 1\n",
    "            part2 += 1\n",
    "            A[i], A[part2] = A[part2], A[i]\n",
    "            A[part2], A[part1] = A[part1], A[part2]\n",
    "        elif A[i] == pivot:\n",
    "            part2 += 1\n",
    "            A[i], A[part2] = A[part2], A[i]\n",
    "    A[l], A[part1] = A[part1], A[l]\n",
    "    return part1, part2\n",
    "\n",
    "def randomized_quick_sort(A, l, r):\n",
    "    if l >= r:\n",
    "        return\n",
    "    k = random.randint(l, r)\n",
    "    A[l], A[k] = A[k], A[l]\n",
    "    (m1, m2) = partition3(A, l, r)\n",
    "    randomized_quick_sort(A, l, m1 - 1)\n",
    "    randomized_quick_sort(A, m2 + 1, r)\n",
    "\n",
    "def distance_calculator(first, second):\n",
    "    return ((first[0] - second[0]) ** 2 + (first[1] - second[1]) ** 2) ** 0.5\n",
    "\n",
    "def minimum_left_right(A):\n",
    "    minimum = float('inf')\n",
    "    #print(A)\n",
    "    if len(A) == 3:\n",
    "        if distance_calculator(A[0], A[1]) <= distance_calculator(A[0], A[2]):\n",
    "            A = A[0:2] + A[1:]\n",
    "        else:\n",
    "            A = A[0::2] + A[1:]\n",
    "    if len(A) == 2:\n",
    "        minimum = min(minimum, distance_calculator(A[0], A[1]))\n",
    "        #print('minimum', minimum)\n",
    "        return minimum\n",
    "    mid = len(A) // 2\n",
    "    X = minimum_left_right(A[:mid])\n",
    "    Y = minimum_left_right(A[mid:])\n",
    "    d = min(X, Y)\n",
    "    V = final_test(quicksort(filter_mid(A[:mid], int(d))))\n",
    "    W = final_test(quicksort(filter_mid(A[mid:], int(d))))\n",
    "    d_mid = min(V, W)\n",
    "    return min(d, d_mid)\n",
    "\n",
    "def filter_mid(A, d):\n",
    "    mid = len(A) // 2\n",
    "    P = []\n",
    "    for i in range(len(A)):\n",
    "        if abs(A[mid][0] - A[i][0]) <= int(d):\n",
    "            P.append(A[i])\n",
    "    return P\n",
    "\n",
    "def quicksort(A):\n",
    "    if len(A) <= 1:\n",
    "        return A\n",
    "    pivot = A[0]\n",
    "    less = [y for y in A[1:] if y[1] < pivot[1]]\n",
    "    greater = [y for y in A[1:] if y[1] >= pivot[1]]\n",
    "    return quicksort(less) + [pivot] + quicksort(greater)\n",
    "\n",
    "def final_test(A):\n",
    "    d_prime = float('inf')\n",
    "    for i in range(len(A)):\n",
    "        for j in range(i + 1, len(A)):\n",
    "            if abs(i - j) < 7:\n",
    "                d_prime = min(d_prime, distance_calculator(A[i], A[j]))\n",
    "            else:\n",
    "                break\n",
    "        #print('d_prime', d_prime)\n",
    "    return d_prime\n",
    "\n",
    "def zero_check(A):\n",
    "    for i in range(len(A) - 1):\n",
    "        if A[i] == A[i + 1]:\n",
    "            return distance_calculator(A[i], A[i + 1])\n",
    "        \n",
    "def minimum_distance_squared(points):\n",
    "    assert 2 <= len(points) <= 10 ** 5\n",
    "    l = 0\n",
    "    r = len(points) - 1\n",
    "    randomized_quick_sort(points, l, r)\n",
    "    #print('Points sorted by x-axis: ', points)\n",
    "    if zero_check(points) == 0:\n",
    "        return zero_check(points)\n",
    "    distance = minimum_left_right(points)\n",
    "    #print('Minimum distance between points in right-hand side and left-hand side: ', distance)\n",
    "    mid_points = filter_mid(points, distance)\n",
    "    #print('Points locating in middle part: ', mid_points)\n",
    "    sort_y = quicksort(mid_points)\n",
    "    #print('Middle part sorted by y-axis: ', sort_y)\n",
    "    mid_distance = final_test(sort_y)\n",
    "    #print('Minimum distance between points in middle part: ', mid_distance)\n",
    "    minimum = min(distance, mid_distance)\n",
    "    #print('Distance between closest points: ', minimum)\n",
    "    return minimum\n",
    "\n",
    "def StressTest(N, M):\n",
    "    assert 2 <= N <= 100\n",
    "    assert 0 <= M <= 10**9\n",
    "    while True:\n",
    "        n = random.randint(2, N)\n",
    "        A = [[random.randint(0, M), random.randint(0, M)] for i in range(0, n)]\n",
    "        print(A)\n",
    "        result1 = minimum_distance_squared_naive(A)\n",
    "        result2 = minimum_distance_squared(A)\n",
    "        if result1 == result2:\n",
    "            print('OK', 'result1, result2 = ', result1)\n",
    "        else:\n",
    "            print('Answer is wrong:', 'result1 = ', result1, 'result2 = ', result2)\n",
    "            break\n",
    "\n",
    "def ComplexityTest(N, M):\n",
    "    assert 2 <= N <= 10**5\n",
    "    assert 0 <= M <= 10**9\n",
    "    A = [[random.randint(-M, M), random.randint(-M, M)] for i in range(0, N)]\n",
    "    start_time = time.time()\n",
    "    print(minimum_distance_squared(A))\n",
    "    print(\"--- %s seconds ---\" % (time.time() - start_time))"
   ]
  },
  {
   "cell_type": "code",
   "execution_count": 25,
   "metadata": {},
   "outputs": [
    {
     "name": "stdout",
     "output_type": "stream",
     "text": [
      "[[2, 39], [95, 33], [80, 55], [41, 1], [30, 37], [10, 82], [12, 39], [61, 34], [16, 28], [56, 2], [79, 62], [52, 71], [24, 21], [100, 89], [40, 48], [84, 58], [89, 82], [96, 45], [69, 98], [18, 8], [17, 28], [23, 21], [40, 97], [5, 0], [26, 89], [34, 99], [19, 99], [67, 8], [64, 47], [47, 59], [62, 65], [19, 41], [21, 17], [96, 80], [20, 85], [90, 98], [31, 85], [70, 14], [1, 45], [80, 28]]\n",
      "OK result1, result2 =  1.0\n",
      "[[0, 32], [71, 69], [62, 7], [82, 34], [12, 24], [31, 86], [3, 8], [42, 53], [25, 62], [85, 22], [44, 91], [48, 50], [71, 7], [62, 69], [2, 89], [18, 49], [51, 4], [23, 52], [99, 65], [56, 21], [69, 1], [9, 59], [51, 16], [85, 95], [89, 73], [42, 2], [81, 88], [96, 89], [62, 88], [54, 17], [86, 51], [14, 72], [0, 70], [32, 50]]\n",
      "OK result1, result2 =  3.1622776601683795\n",
      "[[61, 58], [37, 3], [41, 29]]\n",
      "OK result1, result2 =  26.30589287593181\n",
      "[[85, 64], [20, 55], [73, 69], [8, 70], [52, 64], [40, 9], [35, 85], [58, 43], [85, 77], [51, 19], [40, 27], [57, 98], [75, 56], [41, 25], [77, 6], [34, 66], [76, 76], [36, 78], [70, 79], [34, 42], [100, 29], [15, 85], [8, 42], [83, 19], [9, 92], [79, 1], [48, 51], [46, 61], [11, 83], [75, 12], [65, 89], [37, 80], [66, 59], [78, 71], [25, 64], [66, 35], [64, 15], [10, 40]]\n",
      "OK result1, result2 =  2.23606797749979\n",
      "[[62, 13], [24, 47], [21, 70], [14, 19], [5, 59], [44, 97], [72, 20], [39, 33], [95, 76], [8, 92], [69, 98], [2, 46], [99, 61], [12, 49], [6, 46], [65, 77], [2, 90], [57, 100], [94, 84], [55, 55], [74, 23], [68, 91], [45, 58], [69, 60], [71, 77], [28, 55], [75, 80], [54, 64], [51, 17], [65, 40], [35, 29], [56, 84], [51, 31]]\n",
      "OK result1, result2 =  3.605551275463989\n",
      "[[11, 10], [74, 26], [46, 13], [61, 49], [57, 70], [23, 32], [58, 92], [23, 36], [21, 4], [23, 94], [49, 82], [80, 8], [35, 4], [47, 74], [5, 80], [33, 38], [37, 44], [8, 16], [37, 42], [86, 54], [34, 76], [8, 75], [2, 28], [8, 53], [36, 8], [51, 94], [51, 44]]\n",
      "OK result1, result2 =  2.0\n",
      "[[60, 26], [53, 90], [85, 42], [22, 6], [97, 0], [7, 48], [58, 45], [42, 9], [45, 70], [22, 94], [32, 24], [30, 0], [34, 79], [9, 42], [71, 81], [76, 19]]\n",
      "OK result1, result2 =  6.324555320336759\n",
      "[[25, 60], [38, 27], [100, 20], [90, 84], [71, 70], [33, 4], [81, 100], [70, 12], [96, 79], [21, 39], [17, 29], [45, 83], [24, 16], [44, 60]]\n",
      "OK result1, result2 =  7.810249675906654\n",
      "[[18, 25], [68, 100], [61, 10], [58, 89], [31, 92], [70, 41], [8, 90], [3, 62], [31, 4], [40, 41], [86, 85], [84, 76], [4, 68]]\n",
      "OK result1, result2 =  6.082762530298219\n",
      "[[65, 68], [20, 65], [10, 77], [95, 17], [83, 40], [82, 70], [12, 50], [37, 56], [23, 43], [93, 4], [47, 53], [70, 73], [57, 71], [50, 83], [29, 29], [2, 5], [45, 30], [61, 63], [62, 69], [85, 43], [6, 72], [79, 37], [84, 22], [11, 91], [93, 79], [81, 82], [29, 74], [19, 43], [66, 27], [28, 73], [11, 11], [79, 38], [47, 37], [61, 6], [48, 34], [45, 7]]\n",
      "OK result1, result2 =  1.0\n",
      "[[70, 7], [96, 30], [33, 35], [53, 66], [38, 17]]\n",
      "OK result1, result2 =  18.681541692269406\n",
      "[[29, 80], [61, 5], [69, 80], [71, 99], [67, 43], [69, 56], [48, 25], [68, 87], [62, 78]]\n",
      "OK result1, result2 =  7.0710678118654755\n",
      "[[87, 65], [56, 77], [20, 58], [53, 84], [61, 65], [45, 50], [82, 21], [34, 31], [52, 6], [61, 1], [49, 72], [85, 71], [1, 50], [7, 30], [80, 64], [28, 17], [97, 2], [17, 79], [77, 74], [76, 10], [38, 39], [86, 30], [47, 52], [97, 18], [29, 72], [34, 86], [92, 20], [90, 98], [96, 44], [4, 37], [54, 45], [0, 29], [37, 43], [78, 96]]\n",
      "OK result1, result2 =  2.8284271247461903\n",
      "[[65, 28], [16, 78], [22, 15]]\n",
      "OK result1, result2 =  44.9221548904324\n",
      "[[98, 58], [21, 34], [78, 93], [95, 39], [16, 98], [27, 60], [84, 98], [97, 12], [1, 52], [86, 64]]\n",
      "OK result1, result2 =  7.810249675906654\n",
      "[[9, 10], [53, 1], [12, 0], [39, 61], [100, 7], [12, 10], [76, 55], [2, 65], [73, 81]]\n",
      "OK result1, result2 =  3.0\n",
      "[[97, 59], [64, 17], [6, 25], [100, 51], [86, 51], [68, 26], [60, 74], [60, 53], [81, 66], [34, 79], [63, 34], [3, 15], [91, 14], [40, 44], [8, 76], [40, 79], [7, 13], [97, 35], [15, 78], [44, 22], [92, 31], [50, 50], [74, 29], [95, 58], [87, 72], [61, 49], [34, 34], [41, 53], [94, 75], [17, 40], [95, 70], [61, 66], [10, 92]]\n",
      "OK result1, result2 =  2.23606797749979\n",
      "[[1, 31], [76, 76], [30, 100], [58, 6], [39, 48], [0, 38], [12, 12], [95, 61], [38, 63], [63, 5], [13, 39], [41, 100], [38, 68], [20, 60], [75, 73], [34, 63], [32, 69], [48, 31]]\n",
      "OK result1, result2 =  3.1622776601683795\n",
      "[[12, 23], [3, 56], [43, 67], [70, 32], [91, 4], [71, 63], [28, 62], [64, 86], [76, 50], [31, 18], [79, 16], [77, 27], [69, 53], [38, 57], [53, 4]]\n",
      "OK result1, result2 =  7.615773105863909\n"
     ]
    },
    {
     "ename": "KeyboardInterrupt",
     "evalue": "",
     "output_type": "error",
     "traceback": [
      "\u001b[1;31mKeyboardInterrupt\u001b[0m "
     ]
    }
   ],
   "source": [
    "StressTest(40, 100)\n"
   ]
  },
  {
   "cell_type": "code",
   "execution_count": 5,
   "metadata": {},
   "outputs": [
    {
     "name": "stdout",
     "output_type": "stream",
     "text": [
      "0.0\n",
      "--- 0.06600093841552734 seconds ---\n"
     ]
    }
   ],
   "source": [
    "ComplexityTest(10**5, 1)"
   ]
  },
  {
   "cell_type": "code",
   "execution_count": 7,
   "metadata": {},
   "outputs": [
    {
     "name": "stdout",
     "output_type": "stream",
     "text": [
      "0.0\n",
      "--- 0.5322265625 seconds ---\n"
     ]
    }
   ],
   "source": [
    "ComplexityTest(10**5, 10000)"
   ]
  },
  {
   "cell_type": "code",
   "execution_count": 8,
   "metadata": {},
   "outputs": [
    {
     "name": "stdout",
     "output_type": "stream",
     "text": [
      "12.649110640673518\n",
      "--- 4.464529037475586 seconds ---\n"
     ]
    }
   ],
   "source": [
    "ComplexityTest(10**5, 1000000)"
   ]
  },
  {
   "cell_type": "code",
   "execution_count": 21,
   "metadata": {},
   "outputs": [
    {
     "name": "stdout",
     "output_type": "stream",
     "text": [
      "15510.110380006972\n",
      "--- 4.560770511627197 seconds ---\n"
     ]
    }
   ],
   "source": [
    "ComplexityTest(10**5, 1000000000)"
   ]
  },
  {
   "cell_type": "code",
   "execution_count": 12,
   "metadata": {},
   "outputs": [
    {
     "name": "stdout",
     "output_type": "stream",
     "text": [
      "138.13399291991817\n",
      "--- 4.508478403091431 seconds ---\n"
     ]
    }
   ],
   "source": [
    "ComplexityTest(10**5, 10000000)"
   ]
  },
  {
   "cell_type": "code",
   "execution_count": 13,
   "metadata": {},
   "outputs": [
    {
     "name": "stdout",
     "output_type": "stream",
     "text": [
      "0.0\n",
      "--- 0.44855570793151855 seconds ---\n"
     ]
    }
   ],
   "source": [
    "ComplexityTest(10**5, 100)"
   ]
  },
  {
   "cell_type": "markdown",
   "metadata": {},
   "source": [
    "Personal Note:\n",
    "       \n",
    "       It seems that the running time of the algorithm is always less than 5 seconds.\n",
    "       It is satisfactory for the task but it can change due to the RAM of the PC.\n",
    "       Since it is around 5 seconds, for less powerful PCs, running time will increase.\n",
    "       In the algorithm I designed above, the complexity must be O(n*(logn)^2).\n",
    "       However, in my algorithm, I guess it is O(n*(logn)^m) where m > 2. But I couldn't find which part causes m to increase.\n",
    "       \n",
    "       Below is another algorithm I found from the internet, which is working in O(n*(logn)^2).\n",
    "       It looks like my algorithm, the logic is the same, but I don't know why running times are different."
   ]
  },
  {
   "cell_type": "code",
   "execution_count": 18,
   "metadata": {},
   "outputs": [],
   "source": [
    "import math\n",
    "import copy\n",
    "class Point():\n",
    "    def __init__(self, x, y):\n",
    "        self.x = x\n",
    "        self.y = y\n",
    "def dist(p1, p2):\n",
    "    return math.sqrt((p1.x - p2.x) * (p1.x - p2.x) + (p1.y - p2.y) * (p1.y - p2.y))\n",
    "def bruteForce(P, n):\n",
    "    min_val = float('inf')\n",
    "    for i in range(n):\n",
    "        for j in range(i + 1, n):\n",
    "            if dist(P[i], P[j]) < min_val:\n",
    "                min_val = dist(P[i], P[j])\n",
    "    return min_val\n",
    "def stripClosest(strip, size, d):\n",
    "    min_val = d\n",
    "    for i in range(size):\n",
    "        j = i + 1\n",
    "        while j < size and (strip[j].y - strip[i].y) < min_val:\n",
    "            min_val = dist(strip[i], strip[j])\n",
    "            j += 1\n",
    "    return min_val\n",
    "def closestUtil(P, Q, n):\n",
    "    if n <= 3:\n",
    "        return bruteForce(P, n)\n",
    "    mid = n // 2\n",
    "    midPoint = P[mid]\n",
    "    Pl = P[:mid]\n",
    "    Pr = P[mid:]\n",
    "    dl = closestUtil(Pl, Q, mid)\n",
    "    dr = closestUtil(Pr, Q, n - mid)\n",
    "    d = min(dl, dr)\n",
    "    stripP = []\n",
    "    stripQ = []\n",
    "    lr = Pl + Pr\n",
    "    for i in range(n):\n",
    "        if abs(lr[i].x - midPoint.x) < d:\n",
    "            stripP.append(lr[i])\n",
    "        if abs(Q[i].x - midPoint.x) < d:\n",
    "            stripQ.append(Q[i])\n",
    "    stripP.sort(key = lambda point: point.y)\n",
    "    min_a = min(d, stripClosest(stripP, len(stripP), d))\n",
    "    min_b = min(d, stripClosest(stripQ, len(stripQ), d))\n",
    "    return min(min_a,min_b)\n",
    "def closest(P, n):\n",
    "    P.sort(key = lambda point: point.x)\n",
    "    Q = copy.deepcopy(P)\n",
    "    Q.sort(key = lambda point: point.y)   \n",
    "    return closestUtil(P, Q, n)"
   ]
  },
  {
   "cell_type": "code",
   "execution_count": 19,
   "metadata": {},
   "outputs": [
    {
     "name": "stdout",
     "output_type": "stream",
     "text": [
      "2.0939812660217285 seconds\n"
     ]
    }
   ],
   "source": [
    "import random\n",
    "import time\n",
    "P = []\n",
    "for i in range(100000):\n",
    "    P.append(Point(random.randint(0,100000000), random.randint(0,100000000)))\n",
    "n = len(P)\n",
    "s = time.time()\n",
    "x = closest(P, n)\n",
    "print(time.time()-s,'seconds')"
   ]
  }
 ],
 "metadata": {
  "kernelspec": {
   "display_name": "Python 3",
   "language": "python",
   "name": "python3"
  },
  "language_info": {
   "codemirror_mode": {
    "name": "ipython",
    "version": 3
   },
   "file_extension": ".py",
   "mimetype": "text/x-python",
   "name": "python",
   "nbconvert_exporter": "python",
   "pygments_lexer": "ipython3",
   "version": "3.7.3"
  }
 },
 "nbformat": 4,
 "nbformat_minor": 2
}
