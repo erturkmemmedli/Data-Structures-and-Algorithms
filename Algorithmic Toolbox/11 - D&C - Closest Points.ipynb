{
 "cells": [
  {
   "cell_type": "markdown",
   "metadata": {},
   "source": [
    "## Divide and Conquer Algorithms\n"
   ]
  },
  {
   "cell_type": "markdown",
   "metadata": {},
   "source": [
    "### Closest Points Naive"
   ]
  },
  {
   "cell_type": "code",
   "execution_count": 20,
   "metadata": {},
   "outputs": [
    {
     "name": "stdout",
     "output_type": "stream",
     "text": [
      "2\n",
      "1 3\n",
      "2 4\n",
      "1.414213562\n"
     ]
    }
   ],
   "source": [
    "from collections import namedtuple\n",
    "from itertools import combinations\n",
    "from math import sqrt\n",
    "\n",
    "Point = namedtuple('Point', 'x y')\n",
    "\n",
    "def distance_squared(first_point, second_point):\n",
    "    return (first_point.x - second_point.x) ** 2 + (first_point.y - second_point.y) ** 2\n",
    "\n",
    "def minimum_distance_squared_naive(points):\n",
    "    min_distance_squared = float(\"inf\")\n",
    "    for p, q in combinations(points, 2):\n",
    "        min_distance_squared = min(min_distance_squared,\n",
    "                                   distance_squared(p, q))\n",
    "    return min_distance_squared\n",
    "\n",
    "if __name__ == '__main__':\n",
    "    input_n = int(input())\n",
    "    input_points = []\n",
    "    for _ in range(input_n):\n",
    "        x, y = map(int, input().split())\n",
    "        input_point = Point(x, y)\n",
    "        input_points.append(input_point)\n",
    "    print(\"{0:.9f}\".format(sqrt(minimum_distance_squared_naive(input_points))))"
   ]
  },
  {
   "cell_type": "markdown",
   "metadata": {},
   "source": [
    "### Closest Points\n",
    "Find the closest pair of points in a set of **n≤10^5** points on a plane"
   ]
  },
  {
   "cell_type": "code",
   "execution_count": 3,
   "metadata": {},
   "outputs": [],
   "source": [
    "from itertools import combinations\n",
    "import random\n",
    "import time\n",
    "\n",
    "def minimum_distance_squared_naive(points):\n",
    "    min_distance_squared = float(\"inf\")\n",
    "    for p, q in combinations(points, 2):\n",
    "        min_distance_squared = min(min_distance_squared, distance_calculator(p, q))\n",
    "    return min_distance_squared\n",
    "\n",
    "def partition3(A, l, r):\n",
    "    pivot = A[l]\n",
    "    part1 = l\n",
    "    part2 = l\n",
    "    for i in range(l + 1, r + 1):\n",
    "        if A[i] < pivot:\n",
    "            part1 += 1\n",
    "            part2 += 1\n",
    "            A[i], A[part2] = A[part2], A[i]\n",
    "            A[part2], A[part1] = A[part1], A[part2]\n",
    "        elif A[i] == pivot:\n",
    "            part2 += 1\n",
    "            A[i], A[part2] = A[part2], A[i]\n",
    "    A[l], A[part1] = A[part1], A[l]\n",
    "    return part1, part2\n",
    "\n",
    "def randomized_quick_sort(A, l, r):\n",
    "    if l >= r:\n",
    "        return\n",
    "    k = random.randint(l, r)\n",
    "    A[l], A[k] = A[k], A[l]\n",
    "    (m1, m2) = partition3(A, l, r)\n",
    "    randomized_quick_sort(A, l, m1 - 1)\n",
    "    randomized_quick_sort(A, m2 + 1, r)\n",
    "\n",
    "def distance_calculator(first, second):\n",
    "    return ((first[0] - second[0]) ** 2 + (first[1] - second[1]) ** 2) ** 0.5\n",
    "\n",
    "def minimum_left_right(A):\n",
    "    minimum = float('inf')\n",
    "    #print(A)\n",
    "    if len(A) == 3:\n",
    "        if distance_calculator(A[0], A[1]) <= distance_calculator(A[0], A[2]):\n",
    "            A = A[0:2] + A[1:]\n",
    "        else:\n",
    "            A = A[0::2] + A[1:]\n",
    "    if len(A) == 2:\n",
    "        minimum = min(minimum, distance_calculator(A[0], A[1]))\n",
    "        #print('minimum', minimum)\n",
    "        return minimum\n",
    "    mid = len(A) // 2\n",
    "    X = minimum_left_right(A[:mid])\n",
    "    Y = minimum_left_right(A[mid:])\n",
    "    d = min(X, Y)\n",
    "    V = final_test(quicksort(filter_mid(A[:mid], int(d))))\n",
    "    W = final_test(quicksort(filter_mid(A[mid:], int(d))))\n",
    "    d_mid = min(V, W)\n",
    "    return min(d, d_mid)\n",
    "\n",
    "def filter_mid(A, d):\n",
    "    mid = len(A) // 2\n",
    "    P = []\n",
    "    for i in range(len(A)):\n",
    "        if abs(A[mid][0] - A[i][0]) <= int(d):\n",
    "            P.append(A[i])\n",
    "    return P\n",
    "\n",
    "def quicksort(A):\n",
    "    if len(A) <= 1:\n",
    "        return A\n",
    "    pivot = A[0]\n",
    "    less = [y for y in A[1:] if y[1] < pivot[1]]\n",
    "    greater = [y for y in A[1:] if y[1] >= pivot[1]]\n",
    "    return quicksort(less) + [pivot] + quicksort(greater)\n",
    "\n",
    "def final_test(A):\n",
    "    d_prime = float('inf')\n",
    "    for i in range(len(A)):\n",
    "        for j in range(i + 1, len(A)):\n",
    "            if abs(i - j) < 7:\n",
    "                d_prime = min(d_prime, distance_calculator(A[i], A[j]))\n",
    "            else:\n",
    "                break\n",
    "        #print('d_prime', d_prime)\n",
    "    return d_prime\n",
    "\n",
    "def zero_check(A):\n",
    "    for i in range(len(A) - 1):\n",
    "        if A[i] == A[i + 1]:\n",
    "            return distance_calculator(A[i], A[i + 1])\n",
    "        \n",
    "def minimum_distance_squared(points):\n",
    "    assert 2 <= len(points) <= 10 ** 5\n",
    "    l = 0\n",
    "    r = len(points) - 1\n",
    "    randomized_quick_sort(points, l, r)\n",
    "    #print('Points sorted by x-axis: ', points)\n",
    "    if zero_check(points) == 0:\n",
    "        return zero_check(points)\n",
    "    distance = minimum_left_right(points)\n",
    "    #print('Minimum distance between points in right-hand side and left-hand side: ', distance)\n",
    "    mid_points = filter_mid(points, distance)\n",
    "    #print('Points locating in middle part: ', mid_points)\n",
    "    sort_y = quicksort(mid_points)\n",
    "    #print('Middle part sorted by y-axis: ', sort_y)\n",
    "    mid_distance = final_test(sort_y)\n",
    "    #print('Minimum distance between points in middle part: ', mid_distance)\n",
    "    minimum = min(distance, mid_distance)\n",
    "    #print('Distance between closest points: ', minimum)\n",
    "    return minimum\n",
    "\n",
    "def StressTest(N, M):\n",
    "    assert 2 <= N <= 100\n",
    "    assert 0 <= M <= 10**9\n",
    "    while True:\n",
    "        n = random.randint(2, N)\n",
    "        A = [[random.randint(0, M), random.randint(0, M)] for i in range(0, N)]\n",
    "        print(A)\n",
    "        result1 = minimum_distance_squared_naive(A)\n",
    "        result2 = minimum_distance_squared(A)\n",
    "        if result1 == result2:\n",
    "            print('OK', 'result1, result2 = ', result1)\n",
    "        else:\n",
    "            print('Answer is wrong:', 'result1 = ', result1, 'result2 = ', result2)\n",
    "            break\n",
    "\n",
    "def ComplexityTest(N, M):\n",
    "    assert 2 <= N <= 10**5\n",
    "    assert 0 <= M <= 10**9\n",
    "    A = [[random.randint(-M, M), random.randint(-M, M)] for i in range(0, N)]\n",
    "    start_time = time.time()\n",
    "    print(minimum_distance_squared(A))\n",
    "    print(\"--- %s seconds ---\" % (time.time() - start_time))"
   ]
  },
  {
   "cell_type": "code",
   "execution_count": 4,
   "metadata": {},
   "outputs": [
    {
     "name": "stdout",
     "output_type": "stream",
     "text": [
      "[[83, 79], [15, 18], [44, 65], [63, 39], [8, 35], [35, 78], [41, 77], [33, 25], [59, 53], [85, 89], [80, 49], [5, 47], [1, 27], [32, 28], [93, 89], [49, 90], [17, 0], [18, 11], [93, 78], [98, 82]]\n",
      "OK result1, result2 =  3.1622776601683795\n",
      "[[2, 51], [57, 71], [11, 59], [2, 73], [55, 7], [26, 60], [7, 100], [55, 81], [43, 0], [86, 44], [51, 95], [41, 95], [86, 28], [58, 61], [64, 71], [13, 98], [60, 16], [46, 78], [65, 24], [55, 18]]\n",
      "OK result1, result2 =  5.385164807134504\n",
      "[[7, 37], [19, 89], [54, 74], [80, 35], [0, 50], [66, 46], [15, 2], [95, 13], [57, 94], [23, 41], [42, 12], [82, 40], [29, 89], [36, 10], [96, 21], [60, 15], [51, 92], [27, 52], [1, 98], [21, 19]]\n",
      "OK result1, result2 =  5.385164807134504\n",
      "[[16, 53], [78, 6], [58, 38], [8, 30], [35, 69], [55, 9], [88, 99], [55, 70], [6, 35], [70, 10], [28, 92], [66, 1], [51, 42], [75, 47], [9, 23], [33, 62], [46, 53], [85, 41], [100, 54], [64, 86]]\n",
      "OK result1, result2 =  5.385164807134504\n",
      "[[29, 72], [79, 48], [22, 62], [17, 100], [2, 48], [52, 30], [28, 94], [11, 6], [79, 3], [44, 14], [24, 25], [50, 58], [31, 47], [19, 75], [18, 66], [43, 38], [76, 32], [91, 62], [69, 63], [87, 26]]\n",
      "OK result1, result2 =  5.656854249492381\n",
      "[[6, 68], [41, 86], [86, 52], [5, 78], [37, 48], [60, 29], [10, 87], [26, 13], [51, 45], [3, 49], [56, 6], [16, 99], [7, 89], [87, 84], [18, 6], [5, 40], [67, 25], [21, 60], [19, 54], [69, 39]]\n",
      "OK result1, result2 =  3.605551275463989\n",
      "[[6, 75], [71, 100], [95, 99], [19, 18], [74, 35], [9, 23], [82, 11], [36, 88], [28, 48], [49, 69], [38, 70], [58, 60], [36, 32], [75, 67], [82, 68], [48, 51], [44, 31], [40, 94], [67, 30], [48, 50]]\n",
      "OK result1, result2 =  1.0\n",
      "[[67, 61], [34, 55], [56, 74], [67, 3], [69, 65], [99, 92], [35, 66], [3, 7], [95, 65], [64, 65], [15, 93], [84, 22], [92, 12], [69, 78], [65, 55], [42, 51], [95, 59], [34, 86], [28, 78], [53, 88]]\n",
      "OK result1, result2 =  4.47213595499958\n",
      "[[92, 41], [76, 95], [14, 43], [81, 97], [2, 22], [93, 78], [71, 9], [13, 6], [28, 54], [81, 9], [34, 92], [67, 61], [52, 79], [74, 0], [97, 46], [68, 9], [4, 93], [50, 44], [21, 61], [67, 77]]\n",
      "OK result1, result2 =  3.0\n",
      "[[87, 94], [41, 0], [75, 46], [100, 27], [26, 31], [13, 43], [74, 75], [23, 3], [7, 90], [90, 91], [25, 19], [1, 67], [14, 68], [40, 69], [26, 4], [73, 77], [58, 69], [19, 73], [94, 76], [34, 1]]\n",
      "OK result1, result2 =  2.23606797749979\n",
      "[[72, 0], [96, 61], [64, 58], [87, 26], [82, 5], [87, 87], [67, 97], [15, 87], [96, 80], [77, 60], [59, 72], [5, 49], [25, 22], [15, 40], [18, 45], [2, 80], [21, 97], [90, 31], [28, 82], [69, 34]]\n",
      "OK result1, result2 =  5.830951894845301\n",
      "[[15, 84], [62, 77], [14, 75], [87, 5], [71, 22], [4, 40], [52, 44], [39, 42], [9, 96], [72, 15], [37, 46], [57, 3], [43, 55], [11, 19], [91, 63], [9, 10], [33, 17], [98, 99], [97, 9], [87, 98]]\n",
      "OK result1, result2 =  4.47213595499958\n"
     ]
    },
    {
     "ename": "KeyboardInterrupt",
     "evalue": "",
     "output_type": "error",
     "traceback": [
      "\u001b[1;31mKeyboardInterrupt\u001b[0m "
     ]
    }
   ],
   "source": [
    "StressTest(20, 100)\n"
   ]
  },
  {
   "cell_type": "code",
   "execution_count": 5,
   "metadata": {},
   "outputs": [
    {
     "name": "stdout",
     "output_type": "stream",
     "text": [
      "0.0\n",
      "--- 0.06600093841552734 seconds ---\n"
     ]
    }
   ],
   "source": [
    "ComplexityTest(10**5, 1)"
   ]
  },
  {
   "cell_type": "code",
   "execution_count": 7,
   "metadata": {},
   "outputs": [
    {
     "name": "stdout",
     "output_type": "stream",
     "text": [
      "0.0\n",
      "--- 0.5322265625 seconds ---\n"
     ]
    }
   ],
   "source": [
    "ComplexityTest(10**5, 10000)"
   ]
  },
  {
   "cell_type": "code",
   "execution_count": 8,
   "metadata": {},
   "outputs": [
    {
     "name": "stdout",
     "output_type": "stream",
     "text": [
      "12.649110640673518\n",
      "--- 4.464529037475586 seconds ---\n"
     ]
    }
   ],
   "source": [
    "ComplexityTest(10**5, 1000000)"
   ]
  },
  {
   "cell_type": "code",
   "execution_count": 21,
   "metadata": {},
   "outputs": [
    {
     "name": "stdout",
     "output_type": "stream",
     "text": [
      "15510.110380006972\n",
      "--- 4.560770511627197 seconds ---\n"
     ]
    }
   ],
   "source": [
    "ComplexityTest(10**5, 1000000000)"
   ]
  },
  {
   "cell_type": "code",
   "execution_count": 12,
   "metadata": {},
   "outputs": [
    {
     "name": "stdout",
     "output_type": "stream",
     "text": [
      "138.13399291991817\n",
      "--- 4.508478403091431 seconds ---\n"
     ]
    }
   ],
   "source": [
    "ComplexityTest(10**5, 10000000)"
   ]
  },
  {
   "cell_type": "code",
   "execution_count": 13,
   "metadata": {},
   "outputs": [
    {
     "name": "stdout",
     "output_type": "stream",
     "text": [
      "0.0\n",
      "--- 0.44855570793151855 seconds ---\n"
     ]
    }
   ],
   "source": [
    "ComplexityTest(10**5, 100)"
   ]
  },
  {
   "cell_type": "markdown",
   "metadata": {},
   "source": [
    "Personal Note:\n",
    "       \n",
    "       It seems that the running time of the algorithm is always less than 5 seconds.\n",
    "       It is satisfactory for the task but it can change due to the RAM of the PC.\n",
    "       Since it is around 5 seconds, for less powerful PCs, running time will increase.\n",
    "       In the algorithm I designed above, the complexity must be O(n*(logn)^2).\n",
    "       However, in my algorithm, I guess it is O(n*(logn)^m) where m > 2. But I couldn't find which part causes m to increase.\n",
    "       \n",
    "       Below is another algorithm I found from the internet, which is working in O(n*(logn)^2).\n",
    "       It looks like my algorithm, the logic is the same, but I don't know why running times are different."
   ]
  },
  {
   "cell_type": "code",
   "execution_count": 18,
   "metadata": {},
   "outputs": [],
   "source": [
    "import math\n",
    "import copy\n",
    "class Point():\n",
    "    def __init__(self, x, y):\n",
    "        self.x = x\n",
    "        self.y = y\n",
    "def dist(p1, p2):\n",
    "    return math.sqrt((p1.x - p2.x) * (p1.x - p2.x) + (p1.y - p2.y) * (p1.y - p2.y))\n",
    "def bruteForce(P, n):\n",
    "    min_val = float('inf')\n",
    "    for i in range(n):\n",
    "        for j in range(i + 1, n):\n",
    "            if dist(P[i], P[j]) < min_val:\n",
    "                min_val = dist(P[i], P[j])\n",
    "    return min_val\n",
    "def stripClosest(strip, size, d):\n",
    "    min_val = d\n",
    "    for i in range(size):\n",
    "        j = i + 1\n",
    "        while j < size and (strip[j].y - strip[i].y) < min_val:\n",
    "            min_val = dist(strip[i], strip[j])\n",
    "            j += 1\n",
    "    return min_val\n",
    "def closestUtil(P, Q, n):\n",
    "    if n <= 3:\n",
    "        return bruteForce(P, n)\n",
    "    mid = n // 2\n",
    "    midPoint = P[mid]\n",
    "    Pl = P[:mid]\n",
    "    Pr = P[mid:]\n",
    "    dl = closestUtil(Pl, Q, mid)\n",
    "    dr = closestUtil(Pr, Q, n - mid)\n",
    "    d = min(dl, dr)\n",
    "    stripP = []\n",
    "    stripQ = []\n",
    "    lr = Pl + Pr\n",
    "    for i in range(n):\n",
    "        if abs(lr[i].x - midPoint.x) < d:\n",
    "            stripP.append(lr[i])\n",
    "        if abs(Q[i].x - midPoint.x) < d:\n",
    "            stripQ.append(Q[i])\n",
    "    stripP.sort(key = lambda point: point.y)\n",
    "    min_a = min(d, stripClosest(stripP, len(stripP), d))\n",
    "    min_b = min(d, stripClosest(stripQ, len(stripQ), d))\n",
    "    return min(min_a,min_b)\n",
    "def closest(P, n):\n",
    "    P.sort(key = lambda point: point.x)\n",
    "    Q = copy.deepcopy(P)\n",
    "    Q.sort(key = lambda point: point.y)   \n",
    "    return closestUtil(P, Q, n)"
   ]
  },
  {
   "cell_type": "code",
   "execution_count": 19,
   "metadata": {},
   "outputs": [
    {
     "name": "stdout",
     "output_type": "stream",
     "text": [
      "2.0939812660217285 seconds\n"
     ]
    }
   ],
   "source": [
    "import random\n",
    "import time\n",
    "P = []\n",
    "for i in range(100000):\n",
    "    P.append(Point(random.randint(0,100000000), random.randint(0,100000000)))\n",
    "n = len(P)\n",
    "s = time.time()\n",
    "x = closest(P, n)\n",
    "print(time.time()-s,'seconds')"
   ]
  }
 ],
 "metadata": {
  "kernelspec": {
   "display_name": "Python 3",
   "language": "python",
   "name": "python3"
  },
  "language_info": {
   "codemirror_mode": {
    "name": "ipython",
    "version": 3
   },
   "file_extension": ".py",
   "mimetype": "text/x-python",
   "name": "python",
   "nbconvert_exporter": "python",
   "pygments_lexer": "ipython3",
   "version": "3.7.3"
  }
 },
 "nbformat": 4,
 "nbformat_minor": 2
}
