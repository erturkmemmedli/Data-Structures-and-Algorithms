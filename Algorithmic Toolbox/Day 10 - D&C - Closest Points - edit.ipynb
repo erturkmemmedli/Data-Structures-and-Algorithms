{
 "cells": [
  {
   "cell_type": "markdown",
   "metadata": {},
   "source": [
    "## Divide and Conquer Algorithms\n"
   ]
  },
  {
   "cell_type": "markdown",
   "metadata": {},
   "source": [
    "\n",
    "### Closest Points Naive"
   ]
  },
  {
   "cell_type": "code",
   "execution_count": 36,
   "metadata": {},
   "outputs": [
    {
     "name": "stdout",
     "output_type": "stream",
     "text": [
      "2\n",
      "1 3\n",
      "2 4\n",
      "1.4142135623730951\n"
     ]
    }
   ],
   "source": [
    "from collections import namedtuple\n",
    "from itertools import combinations\n",
    "from math import sqrt\n",
    "\n",
    "#Point = namedtuple('Point', 'x y')\n",
    "\n",
    "def distance_squared(first_point, second_point):\n",
    "    #return (first_point.x - second_point.x) ** 2 + (first_point.y - second_point.y) ** 2\n",
    "    return (first_point[0] - second_point[0]) ** 2 + (first_point[1] - second_point[1]) ** 2\n",
    "\n",
    "def minimum_distance_squared_naive(points):\n",
    "    min_distance_squared = float(\"inf\")\n",
    "    for p, q in combinations(points, 2):\n",
    "        min_distance_squared = min(min_distance_squared,\n",
    "                                   distance_squared(p, q))\n",
    "    #return min_distance_squared\n",
    "    return sqrt(min_distance_squared)\n",
    "\n",
    "if __name__ == '__main__':\n",
    "    input_n = int(input())\n",
    "    input_points = []\n",
    "    for _ in range(input_n):\n",
    "        x, y = map(int, input().split())\n",
    "        #input_point = Point(x, y)\n",
    "        input_point = [x, y]\n",
    "        input_points.append(input_point)\n",
    "    #print(\"{0:.9f}\".format(sqrt(minimum_distance_squared_naive(input_points))))\n",
    "    print(minimum_distance_squared_naive(input_points))"
   ]
  },
  {
   "cell_type": "markdown",
   "metadata": {},
   "source": [
    "### Closest Points\n",
    "Find the closest pair of points in a set of **n≤10^5** points on a plane"
   ]
  },
  {
   "cell_type": "code",
   "execution_count": 56,
   "metadata": {},
   "outputs": [],
   "source": [
    "# In large dataset with 10^5 points, mergesort algorithm gives result in almost 20 seconds.\n",
    "# So, for sorting given points, we will use quicksort algorithm, which performs faster.\n",
    "def quicksort(A):\n",
    "    if len(A) <= 1:\n",
    "        return A\n",
    "    pivot = A[0]\n",
    "    greater = [x for x in A[1:] if x > pivot]\n",
    "    less = [x for x in A[1:] if x <= pivot]\n",
    "    return quicksort(less) + [pivot] + quicksort(greater)\n",
    "\n",
    "# To calculate distance between two points, we will use Pythagorean Theorem.\n",
    "# So, distance = hypotenuse = sqrt((x1 - x2)^2 + (y1 - y2)^2).\n",
    "def distance_calculator(first, second):\n",
    "    return ((first[0] - second[0]) ** 2 + (first[1] - second[1]) ** 2) ** 0.5\n",
    "\n",
    "# We will use recursive algorithm to seperate points into two parts and solve side-by-side.\n",
    "# We will find minimum distance in left-hand side and right-hand side and get the minimum between them.\n",
    "def minimum_left_right(A):\n",
    "    minimum = float('inf')\n",
    "    print(A)\n",
    "    if len(A) == 3:\n",
    "        if distance_calculator(A[0], A[1]) <= distance_calculator(A[0], A[2]):\n",
    "            A = A[0:2] + A[1:]\n",
    "        else:\n",
    "            A = A[0::2] + A[1:]\n",
    "    if len(A) == 2:\n",
    "        minimum = min(minimum, distance_calculator(A[0], A[1]))\n",
    "        print(minimum)\n",
    "        return minimum\n",
    "    mid = len(A) // 2\n",
    "    X = minimum_left_right(A[:mid])\n",
    "    Y = minimum_left_right(A[mid:])\n",
    "    d = min(X, Y)\n",
    "    V = final_test(mergesort(filter_mid(X, d)))\n",
    "    W = final_test(mergesort(filter_mid(Y, d)))\n",
    "    d1 = min(V,W)\n",
    "    return min(d,d1)\n",
    "\n",
    "# We will look at the middle part because there may be closest points which are not included due to the seperation.\n",
    "# So, we will filter the boundaries of points so that the distances from the x-axis of the mid-point to \n",
    "# the x-axes of filtered points are not bigger than the minimum distance found by \"minimum_left_right\" function.\n",
    "def filter_mid(A, d):\n",
    "    mid = len(A) // 2\n",
    "    P = []\n",
    "    for i in range(len(A)):\n",
    "        if abs(A[mid][0] - A[i][0]) <= int(d):\n",
    "            P.append(A[i])\n",
    "    return P\n",
    "\n",
    "# For filtered points, we will use mergesort algorithm to sort points by y-coordinates.\n",
    "def mergesort(A):\n",
    "    if len(A) <= 1:\n",
    "        return A\n",
    "    mid = len(A) // 2\n",
    "    B = mergesort(A[:mid])\n",
    "    C = mergesort(A[mid:])\n",
    "    A_new = merge(B, C)\n",
    "    return A_new\n",
    "\n",
    "def merge(B, C):\n",
    "    D = []\n",
    "    while len(B) != 0 or len(C) != 0:\n",
    "        if len(B) == 0 or len(C) == 0:\n",
    "            break\n",
    "        if B[0][1] <= C[0][1]:\n",
    "            D.append(B[0])\n",
    "            B = B[1:]\n",
    "        else:\n",
    "            D.append(C[0])\n",
    "            C = C[1:]\n",
    "    D = D + B + C\n",
    "    return D\n",
    "\n",
    "# Since filtered points are sorted by y-axis, we do not need to check every combination.\n",
    "# Only 8 points will be enough to check whether closest points are there.\n",
    "def final_test(A):\n",
    "    d_prime = float('inf')\n",
    "    for i in range(len(A)):\n",
    "        for j in range(len(A)):\n",
    "            if i != j:\n",
    "                if abs(i - j) < 7:\n",
    "                    d_prime = min(d_prime, distance_calculator(A[i], A[j]))\n",
    "                else:\n",
    "                    break\n",
    "    return d_prime\n",
    "\n",
    "# Finally, we will use all the functions we defined above and find the distance between closest points.\n",
    "def minimum_distance_squared(points):\n",
    "    assert 2 <= len(points) <= 10 ** 5\n",
    "    points = quicksort(points)\n",
    "    #print('Points sorted by x-axis: ', points)\n",
    "    distance = minimum_left_right(points)\n",
    "    #print('Minimum distance between points in right-hand side and left-hand side: ', distance)\n",
    "    mid_points = filter_mid(points, distance)\n",
    "    #print('Points locating in middle part: ', mid_points)\n",
    "    sort_y = mergesort(mid_points)\n",
    "    #print('Middle part sorted by y-axis: ', sort_y)\n",
    "    mid_distance = final_test(sort_y)\n",
    "    #print('Minimum distance between points in middle part: ', mid_distance)\n",
    "    minimum = min(distance, mid_distance)\n",
    "    #print('Distance between closest points: ', minimum)\n",
    "    return minimum"
   ]
  },
  {
   "cell_type": "code",
   "execution_count": 10,
   "metadata": {},
   "outputs": [],
   "source": [
    "# Constraints: 2 <= n <= 10^5 and -10^3 <= xi ; yi <= 10^3\n",
    "import random\n",
    "points = []\n",
    "for i in range(100000):\n",
    "    points.append([random.randint(-10**3, 10**3), random.randint(-10**3, 10**3)])"
   ]
  },
  {
   "cell_type": "code",
   "execution_count": 11,
   "metadata": {},
   "outputs": [
    {
     "name": "stdout",
     "output_type": "stream",
     "text": [
      "0.0\n",
      "--- 0.6286485195159912 seaconds ---\n"
     ]
    }
   ],
   "source": [
    "import time\n",
    "start_time = time.time()\n",
    "print(minimum_distance_squared(points))\n",
    "print(\"--- %s seaconds ---\" % (time.time() - start_time))"
   ]
  },
  {
   "cell_type": "code",
   "execution_count": 12,
   "metadata": {},
   "outputs": [],
   "source": [
    "# Constraints: 2 <= n <= 10^5 and -10^9 <= xi ; yi <= 10^9\n",
    "import random\n",
    "points = []\n",
    "for i in range(50000):\n",
    "    points.append([random.randint(-10**9, 10**9), random.randint(-10**9, 10**9)])"
   ]
  },
  {
   "cell_type": "code",
   "execution_count": 13,
   "metadata": {},
   "outputs": [
    {
     "name": "stdout",
     "output_type": "stream",
     "text": [
      "43673.006731847534\n",
      "--- 0.2823178768157959 seaconds ---\n"
     ]
    }
   ],
   "source": [
    "import time\n",
    "start_time = time.time()\n",
    "print(minimum_distance_squared(points))\n",
    "print(\"--- %s seaconds ---\" % (time.time() - start_time))"
   ]
  },
  {
   "cell_type": "code",
   "execution_count": 14,
   "metadata": {},
   "outputs": [],
   "source": [
    "# Constraints: 2 <= n <= 10^5 and 0 <= xi ; yi <= 10^9\n",
    "import random\n",
    "points = []\n",
    "for i in range(50000):\n",
    "    points.append([random.randint(0, 10**9), random.randint(0, 10**9)])"
   ]
  },
  {
   "cell_type": "code",
   "execution_count": 15,
   "metadata": {},
   "outputs": [
    {
     "name": "stdout",
     "output_type": "stream",
     "text": [
      "38107.02587450246\n",
      "--- 0.27686476707458496 seaconds ---\n"
     ]
    }
   ],
   "source": [
    "import time\n",
    "start_time = time.time()\n",
    "print(minimum_distance_squared(points))\n",
    "print(\"--- %s seaconds ---\" % (time.time() - start_time))"
   ]
  },
  {
   "cell_type": "code",
   "execution_count": 19,
   "metadata": {},
   "outputs": [
    {
     "name": "stdout",
     "output_type": "stream",
     "text": [
      "Points sorted by x-axis:  [(1, 2), (1, 16), (2, 3), (3, 7), (3, 17), (5, 3), (6, 9), (7, 1), (7, 21), (8, 12), (9, 15), (15, 4)]\n",
      "Minimum distance between points in right-hand side and left-hand side:  1.4142135623730951\n",
      "Points locating in middle part:  [(5, 3), (6, 9), (7, 1), (7, 21)]\n",
      "Middle part sorted by y-axis:  [(7, 1), (5, 3), (6, 9), (7, 21)]\n",
      "Minimum distance between points in middle part:  2.8284271247461903\n",
      "Distance between closest points:  1.4142135623730951\n"
     ]
    },
    {
     "data": {
      "text/plain": [
       "1.4142135623730951"
      ]
     },
     "execution_count": 19,
     "metadata": {},
     "output_type": "execute_result"
    }
   ],
   "source": [
    "points = [(6,9),(3,7),(15,4),(7,1),(9,15),(1,2),(3,17),(8,12),(5,3),(1,16),(2,3),(7,21)]\n",
    "minimum_distance_squared(points)"
   ]
  },
  {
   "cell_type": "code",
   "execution_count": 20,
   "metadata": {},
   "outputs": [
    {
     "name": "stdout",
     "output_type": "stream",
     "text": [
      "Points sorted by x-axis:  [(1, 2), (1, 16), (2, 3), (3, 7), (3, 17), (4, 3), (4, 4), (7, 9), (8, 1), (8, 21), (9, 12), (10, 15)]\n",
      "Minimum distance between points in right-hand side and left-hand side:  1.4142135623730951\n",
      "Points locating in middle part:  [(3, 7), (3, 17), (4, 3), (4, 4)]\n",
      "Middle part sorted by y-axis:  [(4, 3), (4, 4), (3, 7), (3, 17)]\n",
      "Minimum distance between points in middle part:  1.0\n",
      "Distance between closest points:  1.0\n"
     ]
    },
    {
     "data": {
      "text/plain": [
       "1.0"
      ]
     },
     "execution_count": 20,
     "metadata": {},
     "output_type": "execute_result"
    }
   ],
   "source": [
    "points = [(7,9),(3,7),(4,4),(8,1),(10,15),(1,2),(3,17),(9,12),(4,3),(1,16),(2,3),(8,21)]\n",
    "minimum_distance_squared(points)"
   ]
  },
  {
   "cell_type": "code",
   "execution_count": 1,
   "metadata": {},
   "outputs": [],
   "source": [
    "# NIAVE ALGORITHM\n",
    "\n",
    "from itertools import combinations\n",
    "\n",
    "def distance_squared(first_point, second_point):\n",
    "    return ((first_point[0] - second_point[0]) ** 2 + (first_point[1] - second_point[1]) ** 2) ** 0.5\n",
    "\n",
    "def minimum_distance_squared_naive(points):\n",
    "    min_distance_squared = float(\"inf\")\n",
    "    for p, q in combinations(points, 2):\n",
    "        min_distance_squared = min(min_distance_squared,\n",
    "                                   distance_squared(p, q))\n",
    "    return min_distance_squared\n",
    "\n",
    "# FAST ALGORITHM\n",
    "\n",
    "# In large dataset with 10^5 points, mergesort algorithm gives result in almost 20 seconds.\n",
    "# So, for sorting given points, we will use quicksort algorithm, which performs faster.\n",
    "def quicksort(A):\n",
    "    if len(A) <= 1:\n",
    "        return A\n",
    "    pivot = A[0]\n",
    "    greater = [x for x in A[1:] if x > pivot]\n",
    "    less = [x for x in A[1:] if x <= pivot]\n",
    "    return quicksort(less) + [pivot] + quicksort(greater)\n",
    "\n",
    "# To calculate distance between two points, we will use Pythagorean Theorem.\n",
    "# So, distance = hypotenuse = sqrt((x1 - x2)^2 + (y1 - y2)^2).\n",
    "def distance_calculator(first, second):\n",
    "    return ((first[0] - second[0]) ** 2 + (first[1] - second[1]) ** 2) ** 0.5\n",
    "\n",
    "# We will use recursive algorithm to seperate points into two parts and solve side-by-side.\n",
    "# We will find minimum distance in left-hand side and right-hand side and get the minimum between them.\n",
    "def minimum_left_right(A):\n",
    "    minimum = float('inf')\n",
    "    #print(A)\n",
    "    if len(A) == 3:\n",
    "        if distance_calculator(A[0], A[1]) <= distance_calculator(A[0], A[2]):\n",
    "            A = A[0:2] + A[1:]\n",
    "        else:\n",
    "            A = A[0::2] + A[1:]\n",
    "    if len(A) == 2:\n",
    "        minimum = min(minimum, distance_calculator(A[0], A[1]))\n",
    "        #print(minimum)\n",
    "        return minimum\n",
    "    mid = len(A) // 2\n",
    "    X = minimum_left_right(A[:mid])\n",
    "    Y = minimum_left_right(A[mid:])\n",
    "    d = min(X, Y)\n",
    "    # This part is added to check border points in left-hand side and right-hand side in order not to skip the possibility.\n",
    "    V = final_test(mergesort(filter_mid(A[:mid], int(d))))\n",
    "    W = final_test(mergesort(filter_mid(A[mid:], int(d))))\n",
    "    d_mid = min(V, W)\n",
    "    #print('d_mid', d_mid)\n",
    "    return min(d, d_mid)\n",
    "\n",
    "# We will look at the middle part because there may be closest points which are not included due to the seperation.\n",
    "# So, we will filter the boundaries of points so that the distances from the x-axis of the mid-point to \n",
    "# the x-axes of filtered points are not bigger than the minimum distance found by \"minimum_left_right\" function.\n",
    "def filter_mid(A, d):\n",
    "    mid = len(A) // 2\n",
    "    P = []\n",
    "    for i in range(len(A)):\n",
    "        if abs(A[mid][0] - A[i][0]) <= int(d):\n",
    "            P.append(A[i])\n",
    "    #print('P', P)\n",
    "    return P\n",
    "\n",
    "# For filtered points, we will use mergesort algorithm to sort points by y-coordinates.\n",
    "def mergesort(A):\n",
    "    if len(A) <= 1:\n",
    "        return A\n",
    "    mid = len(A) // 2\n",
    "    B = mergesort(A[:mid])\n",
    "    C = mergesort(A[mid:])\n",
    "    A_new = merge(B, C)\n",
    "    return A_new\n",
    "\n",
    "def merge(B, C):\n",
    "    D = []\n",
    "    while len(B) != 0 or len(C) != 0:\n",
    "        if len(B) == 0 or len(C) == 0:\n",
    "            break\n",
    "        if B[0][1] <= C[0][1]:\n",
    "            D.append(B[0])\n",
    "            B = B[1:]\n",
    "        else:\n",
    "            D.append(C[0])\n",
    "            C = C[1:]\n",
    "    D = D + B + C\n",
    "    return D\n",
    "\n",
    "# Since filtered points are sorted by y-axis, we do not need to check every combination.\n",
    "def final_test(A):\n",
    "    d_prime = float('inf')\n",
    "    for i in range(len(A)):\n",
    "        for j in range(len(A)):\n",
    "            if i != j:\n",
    "                d_prime = min(d_prime, distance_calculator(A[i], A[j]))\n",
    "        ##print(d_prime)\n",
    "    return d_prime\n",
    "    '''\n",
    "    d_prime = float('inf')\n",
    "    print(A)\n",
    "    if len(A) == 3:\n",
    "        if distance_calculator(A[0], A[1]) <= distance_calculator(A[0], A[2]):\n",
    "            A = A[0:2] + A[1:]\n",
    "        else:\n",
    "            A = A[0::2] + A[1:]\n",
    "    if len(A) == 2:\n",
    "        d_prime = min(d_prime, distance_calculator(A[0], A[1]))\n",
    "        print(d_prime)\n",
    "        return d_prime\n",
    "    mid = len(A) // 2\n",
    "    U = final_test(A[:mid])\n",
    "    Z = final_test(A[mid:])\n",
    "    return min(U, Z)\n",
    "    '''\n",
    "\n",
    "# Finally, we will use all the functions we defined above and find the distance between closest points.\n",
    "def minimum_distance_squared(points):\n",
    "    assert 2 <= len(points) <= 10 ** 5\n",
    "    points = quicksort(points)\n",
    "    #print('Points sorted by x-axis: ', points)\n",
    "    distance = minimum_left_right(points)\n",
    "    #print('Minimum distance between points in right-hand side and left-hand side: ', distance)\n",
    "    mid_points = filter_mid(points, distance)\n",
    "    #print('Points locating in middle part: ', mid_points)\n",
    "    sort_y = mergesort(mid_points)\n",
    "    #print('Middle part sorted by y-axis: ', sort_y)\n",
    "    mid_distance = final_test(sort_y)\n",
    "    #print('Minimum distance between points in middle part: ', mid_distance)\n",
    "    minimum = min(distance, mid_distance)\n",
    "    #print('Distance between closest points: ', minimum)\n",
    "    return minimum"
   ]
  },
  {
   "cell_type": "code",
   "execution_count": 2,
   "metadata": {},
   "outputs": [],
   "source": [
    "import random\n",
    "def StressTest(N, M):\n",
    "    while True:\n",
    "        n = random.randint(2, N)\n",
    "        A = []\n",
    "        for i in range(n):\n",
    "            A.append([random.randint(0, M), random.randint(0, M)])\n",
    "        print(A)\n",
    "        result1 = minimum_distance_squared_naive(map(tuple,A))\n",
    "        result2 = minimum_distance_squared(A)\n",
    "        if result1 == result2:\n",
    "            print('OK')\n",
    "        else:\n",
    "            print('Answer is wrong:', 'result1 = ', result1, 'result2 = ', result2)\n",
    "            break"
   ]
  },
  {
   "cell_type": "code",
   "execution_count": 3,
   "metadata": {},
   "outputs": [
    {
     "name": "stdout",
     "output_type": "stream",
     "text": [
      "[[2, 8], [20, 7], [9, 20], [17, 2]]\n",
      "OK\n",
      "[[19, 10], [15, 3], [14, 2], [1, 16], [18, 8], [6, 4], [7, 12], [16, 1], [10, 16], [9, 14], [2, 4], [18, 14]]\n",
      "OK\n",
      "[[12, 0], [9, 19], [5, 11], [15, 17], [2, 15], [4, 7], [2, 6], [18, 12], [0, 6], [0, 8]]\n",
      "OK\n",
      "[[14, 1], [16, 1], [14, 18], [8, 12], [3, 1], [6, 3], [4, 3]]\n",
      "OK\n",
      "[[2, 8], [3, 4], [15, 0], [7, 11], [8, 5], [5, 9], [3, 19], [10, 20], [17, 4], [6, 11], [1, 9], [11, 20], [16, 8], [0, 19]]\n",
      "OK\n",
      "[[4, 0], [11, 19], [7, 15], [0, 18], [2, 3], [15, 14], [11, 9], [7, 2], [5, 5], [13, 9], [2, 8], [5, 2], [17, 5], [19, 1]]\n",
      "OK\n",
      "[[19, 9], [0, 4], [12, 0], [19, 8], [18, 5], [20, 14], [14, 5], [0, 10], [5, 6]]\n",
      "OK\n",
      "[[17, 0], [4, 8], [12, 3], [6, 11], [17, 14], [10, 18], [17, 4], [20, 13], [0, 3], [3, 8], [1, 11], [1, 1], [0, 9], [20, 12]]\n",
      "OK\n",
      "[[12, 4], [12, 3], [19, 19], [0, 8], [15, 15], [3, 19], [3, 10], [16, 5], [12, 2], [19, 20], [9, 20], [7, 16], [4, 18]]\n",
      "OK\n",
      "[[2, 11], [0, 4], [12, 4], [19, 8], [1, 12], [5, 10], [13, 17], [19, 14], [15, 19], [12, 1]]\n",
      "OK\n",
      "[[9, 4], [5, 3], [1, 20], [10, 3], [2, 19], [6, 15], [3, 10], [4, 17], [20, 16]]\n",
      "OK\n",
      "[[14, 3], [11, 17], [19, 1]]\n",
      "OK\n",
      "[[17, 13], [9, 19], [20, 18], [3, 9], [18, 13], [4, 20], [11, 5], [1, 8], [15, 18]]\n",
      "OK\n",
      "[[18, 12], [3, 8], [6, 5], [1, 14], [8, 19], [19, 8], [3, 18], [19, 15], [4, 15], [20, 2]]\n",
      "OK\n",
      "[[16, 12], [8, 16], [8, 0], [18, 3], [18, 5], [16, 6], [8, 11], [1, 16], [6, 7], [16, 12], [15, 3], [4, 10], [20, 10]]\n",
      "OK\n",
      "[[15, 1], [14, 11], [15, 3], [8, 11]]\n",
      "OK\n",
      "[[4, 0], [16, 20], [7, 10], [13, 17], [13, 16], [16, 19], [7, 6], [11, 4], [19, 19], [13, 3], [18, 17]]\n",
      "OK\n",
      "[[9, 3], [0, 8], [8, 4], [9, 0], [9, 20], [5, 15], [20, 10], [11, 18], [6, 0], [20, 11], [1, 12], [5, 4]]\n",
      "OK\n"
     ]
    },
    {
     "ename": "KeyboardInterrupt",
     "evalue": "",
     "output_type": "error",
     "traceback": [
      "\u001b[1;31m---------------------------------------------------------------------------\u001b[0m",
      "\u001b[1;31mKeyboardInterrupt\u001b[0m                         Traceback (most recent call last)",
      "\u001b[1;32m<ipython-input-4-f8809874e767>\u001b[0m in \u001b[0;36m<module>\u001b[1;34m\u001b[0m\n\u001b[1;32m----> 1\u001b[1;33m \u001b[0mStressTest\u001b[0m\u001b[1;33m(\u001b[0m\u001b[1;36m31\u001b[0m\u001b[1;33m,\u001b[0m \u001b[1;36m50\u001b[0m\u001b[1;33m)\u001b[0m\u001b[1;33m\u001b[0m\u001b[1;33m\u001b[0m\u001b[0m\n\u001b[0m",
      "\u001b[1;32m<ipython-input-2-d6798b000397>\u001b[0m in \u001b[0;36mStressTest\u001b[1;34m(N, M)\u001b[0m\n\u001b[0;32m     10\u001b[0m         \u001b[0mresult2\u001b[0m \u001b[1;33m=\u001b[0m \u001b[0mminimum_distance_squared\u001b[0m\u001b[1;33m(\u001b[0m\u001b[0mA\u001b[0m\u001b[1;33m)\u001b[0m\u001b[1;33m\u001b[0m\u001b[1;33m\u001b[0m\u001b[0m\n\u001b[0;32m     11\u001b[0m         \u001b[1;32mif\u001b[0m \u001b[0mresult1\u001b[0m \u001b[1;33m==\u001b[0m \u001b[0mresult2\u001b[0m\u001b[1;33m:\u001b[0m\u001b[1;33m\u001b[0m\u001b[1;33m\u001b[0m\u001b[0m\n\u001b[1;32m---> 12\u001b[1;33m             \u001b[0mprint\u001b[0m\u001b[1;33m(\u001b[0m\u001b[1;34m'OK'\u001b[0m\u001b[1;33m)\u001b[0m\u001b[1;33m\u001b[0m\u001b[1;33m\u001b[0m\u001b[0m\n\u001b[0m\u001b[0;32m     13\u001b[0m         \u001b[1;32melse\u001b[0m\u001b[1;33m:\u001b[0m\u001b[1;33m\u001b[0m\u001b[1;33m\u001b[0m\u001b[0m\n\u001b[0;32m     14\u001b[0m             \u001b[0mprint\u001b[0m\u001b[1;33m(\u001b[0m\u001b[1;34m'Answer is wrong:'\u001b[0m\u001b[1;33m,\u001b[0m \u001b[1;34m'result1 = '\u001b[0m\u001b[1;33m,\u001b[0m \u001b[0mresult1\u001b[0m\u001b[1;33m,\u001b[0m \u001b[1;34m'result2 = '\u001b[0m\u001b[1;33m,\u001b[0m \u001b[0mresult2\u001b[0m\u001b[1;33m)\u001b[0m\u001b[1;33m\u001b[0m\u001b[1;33m\u001b[0m\u001b[0m\n",
      "\u001b[1;32mC:\\ProgramData\\Anaconda3\\lib\\site-packages\\ipykernel\\iostream.py\u001b[0m in \u001b[0;36mwrite\u001b[1;34m(self, string)\u001b[0m\n\u001b[0;32m    398\u001b[0m             \u001b[0mis_child\u001b[0m \u001b[1;33m=\u001b[0m \u001b[1;33m(\u001b[0m\u001b[1;32mnot\u001b[0m \u001b[0mself\u001b[0m\u001b[1;33m.\u001b[0m\u001b[0m_is_master_process\u001b[0m\u001b[1;33m(\u001b[0m\u001b[1;33m)\u001b[0m\u001b[1;33m)\u001b[0m\u001b[1;33m\u001b[0m\u001b[1;33m\u001b[0m\u001b[0m\n\u001b[0;32m    399\u001b[0m             \u001b[1;31m# only touch the buffer in the IO thread to avoid races\u001b[0m\u001b[1;33m\u001b[0m\u001b[1;33m\u001b[0m\u001b[1;33m\u001b[0m\u001b[0m\n\u001b[1;32m--> 400\u001b[1;33m             \u001b[0mself\u001b[0m\u001b[1;33m.\u001b[0m\u001b[0mpub_thread\u001b[0m\u001b[1;33m.\u001b[0m\u001b[0mschedule\u001b[0m\u001b[1;33m(\u001b[0m\u001b[1;32mlambda\u001b[0m \u001b[1;33m:\u001b[0m \u001b[0mself\u001b[0m\u001b[1;33m.\u001b[0m\u001b[0m_buffer\u001b[0m\u001b[1;33m.\u001b[0m\u001b[0mwrite\u001b[0m\u001b[1;33m(\u001b[0m\u001b[0mstring\u001b[0m\u001b[1;33m)\u001b[0m\u001b[1;33m)\u001b[0m\u001b[1;33m\u001b[0m\u001b[1;33m\u001b[0m\u001b[0m\n\u001b[0m\u001b[0;32m    401\u001b[0m             \u001b[1;32mif\u001b[0m \u001b[0mis_child\u001b[0m\u001b[1;33m:\u001b[0m\u001b[1;33m\u001b[0m\u001b[1;33m\u001b[0m\u001b[0m\n\u001b[0;32m    402\u001b[0m                 \u001b[1;31m# newlines imply flush in subprocesses\u001b[0m\u001b[1;33m\u001b[0m\u001b[1;33m\u001b[0m\u001b[1;33m\u001b[0m\u001b[0m\n",
      "\u001b[1;32mC:\\ProgramData\\Anaconda3\\lib\\site-packages\\ipykernel\\iostream.py\u001b[0m in \u001b[0;36mschedule\u001b[1;34m(self, f)\u001b[0m\n\u001b[0;32m    201\u001b[0m             \u001b[0mself\u001b[0m\u001b[1;33m.\u001b[0m\u001b[0m_events\u001b[0m\u001b[1;33m.\u001b[0m\u001b[0mappend\u001b[0m\u001b[1;33m(\u001b[0m\u001b[0mf\u001b[0m\u001b[1;33m)\u001b[0m\u001b[1;33m\u001b[0m\u001b[1;33m\u001b[0m\u001b[0m\n\u001b[0;32m    202\u001b[0m             \u001b[1;31m# wake event thread (message content is ignored)\u001b[0m\u001b[1;33m\u001b[0m\u001b[1;33m\u001b[0m\u001b[1;33m\u001b[0m\u001b[0m\n\u001b[1;32m--> 203\u001b[1;33m             \u001b[0mself\u001b[0m\u001b[1;33m.\u001b[0m\u001b[0m_event_pipe\u001b[0m\u001b[1;33m.\u001b[0m\u001b[0msend\u001b[0m\u001b[1;33m(\u001b[0m\u001b[1;34mb''\u001b[0m\u001b[1;33m)\u001b[0m\u001b[1;33m\u001b[0m\u001b[1;33m\u001b[0m\u001b[0m\n\u001b[0m\u001b[0;32m    204\u001b[0m         \u001b[1;32melse\u001b[0m\u001b[1;33m:\u001b[0m\u001b[1;33m\u001b[0m\u001b[1;33m\u001b[0m\u001b[0m\n\u001b[0;32m    205\u001b[0m             \u001b[0mf\u001b[0m\u001b[1;33m(\u001b[0m\u001b[1;33m)\u001b[0m\u001b[1;33m\u001b[0m\u001b[1;33m\u001b[0m\u001b[0m\n",
      "\u001b[1;32mC:\\ProgramData\\Anaconda3\\lib\\site-packages\\zmq\\sugar\\socket.py\u001b[0m in \u001b[0;36msend\u001b[1;34m(self, data, flags, copy, track, routing_id, group)\u001b[0m\n\u001b[0;32m    393\u001b[0m                                  copy_threshold=self.copy_threshold)\n\u001b[0;32m    394\u001b[0m             \u001b[0mdata\u001b[0m\u001b[1;33m.\u001b[0m\u001b[0mgroup\u001b[0m \u001b[1;33m=\u001b[0m \u001b[0mgroup\u001b[0m\u001b[1;33m\u001b[0m\u001b[1;33m\u001b[0m\u001b[0m\n\u001b[1;32m--> 395\u001b[1;33m         \u001b[1;32mreturn\u001b[0m \u001b[0msuper\u001b[0m\u001b[1;33m(\u001b[0m\u001b[0mSocket\u001b[0m\u001b[1;33m,\u001b[0m \u001b[0mself\u001b[0m\u001b[1;33m)\u001b[0m\u001b[1;33m.\u001b[0m\u001b[0msend\u001b[0m\u001b[1;33m(\u001b[0m\u001b[0mdata\u001b[0m\u001b[1;33m,\u001b[0m \u001b[0mflags\u001b[0m\u001b[1;33m=\u001b[0m\u001b[0mflags\u001b[0m\u001b[1;33m,\u001b[0m \u001b[0mcopy\u001b[0m\u001b[1;33m=\u001b[0m\u001b[0mcopy\u001b[0m\u001b[1;33m,\u001b[0m \u001b[0mtrack\u001b[0m\u001b[1;33m=\u001b[0m\u001b[0mtrack\u001b[0m\u001b[1;33m)\u001b[0m\u001b[1;33m\u001b[0m\u001b[1;33m\u001b[0m\u001b[0m\n\u001b[0m\u001b[0;32m    396\u001b[0m \u001b[1;33m\u001b[0m\u001b[0m\n\u001b[0;32m    397\u001b[0m     \u001b[1;32mdef\u001b[0m \u001b[0msend_multipart\u001b[0m\u001b[1;33m(\u001b[0m\u001b[0mself\u001b[0m\u001b[1;33m,\u001b[0m \u001b[0mmsg_parts\u001b[0m\u001b[1;33m,\u001b[0m \u001b[0mflags\u001b[0m\u001b[1;33m=\u001b[0m\u001b[1;36m0\u001b[0m\u001b[1;33m,\u001b[0m \u001b[0mcopy\u001b[0m\u001b[1;33m=\u001b[0m\u001b[1;32mTrue\u001b[0m\u001b[1;33m,\u001b[0m \u001b[0mtrack\u001b[0m\u001b[1;33m=\u001b[0m\u001b[1;32mFalse\u001b[0m\u001b[1;33m,\u001b[0m \u001b[1;33m**\u001b[0m\u001b[0mkwargs\u001b[0m\u001b[1;33m)\u001b[0m\u001b[1;33m:\u001b[0m\u001b[1;33m\u001b[0m\u001b[1;33m\u001b[0m\u001b[0m\n",
      "\u001b[1;32mzmq/backend/cython/socket.pyx\u001b[0m in \u001b[0;36mzmq.backend.cython.socket.Socket.send\u001b[1;34m()\u001b[0m\n",
      "\u001b[1;32mzmq/backend/cython/socket.pyx\u001b[0m in \u001b[0;36mzmq.backend.cython.socket.Socket.send\u001b[1;34m()\u001b[0m\n",
      "\u001b[1;32mzmq/backend/cython/socket.pyx\u001b[0m in \u001b[0;36mzmq.backend.cython.socket._send_copy\u001b[1;34m()\u001b[0m\n",
      "\u001b[1;32mC:\\ProgramData\\Anaconda3\\lib\\site-packages\\zmq\\backend\\cython\\checkrc.pxd\u001b[0m in \u001b[0;36mzmq.backend.cython.checkrc._check_rc\u001b[1;34m()\u001b[0m\n",
      "\u001b[1;31mKeyboardInterrupt\u001b[0m: "
     ]
    }
   ],
   "source": [
    "StressTest(31, 50)"
   ]
  },
  {
   "cell_type": "code",
   "execution_count": 65,
   "metadata": {},
   "outputs": [
    {
     "name": "stdout",
     "output_type": "stream",
     "text": [
      "18441.878456382907\n",
      "--- 5.349222660064697 seaconds ---\n"
     ]
    }
   ],
   "source": [
    "# Constraints: 2 <= n <= 10^5 and -10^9 <= xi ; yi <= 10^9\n",
    "import random\n",
    "import time\n",
    "points = []\n",
    "for i in range(50000):\n",
    "    points.append([random.randint(-10**9, 10**9), random.randint(-10**9, 10**9)])\n",
    "start_time = time.time()\n",
    "print(minimum_distance_squared(points))\n",
    "print(\"--- %s seaconds ---\" % (time.time() - start_time))"
   ]
  },
  {
   "cell_type": "code",
   "execution_count": 67,
   "metadata": {},
   "outputs": [
    {
     "name": "stdout",
     "output_type": "stream",
     "text": [
      "0.0\n",
      "--- 15.222656488418579 seaconds ---\n"
     ]
    }
   ],
   "source": [
    "# Constraints: 2 <= n <= 10^5 and -10^3 <= xi ; yi <= 10^3\n",
    "import random\n",
    "import time\n",
    "points = []\n",
    "for i in range(100000):\n",
    "    points.append([random.randint(-10**3, 10**3), random.randint(-10**3, 10**3)])\n",
    "start_time = time.time()\n",
    "print(minimum_distance_squared(points))\n",
    "print(\"--- %s seaconds ---\" % (time.time() - start_time))"
   ]
  },
  {
   "cell_type": "code",
   "execution_count": 68,
   "metadata": {},
   "outputs": [
    {
     "name": "stdout",
     "output_type": "stream",
     "text": [
      "0.0\n",
      "--- 6.984390020370483 seaconds ---\n"
     ]
    }
   ],
   "source": [
    "# Constraints: 2 <= n <= 10^5 and 0 <= xi ; yi <= 10^3\n",
    "import random\n",
    "import time\n",
    "points = []\n",
    "for i in range(50000):\n",
    "    points.append([random.randint(0, 10**3), random.randint(0, 10**3)])\n",
    "start_time = time.time()\n",
    "print(minimum_distance_squared(points))\n",
    "print(\"--- %s seaconds ---\" % (time.time() - start_time))"
   ]
  },
  {
   "cell_type": "code",
   "execution_count": 69,
   "metadata": {},
   "outputs": [
    {
     "name": "stdout",
     "output_type": "stream",
     "text": [
      "22672.291392799274\n",
      "--- 5.556995153427124 seaconds ---\n"
     ]
    }
   ],
   "source": [
    "# Constraints: 2 <= n <= 10^5 and 0 <= xi ; yi <= 10^9\n",
    "import random\n",
    "import time\n",
    "points = []\n",
    "for i in range(50000):\n",
    "    points.append([random.randint(0, 10**9), random.randint(0, 10**9)])\n",
    "start_time = time.time()\n",
    "print(minimum_distance_squared(points))\n",
    "print(\"--- %s seaconds ---\" % (time.time() - start_time))"
   ]
  },
  {
   "cell_type": "code",
   "execution_count": null,
   "metadata": {},
   "outputs": [],
   "source": []
  }
 ],
 "metadata": {
  "kernelspec": {
   "display_name": "Python 3",
   "language": "python",
   "name": "python3"
  },
  "language_info": {
   "codemirror_mode": {
    "name": "ipython",
    "version": 3
   },
   "file_extension": ".py",
   "mimetype": "text/x-python",
   "name": "python",
   "nbconvert_exporter": "python",
   "pygments_lexer": "ipython3",
   "version": "3.7.3"
  }
 },
 "nbformat": 4,
 "nbformat_minor": 2
}
