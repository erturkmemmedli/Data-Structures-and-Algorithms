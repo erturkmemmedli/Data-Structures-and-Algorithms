{
 "cells": [
  {
   "cell_type": "markdown",
   "metadata": {},
   "source": [
    "## Divide and Conquer Algorithms\n"
   ]
  },
  {
   "cell_type": "markdown",
   "metadata": {},
   "source": [
    "### Number of Inversions\n",
    "\n",
    "The number of inversions in a sequence measures how close the sequence is to being sorted. For example, a sequence sorted in the non-descending order contains no inversions, while a sequence sorted in the descending order contains **n(n−1)/2** inversions (every two elements form an inversion).\n",
    "\n",
    "A naive algorithm for the Number of Inversions Problem goes through all possible pairs **(i,j)** and has running time **O(n^2)**. To solve this problem in time **O(nlogn)** using the divide-and-conquer technique split the input array into two halves and make a recursive call on both halves. What remains to be done is computing the number of inversions formed by two elements from different halves. If we do this naively, this will bring us back to **O(n^2)** running time, since the total number of such pairs is **n/2⋅n/2=n^2/4=O(n^2)**. It turns out that one can compute the number of inversions formed by two elements from different halves in time **O(n)**, if both halves are already sorted. This suggest that instead of solving the original problem we solve a more general problem: compute the number of inversions in the given array and sort it at the same time.\n",
    "\n",
    "Compute the number of inversions in a sequence of length at most **30000**."
   ]
  },
  {
   "cell_type": "code",
   "execution_count": 1,
   "metadata": {},
   "outputs": [
    {
     "name": "stdout",
     "output_type": "stream",
     "text": [
      "8 7 6 1 5 4 3 2\n",
      "24\n"
     ]
    }
   ],
   "source": [
    "from itertools import combinations\n",
    "\n",
    "def compute_inversions_naive(a):\n",
    "    number_of_inversions = 0\n",
    "    for i, j in combinations(range(len(a)), 2):\n",
    "        if a[i] > a[j]:\n",
    "            number_of_inversions += 1\n",
    "    return number_of_inversions\n",
    "\n",
    "def merge_sort(A):\n",
    "    global count\n",
    "    if len(A) == 1:\n",
    "        return A, count\n",
    "    mid = len(A) // 2\n",
    "    B = merge_sort(A[:mid])[0]\n",
    "    C = merge_sort(A[mid:])[0]\n",
    "    A_new, count = merge(B, C)\n",
    "    return A_new, count\n",
    "\n",
    "def merge(B, C):\n",
    "    global count\n",
    "    D = []\n",
    "    while len(B) != 0 and len(C) != 0:\n",
    "        b = B[0]\n",
    "        c = C[0]\n",
    "        if b <= c:\n",
    "            D.append(b)\n",
    "            B = B[1:]\n",
    "        else:\n",
    "            count += len(B)\n",
    "            D.append(c)\n",
    "            C = C[1:]\n",
    "    D = D + B + C\n",
    "    return D, count\n",
    "\n",
    "def compute_inversions(a):\n",
    "    assert len(a) <= 30000\n",
    "    global count\n",
    "    count = 0\n",
    "    return merge_sort(a)[1]\n",
    "\n",
    "if __name__ == '__main__':\n",
    "    elements = list(map(int, input().split()))\n",
    "    print(compute_inversions(elements))"
   ]
  }
 ],
 "metadata": {
  "kernelspec": {
   "display_name": "Python 3",
   "language": "python",
   "name": "python3"
  },
  "language_info": {
   "codemirror_mode": {
    "name": "ipython",
    "version": 3
   },
   "file_extension": ".py",
   "mimetype": "text/x-python",
   "name": "python",
   "nbconvert_exporter": "python",
   "pygments_lexer": "ipython3",
   "version": "3.7.3"
  }
 },
 "nbformat": 4,
 "nbformat_minor": 2
}
