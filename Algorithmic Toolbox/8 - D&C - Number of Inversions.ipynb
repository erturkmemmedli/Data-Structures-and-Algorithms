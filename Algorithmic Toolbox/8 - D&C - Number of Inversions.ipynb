{
 "cells": [
  {
   "cell_type": "markdown",
   "metadata": {},
   "source": [
    "## Divide and Conquer Algorithms\n"
   ]
  },
  {
   "cell_type": "markdown",
   "metadata": {},
   "source": [
    "### Number of Inversions\n",
    "\n",
    "The number of inversions in a sequence measures how close the sequence is to being sorted. For example, a sequence sorted in the non-descending order contains no inversions, while a sequence sorted in the descending order contains **n(n−1)/2** inversions (every two elements form an inversion).\n",
    "\n",
    "A naive algorithm for the Number of Inversions Problem goes through all possible pairs **(i,j)** and has running time **O(n^2)**. To solve this problem in time **O(nlogn)** using the divide-and-conquer technique split the input array into two halves and make a recursive call on both halves. What remains to be done is computing the number of inversions formed by two elements from different halves. If we do this naively, this will bring us back to **O(n^2)** running time, since the total number of such pairs is **n/2⋅n/2=n^2/4=O(n^2)**. It turns out that one can compute the number of inversions formed by two elements from different halves in time **O(n)**, if both halves are already sorted. This suggest that instead of solving the original problem we solve a more general problem: compute the number of inversions in the given array and sort it at the same time.\n",
    "\n",
    "Compute the number of inversions in a sequence of length at most **30000**."
   ]
  },
  {
   "cell_type": "code",
   "execution_count": 7,
   "metadata": {},
   "outputs": [
    {
     "name": "stdout",
     "output_type": "stream",
     "text": [
      "8 7 6 1 5 4 3 2\n",
      "24\n"
     ]
    }
   ],
   "source": [
    "from itertools import combinations\n",
    "\n",
    "def compute_inversions_naive(a):\n",
    "    number_of_inversions = 0\n",
    "    for i, j in combinations(range(len(a)), 2):\n",
    "        if a[i] > a[j]:\n",
    "            number_of_inversions += 1\n",
    "    return number_of_inversions\n",
    "\n",
    "def merge_sort(A):\n",
    "    if len(A) == 1:\n",
    "        return A\n",
    "    mid = len(A) // 2\n",
    "    B = merge_sort(A[:mid])\n",
    "    C = merge_sort(A[mid:])\n",
    "    A_new = merge(B, C)\n",
    "    return A_new\n",
    "\n",
    "def merge(B, C):\n",
    "    global count\n",
    "    D = []\n",
    "    while len(B) != 0 and len(C) != 0:\n",
    "        b = B[0]\n",
    "        c = C[0]\n",
    "        if b <= c:\n",
    "            D.append(b)\n",
    "            B = B[1:]\n",
    "        else:\n",
    "            count += len(B)\n",
    "            D.append(c)\n",
    "            C = C[1:]\n",
    "    D = D + B + C\n",
    "    return D\n",
    "\n",
    "def compute_inversions(a):\n",
    "    assert len(a) <= 300000\n",
    "    global count\n",
    "    count = 0\n",
    "    merge_sort(a)\n",
    "    return count\n",
    "\n",
    "if __name__ == '__main__':\n",
    "    elements = list(map(int, input().split()))\n",
    "    print(compute_inversions(elements))"
   ]
  },
  {
   "cell_type": "code",
   "execution_count": 15,
   "metadata": {},
   "outputs": [],
   "source": [
    "import random\n",
    "import time\n",
    "\n",
    "def StressTest(N, M):\n",
    "    assert 1 <= N <= 3 * 10**4\n",
    "    assert 1 <= M <= 10 ** 9\n",
    "    while True:\n",
    "        n = random.randint(1, N)\n",
    "        A = [random.randint(1, M) for i in range(0, n)]\n",
    "        print(A)\n",
    "        result1 = compute_inversions_naive(A)\n",
    "        result2 = compute_inversions(A)\n",
    "        if result1 == result2:\n",
    "            print('OK', 'result1, result2 = ', result1)\n",
    "        else:\n",
    "            print('Answer is wrong:', 'result1 = ', result1, 'result2 = ', result2)\n",
    "            break\n",
    "            \n",
    "def ComplexityTest(N, M):\n",
    "    assert 1 <= N <= 3 * 10**4\n",
    "    assert 1 <= M <= 10 ** 9\n",
    "    A = [random.randint(0, M) for i in range(0, N)]\n",
    "    start_time = time.time()\n",
    "    print(compute_inversions(A))\n",
    "    print(\"--- %s seconds ---\" % (time.time() - start_time))"
   ]
  },
  {
   "cell_type": "markdown",
   "metadata": {},
   "source": [
    "    StressTest() passed for thousands of cases. So, algorithm works properly. Now, let's check the running time."
   ]
  },
  {
   "cell_type": "code",
   "execution_count": 14,
   "metadata": {},
   "outputs": [
    {
     "name": "stdout",
     "output_type": "stream",
     "text": [
      "25252669\n",
      "--- 7.139997720718384 seconds ---\n"
     ]
    }
   ],
   "source": [
    "ComplexityTest(10000, 10000) # naive algorithm"
   ]
  },
  {
   "cell_type": "code",
   "execution_count": 19,
   "metadata": {},
   "outputs": [
    {
     "name": "stdout",
     "output_type": "stream",
     "text": [
      "168247471\n",
      "--- 2.24336314201355 seconds ---\n"
     ]
    }
   ],
   "source": [
    "ComplexityTest(30000, 3) # fast algorithm"
   ]
  },
  {
   "cell_type": "code",
   "execution_count": 21,
   "metadata": {},
   "outputs": [
    {
     "name": "stdout",
     "output_type": "stream",
     "text": [
      "224754652\n",
      "--- 2.5443427562713623 seconds ---\n"
     ]
    }
   ],
   "source": [
    "ComplexityTest(30000, 100000000) # fast algorithm"
   ]
  }
 ],
 "metadata": {
  "kernelspec": {
   "display_name": "Python 3",
   "language": "python",
   "name": "python3"
  },
  "language_info": {
   "codemirror_mode": {
    "name": "ipython",
    "version": 3
   },
   "file_extension": ".py",
   "mimetype": "text/x-python",
   "name": "python",
   "nbconvert_exporter": "python",
   "pygments_lexer": "ipython3",
   "version": "3.8.3"
  }
 },
 "nbformat": 4,
 "nbformat_minor": 2
}
