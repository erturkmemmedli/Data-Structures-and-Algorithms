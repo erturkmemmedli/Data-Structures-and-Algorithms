{
 "cells": [
  {
   "cell_type": "markdown",
   "metadata": {},
   "source": [
    "## Divide and Conquer Algorithms"
   ]
  },
  {
   "cell_type": "markdown",
   "metadata": {},
   "source": [
    "### Multiplying Polynomials (Fast Divide and Conquer Algorithm: Karatsuba)"
   ]
  },
  {
   "cell_type": "code",
   "execution_count": 16,
   "metadata": {},
   "outputs": [
    {
     "name": "stdout",
     "output_type": "stream",
     "text": [
      "8\n",
      "Enter the terms of polynomials from 7th term to 0th term!\n",
      "7 8 3 0 1 2 0 6\n",
      "3 6 8 1 9 3 0 1\n",
      "21x^14 + 66x^13 + 113x^12 + 89x^11 + 98x^10 + 108x^9 + 71x^8 + 51x^7 + 55x^6 + 72x^5 + 12x^4 + 55x^3 + 20x^2 + 6\n"
     ]
    }
   ],
   "source": [
    "def mult_poly_fast_div_and_con(A, B, n, a, b):\n",
    "    \n",
    "    result = [0] * (2*n-1)\n",
    "    if n == 1:\n",
    "        result[0] = A[a] * B[b]\n",
    "        return result\n",
    "    \n",
    "    result[0: n-1] = mult_poly_fast_div_and_con(A, B, int(n/2), a, b)\n",
    "    #print(f'evvel: {result}')\n",
    "    result[n: 2*n-1] = mult_poly_fast_div_and_con(A, B, int(n/2), a+int(n/2), b+int(n/2))\n",
    "    #print(f'axir: {result}')\n",
    "\n",
    "    D = [sum(x) for x in zip(A[a:a+int(n/2)], A[a+int(n/2):])]\n",
    "    #print(f'D_0 + D_1: {D}')\n",
    "    E = [sum(x) for x in zip(B[b:b+int(n/2)], B[b+int(n/2):])]\n",
    "    #print(f'E_0 + E_1: {E}')\n",
    "    X = mult_poly_fast_div_and_con(D, E, int(n/2), 0, 0)\n",
    "    #print(f'onlarin hasili: {X}')\n",
    "   \n",
    "    n1 = [i * (-1) for i in result[0: n-1]]\n",
    "    #print(f'D_1*E_1: {n1}')\n",
    "    n2 = [j * (-1) for j in result[n: 2*n-1]]\n",
    "    #print(f'D_0*E_0: {n2}')\n",
    "    \n",
    "    mid = result[int(n/2): n+int(n/2)-1]\n",
    "    result[int(n/2): n+int(n/2)-1] = [sum(x) for x in zip(mid, [sum(y) for y in zip(X, n1, n2)])]\n",
    "    #print(f'netice: {result}')\n",
    "    return result\n",
    "\n",
    "def Correction (x): \n",
    "    return (x and (not(x & (x - 1))))\n",
    "\n",
    "degree = int(input())\n",
    "print(f\"Enter the terms of polynomials from {degree - 1}th term to 0th term!\")\n",
    "first_polynom = list(map(int, input().split()))\n",
    "second_polynom = list(map(int, input().split()))\n",
    "\n",
    "a = 0\n",
    "b = 0\n",
    "\n",
    "while Correction(degree) == False:\n",
    "    degree += 1\n",
    "    first_polynom = [0] + first_polynom\n",
    "    second_polynom = [0] + second_polynom\n",
    "\n",
    "result = mult_poly_fast_div_and_con(first_polynom, second_polynom, degree, a, b)\n",
    "\n",
    "final = ''\n",
    "power = len(result) - 1\n",
    "for i in range(len(result)):\n",
    "    if result[i] == 0:\n",
    "        power -= 1\n",
    "        continue\n",
    "    if i != len(result) - 1:\n",
    "        final += str(result[i]) + \"x^\" + str(power) + \" + \"\n",
    "        power -= 1\n",
    "    else:\n",
    "        final += str(result[i])\n",
    "    \n",
    "print(final)"
   ]
  }
 ],
 "metadata": {
  "kernelspec": {
   "display_name": "Python 3",
   "language": "python",
   "name": "python3"
  },
  "language_info": {
   "codemirror_mode": {
    "name": "ipython",
    "version": 3
   },
   "file_extension": ".py",
   "mimetype": "text/x-python",
   "name": "python",
   "nbconvert_exporter": "python",
   "pygments_lexer": "ipython3",
   "version": "3.7.3"
  }
 },
 "nbformat": 4,
 "nbformat_minor": 2
}
