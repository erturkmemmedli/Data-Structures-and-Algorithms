{
 "cells": [
  {
   "cell_type": "markdown",
   "metadata": {},
   "source": [
    "## Programming Challenge"
   ]
  },
  {
   "cell_type": "markdown",
   "metadata": {},
   "source": [
    "\n",
    "### Sum of Two Digits\n",
    "\n",
    "Implement the `sum_of_two_digits` function that takes two digits (that is,\n",
    "integers in the range from 0 to 9) and returns the sum of these two digits.\n",
    "\n",
    "We start from this ridiculously simple problem to show you the\n",
    "pipeline of designing an algorithm,\n",
    "implementing it, testing and debugging your program, and\n",
    "submitting it to the grading system."
   ]
  },
  {
   "cell_type": "code",
   "execution_count": 66,
   "metadata": {},
   "outputs": [
    {
     "name": "stdout",
     "output_type": "stream",
     "text": [
      "4 6\n",
      "10\n"
     ]
    }
   ],
   "source": [
    "def sum_of_two_digits(first_digit, second_digit):\n",
    "    assert 0 <= first_digit <= 9 and 0 <= second_digit <= 9\n",
    "    return first_digit + second_digit\n",
    "\n",
    "if __name__ == '__main__':\n",
    "    a, b = map(int, input().split())\n",
    "    print(sum_of_two_digits(a, b))"
   ]
  },
  {
   "cell_type": "markdown",
   "metadata": {},
   "source": [
    "##### Notes: \n",
    "    1) When testing over the constraints (boundaries), change \"assert\" statements to a comment.\n",
    "    2) In ComplexityTest, change the relevant function (naive and fast) and perform the test."
   ]
  },
  {
   "cell_type": "markdown",
   "metadata": {},
   "source": [
    "### Maximum Pairwise Product\n",
    "\n",
    "Given a list $A$ of non-negative integers, find\n",
    "the maximum product of two distinct elements (that is,\n",
    "the maximum value of $A[i] \\cdot A[j]$ where $i \\neq j$;\n",
    "note that it may be the case that $A[i]=A[j]$).\n",
    "The length of $A$ is at least 2 and at most $2 \\cdot 10^5$,\n",
    "all elements are non-negative and do not exceed\n",
    "$2\\cdot 10^5$.\n"
   ]
  },
  {
   "cell_type": "code",
   "execution_count": 25,
   "metadata": {},
   "outputs": [],
   "source": [
    "def max_pairwise_product_naive(numbers):\n",
    "    assert 2 <= len(numbers) <= 2 * 10 ** 5\n",
    "    assert all(0 <= x <= 2 * 10 ** 5 for x in numbers)\n",
    "    product = 0\n",
    "    for i in range(len(numbers)):\n",
    "        for j in range(i + 1, len(numbers)):\n",
    "            product = max(product, numbers[i] * numbers[j])\n",
    "    return product\n",
    "\n",
    "'''\n",
    "if __name__ == '__main__':\n",
    "    n = int(input())\n",
    "    input_numbers = list(map(int, input().split()))\n",
    "    assert len(input_numbers) == n\n",
    "    print(max_pairwise_product_v1(input_numbers))\n",
    "'''\n",
    "\n",
    "def max_pairwise_product_v1(numbers):\n",
    "    assert 2 <= len(numbers) <= 2 * 10 ** 5\n",
    "    assert all(0 <= x <= 2 * 10 ** 5 for x in numbers)\n",
    "    sorted_numbers = sorted(numbers, reverse = True)\n",
    "    return sorted_numbers[0] * sorted_numbers[1]\n",
    "\n",
    "def max_pairwise_product_v2(numbers):\n",
    "    assert 2 <= len(numbers) <= 2 * 10 ** 5\n",
    "    assert all(0 <= x <= 2 * 10 ** 5 for x in numbers)\n",
    "    index1 = 0\n",
    "    for i in range(len(numbers)):\n",
    "        if numbers[i] > numbers[index1]:\n",
    "            index1 = i\n",
    "    index2 = 0\n",
    "    if index1 == 0:\n",
    "        index2 = 1\n",
    "    for j in range(len(numbers)):\n",
    "        if numbers[j] > numbers[index2] and j != index1:\n",
    "            index2 = j\n",
    "    return numbers[index1] * numbers[index2]\n",
    "\n",
    "def max_pairwise_product_v3(A):\n",
    "    assert 2 <= len(A) <= 2 * 10 ** 5\n",
    "    assert all(0 <= x <= 2 * 10 ** 5 for x in A)\n",
    "    if len(A) == 2:\n",
    "        return A[0] * A[1]\n",
    "    max1 = 0\n",
    "    max2 = 0\n",
    "    for i in range(len(A)):\n",
    "        if A[i] > max1:\n",
    "            max2 = max1\n",
    "            max1 = A[i]\n",
    "        elif A[i] > max2:\n",
    "            max2 = A[i]\n",
    "    return max1 * max2"
   ]
  },
  {
   "cell_type": "code",
   "execution_count": 145,
   "metadata": {},
   "outputs": [],
   "source": [
    "import random\n",
    "import time\n",
    "\n",
    "def StressTest(N, M):\n",
    "    assert 2 <= N <= 100\n",
    "    assert 0 <= M <= 10**9\n",
    "    while True:\n",
    "        n = random.randint(2, N)\n",
    "        A = [random.randint(0, M) for i in range(0, n)]\n",
    "        print(A)\n",
    "        result1 = max_pairwise_product_naive(A)\n",
    "        result2 = max_pairwise_product_v3(A)\n",
    "        if result1 == result2:\n",
    "            print('OK', 'result1, result2 = ', result1)\n",
    "        else:\n",
    "            print('Answer is wrong:', 'result1 = ', result1, 'result2 = ', result2)\n",
    "            break\n",
    "            \n",
    "def ComplexityTest(N, M):\n",
    "    assert 2 <= N <= 2 * 10**6\n",
    "    assert 0 <= M <= 2 * 10**6\n",
    "    A = [random.randint(0, M) for i in range(0, N)]\n",
    "    start_time = time.time()\n",
    "    print(max_pairwise_product_v3(A))\n",
    "    print(\"--- %s seconds ---\" % (time.time() - start_time))"
   ]
  },
  {
   "cell_type": "markdown",
   "metadata": {},
   "source": [
    "    StressTest() passed for thousands of cases. So, algorithm works properly. Now, let's check the running time."
   ]
  },
  {
   "cell_type": "code",
   "execution_count": 125,
   "metadata": {},
   "outputs": [
    {
     "name": "stdout",
     "output_type": "stream",
     "text": [
      "3999998000000\n",
      "--- 0.6647474765777588 seconds ---\n"
     ]
    }
   ],
   "source": [
    "ComplexityTest(2 * 10**6, 2 * 10**6) # version 1 - O(nlog(n))"
   ]
  },
  {
   "cell_type": "code",
   "execution_count": 141,
   "metadata": {},
   "outputs": [
    {
     "name": "stdout",
     "output_type": "stream",
     "text": [
      "3999996000000\n",
      "--- 0.28600049018859863 seconds ---\n"
     ]
    }
   ],
   "source": [
    "ComplexityTest(2 * 10**6, 2 * 10**6) # version 2 - O(2n)"
   ]
  },
  {
   "cell_type": "code",
   "execution_count": 144,
   "metadata": {},
   "outputs": [
    {
     "name": "stdout",
     "output_type": "stream",
     "text": [
      "3999996000000\n",
      "--- 0.22424030303955078 seconds ---\n"
     ]
    }
   ],
   "source": [
    "ComplexityTest(2 * 10**6, 2 * 10**6) # version 3 - O(n + log(n))"
   ]
  },
  {
   "cell_type": "markdown",
   "metadata": {},
   "source": [
    "## Algorithmic Warm Up"
   ]
  },
  {
   "cell_type": "markdown",
   "metadata": {},
   "source": [
    "### Fibonacci Number\n",
    "\n",
    "Fibonacci numbers are defined recursively: $F_0=0$, $F_1=1$,\n",
    "and $F_n=F_{n-1}+F_{n-2}$ for $n \\ge 1$.\n",
    "This definition results in the recursive function `fibonacci_number_naive`\n",
    "that you see below.\n",
    "\n",
    "Implement the `fibonacci_number` function.\n",
    "Make sure to avoid recomputing the same thing again."
   ]
  },
  {
   "cell_type": "code",
   "execution_count": 26,
   "metadata": {},
   "outputs": [],
   "source": [
    "def fibonacci_number_naive(n):\n",
    "    assert 0 <= n <= 45\n",
    "    if n <= 1:\n",
    "        return n\n",
    "    return fibonacci_number_naive(n - 1) + fibonacci_number_naive(n - 2)\n",
    "\n",
    "'''\n",
    "if __name__ == '__main__':\n",
    "    input_n = int(input())\n",
    "    print(fibonacci_number(input_n))\n",
    "'''\n",
    "\n",
    "def fibonacci_number(n):\n",
    "    assert 0 <= n <= 10**3\n",
    "    Fibonacci = [0,1]\n",
    "    for i in range(2,n+1):\n",
    "        Fibonacci.append(Fibonacci[i-2] + Fibonacci[i-1])\n",
    "    return Fibonacci[n]"
   ]
  },
  {
   "cell_type": "code",
   "execution_count": 6,
   "metadata": {},
   "outputs": [],
   "source": [
    "import random\n",
    "import time\n",
    "\n",
    "def StressTest(n):\n",
    "    assert 0 <= n <= 45\n",
    "    while True:\n",
    "        x = random.randint(0, n)\n",
    "        result1 = fibonacci_number_naive(x)\n",
    "        result2 = fibonacci_number(x)\n",
    "        if result1 == result2:\n",
    "            print('OK', 'result1, result2 = ', result1)\n",
    "        else:\n",
    "            print('Answer is wrong:', 'result1 = ', result1, 'result2 = ', result2)\n",
    "            break\n",
    "            \n",
    "def ComplexityTest(n):\n",
    "    assert 0 <= n <= 10**3\n",
    "    start_time = time.time()\n",
    "    print(fibonacci_number(n))\n",
    "    print(\"--- %s seconds ---\" % (time.time() - start_time))"
   ]
  },
  {
   "cell_type": "markdown",
   "metadata": {},
   "source": [
    "    StressTest() passed for thousands of cases. So, algorithm works properly. Now, let's check the running time."
   ]
  },
  {
   "cell_type": "code",
   "execution_count": 26,
   "metadata": {},
   "outputs": [
    {
     "name": "stdout",
     "output_type": "stream",
     "text": [
      "102334155\n",
      "--- 37.411832332611084 seconds ---\n"
     ]
    }
   ],
   "source": [
    "ComplexityTest(40) # naive algorithm"
   ]
  },
  {
   "cell_type": "code",
   "execution_count": 20,
   "metadata": {},
   "outputs": [
    {
     "name": "stdout",
     "output_type": "stream",
     "text": [
      "43466557686937456435688527675040625802564660517371780402481729089536555417949051890403879840079255169295922593080322634775209689623239873322471161642996440906533187938298969649928516003704476137795166849228875\n",
      "--- 0.0009999275207519531 seconds ---\n"
     ]
    }
   ],
   "source": [
    "ComplexityTest(1000) # fast algorithm"
   ]
  },
  {
   "cell_type": "markdown",
   "metadata": {},
   "source": [
    "Alternative solution that I have found earlier"
   ]
  },
  {
   "cell_type": "code",
   "execution_count": 15,
   "metadata": {},
   "outputs": [
    {
     "name": "stdout",
     "output_type": "stream",
     "text": [
      "34\n",
      "5702887\n"
     ]
    }
   ],
   "source": [
    "def fibonacci_number(n):\n",
    "    assert 0 <= n <= 45\n",
    "    \n",
    "    if n <= 1:\n",
    "        return n\n",
    "    temp = [0,1]\n",
    "    for i in range(2,n+1):\n",
    "        temp.append(temp[i-2]+temp[i-1])\n",
    "    return temp[-1]\n",
    "    \n",
    "if __name__ == '__main__':\n",
    "    input_n = int(input())\n",
    "    print(fibonacci_number(input_n))"
   ]
  },
  {
   "cell_type": "markdown",
   "metadata": {},
   "source": [
    "### Last Digit of Fibonacci Number\n",
    "\n",
    "Implement `last_digit_of_fibonacci_number` function\n",
    "that takes an integer $0 \\le n \\le 10^7$ and returns\n",
    "the last digit of $F_n$.\n",
    "\n",
    "As usual, after implementing a solution, do the\n",
    "following:\n",
    "* Switch to the unit tests file, add a few new\n",
    "tests to the already implemented ones, and run the\n",
    "tests.\n",
    "* If a bug is found, fix it and run the tests again.\n",
    "\n",
    "Please follow the same steps for all the\n",
    "forthcoming programming challenges."
   ]
  },
  {
   "cell_type": "code",
   "execution_count": 27,
   "metadata": {},
   "outputs": [],
   "source": [
    "def last_digit_of_fibonacci_number_naive(n):\n",
    "    assert 0 <= n <= 45\n",
    "    if n <= 1:\n",
    "        return n\n",
    "    return (last_digit_of_fibonacci_number_naive(n - 1) + last_digit_of_fibonacci_number_naive(n - 2)) % 10\n",
    "\n",
    "'''\n",
    "if __name__ == '__main__':\n",
    "    input_n = int(input())\n",
    "    print(last_digit_of_fibonacci_number(input_n))\n",
    "'''\n",
    "\n",
    "def last_digit_of_fibonacci_number(n):\n",
    "    assert 0 <= n <= 10 ** 7\n",
    "    F = [0,1]\n",
    "    for i in range(2,n+1):\n",
    "        F.append((F[i-1]+F[i-2]) % 10)\n",
    "        if F[i-1] == 0 and F[i] == 1:\n",
    "            F = F[:-2]\n",
    "            break\n",
    "    return F[n % len(F)]"
   ]
  },
  {
   "cell_type": "code",
   "execution_count": 38,
   "metadata": {},
   "outputs": [],
   "source": [
    "import random\n",
    "import time\n",
    "\n",
    "def StressTest(n):\n",
    "    assert 0 <= n <= 45\n",
    "    while True:\n",
    "        x = random.randint(0, n)\n",
    "        result1 = last_digit_of_fibonacci_number_naive(x)\n",
    "        result2 = last_digit_of_fibonacci_number(x)\n",
    "        if result1 == result2:\n",
    "            print('OK', 'result1, result2 = ', result1)\n",
    "        else:\n",
    "            print('Answer is wrong:', 'result1 = ', result1, 'result2 = ', result2)\n",
    "            break\n",
    "            \n",
    "def ComplexityTest(n):\n",
    "    assert 0 <= n <= 10 ** 7\n",
    "    start_time = time.time()\n",
    "    print(last_digit_of_fibonacci_number(n))\n",
    "    print(\"--- %s seconds ---\" % (time.time() - start_time))"
   ]
  },
  {
   "cell_type": "markdown",
   "metadata": {},
   "source": [
    "    StressTest() passed for thousands of cases. So, algorithm works properly. Now, let's check the running time."
   ]
  },
  {
   "cell_type": "code",
   "execution_count": 36,
   "metadata": {},
   "outputs": [
    {
     "name": "stdout",
     "output_type": "stream",
     "text": [
      "7\n",
      "--- 9.296493768692017 seconds ---\n"
     ]
    }
   ],
   "source": [
    "ComplexityTest(37) # naive algorithm"
   ]
  },
  {
   "cell_type": "code",
   "execution_count": 44,
   "metadata": {},
   "outputs": [
    {
     "name": "stdout",
     "output_type": "stream",
     "text": [
      "5\n",
      "--- 0.0 seconds ---\n"
     ]
    }
   ],
   "source": [
    "ComplexityTest(10 ** 7) # fast algorithm"
   ]
  },
  {
   "cell_type": "markdown",
   "metadata": {},
   "source": [
    "Alternative solution that I have found earlier"
   ]
  },
  {
   "cell_type": "code",
   "execution_count": 1,
   "metadata": {},
   "outputs": [
    {
     "name": "stdout",
     "output_type": "stream",
     "text": [
      "817593\n",
      "8\n"
     ]
    }
   ],
   "source": [
    "def last_digit_of_fibonacci_number(n):\n",
    "    assert 0 <= n <= 10 ** 7\n",
    "\n",
    "    temp = [0,1]\n",
    "    for i in range(2,60):\n",
    "        temp.append(temp[i-2]+temp[i-1])\n",
    "    return temp[n%60] % 10\n",
    "\n",
    "if __name__ == '__main__':\n",
    "    input_n = int(input())\n",
    "    print(last_digit_of_fibonacci_number(input_n))"
   ]
  },
  {
   "cell_type": "markdown",
   "metadata": {},
   "source": [
    "### Greatest Common Divisor\n",
    "\n",
    "The greatest common divisor \n",
    "$\\operatorname{GCD}(a,b)$ of two positive \n",
    "integers $a$ and $b$ is the largest integer $d$ \n",
    "that divides both $a$ and $b$. The solution \n",
    "of the Greatest Common Divisor Problem was \n",
    "first described (but not discovered!) by \n",
    "the Greek mathematician Euclid twenty \n",
    "three centuries ago. But the name of \n",
    "a mathematician who discovered this algorithm, \n",
    "a century before Euclid described it, remains \n",
    "unknown. Centuries later, Euclid's algorithm \n",
    "was re-discovered by Indian and Chinese astronomers. \n",
    "Now, efficient algorithm for computing the greatest \n",
    "common divisor is an important ingredient of modern \n",
    "cryptographic algorithms. \n",
    "\n",
    "Your goal is to implement Euclid's algorithm for computing $\\operatorname{GCD}$. \n",
    "\n",
    "Implement a function that computes the greatest\n",
    "common divisor of two integers\n",
    "$1 \\le a, b \\le 2 \\cdot 10^9$."
   ]
  },
  {
   "cell_type": "code",
   "execution_count": 45,
   "metadata": {},
   "outputs": [],
   "source": [
    "def gcd_naive(a, b):\n",
    "    assert 1 <= a <= 2 * 10 ** 9 and 1 <= b <= 2 * 10 ** 9\n",
    "    for divisor in range(min(a, b), 0, -1):\n",
    "        if a % divisor == 0 and b % divisor == 0:\n",
    "            return divisor\n",
    "    assert False\n",
    "    \n",
    "'''\n",
    "if __name__ == '__main__':\n",
    "    input_a, input_b = map(int, input().split())\n",
    "    print(gcd(input_a, input_b))\n",
    "'''\n",
    "\n",
    "def gcd(a, b):\n",
    "    assert 0 <= a <= 2 * 10 ** 10 and 0 <= b <= 2 * 10 ** 10\n",
    "    if a<b:\n",
    "        return gcd(b,a)\n",
    "    temp = a % b\n",
    "    if temp == 0:\n",
    "        return b\n",
    "    else:\n",
    "        return gcd(b,temp)"
   ]
  },
  {
   "cell_type": "code",
   "execution_count": 74,
   "metadata": {},
   "outputs": [],
   "source": [
    "import random\n",
    "import time\n",
    "\n",
    "def StressTest(a, b):\n",
    "    assert 1 <= a <= 2 * 10 ** 9 and 1 <= b <= 2 * 10 ** 9\n",
    "    while True:\n",
    "        x = random.randint(1, a)\n",
    "        y = random.randint(1, b)\n",
    "        result1 = gcd_naive(x, y)\n",
    "        result2 = gcd(x, y)\n",
    "        if result1 == result2:\n",
    "            print('OK', 'result1, result2 = ', result1)\n",
    "        else:\n",
    "            print('Answer is wrong:', 'result1 = ', result1, 'result2 = ', result2)\n",
    "            break\n",
    "            \n",
    "def ComplexityTest(a, b):\n",
    "    assert 1 <= a <= 2 * 10 ** 9 and 1 <= b <= 2 * 10 ** 9\n",
    "    start_time = time.time()\n",
    "    print(gcd(a, b))\n",
    "    print(\"--- %s seconds ---\" % (time.time() - start_time))"
   ]
  },
  {
   "cell_type": "markdown",
   "metadata": {},
   "source": [
    "    StressTest() passed for thousands of cases. So, algorithm works properly. Now, let's check the running time."
   ]
  },
  {
   "cell_type": "code",
   "execution_count": 75,
   "metadata": {},
   "outputs": [
    {
     "name": "stdout",
     "output_type": "stream",
     "text": [
      "4\n",
      "--- 8.156485795974731 seconds ---\n"
     ]
    }
   ],
   "source": [
    "ComplexityTest(924781684, 179884604) # naive algorithm "
   ]
  },
  {
   "cell_type": "code",
   "execution_count": 72,
   "metadata": {},
   "outputs": [
    {
     "name": "stdout",
     "output_type": "stream",
     "text": [
      "4\n",
      "--- 0.0 seconds ---\n"
     ]
    }
   ],
   "source": [
    "ComplexityTest(924781684, 179884604) # fast algorithm "
   ]
  },
  {
   "cell_type": "markdown",
   "metadata": {},
   "source": [
    "Alternative solution that I have found earlier"
   ]
  },
  {
   "cell_type": "code",
   "execution_count": 2,
   "metadata": {},
   "outputs": [
    {
     "name": "stdout",
     "output_type": "stream",
     "text": [
      "980000 5600000\n",
      "140000\n"
     ]
    }
   ],
   "source": [
    "def gcd(a, b):\n",
    "    assert 0 <= a <= 2 * 10 ** 9 and 0 <= b <= 2 * 10 ** 9\n",
    "\n",
    "    if a < b:\n",
    "        return gcd(b, a)\n",
    "    if a >= b:\n",
    "        if a % b == 0:\n",
    "            return b\n",
    "        else:\n",
    "            a = a % b\n",
    "        return gcd(b, a)\n",
    "\n",
    "if __name__ == '__main__':\n",
    "    input_a, input_b = map(int, input().split())\n",
    "    print(gcd(input_a, input_b))"
   ]
  },
  {
   "cell_type": "markdown",
   "metadata": {},
   "source": [
    "### Least Common Multiple\n",
    "\n",
    "The least common multiple \n",
    "$\\operatorname{LCM}(a,b)$ of two positive \n",
    "integers $a$ and $b$ is the smallest \n",
    "integer $m$ that is divisible by both $a$ and $b$. \n",
    "\n",
    "How $\\operatorname{LCM}(a,b)$ is related to \n",
    "$\\operatorname{GCD}(a,b)$?\n",
    "\n",
    "Compute the least common multiple\n",
    "of two integers\n",
    "$1 \\le a, b \\le 2 \\cdot 10^9$.\n"
   ]
  },
  {
   "cell_type": "code",
   "execution_count": 76,
   "metadata": {},
   "outputs": [],
   "source": [
    "def lcm_naive(a, b):\n",
    "    assert 1 <= a <= 2 * 10 ** 9 and 1 <= b <= 2 * 10 ** 9\n",
    "    multiple = max(a, b)\n",
    "    while multiple % a != 0 or multiple % b != 0:\n",
    "        multiple += 1\n",
    "    return multiple\n",
    "\n",
    "'''\n",
    "if __name__ == '__main__':\n",
    "    input_a, input_b = map(int, input().split())\n",
    "    print(lcm(input_a, input_b))\n",
    "'''\n",
    "\n",
    "def lcm(a, b):\n",
    "    assert 1 <= a <= 2 * 10 ** 9 and 1 <= b <= 2 * 10 ** 9\n",
    "    def gcd(a, b):\n",
    "        if a < b:\n",
    "            return gcd(b,a)\n",
    "        temp = a % b\n",
    "        if temp == 0:\n",
    "            return b\n",
    "        else:\n",
    "            return gcd(b,temp)\n",
    "    return int((a * b) / gcd(a,b))"
   ]
  },
  {
   "cell_type": "code",
   "execution_count": 81,
   "metadata": {},
   "outputs": [],
   "source": [
    "import random\n",
    "import time\n",
    "\n",
    "def StressTest(a, b):\n",
    "    assert 1 <= a <= 2 * 10 ** 9 and 1 <= b <= 2 * 10 ** 9\n",
    "    while True:\n",
    "        x = random.randint(1, a)\n",
    "        y = random.randint(1, b)\n",
    "        result1 = lcm_naive(x, y)\n",
    "        result2 = lcm(x, y)\n",
    "        if result1 == result2:\n",
    "            print('OK', 'result1, result2 = ', result1)\n",
    "        else:\n",
    "            print('Answer is wrong:', 'result1 = ', result1, 'result2 = ', result2)\n",
    "            break\n",
    "            \n",
    "def ComplexityTest(a, b):\n",
    "    assert 1 <= a <= 2 * 10 ** 9 and 1 <= b <= 2 * 10 ** 9\n",
    "    start_time = time.time()\n",
    "    print(lcm(a, b))\n",
    "    print(\"--- %s seconds ---\" % (time.time() - start_time))"
   ]
  },
  {
   "cell_type": "markdown",
   "metadata": {},
   "source": [
    "    StressTest() passed for thousands of cases. So, algorithm works properly. Now, let's check the running time."
   ]
  },
  {
   "cell_type": "code",
   "execution_count": 80,
   "metadata": {},
   "outputs": [
    {
     "name": "stdout",
     "output_type": "stream",
     "text": [
      "93905416\n",
      "--- 5.542841911315918 seconds ---\n"
     ]
    }
   ],
   "source": [
    "ComplexityTest(12248,15334) # naive algorithm"
   ]
  },
  {
   "cell_type": "code",
   "execution_count": 82,
   "metadata": {},
   "outputs": [
    {
     "name": "stdout",
     "output_type": "stream",
     "text": [
      "10405900631047816\n",
      "--- 0.0009999275207519531 seconds ---\n"
     ]
    }
   ],
   "source": [
    "ComplexityTest(135462248,153635434) # fast algorithm"
   ]
  },
  {
   "cell_type": "markdown",
   "metadata": {},
   "source": [
    "Alternative solution that I have found earlier"
   ]
  },
  {
   "cell_type": "code",
   "execution_count": 4,
   "metadata": {},
   "outputs": [
    {
     "name": "stdout",
     "output_type": "stream",
     "text": [
      "12345 9485\n",
      "23418465\n"
     ]
    }
   ],
   "source": [
    "def lcm(a, b):\n",
    "    assert 1 <= a <= 2 * 10 ** 9 and 1 <= b <= 2 * 10 ** 9\n",
    "\n",
    "    def gcd(a, b):\n",
    "        assert 0 <= a <= 2 * 10 ** 9 and 0 <= b <= 2 * 10 ** 9\n",
    "\n",
    "        if a < b:\n",
    "            return gcd(b, a)\n",
    "        if a >= b:\n",
    "            if a % b == 0:\n",
    "                return b\n",
    "            else:\n",
    "                a = a % b\n",
    "            return gcd(b, a)\n",
    "        \n",
    "    return int((a*b) / gcd(a, b))\n",
    "\n",
    "if __name__ == '__main__':\n",
    "    input_a, input_b = map(int, input().split())\n",
    "    print(lcm(input_a, input_b))"
   ]
  },
  {
   "cell_type": "markdown",
   "metadata": {},
   "source": [
    "### Fibonacci Number Again\n",
    "\n",
    "Given two integers $0 \\le n \\le 10^{18}$ and\n",
    "$2 \\le m \\le 10^3$,\n",
    "compute the $n$-th Fibonacci number modulo $m$.\n",
    "\n",
    "In this problem, $n$ may be so huge that an algorithm looping for $n$ iterations will be too slow. Therefore we need to avoid such a loop.\n",
    "To get an idea how to solve this problem without going through all Fibonacci numbers \n",
    "$F_i$ for $i$ from $0$ to $n$, \n",
    "take a look at the table below:\n",
    "\n",
    "Both these sequences are periodic! For $m=2$, the period is $0 1 1$ and has length $3$, while for $m=3$ the period is $0 1 1 2 0 2 2 1$ and has length $8$. \n",
    "\n",
    "\n",
    "Therefore, to compute, say, $F_{2015} \\bmod{3}$ we just need to find the remainder of $2015$ when divided by $8$. Since $2015=251 \\cdot 8 + 7$, we conclude that $F_{2015} \\bmod{3} = F_{7} \\bmod{3}=1$.\n",
    "\n",
    "It turns out that for any integer $m \\ge 2$, \n",
    "the sequence $F_n \\bmod{m}$ is periodic. \n",
    "The period always starts with $0 1$ and is \n",
    "known as *Pisano period* \n",
    "(Pisano is another name of Fibonacci)."
   ]
  },
  {
   "cell_type": "code",
   "execution_count": 83,
   "metadata": {},
   "outputs": [],
   "source": [
    "def fibonacci_number_again_naive(n, m):\n",
    "    assert 0 <= n <= 10 ** 18 and 2 <= m <= 10 ** 3\n",
    "    if n <= 1:\n",
    "        return n\n",
    "    previous, current = 0, 1\n",
    "    for _ in range(n - 1):\n",
    "        previous, current = current, (previous + current) % m\n",
    "    return current\n",
    "\n",
    "'''\n",
    "if __name__ == '__main__':\n",
    "    input_n, input_m = map(int, input().split())\n",
    "    print(fibonacci_number_again(input_n, input_m))\n",
    "'''\n",
    "\n",
    "def fibonacci_number_again(n, m):\n",
    "    assert 0 <= n <= 10 ** 18 and 2 <= m <= 10 ** 6\n",
    "    F = [0,1]\n",
    "    for i in range(2,n+1):\n",
    "        F.append((F[i-1]+F[i-2]) % m)\n",
    "        if F[i-1] == 0 and F[i] == 1:\n",
    "            F = F[:-2]\n",
    "            break\n",
    "    return F[n % len(F)]"
   ]
  },
  {
   "cell_type": "code",
   "execution_count": 122,
   "metadata": {},
   "outputs": [],
   "source": [
    "import random\n",
    "import time\n",
    "\n",
    "def StressTest(n, m):\n",
    "    assert 0 <= n <= 10 ** 18 and 2 <= m <= 10 ** 3\n",
    "    while True:\n",
    "        x = random.randint(40, n)\n",
    "        y = random.randint(2, m)\n",
    "        result1 = fibonacci_number_again_naive(x, y)\n",
    "        result2 = fibonacci_number_again(x, y)\n",
    "        if result1 == result2:\n",
    "            print('OK', 'result1, result2 = ', result1)\n",
    "        else:\n",
    "            print('Answer is wrong:', 'result1 = ', result1, 'result2 = ', result2)\n",
    "            break\n",
    "            \n",
    "def ComplexityTest(n, m):\n",
    "    assert 0 <= n <= 10 ** 18 and 2 <= m <= 10 ** 6\n",
    "    start_time = time.time()\n",
    "    print(fibonacci_number_again(n, m))\n",
    "    print(\"--- %s seconds ---\" % (time.time() - start_time))"
   ]
  },
  {
   "cell_type": "markdown",
   "metadata": {},
   "source": [
    "    StressTest() passed for thousands of cases. So, algorithm works properly. Now, let's check the running time."
   ]
  },
  {
   "cell_type": "code",
   "execution_count": 121,
   "metadata": {},
   "outputs": [
    {
     "name": "stdout",
     "output_type": "stream",
     "text": [
      "11\n",
      "--- 4.944250583648682 seconds ---\n"
     ]
    }
   ],
   "source": [
    "ComplexityTest(10**8, 16) # naive algorithm"
   ]
  },
  {
   "cell_type": "code",
   "execution_count": 124,
   "metadata": {},
   "outputs": [
    {
     "name": "stdout",
     "output_type": "stream",
     "text": [
      "11\n",
      "--- 0.0 seconds ---\n"
     ]
    }
   ],
   "source": [
    "ComplexityTest(10**18, 16) # naive algorithm"
   ]
  },
  {
   "cell_type": "markdown",
   "metadata": {},
   "source": [
    "Alternative solution that I have found earlier"
   ]
  },
  {
   "cell_type": "code",
   "execution_count": 5,
   "metadata": {},
   "outputs": [
    {
     "name": "stdout",
     "output_type": "stream",
     "text": [
      "4534534559342342 99999\n",
      "18080\n"
     ]
    }
   ],
   "source": [
    "def fibonacci_number_again(n, m):\n",
    "    assert 0 <= n <= 10 ** 18 and 2 <= m <= 10 ** 5\n",
    "\n",
    "    if n <= 1:\n",
    "        return n\n",
    "    temp = [0,1]\n",
    "    for i in range(2,n+1):\n",
    "        temp.append((temp[i-2]+temp[i-1])%m)\n",
    "        if temp[i-1] == 0 and temp[i] == 1:\n",
    "            temp = temp[0:len(temp)-2]\n",
    "            break\n",
    "    return temp[n % len(temp)]\n",
    "\n",
    "if __name__ == '__main__':\n",
    "    input_n, input_m = map(int, input().split())\n",
    "    print(fibonacci_number_again(input_n, input_m))"
   ]
  },
  {
   "cell_type": "markdown",
   "metadata": {},
   "source": [
    "### Last Digit of the Sum of Fibonacci Numbers\n",
    "\n",
    "Given $0 \\le n \\le 10^{18}$,\n",
    "compute the last digit of $$F_0+F_1+\\dotsb+F_n.$$\n",
    "\n",
    "Since the brute force approach for this problem is too slow, try to come up with a formula for $F_0+F_1+F_2+\\dotsb+F_n$. Play with small values of $n$ to get an insight and use a solution for the previous problem afterwards.\n"
   ]
  },
  {
   "cell_type": "code",
   "execution_count": 1,
   "metadata": {},
   "outputs": [],
   "source": [
    "def last_digit_of_the_sum_of_fibonacci_numbers_naive(n):\n",
    "    assert 0 <= n <= 10 ** 18\n",
    "    if n <= 1:\n",
    "        return n\n",
    "    fibonacci_numbers = [0] * (n + 1)\n",
    "    fibonacci_numbers[0] = 0\n",
    "    fibonacci_numbers[1] = 1\n",
    "    for i in range(2, n + 1):\n",
    "        fibonacci_numbers[i] = fibonacci_numbers[i - 2] + fibonacci_numbers[i - 1]\n",
    "    return sum(fibonacci_numbers) % 10\n",
    "\n",
    "'''\n",
    "if __name__ == '__main__':\n",
    "    input_n = int(input())\n",
    "    print(last_digit_of_the_sum_of_fibonacci_numbers(input_n))\n",
    "'''\n",
    "\n",
    "def last_digit_of_the_sum_of_fibonacci_numbers(n):\n",
    "    assert 0 <= n <= 10 ** 18\n",
    "    F = [0,1]\n",
    "    sums = [0,1]\n",
    "    for i in range(2,n+1):\n",
    "        F.append((F[i-1]+F[i-2]) % 10)\n",
    "        sums.append((F[i]+sums[i-1]) % 10)\n",
    "        if sums[i-1] == 0 and sums[i] == 1:\n",
    "            sums = sums[:-2]\n",
    "            break\n",
    "    return sums[n % len(sums)]"
   ]
  },
  {
   "cell_type": "code",
   "execution_count": 12,
   "metadata": {},
   "outputs": [],
   "source": [
    "import random\n",
    "import time\n",
    "\n",
    "def StressTest(n):\n",
    "    assert 0 <= n <= 10 ** 18\n",
    "    while True:\n",
    "        x = random.randint(0, n)\n",
    "        result1 = last_digit_of_the_sum_of_fibonacci_numbers_naive(x)\n",
    "        result2 = last_digit_of_the_sum_of_fibonacci_numbers(x)\n",
    "        if result1 == result2:\n",
    "            print('OK', 'result1, result2 = ', result1)\n",
    "        else:\n",
    "            print('Answer is wrong:', 'result1 = ', result1, 'result2 = ', result2)\n",
    "            break\n",
    "            \n",
    "def ComplexityTest(n):\n",
    "    assert 0 <= n <= 10 ** 18\n",
    "    start_time = time.time()\n",
    "    print(last_digit_of_the_sum_of_fibonacci_numbers(n))\n",
    "    print(\"--- %s seconds ---\" % (time.time() - start_time))"
   ]
  },
  {
   "cell_type": "markdown",
   "metadata": {},
   "source": [
    "    StressTest() passed for thousands of cases. So, algorithm works properly. Now, let's check the running time."
   ]
  },
  {
   "cell_type": "code",
   "execution_count": 9,
   "metadata": {},
   "outputs": [
    {
     "name": "stdout",
     "output_type": "stream",
     "text": [
      "0\n",
      "--- 5.67097020149231 seconds ---\n"
     ]
    }
   ],
   "source": [
    "ComplexityTest(2 * 10**5) # naive algorithm"
   ]
  },
  {
   "cell_type": "code",
   "execution_count": 18,
   "metadata": {},
   "outputs": [
    {
     "name": "stdout",
     "output_type": "stream",
     "text": [
      "5\n",
      "--- 0.0 seconds ---\n"
     ]
    }
   ],
   "source": [
    "ComplexityTest(10**18) # naive algorithm"
   ]
  },
  {
   "cell_type": "markdown",
   "metadata": {},
   "source": [
    "Alternative solution that I have found earlier"
   ]
  },
  {
   "cell_type": "code",
   "execution_count": 11,
   "metadata": {},
   "outputs": [
    {
     "name": "stdout",
     "output_type": "stream",
     "text": [
      "21367434526\n",
      "5\n"
     ]
    }
   ],
   "source": [
    "def last_digit_of_the_sum_of_fibonacci_numbers(n):\n",
    "    assert 0 <= n <= 10 ** 18\n",
    "\n",
    "    fibo = [0,1]\n",
    "    for i in range(2,60):\n",
    "        fibo.append(fibo[i-2]+fibo[i-1])\n",
    "    temp = []\n",
    "    for i in range(1,len(fibo)+1):\n",
    "        temp.append(sum(fibo[:i])%10)\n",
    "    return temp[n%60] % 10\n",
    "\n",
    "if __name__ == '__main__':\n",
    "    input_n = int(input())\n",
    "    print(last_digit_of_the_sum_of_fibonacci_numbers(input_n))"
   ]
  },
  {
   "cell_type": "markdown",
   "metadata": {},
   "source": [
    "### Last Digit of the Sum of Fibonacci Numbers Again\n",
    "\n",
    "Given two integers $0 \\le m \\le n \\le 10^{18}$,\n",
    "compute the last digit of $$F_m+F_{m+1}+\\dotsb+F_n.$$"
   ]
  },
  {
   "cell_type": "code",
   "execution_count": 27,
   "metadata": {},
   "outputs": [],
   "source": [
    "def last_digit_of_the_sum_of_fibonacci_numbers_again_naive(from_index, to_index):\n",
    "    assert 0 <= from_index <= to_index <= 10 ** 18\n",
    "    if to_index == 0:\n",
    "        return 0\n",
    "    fibonacci_numbers = [0] * (to_index + 1)\n",
    "    fibonacci_numbers[0] = 0\n",
    "    fibonacci_numbers[1] = 1\n",
    "    for i in range(2, to_index + 1):\n",
    "        fibonacci_numbers[i] = fibonacci_numbers[i - 2] + fibonacci_numbers[i - 1]\n",
    "    return sum(fibonacci_numbers[from_index:to_index + 1]) % 10\n",
    "\n",
    "\"\"\"\n",
    "if __name__ == '__main__':\n",
    "    input_from, input_to = map(int, input().split())\n",
    "    print(last_digit_of_the_sum_of_fibonacci_numbers_again(input_from, input_to))\n",
    "\"\"\"\n",
    "\n",
    "def last_digit_of_the_sum_of_fibonacci_numbers_again(from_index, to_index):\n",
    "    assert 0 <= from_index <= to_index <= 10 ** 18\n",
    "    F = [0,1]\n",
    "    sums = [0,1]\n",
    "    for i in range(2,to_index+1):\n",
    "        F.append((F[i-1]+F[i-2]) % 10)\n",
    "        sums.append((F[i]+sums[i-1]) % 10)\n",
    "        if sums[i-1] == 0 and sums[i] == 1:\n",
    "            sums = sums[:-2]\n",
    "            break\n",
    "    if from_index == 0:\n",
    "        return abs(sums[to_index % len(sums)])\n",
    "    else:\n",
    "        if (from_index % len(sums)) <= (to_index % len(sums)):\n",
    "            a = sums[to_index % len(sums)] - sums[(from_index - 1) % len(sums)]\n",
    "            if a >= 0:\n",
    "                return a\n",
    "            else:\n",
    "                return a + 10\n",
    "        else:\n",
    "            b = ((sums[-1] - sums[(from_index-1) % len(sums)]) + sums[to_index % len(sums)]) % 10\n",
    "            if b >= 0:\n",
    "                return b\n",
    "            else:\n",
    "                return b + 10"
   ]
  },
  {
   "cell_type": "code",
   "execution_count": 37,
   "metadata": {},
   "outputs": [],
   "source": [
    "import random\n",
    "import time\n",
    "\n",
    "def StressTest(a, b):\n",
    "    assert 0 <= a <= b <= 10 ** 18\n",
    "    while True:\n",
    "        x = random.randint(0, a)\n",
    "        y = random.randint(a, b)\n",
    "        result1 = last_digit_of_the_sum_of_fibonacci_numbers_again_naive(x, y)\n",
    "        result2 = last_digit_of_the_sum_of_fibonacci_numbers_again(x, y)\n",
    "        if result1 == result2:\n",
    "            print('OK', 'result1, result2 = ', result1)\n",
    "        else:\n",
    "            print('Answer is wrong:', 'result1 = ', result1, 'result2 = ', result2)\n",
    "            break\n",
    "            \n",
    "def ComplexityTest(a, b):\n",
    "    assert 0 <= a <= b <= 10 ** 18\n",
    "    start_time = time.time()\n",
    "    print(last_digit_of_the_sum_of_fibonacci_numbers_again(a, b))\n",
    "    print(\"--- %s seconds ---\" % (time.time() - start_time))"
   ]
  },
  {
   "cell_type": "markdown",
   "metadata": {},
   "source": [
    "    StressTest() passed for thousands of cases. So, algorithm works properly. Now, let's check the running time."
   ]
  },
  {
   "cell_type": "code",
   "execution_count": 36,
   "metadata": {},
   "outputs": [
    {
     "name": "stdout",
     "output_type": "stream",
     "text": [
      "1\n",
      "--- 5.328321695327759 seconds ---\n"
     ]
    }
   ],
   "source": [
    "ComplexityTest(99999, 199999) # naive algorithm"
   ]
  },
  {
   "cell_type": "code",
   "execution_count": 49,
   "metadata": {},
   "outputs": [
    {
     "name": "stdout",
     "output_type": "stream",
     "text": [
      "1\n",
      "--- 0.0 seconds ---\n"
     ]
    }
   ],
   "source": [
    "ComplexityTest(9999, 10**18) # fast algorithm"
   ]
  },
  {
   "cell_type": "markdown",
   "metadata": {},
   "source": [
    "Alternative solution that I have found earlier"
   ]
  },
  {
   "cell_type": "code",
   "execution_count": 12,
   "metadata": {},
   "outputs": [
    {
     "name": "stdout",
     "output_type": "stream",
     "text": [
      "19 10000000000\n",
      "1\n"
     ]
    }
   ],
   "source": [
    "def last_digit_of_the_sum_of_fibonacci_numbers_again(from_index, to_index):\n",
    "    assert 0 <= from_index <= to_index <= 10 ** 18\n",
    "\n",
    "    fiba = [0,1]\n",
    "    for i in range(2,60):\n",
    "        fiba.append(fiba[i-2]+fiba[i-1])\n",
    "    temp = []\n",
    "    for i in range(1,len(fiba)+1):\n",
    "        temp.append(sum(fiba[:i])%10)\n",
    "    result = temp[(to_index % 60)] - temp[(from_index % 60) - 1]\n",
    "    if result < 0:\n",
    "        return result + 10\n",
    "    return result\n",
    "\n",
    "if __name__ == '__main__':\n",
    "    input_from, input_to = map(int, input().split())\n",
    "    print(last_digit_of_the_sum_of_fibonacci_numbers_again(input_from, input_to))"
   ]
  },
  {
   "cell_type": "markdown",
   "metadata": {},
   "source": [
    "### Last Digit of the Sum of Squares of Fibonacci Numbers\n",
    "\n",
    "\n",
    "Given $0 \\le n \\le 10^{18}$,\n",
    "compute the last digit of $$F_0^2+F_1^2+\\dotsb+F_n^2.$$\n",
    "\n",
    "Since the brute force search algorithm for this problem is too slow ($n$ may be as large as $10^{18}$), we need to come up with a simple formula for $F_0^2+F_1^2+\\dotsb+F_n^2$. The figure above represents the sum $F_1^2+F_2^2+F_3^2+F_4^2+F_5^2$ as the area of a rectangle  with vertical side $F_5=5$ and horizontal side $F_5+F_4=3+5=F_6$.\n"
   ]
  },
  {
   "cell_type": "code",
   "execution_count": 53,
   "metadata": {},
   "outputs": [],
   "source": [
    "def last_digit_of_the_sum_of_squares_of_fibonacci_numbers_naive(n):\n",
    "    assert 0 <= n <= 10 ** 18\n",
    "    if n <= 1:\n",
    "        return n\n",
    "    fibonacci_numbers = [0] * (n + 1)\n",
    "    fibonacci_numbers[0] = 0\n",
    "    fibonacci_numbers[1] = 1\n",
    "    for i in range(2, n + 1):\n",
    "        fibonacci_numbers[i] = fibonacci_numbers[i - 2] + fibonacci_numbers[i - 1]\n",
    "    return sum([f ** 2 for f in fibonacci_numbers]) % 10\n",
    "\n",
    "\"\"\"\n",
    "if __name__ == '__main__':\n",
    "    input_n = int(input())\n",
    "    print(last_digit_of_the_sum_of_squares_of_fibonacci_numbers(input_n))\n",
    "\"\"\"\n",
    "\n",
    "def last_digit_of_the_sum_of_squares_of_fibonacci_numbers(n):\n",
    "    assert 0 <= n <= 10 ** 18\n",
    "    F = [0,1]\n",
    "    for i in range(2,n+1):\n",
    "        F.append((F[i-1]+F[i-2]) % 10)\n",
    "        if F[i-1] == 0 and F[i] == 1:\n",
    "            F = F[:-2]\n",
    "            break\n",
    "    return (F[n % len(F)] * (F[n % len(F)] + F[(n % len(F)) - 1])) % 10"
   ]
  },
  {
   "cell_type": "code",
   "execution_count": 59,
   "metadata": {},
   "outputs": [],
   "source": [
    "import random\n",
    "import time\n",
    "\n",
    "def StressTest(n):\n",
    "    assert 0 <= n <= 10 ** 18\n",
    "    while True:\n",
    "        x = random.randint(0, n)\n",
    "        result1 = last_digit_of_the_sum_of_squares_of_fibonacci_numbers_naive(x)\n",
    "        result2 = last_digit_of_the_sum_of_squares_of_fibonacci_numbers(x)\n",
    "        if result1 == result2:\n",
    "            print('OK', 'result1, result2 = ', result1)\n",
    "        else:\n",
    "            print('Answer is wrong:', 'result1 = ', result1, 'result2 = ', result2)\n",
    "            break\n",
    "            \n",
    "def ComplexityTest(n):\n",
    "    assert 0 <= n <= 10 ** 18\n",
    "    start_time = time.time()\n",
    "    print(last_digit_of_the_sum_of_squares_of_fibonacci_numbers(n))\n",
    "    print(\"--- %s seconds ---\" % (time.time() - start_time))"
   ]
  },
  {
   "cell_type": "markdown",
   "metadata": {},
   "source": [
    "    StressTest() passed for thousands of cases. So, algorithm works properly. Now, let's check the running time.|"
   ]
  },
  {
   "cell_type": "code",
   "execution_count": 57,
   "metadata": {},
   "outputs": [
    {
     "name": "stdout",
     "output_type": "stream",
     "text": [
      "5\n",
      "--- 33.55292248725891 seconds ---\n"
     ]
    }
   ],
   "source": [
    "ComplexityTest(100000) # naive algorithm"
   ]
  },
  {
   "cell_type": "code",
   "execution_count": 65,
   "metadata": {},
   "outputs": [
    {
     "name": "stdout",
     "output_type": "stream",
     "text": [
      "5\n",
      "--- 0.0 seconds ---\n"
     ]
    }
   ],
   "source": [
    "ComplexityTest(10**18) # fast algorithm"
   ]
  },
  {
   "cell_type": "markdown",
   "metadata": {},
   "source": [
    "Alternative solution that I have found earlier"
   ]
  },
  {
   "cell_type": "code",
   "execution_count": 14,
   "metadata": {},
   "outputs": [
    {
     "name": "stdout",
     "output_type": "stream",
     "text": [
      "397841263\n",
      "1\n"
     ]
    }
   ],
   "source": [
    "def last_digit_of_the_sum_of_squares_of_fibonacci_numbers(n):\n",
    "    assert 0 <= n <= 10 ** 18\n",
    "    \n",
    "    if n == 0:\n",
    "        return n\n",
    "    temp = [0,1]\n",
    "    for i in range(2,60):\n",
    "        temp.append(temp[i-2]+temp[i-1])\n",
    "    return (temp[n%60] * (temp[n%60] + temp[(n%60)-1])) % 10\n",
    "    \n",
    "if __name__ == '__main__':\n",
    "    input_n = int(input())\n",
    "    print(last_digit_of_the_sum_of_squares_of_fibonacci_numbers(input_n))"
   ]
  }
 ],
 "metadata": {
  "kernelspec": {
   "display_name": "Python 3",
   "language": "python",
   "name": "python3"
  },
  "language_info": {
   "codemirror_mode": {
    "name": "ipython",
    "version": 3
   },
   "file_extension": ".py",
   "mimetype": "text/x-python",
   "name": "python",
   "nbconvert_exporter": "python",
   "pygments_lexer": "ipython3",
   "version": "3.7.3"
  }
 },
 "nbformat": 4,
 "nbformat_minor": 2
}
