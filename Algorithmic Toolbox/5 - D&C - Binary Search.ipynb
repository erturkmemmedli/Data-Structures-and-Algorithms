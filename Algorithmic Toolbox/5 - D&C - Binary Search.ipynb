{
 "cells": [
  {
   "cell_type": "markdown",
   "metadata": {},
   "source": [
    "## Divide and Conquer Algorithms\n"
   ]
  },
  {
   "cell_type": "markdown",
   "metadata": {},
   "source": [
    "### Linear Search"
   ]
  },
  {
   "cell_type": "code",
   "execution_count": 1,
   "metadata": {},
   "outputs": [],
   "source": [
    "def linear_search(keys, query):\n",
    "    for i in range(len(keys)):\n",
    "        if keys[i] == query:\n",
    "            return i\n",
    "    return -1"
   ]
  },
  {
   "cell_type": "markdown",
   "metadata": {},
   "source": [
    "### Binary Search (While Loop)\n",
    "\n",
    "Input: A sorted array **K=[k0,…,kn−1]** of **1≤n≤3⋅10^4** distinct integers and an array **Q=q0,…,qm−1** of **1≤m≤10^5** integers.\n",
    "\n",
    "Output: For **all i from 0 to m−1**, output an index **0≤j≤n−1** such that **kj=qi or −1**, if there is no such index."
   ]
  },
  {
   "cell_type": "code",
   "execution_count": 14,
   "metadata": {},
   "outputs": [
    {
     "name": "stdout",
     "output_type": "stream",
     "text": [
      "1 5 23 43 54 100 321 765 1244 7500 9999\n",
      "54 1244 0 1 10000 7500 454 23\n",
      "4 8 -1 0 -1 9 -1 2 "
     ]
    }
   ],
   "source": [
    "def binary_search(keys, query):\n",
    "    assert all(keys[i] < keys[i + 1] for i in range(len(keys) - 1))\n",
    "    assert 1 <= len(keys) <= 3 * 10 ** 4\n",
    "\n",
    "    low = 0\n",
    "    high = len(keys)-1\n",
    "    mid = int(low + (high - low) / 2) \n",
    "\n",
    "    while low <= high:\n",
    "        if query == keys[mid]:\n",
    "            return mid\n",
    "        elif query > keys[mid]:\n",
    "            low = mid + 1\n",
    "            mid = int(low + (high - low) / 2)\n",
    "            continue\n",
    "        elif query < keys[mid]:\n",
    "            high = mid - 1\n",
    "            mid = int(low + (high - low) / 2)\n",
    "            continue\n",
    "    return -1\n",
    "\n",
    "if __name__ == '__main__':\n",
    "    input_keys = list(map(int, input().split()))\n",
    "    input_queries = list(map(int, input().split()))\n",
    "\n",
    "    for q in input_queries:\n",
    "        print(binary_search(input_keys, q), end=' ')"
   ]
  },
  {
   "cell_type": "markdown",
   "metadata": {},
   "source": [
    "### Binary Search (Recursion)"
   ]
  },
  {
   "cell_type": "code",
   "execution_count": 1,
   "metadata": {},
   "outputs": [
    {
     "name": "stdout",
     "output_type": "stream",
     "text": [
      "2 3 4 5 6 7 8 9 123 12312\n",
      "1 4 2 65 43 12432 123 99999 9 12312\n",
      "-1 2 0 -1 -1 -1 8 -1 7 9 "
     ]
    }
   ],
   "source": [
    "def binary_search(keys, low, high, query):\n",
    "    assert all(keys[i] < keys[i + 1] for i in range(len(keys) - 1))\n",
    "    assert 1 <= len(keys) <= 3 * 10 ** 4\n",
    "    \n",
    "    if low > high:\n",
    "        return -1\n",
    "    \n",
    "    mid = int(low + (high - low) / 2)\n",
    "    \n",
    "    if keys[mid] == query:\n",
    "        return mid\n",
    "    elif keys[mid] > query:\n",
    "        return binary_search(keys, low, mid - 1, query)\n",
    "    elif keys[mid] < query:\n",
    "        return binary_search(keys, mid + 1, high, query)\n",
    "\n",
    "if __name__ == '__main__':\n",
    "    keys = list(map(int, input().split()))\n",
    "    queries = list(map(int, input().split()))\n",
    "    low = 0\n",
    "    high = len(keys) - 1\n",
    "    \n",
    "    for q in queries:\n",
    "        print(binary_search(keys, low, high, q), end = ' ')"
   ]
  },
  {
   "cell_type": "markdown",
   "metadata": {},
   "source": [
    "Alternative solution that I have found earlier"
   ]
  },
  {
   "cell_type": "code",
   "execution_count": 1,
   "metadata": {},
   "outputs": [
    {
     "name": "stdout",
     "output_type": "stream",
     "text": [
      "3 7 9 12 19 20 21 23 36 50 61\n",
      "1 3 30 50 61 90\n",
      "Query is not in the range\n",
      "0\n",
      "Query is between index 7 and index 8\n",
      "9\n",
      "10\n",
      "Query is not in the range\n"
     ]
    }
   ],
   "source": [
    "def binary_search(keys, query):\n",
    "    assert all(keys[i] < keys[i + 1] for i in range(len(keys) - 1))\n",
    "    assert 1 <= len(keys) <= 3 * 10 ** 4\n",
    "\n",
    "    low = 1\n",
    "    high = len(keys)\n",
    "    if query < keys[low-1] or query > keys[high-1]:\n",
    "        return (\"Query is not in the range\")    \n",
    "    \n",
    "    while low <= high:\n",
    "        mid = int(low + (high-low)/2)\n",
    "        if keys[mid-1] == query:\n",
    "            return mid-1\n",
    "        if low == high and keys[mid-1] != query:\n",
    "            return (f'Query is between index {mid-2} and index {mid-1}')\n",
    "        elif keys[mid-1] < query:\n",
    "            low += 1\n",
    "        else:\n",
    "            high -= 1\n",
    "        \n",
    "if __name__ == '__main__':\n",
    "    input_keys = list(map(int, input().split()))\n",
    "    input_queries = list(map(int, input().split()))\n",
    "    for q in input_queries:\n",
    "        print(binary_search(input_keys, q), end='\\n')"
   ]
  },
  {
   "cell_type": "markdown",
   "metadata": {},
   "source": [
    "    Running time for binary search (recursion)"
   ]
  },
  {
   "cell_type": "code",
   "execution_count": 13,
   "metadata": {},
   "outputs": [
    {
     "name": "stdout",
     "output_type": "stream",
     "text": [
      "15003\n",
      "0.10094094276428223 seconds\n"
     ]
    }
   ],
   "source": [
    "import time\n",
    "\n",
    "keys = []\n",
    "for i in range(3 * 10 ** 4):\n",
    "    keys.append(i)\n",
    "low = 0\n",
    "high = len(keys) - 1\n",
    "query = 15003\n",
    "\n",
    "timer = time.time()\n",
    "print(binary_search(keys, low, high, query))\n",
    "print(f'{time.time() - timer} seconds')"
   ]
  },
  {
   "cell_type": "markdown",
   "metadata": {},
   "source": [
    "    Running time for binary search (while loop)"
   ]
  },
  {
   "cell_type": "code",
   "execution_count": 15,
   "metadata": {},
   "outputs": [
    {
     "name": "stdout",
     "output_type": "stream",
     "text": [
      "14998\n",
      "0.006996870040893555 seconds\n"
     ]
    }
   ],
   "source": [
    "import time\n",
    "\n",
    "keys = []\n",
    "for i in range(3 * 10 ** 4):\n",
    "    keys.append(i)\n",
    "query = 14998\n",
    "\n",
    "timer = time.time()\n",
    "print(binary_search(keys, query))\n",
    "print(f'{time.time() - timer} seconds')"
   ]
  }
 ],
 "metadata": {
  "kernelspec": {
   "display_name": "Python 3",
   "language": "python",
   "name": "python3"
  },
  "language_info": {
   "codemirror_mode": {
    "name": "ipython",
    "version": 3
   },
   "file_extension": ".py",
   "mimetype": "text/x-python",
   "name": "python",
   "nbconvert_exporter": "python",
   "pygments_lexer": "ipython3",
   "version": "3.8.3"
  }
 },
 "nbformat": 4,
 "nbformat_minor": 2
}
