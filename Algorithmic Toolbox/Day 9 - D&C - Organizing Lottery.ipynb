{
 "cells": [
  {
   "cell_type": "markdown",
   "metadata": {},
   "source": [
    "## Divide and Conquer Algorithms\n"
   ]
  },
  {
   "cell_type": "markdown",
   "metadata": {},
   "source": [
    "### Organizing Lottery\n",
    "You are organizing an online lottery. To participate, a person bets on a single integer. You then draw several segments of consecutive integers at random. A participant’s payoff is proportional to the number of segments that contain the participant’s number. You need an efficient algorithm for computing the payoffs for all participants. A simple scan of the list of all ranges for each participant is too slow since your lottery is very popular: you have thousands of participants and thousands of ranges.\n",
    "\n",
    "Input: A list of **n≤50000** segments and a list of **m≤50000** points.\n",
    "\n",
    "Output: The number of segments containing each point."
   ]
  },
  {
   "cell_type": "code",
   "execution_count": 1,
   "metadata": {},
   "outputs": [],
   "source": [
    "def points_cover_naive(starts, ends, points):\n",
    "    assert len(starts) == len(ends)\n",
    "    count = [0] * len(points)\n",
    "    for index, point in enumerate(points):\n",
    "        for start, end in zip(starts, ends):\n",
    "            if start <= point <= end:\n",
    "                count[index] += 1\n",
    "    return count"
   ]
  },
  {
   "cell_type": "code",
   "execution_count": 2,
   "metadata": {},
   "outputs": [
    {
     "name": "stdout",
     "output_type": "stream",
     "text": [
      "9 9 10 12 1 3 8 10 7 11 10 12 4 5 2 15 9 16 2 7 4 1 6 7 13 8 3 10\n",
      "Segments: [[1, 3], [2, 7], [2, 15], [4, 5], [7, 11], [8, 10], [9, 16], [10, 12], [10, 12]]\n",
      "For point 4:\n",
      "Counting segments: [[2, 15], [2, 7], [4, 5]]\n",
      "Total number of segments including 4 is: 3\n",
      "For point 1:\n",
      "Counting segments: [[1, 3]]\n",
      "Total number of segments including 1 is: 1\n",
      "For point 6:\n",
      "Counting segments: [[2, 15], [2, 7]]\n",
      "Total number of segments including 6 is: 2\n",
      "For point 7:\n",
      "Counting segments: [[2, 15], [7, 11], [2, 7]]\n",
      "Total number of segments including 7 is: 3\n",
      "For point 13:\n",
      "Counting segments: [[9, 16], [2, 15]]\n",
      "Total number of segments including 13 is: 2\n",
      "For point 8:\n",
      "Counting segments: [[2, 15], [7, 11], [8, 10]]\n",
      "Total number of segments including 8 is: 3\n",
      "For point 3:\n",
      "Counting segments: [[2, 15], [2, 7], [1, 3]]\n",
      "Total number of segments including 3 is: 3\n",
      "For point 10:\n",
      "Counting segments: [[9, 16], [2, 15], [10, 12], [10, 12], [7, 11], [8, 10]]\n",
      "Total number of segments including 10 is: 6\n",
      "3 1 2 3 2 3 3 6\n"
     ]
    }
   ],
   "source": [
    "def merge_sort(A):\n",
    "    if len(A) == 1:\n",
    "        return A\n",
    "    m = len(A) // 2\n",
    "    B = merge_sort(A[:m])\n",
    "    C = merge_sort(A[m:])\n",
    "    A_new = merge(B, C)\n",
    "    return A_new\n",
    "\n",
    "def merge(B, C):\n",
    "    D = []\n",
    "    while len(B) != 0 and len(C) != 0:\n",
    "        if B[0] <= C[0]:\n",
    "            D.append(B[0])\n",
    "            B = B[1:]\n",
    "        else:\n",
    "            D.append(C[0])\n",
    "            C = C[1:]\n",
    "    D = D + B + C\n",
    "    return D\n",
    "\n",
    "def reverse_merge_sort(A):\n",
    "    if len(A) == 1:\n",
    "        return A\n",
    "    m = len(A) // 2\n",
    "    B = reverse_merge_sort(A[:m])\n",
    "    C = reverse_merge_sort(A[m:])\n",
    "    A_new = reverse_merge(B, C)\n",
    "    return A_new\n",
    "\n",
    "def reverse_merge(B, C):\n",
    "    D = []\n",
    "    while len(B) != 0 and len(C) != 0:\n",
    "        if B[0][1] >= C[0][1]:\n",
    "            D.append(B[0])\n",
    "            B = B[1:]\n",
    "        else:\n",
    "            D.append(C[0])\n",
    "            C = C[1:]\n",
    "    D = D + B + C\n",
    "    return D\n",
    "\n",
    "def starting(A, x):\n",
    "    if len(A) <= 1:\n",
    "        return A\n",
    "    mid = len(A) // 2\n",
    "    left = A[:mid]\n",
    "    right = A[mid:]\n",
    "    if right[0][0] <= x:\n",
    "        return left + starting(right, x)\n",
    "    else:\n",
    "        return starting(left, x)\n",
    "\n",
    "def ending(A, x):\n",
    "    if len(A) <= 1:\n",
    "        return A\n",
    "    mid = len(A) // 2\n",
    "    left = A[:mid]\n",
    "    right = A[mid:]\n",
    "    if right[0][1] >= x:\n",
    "        return left + ending(right, x)\n",
    "    else:\n",
    "        return ending(left, x)\n",
    "\n",
    "def points_cover(starts, ends, points):\n",
    "    assert len(starts) == len(ends)\n",
    "    pair = []\n",
    "    for i in range(len(starts)):\n",
    "        if starts[i] <= ends[i]:\n",
    "            pair.append([starts[i], ends[i]])\n",
    "        else:\n",
    "            pair.append([ends[i], starts[i]])\n",
    "    # Start and End pairs are appended in the list\n",
    "    sorted_pair = merge_sort(pair)\n",
    "    # Pairs are sorted by increasing order\n",
    "    print(f'Segments: {sorted_pair}')\n",
    "    output_count = []\n",
    "    for j in points:\n",
    "        print(f\"For point {j}:\")\n",
    "        start_extracted = starting(sorted_pair, j)\n",
    "        # Some segments are extracted where left parts of the segments are bigger than the point\n",
    "        start_extracted_reversed = reverse_merge_sort(start_extracted)\n",
    "        # What is left from the segments are sorted by decreasing order of the right parts of the segments\n",
    "        end_extracted = ending(start_extracted_reversed, j)\n",
    "        # Some segments are extracted where right parts of the segments are smaller than the point\n",
    "        print(f'Counting segments: {end_extracted}')\n",
    "        output_count.append(len(end_extracted))\n",
    "        print(f'Total number of segments including {j} is: {output_count[-1]}')\n",
    "    return output_count\n",
    "\n",
    "if __name__ == '__main__':\n",
    "    data = list(map(int, input().split()))\n",
    "    n, m = data[0], data[1]\n",
    "    input_starts, input_ends = data[2:2 * n + 2:2], data[3:2 * n + 2:2]\n",
    "    input_points = data[2 * n + 2:]\n",
    "\n",
    "    output_count = points_cover(input_starts, input_ends, input_points)\n",
    "    print(*output_count)"
   ]
  },
  {
   "cell_type": "markdown",
   "metadata": {},
   "source": [
    "    With large input, the algorithm was slow. So, while the complexity was m*n in the naive version, it was m*n*logn in the above version. So I tried to improve it."
   ]
  },
  {
   "cell_type": "code",
   "execution_count": 3,
   "metadata": {},
   "outputs": [],
   "source": [
    "def points_cover(starts, ends, points):\n",
    "    assert len(starts) == len(ends)\n",
    "    pair = []\n",
    "    for i in range(len(starts)):\n",
    "        if starts[i] <= ends[i]:\n",
    "            pair.append([starts[i], ends[i]])\n",
    "        else:\n",
    "            pair.append([ends[i], starts[i]])\n",
    "    segments = merge_sort(pair)\n",
    "    reverse_segments = reverse_merge_sort(pair)\n",
    "    output_count = []\n",
    "    for j in points:\n",
    "        result = []\n",
    "        count = 0\n",
    "        start_extracted = starting(segments, j)\n",
    "        end_extracted = ending(reverse_segments, j)\n",
    "        if len(start_extracted) <= len(end_extracted):\n",
    "            for k in start_extracted:\n",
    "                if k[0] < j < k[1]:\n",
    "                    count += 1\n",
    "            result.append(count)\n",
    "        else:\n",
    "            \n",
    "            for k in end_extracted:\n",
    "                if k[0] < j < k[1]:\n",
    "                    count += 1\n",
    "            result.append(count)\n",
    "    return result"
   ]
  },
  {
   "cell_type": "markdown",
   "metadata": {},
   "source": [
    "    Although some undesired parts are removed with merge sort and recursive binary search algorithm, complexity is again m*n and the code does not work better than the naive algorithm. So I tried again to find the best possible solution."
   ]
  },
  {
   "cell_type": "code",
   "execution_count": 18,
   "metadata": {},
   "outputs": [
    {
     "name": "stdout",
     "output_type": "stream",
     "text": [
      "9 9 10 12 1 3 8 10 7 11 10 12 4 5 2 15 9 16 2 7 4 1 6 7 13 8 3 10 10 10 10\n",
      "points: [4, 1, 6, 7, 13, 8, 3, 10, 10, 10, 10]\n",
      "counts: [3, 1, 2, 3, 2, 3, 3, 6, 6, 6, 6]\n"
     ]
    }
   ],
   "source": [
    "def points_cover(starts, ends, points):\n",
    "    assert len(starts) == len(ends)\n",
    "    pair = []\n",
    "    for i in range(len(starts)):\n",
    "        pair.append((starts[i],'left'))\n",
    "        pair.append((ends[i],'right'))\n",
    "    for j in range(len(points)):\n",
    "        pair.append((points[j],'point'))\n",
    "    pair.sort()\n",
    "    result_dictionary = {}\n",
    "    count_left = 0\n",
    "    count_right = 0\n",
    "    for k in pair:\n",
    "        if k[1] == 'left':\n",
    "            count_left += 1\n",
    "        elif k[1] == 'right':\n",
    "            count_right += 1\n",
    "        else:\n",
    "            result_dictionary[f'point {k[0]}'] = count_left - count_right\n",
    "    # print(result_dictionary)\n",
    "    final_result = []\n",
    "    for z in points:\n",
    "        final_result.append(result_dictionary[f'point {z}'])\n",
    "    print(f'points: {points}')\n",
    "    return final_result\n",
    "\n",
    "if __name__ == '__main__':\n",
    "    data = list(map(int, input().split()))\n",
    "    n, m = data[0], data[1]\n",
    "    input_starts, input_ends = data[2:2 * n + 2:2], data[3:2 * n + 2:2]\n",
    "    input_points = data[2 * n + 2:]\n",
    "\n",
    "    output_count = points_cover(input_starts, input_ends, input_points)\n",
    "    print(f'counts: {output_count}')"
   ]
  },
  {
   "cell_type": "code",
   "execution_count": 12,
   "metadata": {},
   "outputs": [],
   "source": [
    "import random\n",
    "starts = []\n",
    "ends = []\n",
    "points = []\n",
    "for i in range(10000):\n",
    "    starts.append(random.randint(0,10000))\n",
    "    ends.append(random.randint(0,10000))\n",
    "for i in range(10000):\n",
    "    points.append(random.randint(0,10000))"
   ]
  },
  {
   "cell_type": "code",
   "execution_count": 14,
   "metadata": {},
   "outputs": [
    {
     "name": "stdout",
     "output_type": "stream",
     "text": [
      "--- 0.027998924255371094 seconds ---\n"
     ]
    }
   ],
   "source": [
    "import time\n",
    "start_time = time.time()\n",
    "points_cover(starts, ends, points)\n",
    "# n = 50,000, m = 50,000\n",
    "print(\"--- %s seconds ---\" % (time.time() - start_time))"
   ]
  }
 ],
 "metadata": {
  "kernelspec": {
   "display_name": "Python 3",
   "language": "python",
   "name": "python3"
  },
  "language_info": {
   "codemirror_mode": {
    "name": "ipython",
    "version": 3
   },
   "file_extension": ".py",
   "mimetype": "text/x-python",
   "name": "python",
   "nbconvert_exporter": "python",
   "pygments_lexer": "ipython3",
   "version": "3.7.3"
  }
 },
 "nbformat": 4,
 "nbformat_minor": 2
}
