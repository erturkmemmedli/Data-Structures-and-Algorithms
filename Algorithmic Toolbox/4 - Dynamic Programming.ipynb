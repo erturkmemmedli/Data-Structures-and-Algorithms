{
 "cells": [
  {
   "cell_type": "markdown",
   "metadata": {},
   "source": [
    "## Dynamic Programming"
   ]
  },
  {
   "cell_type": "markdown",
   "metadata": {},
   "source": [
    "### Two Rocks Game (Dynamic Programming ALgorithm)"
   ]
  },
  {
   "cell_type": "markdown",
   "metadata": {},
   "source": [
    "    Play the “Two Rocks Game” in n x m size board with two piles of rocks. In each turn, one player may take either one rock\n",
    "    (from either pile) or two rocks (one from each pile). Once the rocks are taken, they are removed from play. The player\n",
    "    that takes the last rock wins the game. You are the Player 1 and make the first move.\n",
    "    \n",
    "    Denote \"lose\" with L and \"win\" with W."
   ]
  },
  {
   "cell_type": "code",
   "execution_count": 1,
   "metadata": {},
   "outputs": [],
   "source": [
    "def TwoRocks(n, m):\n",
    "    R = [['-'] * (m+1) for i in range(n+1)]\n",
    "    R[0][0] = 'L'\n",
    "    for u in range(1, n+1):\n",
    "        if R[u-1][0] == 'W':\n",
    "            R[u][0] = 'L'\n",
    "        else:\n",
    "            R[u][0] = 'W'\n",
    "    for v in range(1, m+1):\n",
    "        if R[0][v-1] == 'W':\n",
    "            R[0][v] = 'L'\n",
    "        else:\n",
    "            R[0][v] = 'W'\n",
    "    for i in range(1, n+1):\n",
    "        for j in range(1, m+1):\n",
    "            if R[i-1][j-1] == 'W' and R[0][j-1] == 'W' and R[i-1][0] == 'W':\n",
    "                R[i][j] = 'L'\n",
    "            else:\n",
    "                R[i][j] = 'W'\n",
    "    fix = [[\"*\"] + [i for i in range(0, m+1)]] + R\n",
    "    fix = [fix[0]] + [[i] + R[i] for i in range(0, n+1)]\n",
    "    for k in range(n+2):\n",
    "        print(*fix[k])\n",
    "    if R[i][j] == 'W':\n",
    "        return \"Win\"\n",
    "    else:\n",
    "        return \"Lose\""
   ]
  },
  {
   "cell_type": "code",
   "execution_count": 2,
   "metadata": {},
   "outputs": [
    {
     "name": "stdout",
     "output_type": "stream",
     "text": [
      "* 0 1 2 3 4 5 6\n",
      "0 L W L W L W L\n",
      "1 W W W W W W W\n",
      "2 L W L W L W L\n",
      "3 W W W W W W W\n",
      "4 L W L W L W L\n",
      "5 W W W W W W W\n",
      "6 L W L W L W L\n"
     ]
    },
    {
     "data": {
      "text/plain": [
       "'Lose'"
      ]
     },
     "execution_count": 2,
     "metadata": {},
     "output_type": "execute_result"
    }
   ],
   "source": [
    "TwoRocks(6, 6)"
   ]
  },
  {
   "cell_type": "code",
   "execution_count": 3,
   "metadata": {},
   "outputs": [
    {
     "name": "stdout",
     "output_type": "stream",
     "text": [
      "* 0 1 2 3 4 5 6 7 8 9\n",
      "0 L W L W L W L W L W\n",
      "1 W W W W W W W W W W\n",
      "2 L W L W L W L W L W\n",
      "3 W W W W W W W W W W\n",
      "4 L W L W L W L W L W\n",
      "5 W W W W W W W W W W\n",
      "6 L W L W L W L W L W\n",
      "7 W W W W W W W W W W\n",
      "8 L W L W L W L W L W\n",
      "9 W W W W W W W W W W\n"
     ]
    },
    {
     "data": {
      "text/plain": [
       "'Win'"
      ]
     },
     "execution_count": 3,
     "metadata": {},
     "output_type": "execute_result"
    }
   ],
   "source": [
    "TwoRocks(9, 9)"
   ]
  },
  {
   "cell_type": "code",
   "execution_count": 9,
   "metadata": {},
   "outputs": [],
   "source": [
    "def FastTwoRocks(n, m):\n",
    "    if n % 2 == 0 and m % 2 == 0:\n",
    "        return \"Lose\"\n",
    "    else:\n",
    "        return \"Win\""
   ]
  },
  {
   "cell_type": "code",
   "execution_count": 10,
   "metadata": {},
   "outputs": [
    {
     "data": {
      "text/plain": [
       "'Lose'"
      ]
     },
     "execution_count": 10,
     "metadata": {},
     "output_type": "execute_result"
    }
   ],
   "source": [
    "FastTwoRocks(20, 22)"
   ]
  },
  {
   "cell_type": "code",
   "execution_count": 11,
   "metadata": {},
   "outputs": [
    {
     "data": {
      "text/plain": [
       "'Win'"
      ]
     },
     "execution_count": 11,
     "metadata": {},
     "output_type": "execute_result"
    }
   ],
   "source": [
    "FastTwoRocks(25, 20)"
   ]
  },
  {
   "cell_type": "markdown",
   "metadata": {},
   "source": [
    "### 3-Peg Hanoi Towers Game (Recursive Algorithm)"
   ]
  },
  {
   "cell_type": "markdown",
   "metadata": {},
   "source": [
    "    The Towers of Hanoi puzzle consists of three pegs, which we label from left to right as 1, 2, and 3, and a number of\n",
    "    disks of decreasing radius, each with a hole in the center. The disks are initially stacked on the left peg (peg 1)\n",
    "    so that smaller disks are on top of larger ones. The game is played by moving one disk at a time between pegs. You\n",
    "    are only allowed to place smaller disks on top of larger ones, and any disk may go onto an empty peg. The puzzle is\n",
    "    solved when all of the disks have been moved from peg 1 to peg 3 (from_peg = 1 and to_peg = 3).\n",
    "    \n",
    "    Input: An integer n.\n",
    "    Output: A sequence of moves that solve the n-disk Towers of Hanoi puzzle.\n",
    "   "
   ]
  },
  {
   "cell_type": "code",
   "execution_count": 12,
   "metadata": {},
   "outputs": [],
   "source": [
    "def HanoiTowers(n, from_peg, to_peg):\n",
    "    if n == 1:\n",
    "        print(f'Move disk peg {from_peg} to peg {to_peg}')\n",
    "        return\n",
    "    temp_peg = 6 - from_peg - to_peg\n",
    "    HanoiTowers(n-1, from_peg, temp_peg)\n",
    "    print(f'Move disk peg {from_peg} to peg {to_peg}')\n",
    "    HanoiTowers(n-1, temp_peg, to_peg)\n",
    "    return"
   ]
  },
  {
   "cell_type": "code",
   "execution_count": 13,
   "metadata": {},
   "outputs": [
    {
     "name": "stdout",
     "output_type": "stream",
     "text": [
      "Move disk peg 1 to peg 2\n",
      "Move disk peg 1 to peg 3\n",
      "Move disk peg 2 to peg 3\n",
      "Move disk peg 1 to peg 2\n",
      "Move disk peg 3 to peg 1\n",
      "Move disk peg 3 to peg 2\n",
      "Move disk peg 1 to peg 2\n",
      "Move disk peg 1 to peg 3\n",
      "Move disk peg 2 to peg 3\n",
      "Move disk peg 2 to peg 1\n",
      "Move disk peg 3 to peg 1\n",
      "Move disk peg 2 to peg 3\n",
      "Move disk peg 1 to peg 2\n",
      "Move disk peg 1 to peg 3\n",
      "Move disk peg 2 to peg 3\n"
     ]
    }
   ],
   "source": [
    "HanoiTowers(4, 1, 3)"
   ]
  },
  {
   "cell_type": "markdown",
   "metadata": {},
   "source": [
    "### Fibonacci Again (Less Space Complexity)"
   ]
  },
  {
   "cell_type": "code",
   "execution_count": 14,
   "metadata": {},
   "outputs": [],
   "source": [
    "def fibo(n):\n",
    "    assert n >= 0\n",
    "    if n <= 1:\n",
    "        return n\n",
    "    previous = 0\n",
    "    current = 1\n",
    "    for _ in range(2, n+1):\n",
    "        new = previous + current\n",
    "        previous, current = current, new\n",
    "    return current"
   ]
  },
  {
   "cell_type": "code",
   "execution_count": 15,
   "metadata": {},
   "outputs": [
    {
     "data": {
      "text/plain": [
       "222232244629420445529739893461909967206666939096499764990979600"
      ]
     },
     "execution_count": 15,
     "metadata": {},
     "output_type": "execute_result"
    }
   ],
   "source": [
    "fibo(300)"
   ]
  },
  {
   "cell_type": "markdown",
   "metadata": {},
   "source": [
    "### Money Change Again (Recursive Algorithm)"
   ]
  },
  {
   "cell_type": "code",
   "execution_count": 53,
   "metadata": {},
   "outputs": [
    {
     "name": "stdout",
     "output_type": "stream",
     "text": [
      "40\n",
      "1 5 10 20 25\n",
      "2\n"
     ]
    }
   ],
   "source": [
    "# For Money Change problem, the recursive algorithm solves the problem more accuretly than the greedy algorithm.\n",
    "# But in terms of running time, it is useless.\n",
    "\n",
    "def RecursiveMoneyChange(money, coins):\n",
    "    if money == 0:\n",
    "        return 0\n",
    "    minimum = float('inf')\n",
    "    for i in range(len(coins)):\n",
    "        if money >= coins[i]:\n",
    "            num_coins = RecursiveMoneyChange(money-coins[i], coins)\n",
    "            if num_coins + 1 < minimum:\n",
    "                minimum = num_coins + 1\n",
    "    return minimum\n",
    "\n",
    "if __name__ == '__main__':\n",
    "    money = int(input())\n",
    "    coins = list(map(int, input().split()))\n",
    "    print(RecursiveMoneyChange(money, coins))"
   ]
  },
  {
   "cell_type": "markdown",
   "metadata": {},
   "source": [
    "### Money Change Again (Dynamic Programming)\n",
    "\n",
    "Compute the minimum number of coins needed to change \n",
    "the given value into coins with denominations 1, 3, and 4.\n"
   ]
  },
  {
   "cell_type": "code",
   "execution_count": 54,
   "metadata": {},
   "outputs": [
    {
     "name": "stdout",
     "output_type": "stream",
     "text": [
      "30\n",
      "8\n"
     ]
    }
   ],
   "source": [
    "def change_naive(money):\n",
    "    min_coins = float(\"inf\")\n",
    "    for num1 in range(money + 1):\n",
    "        for num3 in range(money // 3 + 1):\n",
    "            for num4 in range(money // 4 + 1):\n",
    "                if 1 * num1 + 3 * num3 + 4 * num4 == money:\n",
    "                    min_coins = min(min_coins, num1 + num3 + num4)\n",
    "    return min_coins\n",
    "\n",
    "def change(money):\n",
    "    coins = [1, 3, 4]\n",
    "    MinimumCoins = [0] * (money + 1)\n",
    "    for i in range(1, money + 1):\n",
    "        MinimumCoins[i] = float('inf')\n",
    "        for j in range(0, len(coins)):\n",
    "            if i >= coins[j]:\n",
    "                min_value = MinimumCoins[i-coins[j]] + 1\n",
    "                if min_value < MinimumCoins[i]:\n",
    "                    MinimumCoins[i] = min_value\n",
    "    return MinimumCoins[money]\n",
    "\n",
    "if __name__ == '__main__':\n",
    "    amount = int(input())\n",
    "    print(change(amount))"
   ]
  },
  {
   "cell_type": "markdown",
   "metadata": {},
   "source": [
    "Below is the more generalized form for different type of coins."
   ]
  },
  {
   "cell_type": "code",
   "execution_count": 1,
   "metadata": {},
   "outputs": [],
   "source": [
    "def MoneyChangeDynamic(money, coins):\n",
    "    MinimumCoins = [0] * (money + 1)\n",
    "    for i in range(1, money + 1):\n",
    "        MinimumCoins[i] = float('inf')\n",
    "        for j in range(0, len(coins)):\n",
    "            if i >= coins[j]:\n",
    "                min_value = MinimumCoins[i-coins[j]] + 1\n",
    "                if min_value < MinimumCoins[i]:\n",
    "                    MinimumCoins[i] = min_value\n",
    "    print(MinimumCoins)\n",
    "    return MinimumCoins[money]"
   ]
  },
  {
   "cell_type": "code",
   "execution_count": 2,
   "metadata": {},
   "outputs": [
    {
     "name": "stdout",
     "output_type": "stream",
     "text": [
      "[0, 1, 2, 1, 2, 3, 1, 2, 3, 2, 3, 4, 1, 2, 3, 1, 2, 3, 2, 3, 4, 2, 3, 4, 2]\n"
     ]
    },
    {
     "data": {
      "text/plain": [
       "2"
      ]
     },
     "execution_count": 2,
     "metadata": {},
     "output_type": "execute_result"
    }
   ],
   "source": [
    "MoneyChangeDynamic(24, [1, 3, 6, 12, 15])"
   ]
  },
  {
   "cell_type": "markdown",
   "metadata": {},
   "source": [
    "    Stress Test for Money Change Algorithm."
   ]
  },
  {
   "cell_type": "code",
   "execution_count": 55,
   "metadata": {},
   "outputs": [],
   "source": [
    "import string\n",
    "import random\n",
    "\n",
    "def StressTest(N):\n",
    "    assert 0 <= N <= 200\n",
    "    while True:\n",
    "        A = random.randint(0, N)\n",
    "        result1 = change_naive(A)\n",
    "        result2 = change(A)\n",
    "        if result1 == result2:\n",
    "            print('OK', 'result1, result2 = ', result1)\n",
    "        else:\n",
    "            print('Answer is wrong:', 'result1 = ', result1, 'result2 = ', result2)\n",
    "            break"
   ]
  },
  {
   "cell_type": "markdown",
   "metadata": {},
   "source": [
    "### Edit Distance\n",
    "\n",
    "Given two strings of length at most 100,\n",
    "compute the minimum number of single symbol \n",
    "insertions, deletions, and substitutions to \n",
    "transform one string into the other one.\n",
    "\n",
    "Edit distance has many applications \n",
    "in computational biology, \n",
    "natural language processing, \n",
    "spell checking, etc. \n",
    "For example, biologists often analyze edit \n",
    "distances when they  search for \n",
    "disease-causing mutations.\n"
   ]
  },
  {
   "cell_type": "code",
   "execution_count": 25,
   "metadata": {},
   "outputs": [],
   "source": [
    "def OptimalAlignment(A, B, EditMatrix, i, j):\n",
    "    if i == 0 and j == 0:\n",
    "        return\n",
    "    if i > 0 and EditMatrix[i][j] == EditMatrix[i-1][j] + 1:\n",
    "        OptimalAlignment(A, B, EditMatrix, i-1, j)\n",
    "        print(f'Letter {i} from {A}: {A[i-1]}, -')\n",
    "    elif j > 0 and EditMatrix[i][j] == EditMatrix[i][j-1] + 1:\n",
    "        OptimalAlignment(A, B, EditMatrix, i, j-1)\n",
    "        print(f'Letter {j} from {B}: -, {B[j-1]}')\n",
    "    else:\n",
    "        if A[i-1] != B[j-1]:\n",
    "            OptimalAlignment(A, B, EditMatrix, i-1, j-1)\n",
    "            print(f'Letter {i} from {A} and Letter {j} from {B}: {A[i-1]}, {B[j-1]}')\n",
    "        else:\n",
    "            OptimalAlignment(A, B, EditMatrix, i-1, j-1)\n",
    "\n",
    "def EditDistance(A, B):\n",
    "    assert type(A) == str and type(B) == str\n",
    "    assert len(A) <= 100 and len(B) <= 100\n",
    "    A = A.upper()\n",
    "    B = B.upper()\n",
    "    m = len(A)\n",
    "    n = len(B)\n",
    "    EditMatrix = [[0] * (n+1) for i in range(m+1)]\n",
    "    for i in range(1, m+1):\n",
    "        EditMatrix[i][0] = EditMatrix[i-1][0] + 1\n",
    "    for i in range(1, n+1):\n",
    "        EditMatrix[0][i] = EditMatrix[0][i-1] + 1\n",
    "    for i in range(1, m+1):\n",
    "        for j in range(1, n+1):\n",
    "            insertion = EditMatrix[i][j-1] + 1\n",
    "            deletion = EditMatrix[i-1][j] + 1\n",
    "            mismatch = EditMatrix[i-1][j-1] + 1\n",
    "            match = EditMatrix[i-1][j-1]\n",
    "            if A[i-1] != B[j-1]:\n",
    "                EditMatrix[i][j] = min(insertion, deletion, mismatch)\n",
    "            else:\n",
    "                EditMatrix[i][j] = min(insertion, deletion, match)\n",
    "    fix = [[\"*\"] + [\"-\"] + [B[x] for x in range(n)]] + EditMatrix\n",
    "    fix = [fix[0]] + [[\"-\"] + EditMatrix[0]] + [[A[y]] + EditMatrix[y+1] for y in range(m)]\n",
    "    print(\"Table of strings:\\n\")\n",
    "    for k in range(m+2):\n",
    "        print(*fix[k])\n",
    "    if len(A) == 0:\n",
    "        return len(B)\n",
    "    if len(B) == 0:\n",
    "        return len(A)\n",
    "    print(\"\\nParts to be edited:\\n\")\n",
    "    OptimalAlignment(A, B, EditMatrix, i, j)\n",
    "    return EditMatrix[i][j]"
   ]
  },
  {
   "cell_type": "code",
   "execution_count": 26,
   "metadata": {},
   "outputs": [
    {
     "name": "stdout",
     "output_type": "stream",
     "text": [
      "Table of strings:\n",
      "\n",
      "* - K A M A N D A R\n",
      "- 0 1 2 3 4 5 6 7 8\n",
      "M 1 1 2 2 3 4 5 6 7\n",
      "A 2 2 1 2 2 3 4 5 6\n",
      "N 3 3 2 2 3 2 3 4 5\n",
      "I 4 4 3 3 3 3 3 4 5\n",
      "D 5 5 4 4 4 4 3 4 5\n",
      "A 6 6 5 5 4 5 4 3 4\n",
      "R 7 7 6 6 5 5 5 4 3\n",
      "\n",
      "Parts to be edited:\n",
      "\n",
      "Letter 1 from KAMANDAR: -, K\n",
      "Letter 2 from KAMANDAR: -, A\n",
      "Letter 4 from MANIDAR: I, -\n"
     ]
    },
    {
     "data": {
      "text/plain": [
       "3"
      ]
     },
     "execution_count": 26,
     "metadata": {},
     "output_type": "execute_result"
    }
   ],
   "source": [
    "EditDistance('Manidar', 'Kamandar')"
   ]
  },
  {
   "cell_type": "code",
   "execution_count": 12,
   "metadata": {},
   "outputs": [
    {
     "data": {
      "text/plain": [
       "88"
      ]
     },
     "execution_count": 12,
     "metadata": {},
     "output_type": "execute_result"
    }
   ],
   "source": [
    "import string\n",
    "import random\n",
    "\n",
    "chars = string.ascii_lowercase\n",
    "A = ''.join(random.choice(chars) for _ in range(100))\n",
    "B = ''.join(random.choice(chars) for _ in range(100))\n",
    "\n",
    "EditDistance(A, B)"
   ]
  },
  {
   "cell_type": "markdown",
   "metadata": {},
   "source": [
    "    Stress Test for Edit Distance Algorithm.\n",
    "    \n",
    "    Note: Before applying StressTest, delete printing parts in Edit Distance Algorithm above.\n",
    "    Note: \"reference\" function below is the working algorithm to test my solution."
   ]
  },
  {
   "cell_type": "code",
   "execution_count": 52,
   "metadata": {},
   "outputs": [],
   "source": [
    "def reference(s, t):\n",
    "    sn = len(s)\n",
    "    tn = len(t)\n",
    "\n",
    "    f = [[10**9] * (tn + 2) for _ in range(sn + 2)]\n",
    "    f[0][0] = 0\n",
    "\n",
    "    def relax(p, q, x):\n",
    "        f[p][q] = min(f[p][q], x)\n",
    "\n",
    "    for i in range(sn + 1):\n",
    "        for j in range(tn + 1):\n",
    "            if i < sn and j < tn:\n",
    "                relax(i + 1, j + 1, f[i][j] + (1 if s[i] != t[j] else 0))\n",
    "            relax(i + 1, j, f[i][j] + 1)\n",
    "            relax(i, j + 1, f[i][j] + 1)\n",
    "    return f[sn][tn]\n",
    "\n",
    "import string\n",
    "import random\n",
    "\n",
    "def StressTest(N, M):\n",
    "    assert 0 <= N <= 100 and 0 <= M <= 100\n",
    "    chars = string.ascii_lowercase + string.digits\n",
    "    while True:\n",
    "        n = random.randint(0, N)\n",
    "        m = random.randint(0, M)\n",
    "        A = ''.join(random.choice(chars) for _ in range(n))\n",
    "        B = ''.join(random.choice(chars) for _ in range(m))\n",
    "        print(A)\n",
    "        print(B)\n",
    "        result1 = reference(A, B)\n",
    "        result2 = EditDistance(A, B)\n",
    "        if result1 == result2:\n",
    "            print('OK', 'result1, result2 = ', result1)\n",
    "        else:\n",
    "            print('Answer is wrong:', 'result1 = ', result1, 'result2 = ', result2)\n",
    "            break"
   ]
  },
  {
   "cell_type": "markdown",
   "metadata": {},
   "source": [
    "### Primitive Calculator\n",
    "Find the minimum number of operations \n",
    "needed to get a positive integer $n$ from 1 \n",
    "using only three operations: \n",
    "add 1, multiply by 2, and multiply by 3.\n",
    "\n",
    "**Input.** An integer $1 \\le n \\le 10^6$.\n",
    "\n",
    "**Output.** In the first line, output \n",
    "the minimum number $k$ of operations needed to \n",
    "get $n$ from 1. In the second line, \n",
    "output a sequence of intermediate numbers. \n",
    "That is, the second line should contain \n",
    "positive integers $a_0,a_1,\\dotsc,a_k$ \n",
    "such that $a_0 = 1$, $a_k = n$, and \n",
    "for all $1 \\le i \\le k$, $a_i$ is equal to \n",
    "either $a_{i−1} + 1$, $2a_{i−1}$, or $3a_{i−1}$. \n",
    "If there are many such sequences, output any one of them.\n"
   ]
  },
  {
   "cell_type": "code",
   "execution_count": 38,
   "metadata": {},
   "outputs": [
    {
     "name": "stdout",
     "output_type": "stream",
     "text": [
      "1000000\n",
      "19\n",
      "1 3 9 27 54 108 216 217 651 1953 3906 7812 15624 15625 31250 62500 125000 250000 500000 1000000\n"
     ]
    }
   ],
   "source": [
    "def compute_operations(n):\n",
    "    assert 1 <= n <= 10 ** 6\n",
    "    counts = [0] * (n + 1)\n",
    "    if n == 1:\n",
    "        return 0\n",
    "    for i in range(2, n + 1):\n",
    "        result1 = counts[i - 1] + 1\n",
    "        if i % 2 == 0:\n",
    "            result2 = counts[i // 2] + 1\n",
    "        else:\n",
    "            result2 = float('inf')\n",
    "        if i % 3 == 0:\n",
    "            result3 = counts[i // 3] + 1\n",
    "        else:\n",
    "            result3 = float('inf')\n",
    "        counts[i] = min(result1, result2, result3)\n",
    "        \n",
    "    output = [n]\n",
    "    k = n\n",
    "    while True:\n",
    "        if counts[k] == counts[k - 1] + 1:\n",
    "            k = k - 1\n",
    "            output.insert(0, k)\n",
    "        elif k % 2 == 0 and counts[k] == counts[k // 2] + 1:\n",
    "            k = k // 2\n",
    "            output.insert(0, k)\n",
    "        elif k % 3 == 0 and counts[k] == counts[k // 3] + 1:\n",
    "            k = k // 3\n",
    "            output.insert(0, k) \n",
    "        if k == 1:\n",
    "            break\n",
    "    return output\n",
    "\n",
    "if __name__ == '__main__':\n",
    "    input_n = int(input())\n",
    "    output_sequence = compute_operations(input_n)\n",
    "    print(len(output_sequence) - 1)\n",
    "    print(*output_sequence)"
   ]
  },
  {
   "cell_type": "markdown",
   "metadata": {},
   "source": [
    "### Longest Common Subsequence of Two Sequences\n",
    "\n",
    "Compute the longest common subsequence of \n",
    "two integer sequences of length at most 100.\n",
    "\n",
    "Given two sequences \n",
    "$A=(a_1, a_2, \\dotsc, a_n)$ and \n",
    "$B=(b_1, b_2, \\dotsc, b_m)$, find the \n",
    "length of their longest common subsequence, \n",
    "i.e., the largest non-negative integer $p$ such that \n",
    "there exist indices\n",
    "$1 \\leq i_1 < i_2 <  \\dotsb <  i_p \\leq n$ and\n",
    "$1 \\leq j_1 < j_2 <  \\dotsb <  j_p \\leq m$\n",
    "such that \n",
    "$a_{i_1} = b_{j_1}, \\dotsc, a_{i_p} = b_{j_p}$. \n",
    "The problem has applications in data comparison \n",
    "(e.g., diff utility, merge operation \n",
    "in various version control systems), \n",
    "bioinformatics (finding similarities \n",
    "between genes in various species), and others.\n"
   ]
  },
  {
   "cell_type": "code",
   "execution_count": 27,
   "metadata": {},
   "outputs": [],
   "source": [
    "def matching_matrix(first_sequence, second_sequence):\n",
    "    n = len(first_sequence)\n",
    "    m = len(second_sequence)\n",
    "    A = [[0] * (m+1) for _ in range(n+1)] \n",
    "    for i in range(1, n+1):\n",
    "        A[i][0] = 0\n",
    "    for i in range(1, m+1):\n",
    "        A[0][i] = 0\n",
    "    for i in range(1, n+1):\n",
    "        for j in range(1, m+1):\n",
    "            left = A[i][j-1]\n",
    "            top = A[i-1][j]\n",
    "            diagonal = A[i-1][j-1]\n",
    "            match = A[i-1][j-1] + 1\n",
    "            if first_sequence[i-1] == second_sequence[j-1] and left == top == diagonal:\n",
    "                A[i][j] = max(left, top, match)\n",
    "            else:\n",
    "                A[i][j] = max(left, top, diagonal)\n",
    "    return A\n",
    "\n",
    "def optimize(result, first_sequence, second_sequence, A, i, j):\n",
    "    if i == 0 and j == 0:\n",
    "        return\n",
    "    if i > 0 and j > 0 and A[i][j] == A[i-1][j] == A[i][j-1] == A[i-1][j-1]:\n",
    "        optimize(result, first_sequence, second_sequence, A, i-1, j-1)\n",
    "    elif i > 0 and A[i][j] == A[i-1][j]:\n",
    "        optimize(result, first_sequence, second_sequence, A, i-1, j)\n",
    "    elif j > 0 and A[i][j] == A[i][j-1]:\n",
    "        optimize(result, first_sequence, second_sequence, A, i, j-1)\n",
    "    else:\n",
    "        optimize(result, first_sequence, second_sequence, A, i-1, j-1)\n",
    "        result.append(first_sequence[i-1])\n",
    "\n",
    "def lcs2(first_sequence, second_sequence):\n",
    "    assert len(first_sequence) <= 100 and len(second_sequence) <= 100 \n",
    "    matrix = matching_matrix(first_sequence, second_sequence)\n",
    "    i = len(matrix) - 1\n",
    "    j = len(matrix[0]) - 1\n",
    "    result = []\n",
    "    optimize(result, first_sequence, second_sequence, matrix, i, j)\n",
    "    print(result)\n",
    "    return len(result)"
   ]
  },
  {
   "cell_type": "code",
   "execution_count": 28,
   "metadata": {},
   "outputs": [
    {
     "name": "stdout",
     "output_type": "stream",
     "text": [
      "[5, 3, 9, 4, 1]\n"
     ]
    },
    {
     "data": {
      "text/plain": [
       "5"
      ]
     },
     "execution_count": 28,
     "metadata": {},
     "output_type": "execute_result"
    }
   ],
   "source": [
    "lcs2([5, 1, 3, 5, 9, 0, 4, 1, 2, 4], [3, 5, 6, 3, 3, 0, 3, 9, 4, 1])"
   ]
  },
  {
   "cell_type": "code",
   "execution_count": 29,
   "metadata": {},
   "outputs": [
    {
     "name": "stdout",
     "output_type": "stream",
     "text": [
      "[3, 5, 0, 4, 1]\n"
     ]
    },
    {
     "data": {
      "text/plain": [
       "5"
      ]
     },
     "execution_count": 29,
     "metadata": {},
     "output_type": "execute_result"
    }
   ],
   "source": [
    "lcs2([3, 5, 6, 3, 3, 0, 3, 9, 4, 1], [5, 1, 3, 5, 9, 0, 4, 1, 2, 4])"
   ]
  },
  {
   "cell_type": "code",
   "execution_count": 20,
   "metadata": {},
   "outputs": [
    {
     "name": "stdout",
     "output_type": "stream",
     "text": [
      "A: [5, 7, 5, 8, 20, 17, 19, 12, 7, 10, 2, 15, 1, 19, 18, 6, 0, 5, 4, 16, 6, 7, 14, 8, 13, 16, 2, 9, 15, 1, 3, 10, 1, 18, 6, 18, 8, 2, 3, 12, 15, 6, 17, 3, 15, 17, 14, 19, 16, 3, 13, 4, 10, 14, 15, 11, 19, 17, 17, 6, 4, 20, 1, 9, 9, 10, 20, 4, 1, 12, 10, 1, 8, 0, 16, 19, 0, 5, 3, 2, 3, 12, 6, 13, 1, 12, 17, 6, 15, 8, 11, 18, 6, 16, 17, 12, 9, 16, 7, 17] \n",
      "\n",
      "B: [18, 18, 8, 15, 1, 5, 8, 9, 9, 0, 5, 1, 7, 19, 9, 15, 13, 7, 17, 17, 3, 4, 18, 10, 16, 12, 8, 1, 1, 3, 20, 20, 3, 9, 13, 20, 10, 19, 1, 13, 16, 16, 14, 3, 16, 18, 15, 9, 14, 11, 1, 15, 4, 6, 18, 4, 13, 5, 1, 15, 11, 14, 10, 18, 1, 8, 6, 11, 16, 6, 3, 10, 18, 18, 17, 10, 10, 18, 17, 14, 0, 4, 19, 18, 19, 2, 18, 18, 3, 10, 13, 3, 5, 8, 20, 17, 14, 14, 17, 17] \n",
      "\n",
      "LCS: [8, 15, 1, 0, 5, 7, 9, 15, 3, 10, 1, 3, 3, 19, 16, 3, 14, 11, 6, 4, 1, 10, 1, 10, 0, 19, 2, 3, 13, 8, 17, 17]\n"
     ]
    },
    {
     "data": {
      "text/plain": [
       "32"
      ]
     },
     "execution_count": 20,
     "metadata": {},
     "output_type": "execute_result"
    }
   ],
   "source": [
    "import random\n",
    "\n",
    "A = [random.randint(0,20) for _ in range(100)]\n",
    "B = [random.randint(0,20) for _ in range(100)]\n",
    "print('A:', A, '\\n')\n",
    "print('B:', B, '\\n')\n",
    "lcs2(A, B)"
   ]
  },
  {
   "cell_type": "markdown",
   "metadata": {},
   "source": [
    "    Stress Test for LCS of Two Sequences.\n",
    "    \n",
    "    Note: Before applying StressTest, delete printing parts in LCS Algorithm above.\n",
    "    Note: \"reference\" function below is the working algorithm to test my solution."
   ]
  },
  {
   "cell_type": "code",
   "execution_count": 56,
   "metadata": {},
   "outputs": [],
   "source": [
    "def reference(a, b):\n",
    "    n, m = len(a), len(b)\n",
    "    t = [[0] * (m + 1) for _ in range(n + 1)]\n",
    "\n",
    "    for i in range(1, n + 1):\n",
    "        for j in range(1, m + 1):\n",
    "            if a[i - 1] == b[j - 1]:\n",
    "                t[i][j] = max(t[i - 1][j - 1] + 1, t[i][j - 1], t[i - 1][j])\n",
    "            else:\n",
    "                t[i][j] = max(t[i - 1][j], t[i][j - 1])\n",
    "\n",
    "    return t[n][m]\n",
    "\n",
    "import string\n",
    "import random\n",
    "\n",
    "def StressTest(N, M, L):\n",
    "    assert 0 <= N <= 100 and 0 <= M <= 100 and 0 <= L <= 100\n",
    "    chars = string.ascii_lowercase + string.digits\n",
    "    while True:\n",
    "        n = random.randint(0, N)\n",
    "        m = random.randint(0, M)\n",
    "        A = [random.randint(0, L) for _ in range(n)]\n",
    "        B = [random.randint(0, L) for _ in range(m)]\n",
    "        print(A)\n",
    "        print(B)\n",
    "        result1 = reference(A, B)\n",
    "        result2 = lcs2(A, B)\n",
    "        if result1 == result2:\n",
    "            print('OK', 'result1, result2 = ', result1)\n",
    "        else:\n",
    "            print('Answer is wrong:', 'result1 = ', result1, 'result2 = ', result2)\n",
    "            break"
   ]
  },
  {
   "cell_type": "markdown",
   "metadata": {},
   "source": [
    "### Longest Common Subsequence of Three Sequences\n",
    "\n",
    "Compute the longest common subsequence of \n",
    "three integer sequences of length at most 100.\n"
   ]
  },
  {
   "cell_type": "code",
   "execution_count": 1,
   "metadata": {},
   "outputs": [],
   "source": [
    "def matrix_3D(x, y, z):\n",
    "    n = len(x)\n",
    "    m = len(y)\n",
    "    k = len(z)\n",
    "\n",
    "    A = [[[0] * (k+1) for _ in range(m+1)] for _ in range(n+1)]\n",
    "\n",
    "    for i in range(1, n+1):\n",
    "        for j in range(1, m+1):\n",
    "            for k in range(1, k+1):\n",
    "                v1 = A[i][j][k-1]\n",
    "                v2 = A[i][j-1][k]\n",
    "                v3 = A[i][j-1][k-1]\n",
    "                v4 = A[i-1][j][k]\n",
    "                v5 = A[i-1][j][k-1]\n",
    "                v6 = A[i-1][j-1][k]\n",
    "                v7 = A[i-1][j-1][k-1]\n",
    "                match = A[i-1][j-1][k-1] + 1\n",
    "\n",
    "                if x[i-1] == y[j-1] == z[k-1] and v1 == v2 == v3 == v4 == v5 == v6 == v7:\n",
    "                        A[i][j][k] = max(v1, v2, v3, v4, v5, v6, match)\n",
    "                else:\n",
    "                    A[i][j][k] = max(v1, v2, v3, v4, v5, v6, v7)  \n",
    "    return A\n",
    "\n",
    "def backtracking(result, first_sequence, second_sequence, third_sequence, A, i, j, k):\n",
    "    if i == 0 or j == 0 or k == 0:\n",
    "        return\n",
    "    if i > 0 and j > 0 and k > 0 and A[i][j][k] == A[i][j][k-1]:\n",
    "        backtracking(result, first_sequence, second_sequence, third_sequence, A, i, j, k-1)\n",
    "    elif i > 0 and j > 0 and k > 0 and A[i][j][k] == A[i][j-1][k]:\n",
    "        backtracking(result, first_sequence, second_sequence, third_sequence, A, i, j-1, k)\n",
    "    elif i > 0 and j > 0 and k > 0 and A[i][j][k] == A[i-1][j][k]:\n",
    "        backtracking(result, first_sequence, second_sequence, third_sequence, A, i-1, j, k)\n",
    "    else:\n",
    "        backtracking(result, first_sequence, second_sequence, third_sequence, A, i-1, j-1, k-1)\n",
    "        result.append(first_sequence[i-1])\n",
    "\n",
    "def lcs3(first_sequence, second_sequence, third_sequence):\n",
    "    assert len(first_sequence) <= 100\n",
    "    assert len(second_sequence) <= 100\n",
    "    assert len(third_sequence) <= 100\n",
    "    \n",
    "    matrix = matrix_3D(first_sequence, second_sequence, third_sequence)\n",
    "    i = len(matrix) - 1\n",
    "    j = len(matrix[0]) - 1\n",
    "    k = len(matrix[0][0]) - 1\n",
    "    result = []\n",
    "    backtracking(result, first_sequence, second_sequence, third_sequence, matrix, i, j, k)\n",
    "    print(result)\n",
    "    return len(result)"
   ]
  },
  {
   "cell_type": "code",
   "execution_count": 4,
   "metadata": {},
   "outputs": [
    {
     "name": "stdout",
     "output_type": "stream",
     "text": [
      "[11, 1, 13]\n"
     ]
    },
    {
     "data": {
      "text/plain": [
       "3"
      ]
     },
     "execution_count": 4,
     "metadata": {},
     "output_type": "execute_result"
    }
   ],
   "source": [
    "lcs3([30, 15, 11, 13, 1, 13], [11, 30, 10, 1, 30, 13], [19, 21, 11, 1, 13, 0])"
   ]
  },
  {
   "cell_type": "code",
   "execution_count": 13,
   "metadata": {},
   "outputs": [
    {
     "name": "stdout",
     "output_type": "stream",
     "text": [
      "A: [7, 1, 19, 11, 3, 1, 0, 10, 16, 17, 20, 15, 8, 5, 16, 18, 15, 3, 17, 3, 15, 1, 17, 2, 5, 14, 15, 20, 19, 14, 16, 13, 7, 15, 20, 1, 2, 19, 13, 14, 12, 5, 6, 1, 4, 2, 5, 4, 5, 11, 18, 7, 16, 12, 6, 9, 18, 17, 0, 15, 20, 6, 17, 7, 6, 1, 19, 14, 12, 7, 1, 5, 20, 14, 15, 14, 18, 13, 18, 4, 18, 0, 4, 5, 12, 9, 0, 14, 13, 16, 14, 15, 0, 14, 10, 10, 11, 11, 9, 3] \n",
      "\n",
      "B: [4, 15, 6, 2, 9, 11, 0, 8, 13, 0, 8, 8, 0, 14, 19, 0, 19, 15, 12, 12, 15, 13, 13, 9, 13, 11, 19, 6, 19, 12, 1, 7, 3, 11, 13, 6, 5, 16, 13, 2, 20, 3, 9, 8, 13, 11, 10, 5, 3, 16, 13, 8, 11, 8, 12, 5, 14, 16, 19, 18, 0, 7, 8, 8, 2, 11, 9, 3, 8, 4, 18, 8, 20, 13, 3, 20, 0, 5, 12, 7, 20, 10, 8, 19, 0, 19, 20, 12, 18, 11, 1, 5, 0, 9, 4, 19, 18, 9, 16, 18] \n",
      "\n",
      "C: [4, 4, 17, 6, 12, 12, 18, 12, 11, 4, 1, 3, 6, 1, 5, 14, 10, 16, 20, 8, 19, 14, 20, 5, 6, 16, 13, 5, 19, 12, 3, 11, 19, 11, 8, 0, 18, 11, 6, 4, 2, 13, 5, 3, 18, 5, 17, 15, 11, 5, 6, 1, 12, 2, 6, 12, 1, 0, 15, 2, 14, 14, 19, 1, 10, 17, 12, 14, 9, 19, 4, 15, 7, 8, 13, 4, 11, 12, 11, 2, 17, 0, 8, 7, 14, 1, 9, 0, 1, 0, 20, 20, 10, 4, 14, 12, 9, 15, 19, 7] \n",
      "\n",
      "[11, 1, 16, 20, 8, 5, 16, 5, 19, 2, 13, 5, 12, 0, 19, 12, 1, 0, 4, 9]\n"
     ]
    },
    {
     "data": {
      "text/plain": [
       "20"
      ]
     },
     "execution_count": 13,
     "metadata": {},
     "output_type": "execute_result"
    }
   ],
   "source": [
    "import random\n",
    "\n",
    "A = [random.randint(0,20) for _ in range(100)]\n",
    "B = [random.randint(0,20) for _ in range(100)]\n",
    "C = [random.randint(0,20) for _ in range(100)]\n",
    "print('A:', A, '\\n')\n",
    "print('B:', B, '\\n')\n",
    "print('C:', C, '\\n')\n",
    "lcs3(A, B, C)"
   ]
  },
  {
   "cell_type": "markdown",
   "metadata": {},
   "source": [
    "    Stress Test for LCS of Three Sequences.\n",
    "    \n",
    "    Note: Before applying StressTest, delete printing parts in LCS Algorithm above.\n",
    "    Note: \"reference\" function below is the working algorithm to test my solution."
   ]
  },
  {
   "cell_type": "code",
   "execution_count": 14,
   "metadata": {},
   "outputs": [],
   "source": [
    "def reference(a, b, c):\n",
    "    d = [[[0 for _ in range(len(c) + 1)] for _ in range(len(b) + 1)] for _ in range(len(a) + 1)]\n",
    "    for i in range(len(a) + 1):\n",
    "        for j in range(len(b) + 1):\n",
    "            for k in range(len(c) + 1):\n",
    "                if i < len(a):\n",
    "                    d[i + 1][j][k] = max(d[i][j][k], d[i + 1][j][k])\n",
    "                if j < len(b):\n",
    "                    d[i][j + 1][k] = max(d[i][j][k], d[i][j + 1][k])\n",
    "                if k < len(c):\n",
    "                    d[i][j][k + 1] = max(d[i][j][k], d[i][j][k + 1])\n",
    "                if i < len(a) and j < len(b) and k < len(c) and a[i] == b[j] == c[k]:\n",
    "                    d[i + 1][j + 1][k + 1] = max(d[i + 1][j + 1][k + 1], d[i][j][k] + 1)\n",
    "    return d[len(a)][len(b)][len(c)]\n",
    "\n",
    "import string\n",
    "import random\n",
    "\n",
    "def StressTest(N, M, K, L):\n",
    "    assert 0 <= N <= 100 and 0 <= M <= 100 and 0 <= L <= 100\n",
    "    chars = string.ascii_lowercase + string.digits\n",
    "    while True:\n",
    "        n = random.randint(0, N)\n",
    "        m = random.randint(0, M)\n",
    "        k = random.randint(0, K)\n",
    "        A = [random.randint(0, L) for _ in range(n)]\n",
    "        B = [random.randint(0, L) for _ in range(m)]\n",
    "        C = [random.randint(0, L) for _ in range(k)]\n",
    "        print(A)\n",
    "        print(B)\n",
    "        print(C)\n",
    "        result1 = reference(A, B, C)\n",
    "        result2 = lcs3(A, B, C)\n",
    "        if result1 == result2:\n",
    "            print('OK', 'result1, result2 = ', result1)\n",
    "        else:\n",
    "            print('Answer is wrong:', 'result1 = ', result1, 'result2 = ', result2)\n",
    "            break"
   ]
  },
  {
   "cell_type": "markdown",
   "metadata": {},
   "source": [
    "### Knapsack Problem with Repetitions"
   ]
  },
  {
   "cell_type": "code",
   "execution_count": 6,
   "metadata": {},
   "outputs": [
    {
     "name": "stdout",
     "output_type": "stream",
     "text": [
      "10\n",
      "6 3 2 4\n",
      "30 14 9 16\n",
      "[0, 0, 9, 14, 18, 23, 30, 32, 39, 44, 48]\n"
     ]
    },
    {
     "data": {
      "text/plain": [
       "48"
      ]
     },
     "execution_count": 6,
     "metadata": {},
     "output_type": "execute_result"
    }
   ],
   "source": [
    "def KnapsackWithRepetitions(W, w, p):\n",
    "    assert len(w) == len(p)\n",
    "    A = [0] * (W+1)\n",
    "    temp = 0\n",
    "    for i in range(1, W+1):\n",
    "        for j in range(len(w)):\n",
    "            if i - w[j] >= 0:\n",
    "                temp = p[j] + A[i - w[j]]\n",
    "            A[i] = max(A[i], temp)\n",
    "    print(A)\n",
    "    return A[W]\n",
    "                \n",
    "total_weight = int(input())\n",
    "weights = list(map(int, input().split()))\n",
    "prices = list(map(int, input().split()))\n",
    "\n",
    "#KnapsackWithRepetitions(10,[6,3,2,4],[30,14,9,16])\n",
    "KnapsackWithRepetitions(total_weight, weights, prices)"
   ]
  },
  {
   "cell_type": "markdown",
   "metadata": {},
   "source": [
    "### Knapsack Problem without Repetitions"
   ]
  },
  {
   "cell_type": "code",
   "execution_count": 25,
   "metadata": {},
   "outputs": [
    {
     "name": "stdout",
     "output_type": "stream",
     "text": [
      "10\n",
      "5 3 1 7\n",
      "15 20 6 18\n",
      "[0, 0, 0, 0, 15, 15, 15, 15, 15, 15]\n",
      "[0, 0, 20, 20, 20, 20, 20, 35, 35, 35]\n",
      "[6, 6, 20, 26, 26, 26, 26, 35, 41, 41]\n",
      "[6, 6, 20, 26, 26, 26, 26, 35, 41, 41]\n"
     ]
    },
    {
     "data": {
      "text/plain": [
       "41"
      ]
     },
     "execution_count": 25,
     "metadata": {},
     "output_type": "execute_result"
    }
   ],
   "source": [
    "def KnapsackWithoutRepetitions(W, w, p):\n",
    "    assert len(w) == len(p)\n",
    "    n = len(w)\n",
    "    A = [[0] * (W+1) for _ in range(n+1)]\n",
    "    for i in range(1, n+1):\n",
    "        for j in range(1, W+1):\n",
    "            A[i][j] = A[i][j-1]\n",
    "            if j >= w[i-1]:\n",
    "                A[i][j] = p[i-1] + A[i-1][j - w[i-1]]\n",
    "            if A[i][j] < A[i-1][j]:\n",
    "                A[i][j] = A[i-1][j]\n",
    "    for k in range(1, n+1):\n",
    "        print(A[k][1:])\n",
    "    return A[n][W]\n",
    "                \n",
    "total_weight = int(input())\n",
    "weights = list(map(int, input().split()))\n",
    "prices = list(map(int, input().split()))\n",
    "\n",
    "#KnapsackWithoutRepetitions(10,[5,3,1,7],[15,20,6,18])\n",
    "KnapsackWithoutRepetitions(total_weight, weights, prices)"
   ]
  },
  {
   "cell_type": "markdown",
   "metadata": {},
   "source": [
    "    Reconstructing Knapsack Problem without Repetitions and Finding Weights Used."
   ]
  },
  {
   "cell_type": "code",
   "execution_count": 26,
   "metadata": {},
   "outputs": [],
   "source": [
    "def KnapsackWithoutRepetitions(W, w, p):\n",
    "    assert len(w) == len(p)\n",
    "    n = len(w)\n",
    "    A = [[0] * (W+1) for _ in range(n+1)]\n",
    "    for i in range(1, n+1):\n",
    "        for j in range(1, W+1):\n",
    "            A[i][j] = A[i][j-1]\n",
    "            if j >= w[i-1]:\n",
    "                A[i][j] = p[i-1] + A[i-1][j - w[i-1]]\n",
    "            if A[i][j] < A[i-1][j]:\n",
    "                A[i][j] = A[i-1][j]\n",
    "    return A\n",
    "\n",
    "def KnapsackOptimalAlignment(result, w, p, A, i, j):\n",
    "    if i == 0 or j == 0:\n",
    "        return\n",
    "    if A[i][j] != A[i-1][j - w[i-1]] + p[i-1]:\n",
    "        KnapsackOptimalAlignment(result, w, p, A, i-1, j)\n",
    "    else:\n",
    "        KnapsackOptimalAlignment(result, w, p, A, i-1, j - w[i-1])\n",
    "        result.append(i-1)\n",
    "    \n",
    "def WeightsUsed(W, w, p):\n",
    "    A = KnapsackWithoutRepetitions(W, w, p)\n",
    "    i = len(A) - 1\n",
    "    j = len(A[0]) - 1\n",
    "    result = []\n",
    "    KnapsackOptimalAlignment(result, w, p, A, i, j)\n",
    "    weights = []\n",
    "    for i in result:\n",
    "        weights.append(w[i])\n",
    "    print('weights:', weights)\n",
    "    prices = []\n",
    "    for i in result:\n",
    "        prices.append(p[i])\n",
    "    print('prices:', prices)\n",
    "    return sum(prices)"
   ]
  },
  {
   "cell_type": "code",
   "execution_count": 27,
   "metadata": {},
   "outputs": [
    {
     "name": "stdout",
     "output_type": "stream",
     "text": [
      "weights: [6, 4]\n",
      "prices: [30, 16]\n"
     ]
    },
    {
     "data": {
      "text/plain": [
       "46"
      ]
     },
     "execution_count": 27,
     "metadata": {},
     "output_type": "execute_result"
    }
   ],
   "source": [
    "WeightsUsed(10,[6,3,2,4],[30,14,9,16])"
   ]
  },
  {
   "cell_type": "markdown",
   "metadata": {},
   "source": [
    "### Maximum Amount of Gold\n",
    "\n",
    "\n",
    "Given a set of gold bars of various weights \n",
    "and a backpack that can hold at most $W$ pounds, \n",
    "place as much gold as possible into the backpack.\n",
    "\n",
    "**Constraints.** $1 \\le W \\le 10^4$. There are at most \n",
    "$10^3$ gold bars, the weight of each gold bar is at \n",
    "most $10^5$.\n",
    "\n"
   ]
  },
  {
   "cell_type": "code",
   "execution_count": 36,
   "metadata": {},
   "outputs": [],
   "source": [
    "def maximum_gold(capacity, weights):\n",
    "    assert 1 <= capacity <= 10 ** 4\n",
    "    assert 1 <= len(weights) <= 10 ** 3\n",
    "    assert all(1 <= w <= 10 ** 5 for w in weights)\n",
    "    n = len(weights)\n",
    "    A = [[0] * (capacity+1) for _ in range(n+1)]\n",
    "    for i in range(1, n+1):\n",
    "        for j in range(1, capacity+1):\n",
    "            A[i][j] = A[i][j-1]\n",
    "            if j >= weights[i-1]:\n",
    "                A[i][j] = weights[i-1] + A[i-1][j - weights[i-1]]\n",
    "            if A[i][j] < A[i-1][j]:\n",
    "                A[i][j] = A[i-1][j]\n",
    "    # for k in range(1, n+1): print(A[k][1:])\n",
    "    return A[n][capacity]"
   ]
  },
  {
   "cell_type": "code",
   "execution_count": 37,
   "metadata": {},
   "outputs": [
    {
     "data": {
      "text/plain": [
       "499"
      ]
     },
     "execution_count": 37,
     "metadata": {},
     "output_type": "execute_result"
    }
   ],
   "source": [
    "maximum_gold(500, [342, 381, 230, 381, 206, 393, 364, 319, 279, 385, 345, 263, 365, 281, 298, 247, 239, 201, 378, 351])"
   ]
  },
  {
   "cell_type": "markdown",
   "metadata": {},
   "source": [
    "### Maximum Value of an Arithmetic Expression\n",
    "\n",
    "\n",
    "Parenthesize an arithmetic expression to maximize its value.\n",
    "\n",
    "**Input.** A string $s=s_0s_1\\dotsb s_{2n}$ of length at most 29. \n",
    "Each symbol at an even position of $s$ is a digit \n",
    "(that is, an integer from 0 to 9) \n",
    "while each symbol at an odd position \n",
    "is one of three operations from {$+$,$-$,$*$}.\n",
    "\n",
    "**Output.** The maximum value of the given \n",
    "arithmetic expression among all possible \n",
    "orders of applying arithmetic operations.\n"
   ]
  },
  {
   "cell_type": "code",
   "execution_count": 29,
   "metadata": {},
   "outputs": [],
   "source": [
    "def find_maximum_value(dataset):\n",
    "    assert 1 <= len(dataset) <= 29  \n",
    "    digit_set = [str(i) for i in range(10)]\n",
    "    ops_set = ['+', '-', '*']\n",
    "    assert all(dataset[i] in digit_set for i in range(0, len(dataset), 2))\n",
    "    assert all(dataset[j] in ops_set for j in range(1, len(dataset), 2))\n",
    "    \n",
    "    digits = [int(dataset[i]) for i in range(len(dataset)) if i % 2 == 0]\n",
    "    operations = [dataset[i] for i in range(len(dataset)) if i % 2 == 1]\n",
    "    \n",
    "    n = len(digits)\n",
    "    \n",
    "    min_matrix = [['-'] * n for i in range(n)]\n",
    "    max_matrix = [['-'] * n for i in range(n)]\n",
    "    \n",
    "    for i in range(0, n):\n",
    "        min_matrix[i][i] = digits[i]\n",
    "        max_matrix[i][i] = digits[i]\n",
    "    \n",
    "    for step in range(1, n):\n",
    "        for i in range(0, n - step):\n",
    "            j = i + step\n",
    "            min_matrix[i][j], max_matrix[i][j] = MinMax(i, j, operations, min_matrix, max_matrix)\n",
    "    \n",
    "    print(\"Matrix of Minimums\\n\")\n",
    "    for i in range(0, n):\n",
    "        print(*min_matrix[i], sep = '\\t')\n",
    "    print(\"\\nMatrix of Maximums\\n\")\n",
    "    for i in range(0, n):\n",
    "        print(*max_matrix[i], sep = '\\t')\n",
    "            \n",
    "    return max_matrix[0][n-1]\n",
    "    \n",
    "def MinMax(i, j, operations, min_matrix, max_matrix):\n",
    "    \n",
    "    minimum = float('inf')\n",
    "    maximum = - float('inf')\n",
    "\n",
    "    rule = {'+': lambda x, y : x + y,\n",
    "            '-': lambda x, y : x - y,\n",
    "            '*': lambda x, y : x * y}\n",
    "    \n",
    "    for k in range(i, j):\n",
    "        a = rule[operations[k]](min_matrix[i][k], min_matrix[k+1][j])\n",
    "        b = rule[operations[k]](min_matrix[i][k], max_matrix[k+1][j])\n",
    "        c = rule[operations[k]](max_matrix[i][k], min_matrix[k+1][j])\n",
    "        d = rule[operations[k]](max_matrix[i][k], max_matrix[k+1][j])\n",
    "        minimum = min(minimum, a, b, c, d)\n",
    "        maximum = max(maximum, a, b, c, d)\n",
    "        \n",
    "    return minimum, maximum"
   ]
  },
  {
   "cell_type": "code",
   "execution_count": 30,
   "metadata": {},
   "outputs": [
    {
     "name": "stdout",
     "output_type": "stream",
     "text": [
      "Matrix of Minimums\n",
      "\n",
      "5\t-3\t-10\t-55\t-63\t-94\n",
      "-\t8\t15\t36\t-60\t-195\n",
      "-\t-\t7\t28\t-28\t-91\n",
      "-\t-\t-\t4\t-4\t-13\n",
      "-\t-\t-\t-\t8\t17\n",
      "-\t-\t-\t-\t-\t9\n",
      "\n",
      "Matrix of Maximums\n",
      "\n",
      "5\t-3\t4\t25\t65\t200\n",
      "-\t8\t15\t60\t52\t75\n",
      "-\t-\t7\t28\t20\t35\n",
      "-\t-\t-\t4\t-4\t5\n",
      "-\t-\t-\t-\t8\t17\n",
      "-\t-\t-\t-\t-\t9\n"
     ]
    },
    {
     "data": {
      "text/plain": [
       "200"
      ]
     },
     "execution_count": 30,
     "metadata": {},
     "output_type": "execute_result"
    }
   ],
   "source": [
    "find_maximum_value('5-8+7*4-8+9')"
   ]
  },
  {
   "cell_type": "markdown",
   "metadata": {},
   "source": [
    "    Reconstructing \"Maximum Value of an Arithmetic Expression\" Problem to Find Where to Put Parantheses."
   ]
  },
  {
   "cell_type": "code",
   "execution_count": 31,
   "metadata": {},
   "outputs": [],
   "source": [
    "def MinMax(i, j, operations, rule, min_matrix, max_matrix):\n",
    "    \n",
    "    minimum = float('inf')\n",
    "    maximum = - float('inf')\n",
    "    \n",
    "    for k in range(i, j):\n",
    "        a = rule[operations[k]](min_matrix[i][k], min_matrix[k+1][j])\n",
    "        b = rule[operations[k]](min_matrix[i][k], max_matrix[k+1][j])\n",
    "        c = rule[operations[k]](max_matrix[i][k], min_matrix[k+1][j])\n",
    "        d = rule[operations[k]](max_matrix[i][k], max_matrix[k+1][j])\n",
    "        minimum = min(minimum, a, b, c, d)\n",
    "        maximum = max(maximum, a, b, c, d)\n",
    "        \n",
    "    return minimum, maximum\n",
    "\n",
    "def find_maximum_value(dataset):\n",
    "    assert 1 <= len(dataset) <= 29\n",
    "    \n",
    "    digit_set = [str(i) for i in range(10)]\n",
    "    operation_set = ['+', '-', '*']\n",
    "    \n",
    "    assert all(dataset[i] in digit_set for i in range(0, len(dataset), 2))\n",
    "    assert all(dataset[j] in operation_set for j in range(1, len(dataset), 2))\n",
    "    \n",
    "    digits = [int(dataset[i]) for i in range(len(dataset)) if i % 2 == 0]\n",
    "    operations = [dataset[i] for i in range(len(dataset)) if i % 2 == 1]\n",
    "    \n",
    "    n = len(digits)\n",
    "    \n",
    "    rule = {'+': lambda x, y : x + y,\n",
    "            '-': lambda x, y : x - y,\n",
    "            '*': lambda x, y : x * y}\n",
    "    \n",
    "    min_matrix = [['-'] * n for i in range(n)]\n",
    "    max_matrix = [['-'] * n for i in range(n)]\n",
    "    \n",
    "    for i in range(0, n):\n",
    "        min_matrix[i][i] = digits[i]\n",
    "        max_matrix[i][i] = digits[i]\n",
    "    \n",
    "    for step in range(1, n):\n",
    "        for i in range(0, n - step):\n",
    "            j = i + step\n",
    "            min_matrix[i][j], max_matrix[i][j] = MinMax(i, j, operations, rule, min_matrix, max_matrix)\n",
    "\n",
    "    return min_matrix, max_matrix, operations, rule\n",
    "\n",
    "def OptimalAlignment(dataset):\n",
    "    min_matrix, max_matrix, operations, rule = find_maximum_value(dataset)\n",
    "    i = 0\n",
    "    j = len(min_matrix) - 1\n",
    "    k = 0\n",
    "    matrix = max_matrix\n",
    "    paranthesis = []\n",
    "    Reconstruct(paranthesis, rule, operations, min_matrix, max_matrix, matrix, i, j, k)\n",
    "    \n",
    "    return paranthesis\n",
    "\n",
    "def Reconstruct(paranthesis, rule, operations, min_matrix, max_matrix, matrix, i, j, k):\n",
    "    if k < j:\n",
    "        a = rule[operations[k]](min_matrix[i][k], min_matrix[k+1][j])\n",
    "        b = rule[operations[k]](min_matrix[i][k], max_matrix[k+1][j])\n",
    "        c = rule[operations[k]](max_matrix[i][k], min_matrix[k+1][j])\n",
    "        d = rule[operations[k]](max_matrix[i][k], max_matrix[k+1][j])\n",
    "        if matrix[i][j] == a or matrix[i][j] == c:\n",
    "            if i != k:\n",
    "                paranthesis.append((i, k))\n",
    "                i = k\n",
    "            if k+1 != j:\n",
    "                paranthesis.append((k+1, j))\n",
    "            matrix = min_matrix\n",
    "            Reconstruct(paranthesis, rule, operations, min_matrix, max_matrix, matrix, i+1, j, k+1)\n",
    "        elif matrix[i][j] == b or matrix[i][j] == d:\n",
    "            if i != k:\n",
    "                paranthesis.append((i, k))\n",
    "                i = k\n",
    "            if k+1 != j:\n",
    "                paranthesis.append((k+1, j))\n",
    "            matrix = max_matrix\n",
    "            Reconstruct(paranthesis, rule, operations, min_matrix, max_matrix, matrix, i+1, j, k+1)\n",
    "        else:\n",
    "            Reconstruct(paranthesis, rule, operations, min_matrix, max_matrix, matrix, i, j, k+1)\n",
    "    else:\n",
    "        return"
   ]
  },
  {
   "cell_type": "code",
   "execution_count": 32,
   "metadata": {},
   "outputs": [
    {
     "data": {
      "text/plain": [
       "[(1, 5), (1, 2), (3, 5), (4, 5)]"
      ]
     },
     "execution_count": 32,
     "metadata": {},
     "output_type": "execute_result"
    }
   ],
   "source": [
    "OptimalAlignment('5-8+7*4-8+9')"
   ]
  },
  {
   "cell_type": "markdown",
   "metadata": {},
   "source": [
    "### Partitioning Souvenirs\n",
    "\n",
    "You and two of your friends have just returned back home after visiting various countries. Now you would like to evenly split all the souvenirs that all three of you bought.\n",
    "\n",
    "**Input.** A sequence of integers $v_1, v_2, \\dotsc, v_n$.\n",
    "\n",
    "**Output.** Output 1, if it is possible to partition them into three subsets with equal sums. \n",
    "Output 0 otherwise.\n",
    "\n",
    "**Constrains.** $1 \\le n \\le 20$, $1 \\le v_i \\le 30$ for all $i$.\n"
   ]
  },
  {
   "cell_type": "code",
   "execution_count": 40,
   "metadata": {},
   "outputs": [],
   "source": [
    "def partition3(values):\n",
    "    assert 1 <= len(values) <= 20\n",
    "    assert all(1 <= v <= 30 for v in values)\n",
    "\n",
    "    # type here"
   ]
  }
 ],
 "metadata": {
  "kernelspec": {
   "display_name": "Python 3",
   "language": "python",
   "name": "python3"
  },
  "language_info": {
   "codemirror_mode": {
    "name": "ipython",
    "version": 3
   },
   "file_extension": ".py",
   "mimetype": "text/x-python",
   "name": "python",
   "nbconvert_exporter": "python",
   "pygments_lexer": "ipython3",
   "version": "3.8.3"
  }
 },
 "nbformat": 4,
 "nbformat_minor": 2
}
