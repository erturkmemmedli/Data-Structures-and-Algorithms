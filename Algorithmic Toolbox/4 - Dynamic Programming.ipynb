{
 "cells": [
  {
   "cell_type": "markdown",
   "metadata": {},
   "source": [
    "## Dynamic Programming"
   ]
  },
  {
   "cell_type": "markdown",
   "metadata": {},
   "source": [
    "### Two Rocks Game (Dynamic Programming ALgorithm)"
   ]
  },
  {
   "cell_type": "markdown",
   "metadata": {},
   "source": [
    "    Play the “Two Rocks Game” in n x m size board with two piles of rocks. In each turn, one player may take either one rock\n",
    "    (from either pile) or two rocks (one from each pile). Once the rocks are taken, they are removed from play. The player\n",
    "    that takes the last rock wins the game. You are the Player 1 and make the first move.\n",
    "    \n",
    "    Denote \"lose\" with L and \"win\" with W."
   ]
  },
  {
   "cell_type": "code",
   "execution_count": 1,
   "metadata": {},
   "outputs": [],
   "source": [
    "def TwoRocks(n, m):\n",
    "    R = [['-'] * (m+1) for i in range(n+1)]\n",
    "    R[0][0] = 'L'\n",
    "    for u in range(1, n+1):\n",
    "        if R[u-1][0] == 'W':\n",
    "            R[u][0] = 'L'\n",
    "        else:\n",
    "            R[u][0] = 'W'\n",
    "    for v in range(1, m+1):\n",
    "        if R[0][v-1] == 'W':\n",
    "            R[0][v] = 'L'\n",
    "        else:\n",
    "            R[0][v] = 'W'\n",
    "    for i in range(1, n+1):\n",
    "        for j in range(1, m+1):\n",
    "            if R[i-1][j-1] == 'W' and R[0][j-1] == 'W' and R[i-1][0] == 'W':\n",
    "                R[i][j] = 'L'\n",
    "            else:\n",
    "                R[i][j] = 'W'\n",
    "    fix = [[\"*\"] + [i for i in range(0, m+1)]] + R\n",
    "    fix = [fix[0]] + [[i] + R[i] for i in range(0, n+1)]\n",
    "    for k in range(n+2):\n",
    "        print(*fix[k])\n",
    "    if R[i][j] == 'W':\n",
    "        return \"Win\"\n",
    "    else:\n",
    "        return \"Lose\""
   ]
  },
  {
   "cell_type": "code",
   "execution_count": 2,
   "metadata": {},
   "outputs": [
    {
     "name": "stdout",
     "output_type": "stream",
     "text": [
      "* 0 1 2 3 4 5 6\n",
      "0 L W L W L W L\n",
      "1 W W W W W W W\n",
      "2 L W L W L W L\n",
      "3 W W W W W W W\n",
      "4 L W L W L W L\n",
      "5 W W W W W W W\n",
      "6 L W L W L W L\n"
     ]
    },
    {
     "data": {
      "text/plain": [
       "'Lose'"
      ]
     },
     "execution_count": 2,
     "metadata": {},
     "output_type": "execute_result"
    }
   ],
   "source": [
    "TwoRocks(6, 6)"
   ]
  },
  {
   "cell_type": "code",
   "execution_count": 3,
   "metadata": {},
   "outputs": [
    {
     "name": "stdout",
     "output_type": "stream",
     "text": [
      "* 0 1 2 3 4 5 6 7 8 9\n",
      "0 L W L W L W L W L W\n",
      "1 W W W W W W W W W W\n",
      "2 L W L W L W L W L W\n",
      "3 W W W W W W W W W W\n",
      "4 L W L W L W L W L W\n",
      "5 W W W W W W W W W W\n",
      "6 L W L W L W L W L W\n",
      "7 W W W W W W W W W W\n",
      "8 L W L W L W L W L W\n",
      "9 W W W W W W W W W W\n"
     ]
    },
    {
     "data": {
      "text/plain": [
       "'Win'"
      ]
     },
     "execution_count": 3,
     "metadata": {},
     "output_type": "execute_result"
    }
   ],
   "source": [
    "TwoRocks(9, 9)"
   ]
  },
  {
   "cell_type": "code",
   "execution_count": 9,
   "metadata": {},
   "outputs": [],
   "source": [
    "def FastTwoRocks(n, m):\n",
    "    if n % 2 == 0 and m % 2 == 0:\n",
    "        return \"Lose\"\n",
    "    else:\n",
    "        return \"Win\""
   ]
  },
  {
   "cell_type": "code",
   "execution_count": 10,
   "metadata": {},
   "outputs": [
    {
     "data": {
      "text/plain": [
       "'Lose'"
      ]
     },
     "execution_count": 10,
     "metadata": {},
     "output_type": "execute_result"
    }
   ],
   "source": [
    "FastTwoRocks(20, 22)"
   ]
  },
  {
   "cell_type": "code",
   "execution_count": 11,
   "metadata": {},
   "outputs": [
    {
     "data": {
      "text/plain": [
       "'Win'"
      ]
     },
     "execution_count": 11,
     "metadata": {},
     "output_type": "execute_result"
    }
   ],
   "source": [
    "FastTwoRocks(25, 20)"
   ]
  },
  {
   "cell_type": "markdown",
   "metadata": {},
   "source": [
    "### 3-Peg Hanoi Towers Game (Recursive Algorithm)"
   ]
  },
  {
   "cell_type": "markdown",
   "metadata": {},
   "source": [
    "    The Towers of Hanoi puzzle consists of three pegs, which we label from left to right as 1, 2, and 3, and a number of\n",
    "    disks of decreasing radius, each with a hole in the center. The disks are initially stacked on the left peg (peg 1)\n",
    "    so that smaller disks are on top of larger ones. The game is played by moving one disk at a time between pegs. You\n",
    "    are only allowed to place smaller disks on top of larger ones, and any disk may go onto an empty peg. The puzzle is\n",
    "    solved when all of the disks have been moved from peg 1 to peg 3 (from_peg = 1 and to_peg = 3).\n",
    "    \n",
    "    Input: An integer n.\n",
    "    Output: A sequence of moves that solve the n-disk Towers of Hanoi puzzle.\n",
    "   "
   ]
  },
  {
   "cell_type": "code",
   "execution_count": 12,
   "metadata": {},
   "outputs": [],
   "source": [
    "def HanoiTowers(n, from_peg, to_peg):\n",
    "    if n == 1:\n",
    "        print(f'Move disk peg {from_peg} to peg {to_peg}')\n",
    "        return\n",
    "    temp_peg = 6 - from_peg - to_peg\n",
    "    HanoiTowers(n-1, from_peg, temp_peg)\n",
    "    print(f'Move disk peg {from_peg} to peg {to_peg}')\n",
    "    HanoiTowers(n-1, temp_peg, to_peg)\n",
    "    return"
   ]
  },
  {
   "cell_type": "code",
   "execution_count": 13,
   "metadata": {},
   "outputs": [
    {
     "name": "stdout",
     "output_type": "stream",
     "text": [
      "Move disk peg 1 to peg 2\n",
      "Move disk peg 1 to peg 3\n",
      "Move disk peg 2 to peg 3\n",
      "Move disk peg 1 to peg 2\n",
      "Move disk peg 3 to peg 1\n",
      "Move disk peg 3 to peg 2\n",
      "Move disk peg 1 to peg 2\n",
      "Move disk peg 1 to peg 3\n",
      "Move disk peg 2 to peg 3\n",
      "Move disk peg 2 to peg 1\n",
      "Move disk peg 3 to peg 1\n",
      "Move disk peg 2 to peg 3\n",
      "Move disk peg 1 to peg 2\n",
      "Move disk peg 1 to peg 3\n",
      "Move disk peg 2 to peg 3\n"
     ]
    }
   ],
   "source": [
    "HanoiTowers(4, 1, 3)"
   ]
  },
  {
   "cell_type": "markdown",
   "metadata": {},
   "source": [
    "### Fibonacci Again (Less Space Complexity)"
   ]
  },
  {
   "cell_type": "code",
   "execution_count": 14,
   "metadata": {},
   "outputs": [],
   "source": [
    "def fibo(n):\n",
    "    assert n >= 0\n",
    "    if n <= 1:\n",
    "        return n\n",
    "    previous = 0\n",
    "    current = 1\n",
    "    for _ in range(2, n+1):\n",
    "        new = previous + current\n",
    "        previous, current = current, new\n",
    "    return current"
   ]
  },
  {
   "cell_type": "code",
   "execution_count": 15,
   "metadata": {},
   "outputs": [
    {
     "data": {
      "text/plain": [
       "222232244629420445529739893461909967206666939096499764990979600"
      ]
     },
     "execution_count": 15,
     "metadata": {},
     "output_type": "execute_result"
    }
   ],
   "source": [
    "fibo(300)"
   ]
  },
  {
   "cell_type": "markdown",
   "metadata": {},
   "source": [
    "### Money Change Again (Recursive Algorithm)"
   ]
  },
  {
   "cell_type": "code",
   "execution_count": 53,
   "metadata": {},
   "outputs": [
    {
     "name": "stdout",
     "output_type": "stream",
     "text": [
      "40\n",
      "1 5 10 20 25\n",
      "2\n"
     ]
    }
   ],
   "source": [
    "# For Money Change problem, the recursive algorithm solves the problem more accuretly than the greedy algorithm.\n",
    "# But in terms of running time, it is useless.\n",
    "\n",
    "def RecursiveMoneyChange(money, coins):\n",
    "    if money == 0:\n",
    "        return 0\n",
    "    minimum = float('inf')\n",
    "    for i in range(len(coins)):\n",
    "        if money >= coins[i]:\n",
    "            num_coins = RecursiveMoneyChange(money-coins[i], coins)\n",
    "            if num_coins + 1 < minimum:\n",
    "                minimum = num_coins + 1\n",
    "    return minimum\n",
    "\n",
    "if __name__ == '__main__':\n",
    "    money = int(input())\n",
    "    coins = list(map(int, input().split()))\n",
    "    print(RecursiveMoneyChange(money, coins))"
   ]
  },
  {
   "cell_type": "markdown",
   "metadata": {},
   "source": [
    "### Money Change Again (Dynamic Programming)\n",
    "\n",
    "Compute the minimum number of coins needed to change \n",
    "the given value into coins with denominations 1, 3, and 4.\n"
   ]
  },
  {
   "cell_type": "code",
   "execution_count": 54,
   "metadata": {},
   "outputs": [
    {
     "name": "stdout",
     "output_type": "stream",
     "text": [
      "30\n",
      "8\n"
     ]
    }
   ],
   "source": [
    "def change_naive(money):\n",
    "    min_coins = float(\"inf\")\n",
    "    for num1 in range(money + 1):\n",
    "        for num3 in range(money // 3 + 1):\n",
    "            for num4 in range(money // 4 + 1):\n",
    "                if 1 * num1 + 3 * num3 + 4 * num4 == money:\n",
    "                    min_coins = min(min_coins, num1 + num3 + num4)\n",
    "    return min_coins\n",
    "\n",
    "def change(money):\n",
    "    coins = [1, 3, 4]\n",
    "    MinimumCoins = [0] * (money + 1)\n",
    "    for i in range(1, money + 1):\n",
    "        MinimumCoins[i] = float('inf')\n",
    "        for j in range(0, len(coins)):\n",
    "            if i >= coins[j]:\n",
    "                min_value = MinimumCoins[i-coins[j]] + 1\n",
    "                if min_value < MinimumCoins[i]:\n",
    "                    MinimumCoins[i] = min_value\n",
    "    return MinimumCoins[money]\n",
    "\n",
    "if __name__ == '__main__':\n",
    "    amount = int(input())\n",
    "    print(change(amount))"
   ]
  },
  {
   "cell_type": "markdown",
   "metadata": {},
   "source": [
    "Below is the more generalized form for different type of coins."
   ]
  },
  {
   "cell_type": "code",
   "execution_count": 1,
   "metadata": {},
   "outputs": [],
   "source": [
    "def MoneyChangeDynamic(money, coins):\n",
    "    MinimumCoins = [0] * (money + 1)\n",
    "    for i in range(1, money + 1):\n",
    "        MinimumCoins[i] = float('inf')\n",
    "        for j in range(0, len(coins)):\n",
    "            if i >= coins[j]:\n",
    "                min_value = MinimumCoins[i-coins[j]] + 1\n",
    "                if min_value < MinimumCoins[i]:\n",
    "                    MinimumCoins[i] = min_value\n",
    "    print(MinimumCoins)\n",
    "    return MinimumCoins[money]"
   ]
  },
  {
   "cell_type": "code",
   "execution_count": 2,
   "metadata": {},
   "outputs": [
    {
     "name": "stdout",
     "output_type": "stream",
     "text": [
      "[0, 1, 2, 1, 2, 3, 1, 2, 3, 2, 3, 4, 1, 2, 3, 1, 2, 3, 2, 3, 4, 2, 3, 4, 2]\n"
     ]
    },
    {
     "data": {
      "text/plain": [
       "2"
      ]
     },
     "execution_count": 2,
     "metadata": {},
     "output_type": "execute_result"
    }
   ],
   "source": [
    "MoneyChangeDynamic(24, [1, 3, 6, 12, 15])"
   ]
  },
  {
   "cell_type": "markdown",
   "metadata": {},
   "source": [
    "    Stress Test for Money Change Algorithm."
   ]
  },
  {
   "cell_type": "code",
   "execution_count": 55,
   "metadata": {},
   "outputs": [],
   "source": [
    "import string\n",
    "import random\n",
    "\n",
    "def StressTest(N):\n",
    "    assert 0 <= N <= 200\n",
    "    while True:\n",
    "        A = random.randint(0, N)\n",
    "        result1 = change_naive(A)\n",
    "        result2 = change(A)\n",
    "        if result1 == result2:\n",
    "            print('OK', 'result1, result2 = ', result1)\n",
    "        else:\n",
    "            print('Answer is wrong:', 'result1 = ', result1, 'result2 = ', result2)\n",
    "            break"
   ]
  },
  {
   "cell_type": "markdown",
   "metadata": {},
   "source": [
    "### Edit Distance\n",
    "\n",
    "Given two strings of length at most 100,\n",
    "compute the minimum number of single symbol \n",
    "insertions, deletions, and substitutions to \n",
    "transform one string into the other one.\n",
    "\n",
    "Edit distance has many applications \n",
    "in computational biology, \n",
    "natural language processing, \n",
    "spell checking, etc. \n",
    "For example, biologists often analyze edit \n",
    "distances when they  search for \n",
    "disease-causing mutations.\n"
   ]
  },
  {
   "cell_type": "code",
   "execution_count": 25,
   "metadata": {},
   "outputs": [],
   "source": [
    "def OptimalAlignment(A, B, EditMatrix, i, j):\n",
    "    if i == 0 and j == 0:\n",
    "        return\n",
    "    if i > 0 and EditMatrix[i][j] == EditMatrix[i-1][j] + 1:\n",
    "        OptimalAlignment(A, B, EditMatrix, i-1, j)\n",
    "        print(f'Letter {i} from {A}: {A[i-1]}, -')\n",
    "    elif j > 0 and EditMatrix[i][j] == EditMatrix[i][j-1] + 1:\n",
    "        OptimalAlignment(A, B, EditMatrix, i, j-1)\n",
    "        print(f'Letter {j} from {B}: -, {B[j-1]}')\n",
    "    else:\n",
    "        if A[i-1] != B[j-1]:\n",
    "            OptimalAlignment(A, B, EditMatrix, i-1, j-1)\n",
    "            print(f'Letter {i} from {A} and Letter {j} from {B}: {A[i-1]}, {B[j-1]}')\n",
    "        else:\n",
    "            OptimalAlignment(A, B, EditMatrix, i-1, j-1)\n",
    "\n",
    "def EditDistance(A, B):\n",
    "    assert type(A) == str and type(B) == str\n",
    "    assert len(A) <= 100 and len(B) <= 100\n",
    "    A = A.upper()\n",
    "    B = B.upper()\n",
    "    m = len(A)\n",
    "    n = len(B)\n",
    "    EditMatrix = [[0] * (n+1) for i in range(m+1)]\n",
    "    for i in range(1, m+1):\n",
    "        EditMatrix[i][0] = EditMatrix[i-1][0] + 1\n",
    "    for i in range(1, n+1):\n",
    "        EditMatrix[0][i] = EditMatrix[0][i-1] + 1\n",
    "    for i in range(1, m+1):\n",
    "        for j in range(1, n+1):\n",
    "            insertion = EditMatrix[i][j-1] + 1\n",
    "            deletion = EditMatrix[i-1][j] + 1\n",
    "            mismatch = EditMatrix[i-1][j-1] + 1\n",
    "            match = EditMatrix[i-1][j-1]\n",
    "            if A[i-1] != B[j-1]:\n",
    "                EditMatrix[i][j] = min(insertion, deletion, mismatch)\n",
    "            else:\n",
    "                EditMatrix[i][j] = min(insertion, deletion, match)\n",
    "    fix = [[\"*\"] + [\"-\"] + [B[x] for x in range(n)]] + EditMatrix\n",
    "    fix = [fix[0]] + [[\"-\"] + EditMatrix[0]] + [[A[y]] + EditMatrix[y+1] for y in range(m)]\n",
    "    print(\"Table of strings:\\n\")\n",
    "    for k in range(m+2):\n",
    "        print(*fix[k])\n",
    "    if len(A) == 0:\n",
    "        return len(B)\n",
    "    if len(B) == 0:\n",
    "        return len(A)\n",
    "    print(\"\\nParts to be edited:\\n\")\n",
    "    OptimalAlignment(A, B, EditMatrix, i, j)\n",
    "    return EditMatrix[i][j]"
   ]
  },
  {
   "cell_type": "code",
   "execution_count": 26,
   "metadata": {},
   "outputs": [
    {
     "name": "stdout",
     "output_type": "stream",
     "text": [
      "Table of strings:\n",
      "\n",
      "* - K A M A N D A R\n",
      "- 0 1 2 3 4 5 6 7 8\n",
      "M 1 1 2 2 3 4 5 6 7\n",
      "A 2 2 1 2 2 3 4 5 6\n",
      "N 3 3 2 2 3 2 3 4 5\n",
      "I 4 4 3 3 3 3 3 4 5\n",
      "D 5 5 4 4 4 4 3 4 5\n",
      "A 6 6 5 5 4 5 4 3 4\n",
      "R 7 7 6 6 5 5 5 4 3\n",
      "\n",
      "Parts to be edited:\n",
      "\n",
      "Letter 1 from KAMANDAR: -, K\n",
      "Letter 2 from KAMANDAR: -, A\n",
      "Letter 4 from MANIDAR: I, -\n"
     ]
    },
    {
     "data": {
      "text/plain": [
       "3"
      ]
     },
     "execution_count": 26,
     "metadata": {},
     "output_type": "execute_result"
    }
   ],
   "source": [
    "EditDistance('Manidar', 'Kamandar')"
   ]
  },
  {
   "cell_type": "code",
   "execution_count": 12,
   "metadata": {},
   "outputs": [
    {
     "data": {
      "text/plain": [
       "88"
      ]
     },
     "execution_count": 12,
     "metadata": {},
     "output_type": "execute_result"
    }
   ],
   "source": [
    "import string\n",
    "import random\n",
    "\n",
    "chars = string.ascii_lowercase\n",
    "A = ''.join(random.choice(chars) for _ in range(100))\n",
    "B = ''.join(random.choice(chars) for _ in range(100))\n",
    "\n",
    "EditDistance(A, B)"
   ]
  },
  {
   "cell_type": "markdown",
   "metadata": {},
   "source": [
    "    Stress Test for Edit Distance Algorithm.\n",
    "    \n",
    "    Note: Before applying StressTest, delete printing parts in Edit Distance Algorithm above.\n",
    "    Note: \"reference\" function below is the working algorithm to test my solution."
   ]
  },
  {
   "cell_type": "code",
   "execution_count": 52,
   "metadata": {},
   "outputs": [],
   "source": [
    "def reference(s, t):\n",
    "    sn = len(s)\n",
    "    tn = len(t)\n",
    "\n",
    "    f = [[10**9] * (tn + 2) for _ in range(sn + 2)]\n",
    "    f[0][0] = 0\n",
    "\n",
    "    def relax(p, q, x):\n",
    "        f[p][q] = min(f[p][q], x)\n",
    "\n",
    "    for i in range(sn + 1):\n",
    "        for j in range(tn + 1):\n",
    "            if i < sn and j < tn:\n",
    "                relax(i + 1, j + 1, f[i][j] + (1 if s[i] != t[j] else 0))\n",
    "            relax(i + 1, j, f[i][j] + 1)\n",
    "            relax(i, j + 1, f[i][j] + 1)\n",
    "    return f[sn][tn]\n",
    "\n",
    "import string\n",
    "import random\n",
    "\n",
    "def StressTest(N, M):\n",
    "    assert 0 <= N <= 100 and 0 <= M <= 100\n",
    "    chars = string.ascii_lowercase + string.digits\n",
    "    while True:\n",
    "        n = random.randint(0, N)\n",
    "        m = random.randint(0, M)\n",
    "        A = ''.join(random.choice(chars) for _ in range(n))\n",
    "        B = ''.join(random.choice(chars) for _ in range(m))\n",
    "        print(A)\n",
    "        print(B)\n",
    "        result1 = reference(A, B)\n",
    "        result2 = EditDistance(A, B)\n",
    "        if result1 == result2:\n",
    "            print('OK', 'result1, result2 = ', result1)\n",
    "        else:\n",
    "            print('Answer is wrong:', 'result1 = ', result1, 'result2 = ', result2)\n",
    "            break"
   ]
  },
  {
   "cell_type": "markdown",
   "metadata": {},
   "source": [
    "### Primitive Calculator\n",
    "Find the minimum number of operations \n",
    "needed to get a positive integer $n$ from 1 \n",
    "using only three operations: \n",
    "add 1, multiply by 2, and multiply by 3.\n",
    "\n",
    "**Input.** An integer $1 \\le n \\le 10^6$.\n",
    "\n",
    "**Output.** In the first line, output \n",
    "the minimum number $k$ of operations needed to \n",
    "get $n$ from 1. In the second line, \n",
    "output a sequence of intermediate numbers. \n",
    "That is, the second line should contain \n",
    "positive integers $a_0,a_1,\\dotsc,a_k$ \n",
    "such that $a_0 = 1$, $a_k = n$, and \n",
    "for all $1 \\le i \\le k$, $a_i$ is equal to \n",
    "either $a_{i−1} + 1$, $2a_{i−1}$, or $3a_{i−1}$. \n",
    "If there are many such sequences, output any one of them.\n"
   ]
  },
  {
   "cell_type": "code",
   "execution_count": 38,
   "metadata": {},
   "outputs": [
    {
     "name": "stdout",
     "output_type": "stream",
     "text": [
      "1000000\n",
      "19\n",
      "1 3 9 27 54 108 216 217 651 1953 3906 7812 15624 15625 31250 62500 125000 250000 500000 1000000\n"
     ]
    }
   ],
   "source": [
    "def compute_operations(n):\n",
    "    assert 1 <= n <= 10 ** 6\n",
    "    counts = [0] * (n + 1)\n",
    "    if n == 1:\n",
    "        return 0\n",
    "    for i in range(2, n + 1):\n",
    "        result1 = counts[i - 1] + 1\n",
    "        if i % 2 == 0:\n",
    "            result2 = counts[i // 2] + 1\n",
    "        else:\n",
    "            result2 = float('inf')\n",
    "        if i % 3 == 0:\n",
    "            result3 = counts[i // 3] + 1\n",
    "        else:\n",
    "            result3 = float('inf')\n",
    "        counts[i] = min(result1, result2, result3)\n",
    "        \n",
    "    output = [n]\n",
    "    k = n\n",
    "    while True:\n",
    "        if counts[k] == counts[k - 1] + 1:\n",
    "            k = k - 1\n",
    "            output.insert(0, k)\n",
    "        elif k % 2 == 0 and counts[k] == counts[k // 2] + 1:\n",
    "            k = k // 2\n",
    "            output.insert(0, k)\n",
    "        elif k % 3 == 0 and counts[k] == counts[k // 3] + 1:\n",
    "            k = k // 3\n",
    "            output.insert(0, k) \n",
    "        if k == 1:\n",
    "            break\n",
    "    return output\n",
    "\n",
    "if __name__ == '__main__':\n",
    "    input_n = int(input())\n",
    "    output_sequence = compute_operations(input_n)\n",
    "    print(len(output_sequence) - 1)\n",
    "    print(*output_sequence)"
   ]
  },
  {
   "cell_type": "markdown",
   "metadata": {},
   "source": [
    "### Longest Common Subsequence of Two Sequences\n",
    "\n",
    "Compute the longest common subsequence of \n",
    "two integer sequences of length at most 100.\n",
    "\n",
    "Given two sequences \n",
    "$A=(a_1, a_2, \\dotsc, a_n)$ and \n",
    "$B=(b_1, b_2, \\dotsc, b_m)$, find the \n",
    "length of their longest common subsequence, \n",
    "i.e., the largest non-negative integer $p$ such that \n",
    "there exist indices\n",
    "$1 \\leq i_1 < i_2 <  \\dotsb <  i_p \\leq n$ and\n",
    "$1 \\leq j_1 < j_2 <  \\dotsb <  j_p \\leq m$\n",
    "such that \n",
    "$a_{i_1} = b_{j_1}, \\dotsc, a_{i_p} = b_{j_p}$. \n",
    "The problem has applications in data comparison \n",
    "(e.g., diff utility, merge operation \n",
    "in various version control systems), \n",
    "bioinformatics (finding similarities \n",
    "between genes in various species), and others.\n"
   ]
  },
  {
   "cell_type": "code",
   "execution_count": 27,
   "metadata": {},
   "outputs": [],
   "source": [
    "def matching_matrix(first_sequence, second_sequence):\n",
    "    n = len(first_sequence)\n",
    "    m = len(second_sequence)\n",
    "    A = [[0] * (m+1) for _ in range(n+1)] \n",
    "    for i in range(1, n+1):\n",
    "        A[i][0] = 0\n",
    "    for i in range(1, m+1):\n",
    "        A[0][i] = 0\n",
    "    for i in range(1, n+1):\n",
    "        for j in range(1, m+1):\n",
    "            left = A[i][j-1]\n",
    "            top = A[i-1][j]\n",
    "            diagonal = A[i-1][j-1]\n",
    "            match = A[i-1][j-1] + 1\n",
    "            if first_sequence[i-1] == second_sequence[j-1] and left == top == diagonal:\n",
    "                A[i][j] = max(left, top, match)\n",
    "            else:\n",
    "                A[i][j] = max(left, top, diagonal)\n",
    "    return A\n",
    "\n",
    "def optimize(result, first_sequence, second_sequence, A, i, j):\n",
    "    if i == 0 and j == 0:\n",
    "        return\n",
    "    if i > 0 and j > 0 and A[i][j] == A[i-1][j] == A[i][j-1] == A[i-1][j-1]:\n",
    "        optimize(result, first_sequence, second_sequence, A, i-1, j-1)\n",
    "    elif i > 0 and A[i][j] == A[i-1][j]:\n",
    "        optimize(result, first_sequence, second_sequence, A, i-1, j)\n",
    "    elif j > 0 and A[i][j] == A[i][j-1]:\n",
    "        optimize(result, first_sequence, second_sequence, A, i, j-1)\n",
    "    else:\n",
    "        optimize(result, first_sequence, second_sequence, A, i-1, j-1)\n",
    "        result.append(first_sequence[i-1])\n",
    "\n",
    "def lcs2(first_sequence, second_sequence):\n",
    "    assert len(first_sequence) <= 100 and len(second_sequence) <= 100 \n",
    "    matrix = matching_matrix(first_sequence, second_sequence)\n",
    "    i = len(matrix) - 1\n",
    "    j = len(matrix[0]) - 1\n",
    "    result = []\n",
    "    optimize(result, first_sequence, second_sequence, matrix, i, j)\n",
    "    print(result)\n",
    "    return len(result)"
   ]
  },
  {
   "cell_type": "code",
   "execution_count": 28,
   "metadata": {},
   "outputs": [
    {
     "name": "stdout",
     "output_type": "stream",
     "text": [
      "[5, 3, 9, 4, 1]\n"
     ]
    },
    {
     "data": {
      "text/plain": [
       "5"
      ]
     },
     "execution_count": 28,
     "metadata": {},
     "output_type": "execute_result"
    }
   ],
   "source": [
    "lcs2([5, 1, 3, 5, 9, 0, 4, 1, 2, 4], [3, 5, 6, 3, 3, 0, 3, 9, 4, 1])"
   ]
  },
  {
   "cell_type": "code",
   "execution_count": 29,
   "metadata": {},
   "outputs": [
    {
     "name": "stdout",
     "output_type": "stream",
     "text": [
      "[3, 5, 0, 4, 1]\n"
     ]
    },
    {
     "data": {
      "text/plain": [
       "5"
      ]
     },
     "execution_count": 29,
     "metadata": {},
     "output_type": "execute_result"
    }
   ],
   "source": [
    "lcs2([3, 5, 6, 3, 3, 0, 3, 9, 4, 1], [5, 1, 3, 5, 9, 0, 4, 1, 2, 4])"
   ]
  },
  {
   "cell_type": "code",
   "execution_count": 20,
   "metadata": {},
   "outputs": [
    {
     "name": "stdout",
     "output_type": "stream",
     "text": [
      "A: [5, 7, 5, 8, 20, 17, 19, 12, 7, 10, 2, 15, 1, 19, 18, 6, 0, 5, 4, 16, 6, 7, 14, 8, 13, 16, 2, 9, 15, 1, 3, 10, 1, 18, 6, 18, 8, 2, 3, 12, 15, 6, 17, 3, 15, 17, 14, 19, 16, 3, 13, 4, 10, 14, 15, 11, 19, 17, 17, 6, 4, 20, 1, 9, 9, 10, 20, 4, 1, 12, 10, 1, 8, 0, 16, 19, 0, 5, 3, 2, 3, 12, 6, 13, 1, 12, 17, 6, 15, 8, 11, 18, 6, 16, 17, 12, 9, 16, 7, 17] \n",
      "\n",
      "B: [18, 18, 8, 15, 1, 5, 8, 9, 9, 0, 5, 1, 7, 19, 9, 15, 13, 7, 17, 17, 3, 4, 18, 10, 16, 12, 8, 1, 1, 3, 20, 20, 3, 9, 13, 20, 10, 19, 1, 13, 16, 16, 14, 3, 16, 18, 15, 9, 14, 11, 1, 15, 4, 6, 18, 4, 13, 5, 1, 15, 11, 14, 10, 18, 1, 8, 6, 11, 16, 6, 3, 10, 18, 18, 17, 10, 10, 18, 17, 14, 0, 4, 19, 18, 19, 2, 18, 18, 3, 10, 13, 3, 5, 8, 20, 17, 14, 14, 17, 17] \n",
      "\n",
      "LCS: [8, 15, 1, 0, 5, 7, 9, 15, 3, 10, 1, 3, 3, 19, 16, 3, 14, 11, 6, 4, 1, 10, 1, 10, 0, 19, 2, 3, 13, 8, 17, 17]\n"
     ]
    },
    {
     "data": {
      "text/plain": [
       "32"
      ]
     },
     "execution_count": 20,
     "metadata": {},
     "output_type": "execute_result"
    }
   ],
   "source": [
    "import random\n",
    "\n",
    "A = [random.randint(0,20) for _ in range(100)]\n",
    "B = [random.randint(0,20) for _ in range(100)]\n",
    "print('A:', A, '\\n')\n",
    "print('B:', B, '\\n')\n",
    "lcs2(A, B)"
   ]
  },
  {
   "cell_type": "markdown",
   "metadata": {},
   "source": [
    "    Stress Test for LCS of Two Sequences.\n",
    "    \n",
    "    Note: Before applying StressTest, delete printing parts in LCS Algorithm above.\n",
    "    Note: \"reference\" function below is the working algorithm to test my solution."
   ]
  },
  {
   "cell_type": "code",
   "execution_count": 56,
   "metadata": {},
   "outputs": [],
   "source": [
    "def reference(a, b):\n",
    "    n, m = len(a), len(b)\n",
    "    t = [[0] * (m + 1) for _ in range(n + 1)]\n",
    "\n",
    "    for i in range(1, n + 1):\n",
    "        for j in range(1, m + 1):\n",
    "            if a[i - 1] == b[j - 1]:\n",
    "                t[i][j] = max(t[i - 1][j - 1] + 1, t[i][j - 1], t[i - 1][j])\n",
    "            else:\n",
    "                t[i][j] = max(t[i - 1][j], t[i][j - 1])\n",
    "\n",
    "    return t[n][m]\n",
    "\n",
    "import string\n",
    "import random\n",
    "\n",
    "def StressTest(N, M, L):\n",
    "    assert 0 <= N <= 100 and 0 <= M <= 100 and 0 <= L <= 100\n",
    "    chars = string.ascii_lowercase + string.digits\n",
    "    while True:\n",
    "        n = random.randint(0, N)\n",
    "        m = random.randint(0, M)\n",
    "        A = [random.randint(0, L) for _ in range(n)]\n",
    "        B = [random.randint(0, L) for _ in range(m)]\n",
    "        print(A)\n",
    "        print(B)\n",
    "        result1 = reference(A, B)\n",
    "        result2 = lcs2(A, B)\n",
    "        if result1 == result2:\n",
    "            print('OK', 'result1, result2 = ', result1)\n",
    "        else:\n",
    "            print('Answer is wrong:', 'result1 = ', result1, 'result2 = ', result2)\n",
    "            break"
   ]
  },
  {
   "cell_type": "markdown",
   "metadata": {},
   "source": [
    "### Longest Common Subsequence of Three Sequences\n",
    "\n",
    "Compute the longest common subsequence of \n",
    "three integer sequences of length at most 100.\n"
   ]
  },
  {
   "cell_type": "code",
   "execution_count": 50,
   "metadata": {},
   "outputs": [],
   "source": [
    "def matching_matrix(first_sequence, second_sequence):\n",
    "    n = len(first_sequence)\n",
    "    m = len(second_sequence)\n",
    "    A = [[0] * (m+1) for _ in range(n+1)] \n",
    "    for i in range(1, n+1):\n",
    "        A[i][0] = 0\n",
    "    for i in range(1, m+1):\n",
    "        A[0][i] = 0\n",
    "    for i in range(1, n+1):\n",
    "        for j in range(1, m+1):\n",
    "            left = A[i][j-1]\n",
    "            top = A[i-1][j]\n",
    "            diagonal = A[i-1][j-1]\n",
    "            match = A[i-1][j-1] + 1\n",
    "            if first_sequence[i-1] == second_sequence[j-1] and left == top == diagonal:\n",
    "                A[i][j] = max(left, top, match)\n",
    "            else:\n",
    "                A[i][j] = max(left, top, diagonal)\n",
    "    return A\n",
    "\n",
    "def optimize(result, first_sequence, second_sequence, A, i, j):\n",
    "    if i == 0 and j == 0:\n",
    "        return\n",
    "    if i > 0 and j > 0 and A[i][j] == A[i-1][j] == A[i][j-1] == A[i-1][j-1]:\n",
    "        optimize(result, first_sequence, second_sequence, A, i-1, j-1)\n",
    "    elif i > 0 and A[i][j] == A[i-1][j]:\n",
    "        optimize(result, first_sequence, second_sequence, A, i-1, j)\n",
    "    elif j > 0 and A[i][j] == A[i][j-1]:\n",
    "        optimize(result, first_sequence, second_sequence, A, i, j-1)\n",
    "    else:\n",
    "        optimize(result, first_sequence, second_sequence, A, i-1, j-1)\n",
    "        result.append(first_sequence[i-1])\n",
    "\n",
    "def lcs2(first_sequence, second_sequence):\n",
    "    assert len(first_sequence) <= 100 and len(second_sequence) <= 100 \n",
    "    matrix = matching_matrix(first_sequence, second_sequence)\n",
    "    i = len(matrix) - 1\n",
    "    j = len(matrix[0]) - 1\n",
    "    result = []\n",
    "    optimize(result, first_sequence, second_sequence, matrix, i, j)\n",
    "    return result\n",
    "\n",
    "def lcs3(first_sequence, second_sequence, third_sequence):\n",
    "    assert len(first_sequence) <= 100\n",
    "    assert len(second_sequence) <= 100\n",
    "    assert len(third_sequence) <= 100\n",
    "\n",
    "    mid_part = lcs2(first_sequence, second_sequence)\n",
    "    final = lcs2(mid_part, third_sequence)\n",
    "    print(final)\n",
    "    return len(final)"
   ]
  },
  {
   "cell_type": "code",
   "execution_count": 51,
   "metadata": {},
   "outputs": [
    {
     "name": "stdout",
     "output_type": "stream",
     "text": [
      "[3, 5, 0]\n"
     ]
    },
    {
     "data": {
      "text/plain": [
       "3"
      ]
     },
     "execution_count": 51,
     "metadata": {},
     "output_type": "execute_result"
    }
   ],
   "source": [
    "lcs3([3, 5, 6, 3, 3, 0, 3, 9, 4, 1], [5, 1, 3, 5, 9, 0, 4, 1, 2, 4], [7, 3, 2, 5, 1, 9, 4, 2, 0, 8])"
   ]
  },
  {
   "cell_type": "code",
   "execution_count": 49,
   "metadata": {},
   "outputs": [
    {
     "name": "stdout",
     "output_type": "stream",
     "text": [
      "A: [13, 19, 1, 16, 5, 9, 15, 12, 13, 3, 15, 14, 1, 13, 7, 19, 1, 7, 11, 14, 7, 10, 9, 19, 1, 7, 19, 17, 12, 15, 20, 5, 10, 12, 0, 18, 17, 16, 6, 16, 19, 4, 4, 10, 20, 0, 5, 12, 7, 12, 14, 18, 9, 7, 6, 16, 0, 6, 12, 14, 16, 17, 16, 10, 11, 11, 19, 17, 13, 20, 14, 19, 7, 8, 0, 5, 3, 7, 6, 4, 10, 16, 19, 20, 3, 0, 1, 13, 20, 1, 18, 3, 7, 2, 15, 14, 12, 12, 8, 5] \n",
      "\n",
      "B: [18, 1, 17, 11, 19, 0, 4, 15, 7, 20, 9, 11, 10, 9, 7, 15, 20, 20, 17, 4, 5, 8, 19, 11, 13, 14, 20, 15, 9, 3, 0, 3, 7, 20, 2, 11, 18, 10, 18, 11, 14, 9, 17, 18, 8, 19, 15, 13, 12, 7, 19, 10, 14, 14, 7, 11, 2, 9, 3, 10, 3, 7, 2, 13, 20, 0, 9, 12, 8, 7, 3, 1, 2, 6, 5, 12, 15, 0, 9, 19, 1, 5, 19, 6, 9, 6, 20, 16, 2, 7, 6, 17, 20, 13, 20, 20, 13, 12, 1, 1] \n",
      "\n",
      "C: [1, 6, 19, 17, 11, 8, 0, 9, 13, 1, 2, 12, 17, 8, 3, 9, 11, 0, 3, 15, 7, 8, 15, 6, 19, 5, 12, 9, 9, 19, 15, 14, 0, 8, 5, 16, 18, 18, 0, 19, 6, 5, 1, 2, 2, 8, 19, 19, 8, 1, 5, 8, 3, 13, 20, 10, 9, 17, 1, 12, 8, 19, 4, 10, 4, 6, 5, 20, 20, 7, 16, 11, 0, 11, 14, 3, 5, 15, 0, 10, 20, 13, 5, 6, 1, 1, 5, 13, 0, 6, 6, 4, 1, 14, 14, 6, 5, 5, 20, 14] \n",
      "\n",
      "LCS: [1, 11, 9, 7, 15, 20, 17, 4, 5, 7, 14, 3, 20, 0, 1, 20]\n"
     ]
    },
    {
     "data": {
      "text/plain": [
       "16"
      ]
     },
     "execution_count": 49,
     "metadata": {},
     "output_type": "execute_result"
    }
   ],
   "source": [
    "import random\n",
    "\n",
    "A = [random.randint(0,20) for _ in range(100)]\n",
    "B = [random.randint(0,20) for _ in range(100)]\n",
    "C = [random.randint(0,20) for _ in range(100)]\n",
    "print('A:', A, '\\n')\n",
    "print('B:', B, '\\n')\n",
    "print('C:', C, '\\n')\n",
    "lcs3(A, B, C)"
   ]
  },
  {
   "cell_type": "code",
   "execution_count": 57,
   "metadata": {},
   "outputs": [],
   "source": [
    "def reference(a, b, c):\n",
    "    d = [[[0 for _ in range(len(c) + 1)] for _ in range(len(b) + 1)] for _ in range(len(a) + 1)]\n",
    "    for i in range(len(a) + 1):\n",
    "        for j in range(len(b) + 1):\n",
    "            for k in range(len(c) + 1):\n",
    "                if i < len(a):\n",
    "                    d[i + 1][j][k] = max(d[i][j][k], d[i + 1][j][k])\n",
    "                if j < len(b):\n",
    "                    d[i][j + 1][k] = max(d[i][j][k], d[i][j + 1][k])\n",
    "                if k < len(c):\n",
    "                    d[i][j][k + 1] = max(d[i][j][k], d[i][j][k + 1])\n",
    "                if i < len(a) and j < len(b) and k < len(c) and a[i] == b[j] == c[k]:\n",
    "                    d[i + 1][j + 1][k + 1] = max(d[i + 1][j + 1][k + 1], d[i][j][k] + 1)\n",
    "    return d[len(a)][len(b)][len(c)]\n",
    "\n",
    "import string\n",
    "import random\n",
    "\n",
    "def StressTest(N, M, K, L):\n",
    "    assert 0 <= N <= 100 and 0 <= M <= 100 and 0 <= L <= 100\n",
    "    chars = string.ascii_lowercase + string.digits\n",
    "    while True:\n",
    "        n = random.randint(0, N)\n",
    "        m = random.randint(0, M)\n",
    "        k = random.randint(0, K)\n",
    "        A = [random.randint(0, L) for _ in range(n)]\n",
    "        B = [random.randint(0, L) for _ in range(m)]\n",
    "        C = [random.randint(0, L) for _ in range(k)]\n",
    "        print(A)\n",
    "        print(B)\n",
    "        print(C)\n",
    "        result1 = reference(A, B, C)\n",
    "        result2 = lcs3(A, B, C)\n",
    "        if result1 == result2:\n",
    "            print('OK', 'result1, result2 = ', result1)\n",
    "        else:\n",
    "            print('Answer is wrong:', 'result1 = ', result1, 'result2 = ', result2)\n",
    "            break"
   ]
  },
  {
   "cell_type": "code",
   "execution_count": 58,
   "metadata": {},
   "outputs": [
    {
     "name": "stdout",
     "output_type": "stream",
     "text": [
      "[16, 13, 17, 12, 21, 11, 30, 14, 4, 9, 16, 8, 11, 20, 8, 16, 22, 26, 15, 4, 23, 18, 22]\n",
      "[24, 4, 28, 27, 19, 23, 8, 30, 5, 28, 1, 16, 30]\n",
      "[17, 7, 4, 12, 18, 29, 4, 24, 28, 21, 13, 8, 24, 12, 9, 21, 15, 0, 4, 30, 30, 7, 14, 6, 27, 24, 4, 22, 1]\n",
      "[4, 8]\n",
      "OK result1, result2 =  2\n",
      "[26, 19, 27, 29, 10, 7, 3, 27, 17, 0, 28, 15, 12]\n",
      "[25, 20, 11, 8, 27, 29]\n",
      "[21, 25, 5, 3, 4, 4, 0]\n",
      "[]\n",
      "OK result1, result2 =  0\n",
      "[10, 13, 28, 20, 9, 4, 12, 25, 15, 10, 7, 26, 28, 6, 27, 1, 27, 4, 6, 22, 30, 16, 30, 12, 18, 20, 28, 18, 22, 4]\n",
      "[18, 0, 0, 28, 3, 22, 9, 0, 30, 27, 1]\n",
      "[16, 10, 14, 19, 18, 5, 28]\n",
      "[28]\n",
      "Answer is wrong: result1 =  2 result2 =  1\n"
     ]
    }
   ],
   "source": [
    "StressTest(30, 30, 30, 30)"
   ]
  },
  {
   "cell_type": "code",
   "execution_count": null,
   "metadata": {},
   "outputs": [],
   "source": []
  }
 ],
 "metadata": {
  "kernelspec": {
   "display_name": "Python 3",
   "language": "python",
   "name": "python3"
  },
  "language_info": {
   "codemirror_mode": {
    "name": "ipython",
    "version": 3
   },
   "file_extension": ".py",
   "mimetype": "text/x-python",
   "name": "python",
   "nbconvert_exporter": "python",
   "pygments_lexer": "ipython3",
   "version": "3.7.3"
  }
 },
 "nbformat": 4,
 "nbformat_minor": 2
}
