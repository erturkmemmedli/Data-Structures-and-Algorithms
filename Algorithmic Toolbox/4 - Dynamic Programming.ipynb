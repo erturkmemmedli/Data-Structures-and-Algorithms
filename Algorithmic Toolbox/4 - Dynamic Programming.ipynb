{
 "cells": [
  {
   "cell_type": "markdown",
   "metadata": {},
   "source": [
    "## Dynamic Programming"
   ]
  },
  {
   "cell_type": "markdown",
   "metadata": {},
   "source": [
    "### Two Rocks Game (Dynamic Programming ALgorithm)"
   ]
  },
  {
   "cell_type": "markdown",
   "metadata": {},
   "source": [
    "    Play the “Two Rocks Game” in n x m size board with two piles of rocks. In each turn, one player may take either one rock\n",
    "    (from either pile) or two rocks (one from each pile). Once the rocks are taken, they are removed from play. The player\n",
    "    that takes the last rock wins the game. You are the Player 1 and make the first move.\n",
    "    \n",
    "    Denote \"lose\" with L and \"win\" with W."
   ]
  },
  {
   "cell_type": "code",
   "execution_count": 1,
   "metadata": {},
   "outputs": [],
   "source": [
    "def TwoRocks(n, m):\n",
    "    R = [['-'] * (m+1) for i in range(n+1)]\n",
    "    R[0][0] = 'L'\n",
    "    for u in range(1, n+1):\n",
    "        if R[u-1][0] == 'W':\n",
    "            R[u][0] = 'L'\n",
    "        else:\n",
    "            R[u][0] = 'W'\n",
    "    for v in range(1, m+1):\n",
    "        if R[0][v-1] == 'W':\n",
    "            R[0][v] = 'L'\n",
    "        else:\n",
    "            R[0][v] = 'W'\n",
    "    for i in range(1, n+1):\n",
    "        for j in range(1, m+1):\n",
    "            if R[i-1][j-1] == 'W' and R[0][j-1] == 'W' and R[i-1][0] == 'W':\n",
    "                R[i][j] = 'L'\n",
    "            else:\n",
    "                R[i][j] = 'W'\n",
    "    fix = [[\"*\"] + [i for i in range(0, m+1)]] + R\n",
    "    fix = [fix[0]] + [[i] + R[i] for i in range(0, n+1)]\n",
    "    for k in range(n+2):\n",
    "        print(*fix[k])\n",
    "    if R[i][j] == 'W':\n",
    "        return \"Win\"\n",
    "    else:\n",
    "        return \"Lose\""
   ]
  },
  {
   "cell_type": "code",
   "execution_count": 2,
   "metadata": {},
   "outputs": [
    {
     "name": "stdout",
     "output_type": "stream",
     "text": [
      "* 0 1 2 3 4 5 6\n",
      "0 L W L W L W L\n",
      "1 W W W W W W W\n",
      "2 L W L W L W L\n",
      "3 W W W W W W W\n",
      "4 L W L W L W L\n",
      "5 W W W W W W W\n",
      "6 L W L W L W L\n"
     ]
    },
    {
     "data": {
      "text/plain": [
       "'Lose'"
      ]
     },
     "execution_count": 2,
     "metadata": {},
     "output_type": "execute_result"
    }
   ],
   "source": [
    "TwoRocks(6, 6)"
   ]
  },
  {
   "cell_type": "code",
   "execution_count": 3,
   "metadata": {},
   "outputs": [
    {
     "name": "stdout",
     "output_type": "stream",
     "text": [
      "* 0 1 2 3 4 5 6 7 8 9\n",
      "0 L W L W L W L W L W\n",
      "1 W W W W W W W W W W\n",
      "2 L W L W L W L W L W\n",
      "3 W W W W W W W W W W\n",
      "4 L W L W L W L W L W\n",
      "5 W W W W W W W W W W\n",
      "6 L W L W L W L W L W\n",
      "7 W W W W W W W W W W\n",
      "8 L W L W L W L W L W\n",
      "9 W W W W W W W W W W\n"
     ]
    },
    {
     "data": {
      "text/plain": [
       "'Win'"
      ]
     },
     "execution_count": 3,
     "metadata": {},
     "output_type": "execute_result"
    }
   ],
   "source": [
    "TwoRocks(9, 9)"
   ]
  },
  {
   "cell_type": "code",
   "execution_count": 9,
   "metadata": {},
   "outputs": [],
   "source": [
    "def FastTwoRocks(n, m):\n",
    "    if n % 2 == 0 and m % 2 == 0:\n",
    "        return \"Lose\"\n",
    "    else:\n",
    "        return \"Win\""
   ]
  },
  {
   "cell_type": "code",
   "execution_count": 10,
   "metadata": {},
   "outputs": [
    {
     "data": {
      "text/plain": [
       "'Lose'"
      ]
     },
     "execution_count": 10,
     "metadata": {},
     "output_type": "execute_result"
    }
   ],
   "source": [
    "FastTwoRocks(20, 22)"
   ]
  },
  {
   "cell_type": "code",
   "execution_count": 11,
   "metadata": {},
   "outputs": [
    {
     "data": {
      "text/plain": [
       "'Win'"
      ]
     },
     "execution_count": 11,
     "metadata": {},
     "output_type": "execute_result"
    }
   ],
   "source": [
    "FastTwoRocks(25, 20)"
   ]
  },
  {
   "cell_type": "markdown",
   "metadata": {},
   "source": [
    "### 3-Peg Hanoi Towers Game (Recursive Algorithm)"
   ]
  },
  {
   "cell_type": "markdown",
   "metadata": {},
   "source": [
    "    The Towers of Hanoi puzzle consists of three pegs, which we label from left to right as 1, 2, and 3, and a number of\n",
    "    disks of decreasing radius, each with a hole in the center. The disks are initially stacked on the left peg (peg 1)\n",
    "    so that smaller disks are on top of larger ones. The game is played by moving one disk at a time between pegs. You\n",
    "    are only allowed to place smaller disks on top of larger ones, and any disk may go onto an empty peg. The puzzle is\n",
    "    solved when all of the disks have been moved from peg 1 to peg 3 (from_peg = 1 and to_peg = 3).\n",
    "    \n",
    "    Input: An integer n.\n",
    "    Output: A sequence of moves that solve the n-disk Towers of Hanoi puzzle.\n",
    "   "
   ]
  },
  {
   "cell_type": "code",
   "execution_count": 12,
   "metadata": {},
   "outputs": [],
   "source": [
    "def HanoiTowers(n, from_peg, to_peg):\n",
    "    if n == 1:\n",
    "        print(f'Move disk peg {from_peg} to peg {to_peg}')\n",
    "        return\n",
    "    temp_peg = 6 - from_peg - to_peg\n",
    "    HanoiTowers(n-1, from_peg, temp_peg)\n",
    "    print(f'Move disk peg {from_peg} to peg {to_peg}')\n",
    "    HanoiTowers(n-1, temp_peg, to_peg)\n",
    "    return"
   ]
  },
  {
   "cell_type": "code",
   "execution_count": 13,
   "metadata": {},
   "outputs": [
    {
     "name": "stdout",
     "output_type": "stream",
     "text": [
      "Move disk peg 1 to peg 2\n",
      "Move disk peg 1 to peg 3\n",
      "Move disk peg 2 to peg 3\n",
      "Move disk peg 1 to peg 2\n",
      "Move disk peg 3 to peg 1\n",
      "Move disk peg 3 to peg 2\n",
      "Move disk peg 1 to peg 2\n",
      "Move disk peg 1 to peg 3\n",
      "Move disk peg 2 to peg 3\n",
      "Move disk peg 2 to peg 1\n",
      "Move disk peg 3 to peg 1\n",
      "Move disk peg 2 to peg 3\n",
      "Move disk peg 1 to peg 2\n",
      "Move disk peg 1 to peg 3\n",
      "Move disk peg 2 to peg 3\n"
     ]
    }
   ],
   "source": [
    "HanoiTowers(4, 1, 3)"
   ]
  },
  {
   "cell_type": "markdown",
   "metadata": {},
   "source": [
    "### Fibonacci Again (Less Space Complexity)"
   ]
  },
  {
   "cell_type": "code",
   "execution_count": 14,
   "metadata": {},
   "outputs": [],
   "source": [
    "def fibo(n):\n",
    "    assert n >= 0\n",
    "    if n <= 1:\n",
    "        return n\n",
    "    previous = 0\n",
    "    current = 1\n",
    "    for _ in range(2, n+1):\n",
    "        new = previous + current\n",
    "        previous, current = current, new\n",
    "    return current"
   ]
  },
  {
   "cell_type": "code",
   "execution_count": 15,
   "metadata": {},
   "outputs": [
    {
     "data": {
      "text/plain": [
       "222232244629420445529739893461909967206666939096499764990979600"
      ]
     },
     "execution_count": 15,
     "metadata": {},
     "output_type": "execute_result"
    }
   ],
   "source": [
    "fibo(300)"
   ]
  },
  {
   "cell_type": "markdown",
   "metadata": {},
   "source": [
    "### Money Change Again (Recursive Algorithm)"
   ]
  },
  {
   "cell_type": "code",
   "execution_count": 1,
   "metadata": {},
   "outputs": [
    {
     "name": "stdout",
     "output_type": "stream",
     "text": [
      "40\n",
      "1 5 10 20 25\n",
      "2\n"
     ]
    }
   ],
   "source": [
    "# For Money Change problem, the recursive algorithm solves the problem more accuretly than the greedy algorithm.\n",
    "# But in terms of running time, it is useless.\n",
    "\n",
    "def RecursiveMoneyChange(money, coins):\n",
    "    if money == 0:\n",
    "        return 0\n",
    "    minimum = float('inf')\n",
    "    for i in range(len(coins)):\n",
    "        if money >= coins[i]:\n",
    "            num_coins = RecursiveMoneyChange(money-coins[i], coins)\n",
    "            if num_coins + 1 < minimum:\n",
    "                minimum = num_coins + 1\n",
    "    return minimum\n",
    "\n",
    "if __name__ == '__main__':\n",
    "    money = int(input())\n",
    "    coins = list(map(int, input().split()))\n",
    "    print(RecursiveMoneyChange(money, coins))"
   ]
  },
  {
   "cell_type": "markdown",
   "metadata": {},
   "source": [
    "### Money Change Again (Dynamic Programming)\n",
    "\n",
    "Compute the minimum number of coins needed to change \n",
    "the given value into coins with denominations 1, 3, and 4.\n"
   ]
  },
  {
   "cell_type": "code",
   "execution_count": 3,
   "metadata": {},
   "outputs": [
    {
     "name": "stdout",
     "output_type": "stream",
     "text": [
      "30\n",
      "8\n"
     ]
    }
   ],
   "source": [
    "def change_naive(money):\n",
    "    min_coins = float(\"inf\")\n",
    "    for num1 in range(money + 1):\n",
    "        for num3 in range(money // 3 + 1):\n",
    "            for num4 in range(money // 4 + 1):\n",
    "                if 1 * num1 + 3 * num3 + 4 * num4 == money:\n",
    "                    min_coins = min(min_coins, num1 + num3 + num4)\n",
    "    return min_coins\n",
    "\n",
    "def change(money):\n",
    "    coins = [1, 3, 4]\n",
    "    MinimumCoins = [0] * (money + 1)\n",
    "    for i in range(1, money + 1):\n",
    "        MinimumCoins[i] = float('inf')\n",
    "        for j in range(0, len(coins)):\n",
    "            if i >= coins[j]:\n",
    "                min_value = MinimumCoins[i-coins[j]] + 1\n",
    "                if min_value < MinimumCoins[i]:\n",
    "                    MinimumCoins[i] = min_value\n",
    "    return MinimumCoins[money]\n",
    "\n",
    "if __name__ == '__main__':\n",
    "    amount = int(input())\n",
    "    print(change(amount))"
   ]
  },
  {
   "cell_type": "markdown",
   "metadata": {},
   "source": [
    "Below is the more generalized form for different type of coins."
   ]
  },
  {
   "cell_type": "code",
   "execution_count": 1,
   "metadata": {},
   "outputs": [],
   "source": [
    "def MoneyChangeDynamic(money, coins):\n",
    "    MinimumCoins = [0] * (money + 1)\n",
    "    for i in range(1, money + 1):\n",
    "        MinimumCoins[i] = float('inf')\n",
    "        for j in range(0, len(coins)):\n",
    "            if i >= coins[j]:\n",
    "                min_value = MinimumCoins[i-coins[j]] + 1\n",
    "                if min_value < MinimumCoins[i]:\n",
    "                    MinimumCoins[i] = min_value\n",
    "        print(MinimumCoins)\n",
    "    return MinimumCoins[money]"
   ]
  },
  {
   "cell_type": "code",
   "execution_count": 2,
   "metadata": {},
   "outputs": [
    {
     "name": "stdout",
     "output_type": "stream",
     "text": [
      "[0, 1, 0, 0, 0, 0, 0, 0, 0, 0, 0, 0, 0, 0, 0, 0, 0, 0, 0, 0, 0, 0, 0, 0, 0]\n",
      "[0, 1, 2, 0, 0, 0, 0, 0, 0, 0, 0, 0, 0, 0, 0, 0, 0, 0, 0, 0, 0, 0, 0, 0, 0]\n",
      "[0, 1, 2, 1, 0, 0, 0, 0, 0, 0, 0, 0, 0, 0, 0, 0, 0, 0, 0, 0, 0, 0, 0, 0, 0]\n",
      "[0, 1, 2, 1, 2, 0, 0, 0, 0, 0, 0, 0, 0, 0, 0, 0, 0, 0, 0, 0, 0, 0, 0, 0, 0]\n",
      "[0, 1, 2, 1, 2, 3, 0, 0, 0, 0, 0, 0, 0, 0, 0, 0, 0, 0, 0, 0, 0, 0, 0, 0, 0]\n",
      "[0, 1, 2, 1, 2, 3, 1, 0, 0, 0, 0, 0, 0, 0, 0, 0, 0, 0, 0, 0, 0, 0, 0, 0, 0]\n",
      "[0, 1, 2, 1, 2, 3, 1, 2, 0, 0, 0, 0, 0, 0, 0, 0, 0, 0, 0, 0, 0, 0, 0, 0, 0]\n",
      "[0, 1, 2, 1, 2, 3, 1, 2, 3, 0, 0, 0, 0, 0, 0, 0, 0, 0, 0, 0, 0, 0, 0, 0, 0]\n",
      "[0, 1, 2, 1, 2, 3, 1, 2, 3, 2, 0, 0, 0, 0, 0, 0, 0, 0, 0, 0, 0, 0, 0, 0, 0]\n",
      "[0, 1, 2, 1, 2, 3, 1, 2, 3, 2, 3, 0, 0, 0, 0, 0, 0, 0, 0, 0, 0, 0, 0, 0, 0]\n",
      "[0, 1, 2, 1, 2, 3, 1, 2, 3, 2, 3, 4, 0, 0, 0, 0, 0, 0, 0, 0, 0, 0, 0, 0, 0]\n",
      "[0, 1, 2, 1, 2, 3, 1, 2, 3, 2, 3, 4, 1, 0, 0, 0, 0, 0, 0, 0, 0, 0, 0, 0, 0]\n",
      "[0, 1, 2, 1, 2, 3, 1, 2, 3, 2, 3, 4, 1, 2, 0, 0, 0, 0, 0, 0, 0, 0, 0, 0, 0]\n",
      "[0, 1, 2, 1, 2, 3, 1, 2, 3, 2, 3, 4, 1, 2, 3, 0, 0, 0, 0, 0, 0, 0, 0, 0, 0]\n",
      "[0, 1, 2, 1, 2, 3, 1, 2, 3, 2, 3, 4, 1, 2, 3, 1, 0, 0, 0, 0, 0, 0, 0, 0, 0]\n",
      "[0, 1, 2, 1, 2, 3, 1, 2, 3, 2, 3, 4, 1, 2, 3, 1, 2, 0, 0, 0, 0, 0, 0, 0, 0]\n",
      "[0, 1, 2, 1, 2, 3, 1, 2, 3, 2, 3, 4, 1, 2, 3, 1, 2, 3, 0, 0, 0, 0, 0, 0, 0]\n",
      "[0, 1, 2, 1, 2, 3, 1, 2, 3, 2, 3, 4, 1, 2, 3, 1, 2, 3, 2, 0, 0, 0, 0, 0, 0]\n",
      "[0, 1, 2, 1, 2, 3, 1, 2, 3, 2, 3, 4, 1, 2, 3, 1, 2, 3, 2, 3, 0, 0, 0, 0, 0]\n",
      "[0, 1, 2, 1, 2, 3, 1, 2, 3, 2, 3, 4, 1, 2, 3, 1, 2, 3, 2, 3, 4, 0, 0, 0, 0]\n",
      "[0, 1, 2, 1, 2, 3, 1, 2, 3, 2, 3, 4, 1, 2, 3, 1, 2, 3, 2, 3, 4, 2, 0, 0, 0]\n",
      "[0, 1, 2, 1, 2, 3, 1, 2, 3, 2, 3, 4, 1, 2, 3, 1, 2, 3, 2, 3, 4, 2, 3, 0, 0]\n",
      "[0, 1, 2, 1, 2, 3, 1, 2, 3, 2, 3, 4, 1, 2, 3, 1, 2, 3, 2, 3, 4, 2, 3, 4, 0]\n",
      "[0, 1, 2, 1, 2, 3, 1, 2, 3, 2, 3, 4, 1, 2, 3, 1, 2, 3, 2, 3, 4, 2, 3, 4, 2]\n"
     ]
    },
    {
     "data": {
      "text/plain": [
       "2"
      ]
     },
     "execution_count": 2,
     "metadata": {},
     "output_type": "execute_result"
    }
   ],
   "source": [
    "MoneyChangeDynamic(24, [1, 3, 6, 12, 15])"
   ]
  },
  {
   "cell_type": "markdown",
   "metadata": {},
   "source": [
    "### Edit Distance\n",
    "\n",
    "Given two strings of length at most 100,\n",
    "compute the minimum number of single symbol \n",
    "insertions, deletions, and substitutions to \n",
    "transform one string into the other one.\n",
    "\n",
    "Edit distance has many applications \n",
    "in computational biology, \n",
    "natural language processing, \n",
    "spell checking, etc. \n",
    "For example, biologists often analyze edit \n",
    "distances when they  search for \n",
    "disease-causing mutations.\n"
   ]
  },
  {
   "cell_type": "code",
   "execution_count": 120,
   "metadata": {},
   "outputs": [],
   "source": [
    "def OptimalAlignment(A, B, EditMatrix, i, j):\n",
    "    if i == 0 and j == 0:\n",
    "        return\n",
    "    if i > 0 and EditMatrix[i][j] == EditMatrix[i-1][j] + 1:\n",
    "        OptimalAlignment(A, B, EditMatrix, i-1, j)\n",
    "        print(f'Letter {i} from {A}: {A[i-1]}, -')\n",
    "    elif j > 0 and EditMatrix[i][j] == EditMatrix[i][j-1] + 1:\n",
    "        OptimalAlignment(A, B, EditMatrix, i, j-1)\n",
    "        print(f'Letter {j} from {B}: -, {B[j-1]}')\n",
    "    else:\n",
    "        if A[i-1] != B[j-1]:\n",
    "            OptimalAlignment(A, B, EditMatrix, i-1, j-1)\n",
    "            print(f'Letter {i} from {A} and Letter {j} from {B}: {A[i-1]}, {B[j-1]}')\n",
    "        else:\n",
    "            OptimalAlignment(A, B, EditMatrix, i-1, j-1)\n",
    "        \n",
    "def EditDistance(A, B):\n",
    "    assert type(A) == str and type(B) == str\n",
    "    assert len(A) <= 100 and len(B) <= 100\n",
    "    A = A.upper()\n",
    "    B = B.upper()\n",
    "    m = len(A)\n",
    "    n = len(B)\n",
    "    EditMatrix = [[0] * (n+1) for i in range(m+1)]\n",
    "    for i in range(1, m+1):\n",
    "        EditMatrix[i][0] = EditMatrix[i-1][0] + 1\n",
    "    for i in range(1, n+1):\n",
    "        EditMatrix[0][i] = EditMatrix[0][i-1] + 1\n",
    "    for i in range(1, m+1):\n",
    "        for j in range(1, n+1):\n",
    "            insertion = EditMatrix[i][j-1] + 1\n",
    "            deletion = EditMatrix[i-1][j] + 1\n",
    "            mismatch = EditMatrix[i-1][j-1] + 1\n",
    "            match = EditMatrix[i-1][j-1]\n",
    "            if A[i-1] != B[j-1]:\n",
    "                EditMatrix[i][j] = min(insertion, deletion, mismatch)\n",
    "            else:\n",
    "                EditMatrix[i][j] = min(insertion, deletion, match)\n",
    "    fix = [[\"*\"] + [\"-\"] + [B[x] for x in range(n)]] + EditMatrix\n",
    "    fix = [fix[0]] + [[\"-\"] + EditMatrix[0]] + [[A[y]] + EditMatrix[y+1] for y in range(m)]\n",
    "    print(\"Table of strings:\\n\")\n",
    "    for k in range(m+2):\n",
    "        print(*fix[k])\n",
    "    if len(A) == 0:\n",
    "        return len(B)\n",
    "    if len(B) == 0:\n",
    "        return len(A)\n",
    "    print(\"\\nThe parts to be edited:\\n\")\n",
    "    OptimalAlignment(A, B, EditMatrix, i, j)\n",
    "    return EditMatrix[i][j]"
   ]
  },
  {
   "cell_type": "code",
   "execution_count": 121,
   "metadata": {},
   "outputs": [
    {
     "name": "stdout",
     "output_type": "stream",
     "text": [
      "Table of strings:\n",
      "\n",
      "* - K A M A N D A R\n",
      "- 0 1 2 3 4 5 6 7 8\n",
      "M 1 1 2 2 3 4 5 6 7\n",
      "A 2 2 1 2 2 3 4 5 6\n",
      "N 3 3 2 2 3 2 3 4 5\n",
      "I 4 4 3 3 3 3 3 4 5\n",
      "D 5 5 4 4 4 4 3 4 5\n",
      "A 6 6 5 5 4 5 4 3 4\n",
      "R 7 7 6 6 5 5 5 4 3\n",
      "\n",
      "The parts to be edited:\n",
      "\n",
      "Letter 1 from KAMANDAR: -, K\n",
      "Letter 2 from KAMANDAR: -, A\n",
      "Letter 4 from MANIDAR: I, -\n"
     ]
    },
    {
     "data": {
      "text/plain": [
       "3"
      ]
     },
     "execution_count": 121,
     "metadata": {},
     "output_type": "execute_result"
    }
   ],
   "source": [
    "EditDistance('Manidar', 'Kamandar')"
   ]
  },
  {
   "cell_type": "code",
   "execution_count": 119,
   "metadata": {},
   "outputs": [
    {
     "data": {
      "text/plain": [
       "87"
      ]
     },
     "execution_count": 119,
     "metadata": {},
     "output_type": "execute_result"
    }
   ],
   "source": [
    "import string\n",
    "import random\n",
    "\n",
    "chars = string.ascii_lowercase\n",
    "A = ''.join(random.choice(chars) for _ in range(100))\n",
    "B = ''.join(random.choice(chars) for _ in range(100))\n",
    "\n",
    "EditDistance(A, B)"
   ]
  },
  {
   "cell_type": "markdown",
   "metadata": {},
   "source": [
    "### Primitive Calculator\n",
    "Find the minimum number of operations \n",
    "needed to get a positive integer $n$ from 1 \n",
    "using only three operations: \n",
    "add 1, multiply by 2, and multiply by 3.\n",
    "\n",
    "**Input.** An integer $1 \\le n \\le 10^6$.\n",
    "\n",
    "**Output.** In the first line, output \n",
    "the minimum number $k$ of operations needed to \n",
    "get $n$ from 1. In the second line, \n",
    "output a sequence of intermediate numbers. \n",
    "That is, the second line should contain \n",
    "positive integers $a_0,a_1,\\dotsc,a_k$ \n",
    "such that $a_0 = 1$, $a_k = n$, and \n",
    "for all $1 \\le i \\le k$, $a_i$ is equal to \n",
    "either $a_{i−1} + 1$, $2a_{i−1}$, or $3a_{i−1}$. \n",
    "If there are many such sequences, output any one of them.\n"
   ]
  },
  {
   "cell_type": "code",
   "execution_count": 38,
   "metadata": {},
   "outputs": [
    {
     "name": "stdout",
     "output_type": "stream",
     "text": [
      "1000000\n",
      "19\n",
      "1 3 9 27 54 108 216 217 651 1953 3906 7812 15624 15625 31250 62500 125000 250000 500000 1000000\n"
     ]
    }
   ],
   "source": [
    "def compute_operations(n):\n",
    "    assert 1 <= n <= 10 ** 6\n",
    "    counts = [0] * (n + 1)\n",
    "    if n == 1:\n",
    "        return 0\n",
    "    for i in range(2, n + 1):\n",
    "        result1 = counts[i - 1] + 1\n",
    "        if i % 2 == 0:\n",
    "            result2 = counts[i // 2] + 1\n",
    "        else:\n",
    "            result2 = float('inf')\n",
    "        if i % 3 == 0:\n",
    "            result3 = counts[i // 3] + 1\n",
    "        else:\n",
    "            result3 = float('inf')\n",
    "        counts[i] = min(result1, result2, result3)\n",
    "        \n",
    "    output = [n]\n",
    "    k = n\n",
    "    while True:\n",
    "        if counts[k] == counts[k - 1] + 1:\n",
    "            k = k - 1\n",
    "            output.insert(0, k)\n",
    "        elif k % 2 == 0 and counts[k] == counts[k // 2] + 1:\n",
    "            k = k // 2\n",
    "            output.insert(0, k)\n",
    "        elif k % 3 == 0 and counts[k] == counts[k // 3] + 1:\n",
    "            k = k // 3\n",
    "            output.insert(0, k) \n",
    "        if k == 1:\n",
    "            break\n",
    "    return output\n",
    "\n",
    "if __name__ == '__main__':\n",
    "    input_n = int(input())\n",
    "    output_sequence = compute_operations(input_n)\n",
    "    print(len(output_sequence) - 1)\n",
    "    print(*output_sequence)"
   ]
  },
  {
   "cell_type": "markdown",
   "metadata": {},
   "source": [
    "### Longest Common Subsequence of Two Sequences\n",
    "\n",
    "Compute the longest common subsequence of \n",
    "two integer sequences of length at most 100.\n",
    "\n",
    "Given two sequences \n",
    "$A=(a_1, a_2, \\dotsc, a_n)$ and \n",
    "$B=(b_1, b_2, \\dotsc, b_m)$, find the \n",
    "length of their longest common subsequence, \n",
    "i.e., the largest non-negative integer $p$ such that \n",
    "there exist indices\n",
    "$1 \\leq i_1 < i_2 <  \\dotsb <  i_p \\leq n$ and\n",
    "$1 \\leq j_1 < j_2 <  \\dotsb <  j_p \\leq m$\n",
    "such that \n",
    "$a_{i_1} = b_{j_1}, \\dotsc, a_{i_p} = b_{j_p}$. \n",
    "The problem has applications in data comparison \n",
    "(e.g., diff utility, merge operation \n",
    "in various version control systems), \n",
    "bioinformatics (finding similarities \n",
    "between genes in various species), and others.\n"
   ]
  },
  {
   "cell_type": "code",
   "execution_count": 128,
   "metadata": {},
   "outputs": [
    {
     "name": "stdout",
     "output_type": "stream",
     "text": [
      "10\n",
      "3 5 6 3 3 0 3 9 4 1\n",
      "10\n",
      "5 1 3 5 9 0 4 1 2 4\n",
      "[5, 3, 0, 4]\n",
      "4\n"
     ]
    }
   ],
   "source": [
    "def matching_matrix(first_sequence, second_sequence):\n",
    "    n = len(first_sequence)\n",
    "    m = len(second_sequence)\n",
    "    A = [[0] * (m+1) for _ in range(n+1)] \n",
    "    for i in range(1, n+1):\n",
    "        A[i][0] = A[i-1][0] + 1\n",
    "    for i in range(1, m+1):\n",
    "        A[0][i] = A[0][i-1] + 1\n",
    "    for i in range(1, n+1):\n",
    "        for j in range(1, m+1):\n",
    "            v1 = A[i][j-1] + 1\n",
    "            v2 = A[i-1][j] + 1\n",
    "            v3 = A[i-1][j-1] + 1\n",
    "            v4 = A[i-1][j-1]\n",
    "            if first_sequence[i-1] != second_sequence[j-1]:\n",
    "                A[i][j] = min(v1, v2, v3)\n",
    "            else:\n",
    "                A[i][j] = min(v1, v2, v4)\n",
    "    return A, i, j\n",
    "\n",
    "def optimize(indices, first_sequence, second_sequence, A, i, j):\n",
    "    if i == 0 or j == 0:\n",
    "        return \n",
    "    if i > 0 and A[i][j] == A[i-1][j] + 1:\n",
    "        optimize(indices, first_sequence, second_sequence, A, i-1, j)\n",
    "    elif j > 0 and A[i][j] == A[i][j-1] + 1:\n",
    "        optimize(indices, first_sequence, second_sequence, A, i, j-1)\n",
    "    else: \n",
    "        if first_sequence[i-1] != second_sequence[j-1]:\n",
    "            optimize(indices, first_sequence, second_sequence, A, i-1, j-1)\n",
    "        else:\n",
    "            optimize(indices, first_sequence, second_sequence, A, i-1, j-1)\n",
    "            indices.append(i-1)\n",
    "                  \n",
    "def lcs2(first_sequence, second_sequence):\n",
    "    assert len(first_sequence) <= 100\n",
    "    assert len(second_sequence) <= 100 \n",
    "    matrix = matching_matrix(first_sequence, second_sequence)[0]\n",
    "    i = len(matrix) - 1\n",
    "    j = len(matrix[0]) - 1\n",
    "    indices = []\n",
    "    optimize(indices, first_sequence, second_sequence, matrix, i, j)\n",
    "    result = []\n",
    "    for k in indices:\n",
    "        result.append(first_sequence[k])\n",
    "    print(result)\n",
    "    return len(result)\n",
    "\n",
    "if __name__ == '__main__':\n",
    "    n = int(input())\n",
    "    a = list(map(int, input().split()))\n",
    "    assert len(a) == n\n",
    "    m = int(input())\n",
    "    b = list(map(int, input().split()))\n",
    "    assert len(b) == m\n",
    "    print(lcs2(a, b))"
   ]
  },
  {
   "cell_type": "code",
   "execution_count": 127,
   "metadata": {},
   "outputs": [
    {
     "name": "stdout",
     "output_type": "stream",
     "text": [
      "[0, 4, 2, 6, 10, 6, 6, 8, 2, 6, 4, 1, 1, 9, 10, 3, 1, 3, 10, 9, 10, 3, 8, 3, 3, 4, 7, 1, 0, 1, 7, 0, 2, 10, 10, 7, 7]\n"
     ]
    },
    {
     "data": {
      "text/plain": [
       "37"
      ]
     },
     "execution_count": 127,
     "metadata": {},
     "output_type": "execute_result"
    }
   ],
   "source": [
    "import random\n",
    "\n",
    "A = [random.randint(0,10) for _ in range(100)]\n",
    "B = [random.randint(0,10) for _ in range(100)]\n",
    "\n",
    "lcs2(A, B)"
   ]
  },
  {
   "cell_type": "markdown",
   "metadata": {},
   "source": [
    "# MISTAKE !!!"
   ]
  },
  {
   "cell_type": "markdown",
   "metadata": {},
   "source": [
    "### Longest Common Subsequence of Three Sequences\n",
    "\n",
    "Compute the longest common subsequence of \n",
    "three integer sequences of length at most 100.\n"
   ]
  },
  {
   "cell_type": "code",
   "execution_count": null,
   "metadata": {},
   "outputs": [],
   "source": [
    "def lcs3(first_sequence, second_sequence, third_sequence):\n",
    "    assert len(first_sequence) <= 100\n",
    "    assert len(second_sequence) <= 100\n",
    "    assert len(third_sequence) <= 100\n",
    "\n",
    "    #type here\n",
    "\n",
    "\n",
    "if __name__ == '__main__':\n",
    "    n = int(input())\n",
    "    a = list(map(int, input().split()))\n",
    "    assert len(a) == n\n",
    "\n",
    "    m = int(input())\n",
    "    b = list(map(int, input().split()))\n",
    "    assert len(b) == m\n",
    "\n",
    "    q = int(input())\n",
    "    c = list(map(int, input().split()))\n",
    "    assert len(c) == q\n",
    "\n",
    "    print(lcs3(a, b, c))"
   ]
  },
  {
   "cell_type": "code",
   "execution_count": null,
   "metadata": {},
   "outputs": [],
   "source": []
  }
 ],
 "metadata": {
  "kernelspec": {
   "display_name": "Python 3",
   "language": "python",
   "name": "python3"
  },
  "language_info": {
   "codemirror_mode": {
    "name": "ipython",
    "version": 3
   },
   "file_extension": ".py",
   "mimetype": "text/x-python",
   "name": "python",
   "nbconvert_exporter": "python",
   "pygments_lexer": "ipython3",
   "version": "3.7.3"
  }
 },
 "nbformat": 4,
 "nbformat_minor": 2
}
