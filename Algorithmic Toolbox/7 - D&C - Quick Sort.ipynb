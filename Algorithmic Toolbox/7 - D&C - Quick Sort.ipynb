{
 "cells": [
  {
   "cell_type": "markdown",
   "metadata": {},
   "source": [
    "## Divide and Conquer Algorithms\n"
   ]
  },
  {
   "cell_type": "markdown",
   "metadata": {},
   "source": [
    "### Quick Sort"
   ]
  },
  {
   "cell_type": "code",
   "execution_count": 1,
   "metadata": {},
   "outputs": [
    {
     "name": "stdout",
     "output_type": "stream",
     "text": [
      "6 2 6 92 1 4654 132 63 213 7 234 23 9870 345 8 12 54\n",
      "[1, 2, 6, 6, 7, 8, 12, 23, 54, 63, 92, 132, 213, 234, 345, 4654, 9870]\n"
     ]
    }
   ],
   "source": [
    "def quick_sort(A, l, r):\n",
    "    if l >= r:\n",
    "        return A\n",
    "    m = partition(A, l, r)\n",
    "    quick_sort(A, l, m - 1)\n",
    "    quick_sort(A, m + 1, r)\n",
    "    return A\n",
    "\n",
    "def partition(A, l, r):\n",
    "    x = A[l]\n",
    "    j = l\n",
    "    for i in range(l + 1, r + 1):\n",
    "        if A[i] <= x:\n",
    "            j += 1\n",
    "            A[i], A[j] = A[j], A[i]\n",
    "    A[l], A[j] = A[j], A[l]    \n",
    "    return j\n",
    "\n",
    "if __name__ == '__main__':\n",
    "    A = list(map(int, input().split()))\n",
    "    l = 0\n",
    "    r = len(A) - 1\n",
    "    print(quick_sort(A, l, r))"
   ]
  },
  {
   "cell_type": "code",
   "execution_count": 16,
   "metadata": {},
   "outputs": [
    {
     "name": "stdout",
     "output_type": "stream",
     "text": [
      "4 1 6 8 2 8 23 76 123 76 23 12 9 34 2 4 78 1 32 6 33\n",
      "[1, 1, 2, 2, 4, 4, 6, 6, 8, 8, 9, 12, 23, 23, 32, 33, 34, 76, 76, 78, 123]\n"
     ]
    }
   ],
   "source": [
    "def quicksort(A):\n",
    "    if len(A) <= 1:\n",
    "        return A\n",
    "    pivot = A[0]\n",
    "    less = [x for x in A[1:] if x <= pivot]\n",
    "    greater = [x for x in A[1:] if x > pivot]\n",
    "    return quicksort(less) + [pivot] + quicksort(greater)\n",
    "\n",
    "A = list(map(int,input().split()))\n",
    "print(quicksort(A))"
   ]
  },
  {
   "cell_type": "code",
   "execution_count": 20,
   "metadata": {},
   "outputs": [
    {
     "name": "stdout",
     "output_type": "stream",
     "text": [
      "4 1 6 8 2 8 23 76 123 76 23 12 9 34 2 4 78 1 32 6 33\n",
      "[123, 78, 76, 76, 34, 33, 32, 23, 23, 12, 9, 8, 8, 6, 6, 4, 4, 2, 2, 1, 1]\n"
     ]
    }
   ],
   "source": [
    "def reversequicksort(A):\n",
    "    if len(A) <= 1:\n",
    "        return A\n",
    "    pivot = A[0]\n",
    "    less = [x for x in A[1:] if x <= pivot]\n",
    "    greater = [x for x in A[1:] if x > pivot]\n",
    "    return reversequicksort(greater) + [pivot] + reversequicksort(less)\n",
    "\n",
    "A = list(map(int,input().split()))\n",
    "print(reversequicksort(A))"
   ]
  },
  {
   "cell_type": "markdown",
   "metadata": {},
   "source": [
    "### Randomized Quick Sort"
   ]
  },
  {
   "cell_type": "code",
   "execution_count": 8,
   "metadata": {},
   "outputs": [
    {
     "name": "stdout",
     "output_type": "stream",
     "text": [
      "5 2 5 7 3 2 7 8 2 5 87 3 2 7 87 43 2 3 7 7 45 4 3\n",
      "[2, 2, 2, 2, 2, 3, 3, 3, 3, 4, 5, 5, 5, 7, 7, 7, 7, 7, 8, 43, 45, 87, 87]\n"
     ]
    }
   ],
   "source": [
    "from random import randint\n",
    "\n",
    "def randomized_quick_sort(A, l, r):\n",
    "    if l >= r:\n",
    "        return A\n",
    "    k = randint(l,r)\n",
    "    A[l], A[k] = A[k], A[l]\n",
    "    m = partition(A, l, r)\n",
    "    randomized_quick_sort(A, l, m - 1)\n",
    "    randomized_quick_sort(A, m + 1, r)\n",
    "    return A\n",
    "\n",
    "def partition(A, l, r):\n",
    "    x = A[l]\n",
    "    j = l\n",
    "    for i in range(l + 1, r + 1):\n",
    "        if A[i] <= x:\n",
    "            j += 1\n",
    "            A[i], A[j] = A[j], A[i]\n",
    "    A[l], A[j] = A[j], A[l]    \n",
    "    return j\n",
    "\n",
    "if __name__ == '__main__':\n",
    "    A = list(map(int, input().split()))\n",
    "    l = 0\n",
    "    r = len(A) - 1\n",
    "    print(quick_sort(A, l, r))"
   ]
  },
  {
   "cell_type": "markdown",
   "metadata": {},
   "source": [
    "### Improving Quick Sort\n",
    "Modify the given implementation of the QuickSort algorithm so that it works fast even on sequences containing many identical elements."
   ]
  },
  {
   "cell_type": "code",
   "execution_count": 13,
   "metadata": {},
   "outputs": [
    {
     "name": "stdout",
     "output_type": "stream",
     "text": [
      "10\n",
      "5 3 6 5 8 1 5 5 4 2\n",
      "1 2 3 4 5 5 5 5 6 8\n"
     ]
    }
   ],
   "source": [
    "from random import randint\n",
    "\n",
    "def partition3(A, l, r):\n",
    "    pivot = A[l]\n",
    "    part1 = l\n",
    "    part2 = l\n",
    "    for i in range(l + 1, r + 1):\n",
    "        if A[i] < pivot:\n",
    "            part1 += 1\n",
    "            part2 += 1\n",
    "            A[i], A[part2] = A[part2], A[i]\n",
    "            A[part2], A[part1] = A[part1], A[part2]\n",
    "        elif A[i] == pivot:\n",
    "            part2 += 1\n",
    "            A[i], A[part2] = A[part2], A[i]\n",
    "    A[l], A[part1] = A[part1], A[l]\n",
    "    return part1, part2\n",
    "\n",
    "def randomized_quick_sort(A, l, r):\n",
    "    if l >= r:\n",
    "        return\n",
    "    k = randint(l, r)\n",
    "    A[l], A[k] = A[k], A[l]\n",
    "    (m1, m2) = partition3(A, l, r)\n",
    "    randomized_quick_sort(A, l, m1 - 1)\n",
    "    randomized_quick_sort(A, m2 + 1, r)\n",
    "\n",
    "if __name__ == '__main__':\n",
    "    input_n = int(input())\n",
    "    elements = list(map(int, input().split()))\n",
    "    assert len(elements) == input_n\n",
    "    randomized_quick_sort(elements, 0, len(elements) - 1)\n",
    "    print(*elements)"
   ]
  },
  {
   "cell_type": "markdown",
   "metadata": {},
   "source": [
    "### Majority Element\n",
    "\n",
    "Input. A sequence of **n≤10^5** integers.\n",
    "\n",
    "Output. **1**, if there is an element that is repeated more than **n/2** times, and **0 otherwise**.\n",
    "\n",
    "As you might have already guessed, this problem can be solved by the divide-and-conquer algorithm in time **O(nlogn)**. Indeed, if a sequence of length n contains a majority element, then the same element is also a majority element for one of its halves. Thus, to solve this problem you first split a given sequence into halves and recursively solve it for each half. Do you see how to combine the results of two recursive calls?"
   ]
  },
  {
   "cell_type": "code",
   "execution_count": 15,
   "metadata": {},
   "outputs": [
    {
     "name": "stdout",
     "output_type": "stream",
     "text": [
      "15\n",
      "22 1 54 1 50 21 1 4 1 1 1 44 1 1 1\n",
      "1\n"
     ]
    }
   ],
   "source": [
    "def majority_element_naive(elements):\n",
    "    assert len(elements) <= 10 ** 5\n",
    "    for e in elements:\n",
    "        if elements.count(e) > len(elements) / 2:\n",
    "            return 1\n",
    "    return 0\n",
    "\n",
    "def majority_element(elements):\n",
    "    assert 1 <= len(elements) <= 10 ** 5\n",
    "    l = 0\n",
    "    r = len(elements) - 1\n",
    "    randomized_quick_sort(elements, l, r)\n",
    "    n = len(elements)\n",
    "    for i in range(0, (n+1)//2):\n",
    "        if elements[i] == elements[i + n//2]:\n",
    "            return 1\n",
    "    return 0\n",
    "\n",
    "if __name__ == '__main__':\n",
    "    input_n = int(input())\n",
    "    input_elements = list(map(int, input().split()))\n",
    "    assert len(input_elements) == input_n\n",
    "    print(majority_element(input_elements))"
   ]
  },
  {
   "cell_type": "code",
   "execution_count": 16,
   "metadata": {},
   "outputs": [],
   "source": [
    "import random\n",
    "import time\n",
    "\n",
    "def StressTest(N, M):\n",
    "    assert 1 <= N <= 10 ** 5\n",
    "    assert 0 <= M <= 10 ** 9\n",
    "    while True:\n",
    "        n = random.randint(1, N)\n",
    "        A = [random.randint(0, M) for i in range(0, n)]\n",
    "        print(A)\n",
    "        result1 = majority_element_naive(A)\n",
    "        result2 = majority_element(A)\n",
    "        if result1 == result2:\n",
    "            print('OK', 'result1, result2 = ', result1)\n",
    "        else:\n",
    "            print('Answer is wrong:', 'result1 = ', result1, 'result2 = ', result2)\n",
    "            break\n",
    "            \n",
    "def ComplexityTest(N, M):\n",
    "    assert 1 <= N <= 10 ** 5\n",
    "    assert 0 <= M <= 10 ** 9\n",
    "    A = [random.randint(0, M) for i in range(0, N)]\n",
    "    start_time = time.time()\n",
    "    print(majority_element(A))\n",
    "    print(\"--- %s seconds ---\" % (time.time() - start_time))"
   ]
  },
  {
   "cell_type": "markdown",
   "metadata": {},
   "source": [
    "    StressTest() passed for thousands of cases. So, algorithm works properly. Now, let's check the running time."
   ]
  },
  {
   "cell_type": "code",
   "execution_count": 39,
   "metadata": {},
   "outputs": [
    {
     "name": "stdout",
     "output_type": "stream",
     "text": [
      "0\n",
      "--- 7.502675771713257 seconds ---\n"
     ]
    }
   ],
   "source": [
    "ComplexityTest(20000, 100) # naive algorithm"
   ]
  },
  {
   "cell_type": "code",
   "execution_count": 20,
   "metadata": {},
   "outputs": [
    {
     "name": "stdout",
     "output_type": "stream",
     "text": [
      "0\n",
      "--- 0.5628557205200195 seconds ---\n"
     ]
    }
   ],
   "source": [
    "ComplexityTest(100000, 10000) # fast algorithm"
   ]
  },
  {
   "cell_type": "code",
   "execution_count": 19,
   "metadata": {},
   "outputs": [
    {
     "name": "stdout",
     "output_type": "stream",
     "text": [
      "0\n",
      "--- 0.0709388256072998 seconds ---\n"
     ]
    }
   ],
   "source": [
    "ComplexityTest(100000, 3) # fast algorithm"
   ]
  },
  {
   "cell_type": "markdown",
   "metadata": {},
   "source": [
    "Alternative solution that I have found earlier"
   ]
  },
  {
   "cell_type": "code",
   "execution_count": 1,
   "metadata": {},
   "outputs": [
    {
     "name": "stdout",
     "output_type": "stream",
     "text": [
      "7\n",
      "3 2 4 6 2 2 2\n",
      "1\n"
     ]
    }
   ],
   "source": [
    "def majority_element(elements):\n",
    "    assert len(elements) <= 10 ** 5\n",
    "    x = quick_sort(elements)\n",
    "    i = 0\n",
    "    output = 0\n",
    "    while i < int(len(x)/2):\n",
    "        if x[i] == x[i+int(len(x)/2)]:\n",
    "            output = 1\n",
    "            break\n",
    "        i += 1\n",
    "    return output\n",
    "\n",
    "def quick_sort(A):\n",
    "    if len(A) <= 1:\n",
    "        return A\n",
    "    i = 0        \n",
    "    for j in range(len(A)-1):\n",
    "        if A[j+1] <= A[0]:\n",
    "            A[i+1], A[j+1] = A[j+1], A[i+1]\n",
    "            i += 1\n",
    "    A[0], A[i] = A[i], A[0]\n",
    "    head = quick_sort(A[0:i])\n",
    "    head.append(A[i])\n",
    "    tail = quick_sort(A[i+1:])\n",
    "    return head + tail\n",
    "\n",
    "if __name__ == '__main__':\n",
    "    input_n = int(input())\n",
    "    input_elements = list(map(int, input().split()))\n",
    "    assert len(input_elements) == input_n\n",
    "    print(majority_element(input_elements))"
   ]
  }
 ],
 "metadata": {
  "kernelspec": {
   "display_name": "Python 3",
   "language": "python",
   "name": "python3"
  },
  "language_info": {
   "codemirror_mode": {
    "name": "ipython",
    "version": 3
   },
   "file_extension": ".py",
   "mimetype": "text/x-python",
   "name": "python",
   "nbconvert_exporter": "python",
   "pygments_lexer": "ipython3",
   "version": "3.8.3"
  }
 },
 "nbformat": 4,
 "nbformat_minor": 2
}
