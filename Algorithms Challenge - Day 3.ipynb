{
 "cells": [
  {
   "cell_type": "markdown",
   "metadata": {},
   "source": [
    "### Maximum Number of Prizes"
   ]
  },
  {
   "cell_type": "code",
   "execution_count": 3,
   "metadata": {},
   "outputs": [
    {
     "name": "stdout",
     "output_type": "stream",
     "text": [
      "100\n",
      "13\n",
      "1 2 3 4 5 6 7 8 9 10 11 12 22\n"
     ]
    }
   ],
   "source": [
    "def compute_optimal_summands(n):\n",
    "    assert 1 <= n <= 10 ** 9\n",
    "    summands = []\n",
    "    i = 1\n",
    "    while n > 0:\n",
    "        if len(summands) == 0:\n",
    "            summands.append(i)\n",
    "        n -= i\n",
    "        if n > summands[-1]:\n",
    "            i += 1\n",
    "            summands.append(i)\n",
    "        else:\n",
    "            summands[-1] += n\n",
    "            break\n",
    "    return summands\n",
    "\n",
    "\n",
    "if __name__ == '__main__':\n",
    "    input_n = int(input())\n",
    "    output_summands = compute_optimal_summands(input_n)\n",
    "    print(len(output_summands))\n",
    "    print(*output_summands)"
   ]
  },
  {
   "cell_type": "markdown",
   "metadata": {},
   "source": [
    "### Maximum Salary"
   ]
  },
  {
   "cell_type": "code",
   "execution_count": 4,
   "metadata": {},
   "outputs": [
    {
     "name": "stdout",
     "output_type": "stream",
     "text": [
      "8\n",
      "2 21 23 211 213 231 232 234\n",
      "23423232231221321211\n"
     ]
    }
   ],
   "source": [
    "from itertools import permutations\n",
    "\n",
    "def largest_number_naive(numbers):\n",
    "    numbers = list(map(str, numbers))\n",
    "    largest = 0\n",
    "    for permutation in permutations(numbers):\n",
    "        largest = max(largest, int(\"\".join(permutation)))\n",
    "    return largest\n",
    "\n",
    "def largest_number(numbers):\n",
    "    numbers = list(map(str, numbers))\n",
    "    i = 1\n",
    "    while i <= len(numbers) - 1:\n",
    "        j = i\n",
    "        while j >= 1:\n",
    "            if int(numbers[j-1] + numbers[j]) < int(numbers[j] + numbers[j-1]):\n",
    "                numbers[j], numbers[j-1] = numbers[j-1], numbers[j]\n",
    "                j -= 1\n",
    "            else:\n",
    "                break\n",
    "        i += 1\n",
    "    return int(''.join(map(str, numbers)))\n",
    "\n",
    "if __name__ == '__main__':\n",
    "    n = int(input())\n",
    "    input_numbers = input().split()\n",
    "    assert len(input_numbers) == n\n",
    "    print(largest_number(input_numbers))"
   ]
  },
  {
   "cell_type": "markdown",
   "metadata": {},
   "source": [
    "### Multiplying Polynomials"
   ]
  },
  {
   "cell_type": "code",
   "execution_count": 6,
   "metadata": {},
   "outputs": [
    {
     "name": "stdout",
     "output_type": "stream",
     "text": [
      "4\n",
      "3,6,0,1\n",
      "5,3,9,2\n",
      "[15, 39, 45, 65, 15, 9, 2]\n"
     ]
    }
   ],
   "source": [
    "def mult_poly(A, B, n):\n",
    "    result = [0] * (2*n-1)\n",
    "    for i in range(len(A)):\n",
    "        for j in range(len(B)):\n",
    "            result[i+j] += A[i] * B[j]\n",
    "    return result\n",
    "\n",
    "degree_of_polynimal = int(input())\n",
    "first_polynomial_array = list(map(int, input().split(',')))\n",
    "second_polynomial_array = list(map(int, input().split(',')))\n",
    "print(mult_poly(first_polynomial_array, second_polynomial_array, degree_of_polynimal))"
   ]
  },
  {
   "cell_type": "markdown",
   "metadata": {},
   "source": [
    "### Multiplying Polnomials (Naive Divide and Conquer Algorithm)"
   ]
  },
  {
   "cell_type": "code",
   "execution_count": 18,
   "metadata": {},
   "outputs": [
    {
     "name": "stdout",
     "output_type": "stream",
     "text": [
      "2\n",
      "3 4\n",
      "1 32\n",
      "[3, 96, 4, 0]\n"
     ]
    }
   ],
   "source": [
    "def mult_poly_naive_div_and_con(A, B, n, a, b):\n",
    "    result = [0] * (2*n-1)\n",
    "    if n == 1:\n",
    "        result[0] = A[a] * B[b]\n",
    "        return result\n",
    "    result[0: n-1] = mult_poly_naive_div_and_con(A, B, int(n/2), a, b)\n",
    "    result[n-1: 2*n-2] = mult_poly_naive_div_and_con(A, B, int(n/2), a+int(n/2), b+int(n/2))\n",
    "    d0e1 = mult_poly_naive_div_and_con(A, B, int(n/2), a, b+int(n/2))\n",
    "    d1e0 = mult_poly_naive_div_and_con(A, B, int(n/2), a+int(n/2), b)\n",
    "    result[int(n/2): n+int(n/2)-1] = d0e1 + d1e0\n",
    "    return result\n",
    "\n",
    "degree = int(input())\n",
    "first_polynom = list(map(int, input().split()))\n",
    "second_polynom = list(map(int, input().split()))\n",
    "a = 0\n",
    "b = 0\n",
    "print(mult_poly_naive_div_and_con(first_polynom, second_polynom, degree, a, b))"
   ]
  },
  {
   "cell_type": "code",
   "execution_count": null,
   "metadata": {},
   "outputs": [],
   "source": []
  }
 ],
 "metadata": {
  "kernelspec": {
   "display_name": "Python 3",
   "language": "python",
   "name": "python3"
  }
 },
 "nbformat": 4,
 "nbformat_minor": 2
}
