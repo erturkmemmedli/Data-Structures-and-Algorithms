{
 "cells": [
  {
   "cell_type": "markdown",
   "metadata": {},
   "source": [
    "## Minimum Spanning Trees"
   ]
  },
  {
   "cell_type": "markdown",
   "metadata": {},
   "source": [
    "### Building Roads to Connect Cities (Kruskal's Algorithm)\n",
    "\n",
    "**Problem Introduction:**\n",
    "In this problem, the goal is to build roads between some pairs of the\n",
    "given cities such that there is a path between any two cities and the\n",
    "total length of the roads is minimized.\n",
    "\n",
    "**Task:** Given $n$ points on a plane, connect them with segments of minimum total length such that there is a\n",
    "path between any two points. Recall that the length of a segment with endpoints $(x_1, y_1)$ and $(x_2, y_2)$\n",
    "is equal to $ \\sqrt{(x_1 − x_2)^2 + (y_1 − y_2)^2}$\n",
    "\n",
    "**Input Format:** The first line contains the number $n$ of points. Each of the following $n$ lines defines a point\n",
    "$(x_i, y_i)$.\n",
    "\n",
    "**Constraints:** $1 \\leq n \\leq 200; −10^3 \\leq x_i, y_i \\leq 10^3$ are integers. All points are pairwise different, no three\n",
    "points lie on the same line.\n",
    "\n",
    "**Output Format:** Output the minimum total length of segments. The absolute value of the difference\n",
    "between the answer of your program and the optimal value should be at most $10^{−6}$. To ensure this,\n",
    "output your answer with at least seven digits after the decimal point (otherwise your answer, while\n",
    "being computed correctly, can turn out to be wrong because of rounding issues)."
   ]
  },
  {
   "cell_type": "code",
   "execution_count": 8,
   "metadata": {},
   "outputs": [
    {
     "name": "stdout",
     "output_type": "stream",
     "text": [
      "5\n",
      "0 0 0 2 1 1 3 0 3 2\n",
      "Minimum distance:  1.4142135623730951 + 1.4142135623730951 + 2.0 + 2.23606797749979\n",
      "7.06449510224598\n"
     ]
    }
   ],
   "source": [
    "import math\n",
    "\n",
    "class Node:\n",
    "    def __init__(self, x, y, parent):\n",
    "        self.x = x\n",
    "        self.y = y\n",
    "        self.parent = parent\n",
    "        self.rank = 0   \n",
    "\n",
    "def MakeSet(i, x, y, nodes):\n",
    "    nodes.append(Node(x[i], y[i], i))\n",
    "    \n",
    "def Find(i, nodes):\n",
    "    if i != nodes[i].parent:\n",
    "        nodes[i].parent = Find(nodes[i].parent, nodes)\n",
    "    return nodes[i].parent\n",
    "\n",
    "def Union(i, j, nodes):\n",
    "    i_id = Find(i, nodes)\n",
    "    j_id = Find(j, nodes)\n",
    "    if i_id == j_id:\n",
    "        return\n",
    "    if nodes[i_id].rank > nodes[j_id].rank:\n",
    "        nodes[j_id].parent = i_id\n",
    "    else:\n",
    "        nodes[i_id].parent = j_id\n",
    "        if nodes[i_id].rank == nodes[j_id].rank:\n",
    "            nodes[j_id].rank += 1\n",
    "            \n",
    "class Edge:\n",
    "    def __init__(self, u, v, weight):\n",
    "        self.u = u\n",
    "        self.v = v\n",
    "        self.weight = weight\n",
    "\n",
    "def Kruskal(n, x, y):\n",
    "    MST = []\n",
    "    nodes = []\n",
    "    for i in range(0, n):\n",
    "        MakeSet(i, x, y, nodes)\n",
    "    edges = []\n",
    "    for i in range(0, n):\n",
    "        for j in range(i + 1, n):\n",
    "            weight = math.sqrt((x[i] - x[j]) ** 2 + (y[i] - y[j]) ** 2)\n",
    "            edges.append(Edge(i, j, weight))\n",
    "    edges = sorted(edges, key = lambda e: e.weight)\n",
    "    for edge in edges:\n",
    "        if Find(edge.u, nodes) != Find(edge.v, nodes):\n",
    "            MST.append(edge)\n",
    "            Union(edge.u, edge.v, nodes)\n",
    "    result = 0\n",
    "    print(\"Minimum distance: \", end = ' ')\n",
    "    for edge in MST:\n",
    "        if edge != MST[-1]:\n",
    "            print(edge.weight, end = ' + ')\n",
    "        else:\n",
    "            print(edge.weight)\n",
    "        result += edge.weight\n",
    "    return result\n",
    "\n",
    "if __name__ == '__main__':\n",
    "    n = int(input())\n",
    "    points = list(map(int, input().split()))\n",
    "    x = points[0::2]\n",
    "    y = points[1::2]\n",
    "    print(Kruskal(n, x, y))"
   ]
  },
  {
   "cell_type": "markdown",
   "metadata": {},
   "source": [
    "### Building Roads to Connect Cities (Prim's Algorithm)"
   ]
  },
  {
   "cell_type": "code",
   "execution_count": 2,
   "metadata": {},
   "outputs": [
    {
     "name": "stdout",
     "output_type": "stream",
     "text": [
      "5\n",
      "0 0 0 2 1 1 3 0 3 2\n",
      "Minimum distance:  1.4142135623730951 + 1.4142135623730951 + 2.23606797749979 + 2.0\n",
      "7.06449510224598\n"
     ]
    }
   ],
   "source": [
    "import math\n",
    "import heapq\n",
    "\n",
    "def Prim(n, adj, cost):\n",
    "    price = [float('inf') for _ in range(n)]\n",
    "    visited = [False for _ in range(n)]\n",
    "    parent = [None for _ in range(n)]\n",
    "    price[0] = 0\n",
    "    H = [(price[0], 0)]\n",
    "    heapq.heapify(H)\n",
    "    while len(H) != 0:\n",
    "        item = heapq.heappop(H)\n",
    "        vertex = item[1]\n",
    "        for i in range(n - 1):\n",
    "            if visited[adj[vertex][i]] == False:\n",
    "                if price[adj[vertex][i]] > cost[vertex][i]:\n",
    "                    price[adj[vertex][i]] = cost[vertex][i]\n",
    "                    parent[adj[vertex][i]] = vertex\n",
    "                    heapq.heappush(H, (price[adj[vertex][i]], adj[vertex][i]))\n",
    "        visited[vertex] = True\n",
    "    print(\"Minimum distance: \", end = ' ')\n",
    "    for item in range(1, len(price)):\n",
    "        if item != len(price) - 1:\n",
    "            print(price[item], end = ' + ')\n",
    "        else:\n",
    "            print(price[item])\n",
    "    return sum(price)\n",
    "\n",
    "if __name__ == '__main__':\n",
    "    n = int(input())\n",
    "    points = list(map(int, input().split()))\n",
    "    x = points[0::2]\n",
    "    y = points[1::2]\n",
    "    edges = []\n",
    "    for i in range(0, n):\n",
    "        for j in range(i + 1, n):\n",
    "            weight = math.sqrt((x[i] - x[j]) ** 2 + (y[i] - y[j]) ** 2)\n",
    "            edges.append((i, j, weight))\n",
    "    adj = [[] for _ in range(n)]\n",
    "    cost = [[] for _ in range(n)]   \n",
    "    for a, b, w in edges:\n",
    "        adj[a].append(b)\n",
    "        adj[b].append(a)\n",
    "        cost[a].append(w)\n",
    "        cost[b].append(w)\n",
    "    print(Prim(n, adj, cost))"
   ]
  },
  {
   "cell_type": "markdown",
   "metadata": {},
   "source": [
    "### Clustering\n",
    "\n",
    "**Problem Introduction:**\n",
    "Clustering is a fundamental problem in data mining. The goal is to partition\n",
    "a given set of objects into subsets (or clusters) in such a way that any two\n",
    "objects from the same subset are close (or similar) to each other, while any\n",
    "two objects from different subsets are far apart.\n",
    "\n",
    "**Task:** Given $n$ points on a plane and an integer $k$, compute the largest possible value of $d$ such that the\n",
    "given points can be partitioned into $k$ non-empty subsets in such a way that the distance between any\n",
    "two points from different subsets is at least $d$.\n",
    "\n",
    "**Input Format:** The first line contains the number $n$ of points. Each of the following $n$ lines defines a point\n",
    "$(x_i, y_i)$. The last line contains the number $k$ of clusters.\n",
    "\n",
    "**Constraints:** $2 \\leq k \\leq n \\leq 200; −10^3 \\leq x_i, y_i \\leq 10^3$  are integers. All points are pairwise different.\n",
    "\n",
    "**Output Format:** Output the largest value of 𝑑. The absolute value of the difference between the answer of\n",
    "your program and the optimal value should be at most $10^{−6}$. To ensure this, output your answer with\n",
    "at least seven digits after the decimal point (otherwise your answer, while being computed correctly,\n",
    "can turn out to be wrong because of rounding issues)."
   ]
  },
  {
   "cell_type": "code",
   "execution_count": null,
   "metadata": {},
   "outputs": [],
   "source": []
  }
 ],
 "metadata": {
  "kernelspec": {
   "display_name": "Python 3",
   "language": "python",
   "name": "python3"
  },
  "language_info": {
   "codemirror_mode": {
    "name": "ipython",
    "version": 3
   },
   "file_extension": ".py",
   "mimetype": "text/x-python",
   "name": "python",
   "nbconvert_exporter": "python",
   "pygments_lexer": "ipython3",
   "version": "3.8.3"
  }
 },
 "nbformat": 4,
 "nbformat_minor": 2
}
