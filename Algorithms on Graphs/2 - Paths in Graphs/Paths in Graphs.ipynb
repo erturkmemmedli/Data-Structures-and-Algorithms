{
 "cells": [
  {
   "cell_type": "markdown",
   "metadata": {},
   "source": [
    "## Paths in Graphs"
   ]
  },
  {
   "cell_type": "markdown",
   "metadata": {},
   "source": [
    "### Computing the Minimum Number of Flight Segments\n",
    "\n",
    "**Problem Introduction:**\n",
    "You would like to compute the minimum number of flight segments to get from one city to another one. For\n",
    "this, you construct the following undirected graph: vertices represent cities, there is an edge between two\n",
    "vertices whenever there is a flight between the corresponding two cities. Then, it suffices to find a shortest\n",
    "path from one of the given cities to the other one.\n",
    "\n",
    "**Task:** Given an undirected graph with $n$ vertices and $m$ edges and two vertices $u$ and $v$, compute the length\n",
    "of a shortest path between $u$ and $v$ (that is, the minimum number of edges in a path from $u$ to $v$).\n",
    "\n",
    "**Input Format:** A graph is given in the standard format. The next line contains two vertices $u$ and $v$.\n",
    "\n",
    "**Constraints:** $2 \\leq n \\leq 10^5, 0 \\leq m \\leq 10^5, u \\neq v, 1 \\leq u, v ≤ n$.\n",
    "\n",
    "**Output Format:** Output the minimum number of edges in a path from $u$ to $v$, or $−1$ if there is no path."
   ]
  },
  {
   "cell_type": "code",
   "execution_count": 2,
   "metadata": {},
   "outputs": [
    {
     "name": "stdout",
     "output_type": "stream",
     "text": [
      "5 4\n",
      "5 2 1 3 3 4 1 4\n",
      "3 5\n",
      "-1\n"
     ]
    }
   ],
   "source": [
    "from collections import deque\n",
    "\n",
    "def BFS(adjacency_list, start, end):\n",
    "    distance = [float('inf') for _ in range(len(adjacency_list))]\n",
    "    distance[start] = 0\n",
    "    Q = deque([start])\n",
    "    while len(Q) != 0:\n",
    "        vertex = Q.popleft()\n",
    "        for path in adjacency_list[vertex]:\n",
    "            if distance[path] == float('inf'):\n",
    "                Q.append(path)\n",
    "                distance[path] = distance[vertex] + 1\n",
    "                if path == end:\n",
    "                    return distance[path]\n",
    "    return -1\n",
    "\n",
    "if __name__ == '__main__':\n",
    "    vertex, edge = map(int, input().split())\n",
    "    data = list(map(int, input().split()))\n",
    "    edges = []\n",
    "    for i in range(0, len(data), 2):\n",
    "        edges.append(data[i:i+2])\n",
    "    start, end = map(int, input().split())\n",
    "    start, end = start - 1, end - 1\n",
    "    adjacency_list = [[] for _ in range(vertex)]\n",
    "    for a, b in edges:\n",
    "        adjacency_list[a - 1].append(b - 1)\n",
    "        adjacency_list[b - 1].append(a - 1)\n",
    "    print(BFS(adjacency_list, start, end))"
   ]
  },
  {
   "cell_type": "markdown",
   "metadata": {},
   "source": [
    "### Reconstruction of Path in Breadth-First Search"
   ]
  },
  {
   "cell_type": "code",
   "execution_count": 4,
   "metadata": {},
   "outputs": [
    {
     "name": "stdout",
     "output_type": "stream",
     "text": [
      "100 100\n",
      "27 96 6 9 81 98 21 94 22 68 76 100 8 50 38 86 71 75 32 93 16 50 71 84 6 72 22 58 7 19 19 76 44 75 24 76 31 35 11 89 42 98 63 92 37 38 20 98 45 91 23 53 37 91 76 93 67 90 12 22 43 52 23 56 67 68 1 21 17 83 63 72 30 32 7 91 50 69 38 44 55 89 15 23 11 72 28 42 22 69 56 79 5 83 55 73 13 72 7 93 20 54 21 55 66 89 2 91 18 88 26 64 11 61 28 59 12 86 42 95 17 82 50 66 66 99 40 71 20 40 5 66 92 95 32 46 7 36 44 94 6 31 19 67 26 57 53 84 10 68 28 74 34 94 25 61 71 88 10 89 28 52 72 79 39 73 11 80 44 79 13 77 30 96 30 53 10 39 1 90 40 91 62 71 44 54 15 17 69 74 13 67 24 69 34 96 21 50 20 91 42 46\n",
      "11 68\n",
      "shortest distance:  3\n",
      "shortest path:  11 -> 89 -> 10 -> 68\n"
     ]
    }
   ],
   "source": [
    "from collections import deque\n",
    "\n",
    "def BFS(adjacency_list, start, end):\n",
    "    distance = [float('inf') for _ in range(len(adjacency_list))]\n",
    "    parent = [None for _ in range(len(adjacency_list))]\n",
    "    distance[start] = 0\n",
    "    Q = deque([start])\n",
    "    while len(Q) != 0:\n",
    "        vertex = Q.popleft()\n",
    "        for path in adjacency_list[vertex]:\n",
    "            if distance[path] == float('inf'):\n",
    "                Q.append(path)\n",
    "                distance[path] = distance[vertex] + 1\n",
    "                parent[path] = vertex\n",
    "                if path == end:\n",
    "                    print('shortest distance: ', distance[path])\n",
    "                    return parent\n",
    "    return None\n",
    "\n",
    "def ReconstructPath(start, end, parent):\n",
    "    result = []\n",
    "    while end != None:\n",
    "        result.append(end)\n",
    "        end = parent[end]\n",
    "    return list(reversed(result))\n",
    "\n",
    "if __name__ == '__main__':\n",
    "    vertex, edge = map(int, input().split())\n",
    "    data = list(map(int, input().split()))\n",
    "    edges = []\n",
    "    for i in range(0, len(data), 2):\n",
    "        edges.append(data[i:i+2])\n",
    "    start, end = map(int, input().split())\n",
    "    start, end = start - 1, end - 1\n",
    "    adjacency_list = [[] for _ in range(vertex)]\n",
    "    for a, b in edges:\n",
    "        adjacency_list[a - 1].append(b - 1)\n",
    "        adjacency_list[b - 1].append(a - 1)\n",
    "    parent = BFS(adjacency_list, start, end)\n",
    "    if parent is None:\n",
    "        print(f'There is no path from {start + 1} to {end + 1}')\n",
    "    else:\n",
    "        result = ReconstructPath(start, end, parent)\n",
    "        print('shortest path: ', end = ' ')\n",
    "        for i in result:\n",
    "            if i != result[-1]:\n",
    "                print(i + 1, end = ' -> ')\n",
    "            else:\n",
    "                print(i + 1)"
   ]
  },
  {
   "cell_type": "markdown",
   "metadata": {},
   "source": [
    "### Checking whether a Graph is Bipartite\n",
    "\n",
    "**Problem Introduction:**\n",
    "An undirected graph is called bipartite if its vertices can be split into two parts such that each edge of the\n",
    "graph joins to vertices from different parts. Bipartite graphs arise naturally in applications where a graph\n",
    "is used to model connections between objects of two different types (say, boys and girls; or students and\n",
    "dormitories).\n",
    "\n",
    "An alternative definition is the following: a graph is bipartite if its vertices can be colored with two colors\n",
    "(say, black and white) such that the endpoints of each edge have different colors.\n",
    "\n",
    "**Task:** Given an undirected graph with $n$ vertices and $m$ edges, check whether it is bipartite.\n",
    "\n",
    "**Input Format:** A graph is given in the standard format.\n",
    "\n",
    "**Constraints:** $1 \\leq n \\leq 10^5, 0 \\leq m \\leq 10^5$.\n",
    "\n",
    "**Output Format:** Output $1$ if the graph is bipartite and $0$ otherwise."
   ]
  },
  {
   "cell_type": "code",
   "execution_count": 1,
   "metadata": {},
   "outputs": [
    {
     "name": "stdout",
     "output_type": "stream",
     "text": [
      "6 5\n",
      "1 2 2 3 4 5 5 6 4 6\n",
      "0\n"
     ]
    }
   ],
   "source": [
    "from collections import deque\n",
    "\n",
    "def BFS(adjacency_list):\n",
    "    color = [None for _ in range(len(adjacency_list))]\n",
    "    for i in range(len(adjacency_list)):\n",
    "        if color[i] is None:\n",
    "            color[i] = 'W'\n",
    "            Q = deque([i])\n",
    "            while len(Q) != 0:\n",
    "                vertex = Q.popleft()\n",
    "                for path in adjacency_list[vertex]:\n",
    "                    if color[path] is None:\n",
    "                        if color[vertex] == 'W':\n",
    "                            Q.append(path)\n",
    "                            color[path] = 'B'\n",
    "                        if color[vertex] == 'B':\n",
    "                            Q.append(path)\n",
    "                            color[path] = 'W'\n",
    "                    else:\n",
    "                        if (color[vertex] == 'W' and color[path] == 'W') or (color[vertex] == 'B' and color[path] == 'B'):\n",
    "                            return 0\n",
    "    return 1\n",
    "\n",
    "if __name__ == '__main__':\n",
    "    vertex, edge = map(int, input().split())\n",
    "    data = list(map(int, input().split()))\n",
    "    edges = []\n",
    "    for i in range(0, len(data), 2):\n",
    "        edges.append(data[i:i+2])\n",
    "    adjacency_list = [[] for _ in range(vertex)]\n",
    "    for a, b in edges:\n",
    "        adjacency_list[a - 1].append(b - 1)\n",
    "        adjacency_list[b - 1].append(a - 1)\n",
    "    print(BFS(adjacency_list))"
   ]
  },
  {
   "cell_type": "markdown",
   "metadata": {},
   "source": [
    "### Computing the Minimum Cost of a Flight (Dijkstra's Algorithm)\n",
    "\n",
    "**Problem Introduction:**\n",
    "Now, you are interested in minimizing not the number of segments, but the total cost of a flight. For this\n",
    "you construct a weighted graph: the weight of an edge from one city to another one is the cost of the\n",
    "corresponding flight.\n",
    "\n",
    "**Task:** Given an directed graph with positive edge weights and with $n$ vertices and $m$ edges as well as two\n",
    "vertices $u$ and $v$, compute the weight of a shortest path between $u$ and $v$ (that is, the minimum total\n",
    "weight of a path from $u$ to $v$).\n",
    "\n",
    "**Input Format:** A graph is given in the standard format. The next line contains two vertices $u$ and $v$.\n",
    "\n",
    "**Constraints:** $1 \\leq n \\leq 10^4, 0 \\leq m \\leq 10^5, u \\neq v, 1 \\leq u, v ≤ n$, edge weights are non-negative integers not exceeding $10^8$.\n",
    "\n",
    "**Output Format:** Output the minimum weight of a path from $u$ to $v$, or $−1$ if there is no path."
   ]
  },
  {
   "cell_type": "code",
   "execution_count": 8,
   "metadata": {},
   "outputs": [
    {
     "name": "stdout",
     "output_type": "stream",
     "text": [
      "4 4\n",
      "1 2 1 4 1 2 2 3 2 1 3 5\n",
      "1 3\n",
      "3\n"
     ]
    }
   ],
   "source": [
    "import heapq\n",
    "\n",
    "def Dijkstra(adjacency_list, cost_list, start, end):\n",
    "    distance = [float('inf') for _ in range(len(adjacency_list))]\n",
    "    distance[start] = 0\n",
    "    H = [(distance[start], start)]\n",
    "    while len(H) != 0:\n",
    "        heapq.heapify(H)\n",
    "        item = heapq.heappop(H)\n",
    "        vertex = item[1]\n",
    "        for i in range(len(adjacency_list[vertex])):\n",
    "            if distance[adjacency_list[vertex][i]] > distance[vertex] + cost_list[vertex][i]:\n",
    "                distance[adjacency_list[vertex][i]] = distance[vertex] + cost_list[vertex][i]\n",
    "                H.append((distance[adjacency_list[vertex][i]], adjacency_list[vertex][i]))\n",
    "        if vertex == end:\n",
    "            return item[0]\n",
    "    return -1\n",
    "\n",
    "if __name__ == '__main__':\n",
    "    vertex, edge = map(int, input().split())\n",
    "    data = list(map(int, input().split()))\n",
    "    edges = []\n",
    "    for i in range(0, len(data), 3):\n",
    "        edges.append(data[i:i+3])\n",
    "    start, end = map(int, input().split())\n",
    "    start, end = start - 1, end - 1\n",
    "    adjacency_list = [[] for _ in range(vertex)]\n",
    "    cost_list = [[] for _ in range(vertex)]\n",
    "    for a, b, w in edges:\n",
    "        adjacency_list[a - 1].append(b - 1)\n",
    "        cost_list[a - 1].append(w)\n",
    "    print(Dijkstra(adjacency_list, cost_list, start, end))"
   ]
  },
  {
   "cell_type": "markdown",
   "metadata": {},
   "source": [
    "### Reconstruction of Path in Dijksta's Algorithm"
   ]
  },
  {
   "cell_type": "code",
   "execution_count": 11,
   "metadata": {},
   "outputs": [
    {
     "name": "stdout",
     "output_type": "stream",
     "text": [
      "5 9\n",
      "1 2 4 1 3 2 2 3 2 3 2 1 2 4 2 3 5 5 5 4 1 2 5 3 3 4 4\n",
      "1 5\n",
      "cost of route:  6\n",
      "fastest route:  1 -> 3 -> 2 -> 5\n"
     ]
    }
   ],
   "source": [
    "import heapq\n",
    "\n",
    "def Dijkstra(adjacency_list, cost_list, start, end):\n",
    "    distance = [float('inf') for _ in range(len(adjacency_list))]\n",
    "    parent = [None for _ in range(len(adjacency_list))]\n",
    "    distance[start] = 0\n",
    "    H = [(distance[start], start)]\n",
    "    while len(H) != 0:\n",
    "        heapq.heapify(H)\n",
    "        item = heapq.heappop(H)\n",
    "        vertex = item[1]\n",
    "        for i in range(len(adjacency_list[vertex])):\n",
    "            if distance[adjacency_list[vertex][i]] > distance[vertex] + cost_list[vertex][i]:\n",
    "                distance[adjacency_list[vertex][i]] = distance[vertex] + cost_list[vertex][i]\n",
    "                parent[adjacency_list[vertex][i]] = vertex\n",
    "                H.append((distance[adjacency_list[vertex][i]], adjacency_list[vertex][i]))\n",
    "        if vertex == end:\n",
    "            print('cost of route: ', item[0])\n",
    "            return parent\n",
    "    return None\n",
    "\n",
    "def ReconstructPath(start, end, parent):\n",
    "    result = []\n",
    "    while end != None:\n",
    "        result.append(end)\n",
    "        end = parent[end]\n",
    "    return list(reversed(result))\n",
    "\n",
    "if __name__ == '__main__':\n",
    "    vertex, edge = map(int, input().split())\n",
    "    data = list(map(int, input().split()))\n",
    "    edges = []\n",
    "    for i in range(0, len(data), 3):\n",
    "        edges.append(data[i:i+3])\n",
    "    start, end = map(int, input().split())\n",
    "    start, end = start - 1, end - 1\n",
    "    adjacency_list = [[] for _ in range(vertex)]\n",
    "    cost_list = [[] for _ in range(vertex)]\n",
    "    for a, b, w in edges:\n",
    "        adjacency_list[a - 1].append(b - 1)\n",
    "        cost_list[a - 1].append(w)\n",
    "    parent = Dijkstra(adjacency_list, cost_list, start, end)\n",
    "    if parent is None:\n",
    "        print(f'There is no path from {start + 1} to {end + 1}')\n",
    "    else:\n",
    "        result = ReconstructPath(start, end, parent)\n",
    "        print('fastest route: ', end = ' ')\n",
    "        for i in result:\n",
    "            if i != result[-1]:\n",
    "                print(i + 1, end = ' -> ')\n",
    "            else:\n",
    "                print(i + 1)"
   ]
  },
  {
   "cell_type": "markdown",
   "metadata": {},
   "source": [
    "    Alternative solution by using heapdict() function"
   ]
  },
  {
   "cell_type": "code",
   "execution_count": 12,
   "metadata": {},
   "outputs": [
    {
     "name": "stdout",
     "output_type": "stream",
     "text": [
      "5 9\n",
      "1 2 4 1 3 2 2 3 2 3 2 1 2 4 2 3 5 4 5 4 1 2 5 3 3 4 4\n",
      "1 4\n",
      "5\n"
     ]
    }
   ],
   "source": [
    "import heapdict\n",
    "\n",
    "def Dijkstra(adjacency_list, cost_list, start, end):\n",
    "    distance = [float('inf') for _ in range(len(adjacency_list))]\n",
    "    distance[start] = 0\n",
    "    h = heapdict.heapdict()\n",
    "    h[start] = distance[start]\n",
    "    while len(h) != 0:\n",
    "        item = h.popitem()\n",
    "        vertex = item[0]\n",
    "        for i in range(len(adjacency_list[vertex])):\n",
    "            if distance[adjacency_list[vertex][i]] > distance[vertex] + cost_list[vertex][i]:\n",
    "                distance[adjacency_list[vertex][i]] = distance[vertex] + cost_list[vertex][i]\n",
    "                h[adjacency_list[vertex][i]] = distance[adjacency_list[vertex][i]]\n",
    "        if vertex == end:\n",
    "            return item[1]\n",
    "    return -1\n",
    "\n",
    "if __name__ == '__main__':\n",
    "    vertex, edge = map(int, input().split())\n",
    "    data = list(map(int, input().split()))\n",
    "    edges = []\n",
    "    for i in range(0, len(data), 3):\n",
    "        edges.append(data[i:i+3])\n",
    "    start, end = map(int, input().split())\n",
    "    start, end = start - 1, end - 1\n",
    "    adjacency_list = [[] for _ in range(vertex)]\n",
    "    cost_list = [[] for _ in range(vertex)]\n",
    "    for a, b, w in edges:\n",
    "        adjacency_list[a - 1].append(b - 1)\n",
    "        cost_list[a - 1].append(w)\n",
    "    print(Dijkstra(adjacency_list, cost_list, start, end))"
   ]
  }
 ],
 "metadata": {
  "kernelspec": {
   "display_name": "Python 3",
   "language": "python",
   "name": "python3"
  },
  "language_info": {
   "codemirror_mode": {
    "name": "ipython",
    "version": 3
   },
   "file_extension": ".py",
   "mimetype": "text/x-python",
   "name": "python",
   "nbconvert_exporter": "python",
   "pygments_lexer": "ipython3",
   "version": "3.8.3"
  }
 },
 "nbformat": 4,
 "nbformat_minor": 2
}
