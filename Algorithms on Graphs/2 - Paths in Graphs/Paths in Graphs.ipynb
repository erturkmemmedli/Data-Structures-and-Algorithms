{
 "cells": [
  {
   "cell_type": "markdown",
   "metadata": {},
   "source": [
    "## Paths in Graphs"
   ]
  },
  {
   "cell_type": "markdown",
   "metadata": {},
   "source": [
    "### Computing the Minimum Number of Flight Segments\n",
    "\n",
    "**Problem Introduction:**\n",
    "You would like to compute the minimum number of flight segments to get from one city to another one. For\n",
    "this, you construct the following undirected graph: vertices represent cities, there is an edge between two\n",
    "vertices whenever there is a flight between the corresponding two cities. Then, it suffices to find a shortest\n",
    "path from one of the given cities to the other one.\n",
    "\n",
    "**Task:** Given an undirected graph with $n$ vertices and $m$ edges and two vertices $u$ and $v$, compute the length\n",
    "of a shortest path between $u$ and $v$ (that is, the minimum number of edges in a path from $u$ to $v$).\n",
    "\n",
    "**Input Format:** A graph is given in the standard format. The next line contains two vertices $u$ and $v$.\n",
    "\n",
    "**Constraints:** $2 \\leq n \\leq 10^5, 0 \\leq m \\leq 10^5, u \\neq v, 1 \\leq u, v ≤ n$.\n",
    "\n",
    "**Output Format:** Output the minimum number of edges in a path from $u$ to $v$, or $−1$ if there is no path."
   ]
  },
  {
   "cell_type": "code",
   "execution_count": 2,
   "metadata": {},
   "outputs": [
    {
     "name": "stdout",
     "output_type": "stream",
     "text": [
      "5 4\n",
      "5 2 1 3 3 4 1 4\n",
      "3 5\n",
      "-1\n"
     ]
    }
   ],
   "source": [
    "from collections import deque\n",
    "\n",
    "def BFS(adjacency_list, start, end):\n",
    "    distance = [float('inf') for _ in range(len(adjacency_list))]\n",
    "    distance[start] = 0\n",
    "    Q = deque([start])\n",
    "    while len(Q) != 0:\n",
    "        vertex = Q.popleft()\n",
    "        for path in adjacency_list[vertex]:\n",
    "            if distance[path] == float('inf'):\n",
    "                Q.append(path)\n",
    "                distance[path] = distance[vertex] + 1\n",
    "                if path == end:\n",
    "                    return distance[path]\n",
    "    return -1\n",
    "\n",
    "if __name__ == '__main__':\n",
    "    vertex, edge = map(int, input().split())\n",
    "    data = list(map(int, input().split()))\n",
    "    edges = []\n",
    "    for i in range(0, len(data), 2):\n",
    "        edges.append(data[i:i+2])\n",
    "    start, end = map(int, input().split())\n",
    "    start, end = start - 1, end - 1\n",
    "    adjacency_list = [[] for _ in range(vertex)]\n",
    "    for a, b in edges:\n",
    "        adjacency_list[a - 1].append(b - 1)\n",
    "        adjacency_list[b - 1].append(a - 1)\n",
    "    print(BFS(adjacency_list, start, end))"
   ]
  },
  {
   "cell_type": "markdown",
   "metadata": {},
   "source": [
    "### Reconstruction of Path in Breadth-First Search"
   ]
  },
  {
   "cell_type": "code",
   "execution_count": 4,
   "metadata": {},
   "outputs": [
    {
     "name": "stdout",
     "output_type": "stream",
     "text": [
      "100 100\n",
      "27 96 6 9 81 98 21 94 22 68 76 100 8 50 38 86 71 75 32 93 16 50 71 84 6 72 22 58 7 19 19 76 44 75 24 76 31 35 11 89 42 98 63 92 37 38 20 98 45 91 23 53 37 91 76 93 67 90 12 22 43 52 23 56 67 68 1 21 17 83 63 72 30 32 7 91 50 69 38 44 55 89 15 23 11 72 28 42 22 69 56 79 5 83 55 73 13 72 7 93 20 54 21 55 66 89 2 91 18 88 26 64 11 61 28 59 12 86 42 95 17 82 50 66 66 99 40 71 20 40 5 66 92 95 32 46 7 36 44 94 6 31 19 67 26 57 53 84 10 68 28 74 34 94 25 61 71 88 10 89 28 52 72 79 39 73 11 80 44 79 13 77 30 96 30 53 10 39 1 90 40 91 62 71 44 54 15 17 69 74 13 67 24 69 34 96 21 50 20 91 42 46\n",
      "11 68\n",
      "shortest distance:  3\n",
      "shortest path:  11 -> 89 -> 10 -> 68\n"
     ]
    }
   ],
   "source": [
    "from collections import deque\n",
    "\n",
    "def BFS(adjacency_list, start, end):\n",
    "    distance = [float('inf') for _ in range(len(adjacency_list))]\n",
    "    parent = [None for _ in range(len(adjacency_list))]\n",
    "    distance[start] = 0\n",
    "    Q = deque([start])\n",
    "    while len(Q) != 0:\n",
    "        vertex = Q.popleft()\n",
    "        for path in adjacency_list[vertex]:\n",
    "            if distance[path] == float('inf'):\n",
    "                Q.append(path)\n",
    "                distance[path] = distance[vertex] + 1\n",
    "                parent[path] = vertex\n",
    "                if path == end:\n",
    "                    print('shortest distance: ', distance[path])\n",
    "                    return parent\n",
    "    return None\n",
    "\n",
    "def ReconstructPath(start, end, parent):\n",
    "    result = []\n",
    "    while end != None:\n",
    "        result.append(end)\n",
    "        end = parent[end]\n",
    "    return list(reversed(result))\n",
    "\n",
    "if __name__ == '__main__':\n",
    "    vertex, edge = map(int, input().split())\n",
    "    data = list(map(int, input().split()))\n",
    "    edges = []\n",
    "    for i in range(0, len(data), 2):\n",
    "        edges.append(data[i:i+2])\n",
    "    start, end = map(int, input().split())\n",
    "    start, end = start - 1, end - 1\n",
    "    adjacency_list = [[] for _ in range(vertex)]\n",
    "    for a, b in edges:\n",
    "        adjacency_list[a - 1].append(b - 1)\n",
    "        adjacency_list[b - 1].append(a - 1)\n",
    "    parent = BFS(adjacency_list, start, end)\n",
    "    if parent is None:\n",
    "        print(f'There is no path from {start + 1} to {end + 1}')\n",
    "    else:\n",
    "        result = ReconstructPath(start, end, parent)\n",
    "        print('shortest path: ', end = ' ')\n",
    "        for i in result:\n",
    "            if i != result[-1]:\n",
    "                print(i + 1, end = ' -> ')\n",
    "            else:\n",
    "                print(i + 1)"
   ]
  },
  {
   "cell_type": "markdown",
   "metadata": {},
   "source": [
    "### Checking whether a Graph is Bipartite\n",
    "\n",
    "**Problem Introduction:**\n",
    "An undirected graph is called bipartite if its vertices can be split into two parts such that each edge of the\n",
    "graph joins to vertices from different parts. Bipartite graphs arise naturally in applications where a graph\n",
    "is used to model connections between objects of two different types (say, boys and girls; or students and\n",
    "dormitories).\n",
    "\n",
    "An alternative definition is the following: a graph is bipartite if its vertices can be colored with two colors\n",
    "(say, black and white) such that the endpoints of each edge have different colors.\n",
    "\n",
    "**Task:** Given an undirected graph with $n$ vertices and $m$ edges, check whether it is bipartite.\n",
    "\n",
    "**Input Format:** A graph is given in the standard format.\n",
    "\n",
    "**Constraints:** $1 \\leq n \\leq 10^5, 0 \\leq m \\leq 10^5$.\n",
    "\n",
    "**Output Format:** Output $1$ if the graph is bipartite and $0$ otherwise."
   ]
  },
  {
   "cell_type": "code",
   "execution_count": 1,
   "metadata": {},
   "outputs": [
    {
     "name": "stdout",
     "output_type": "stream",
     "text": [
      "6 5\n",
      "1 2 2 3 4 5 5 6 4 6\n",
      "0\n"
     ]
    }
   ],
   "source": [
    "from collections import deque\n",
    "\n",
    "def BFS(adjacency_list):\n",
    "    color = [None for _ in range(len(adjacency_list))]\n",
    "    for i in range(len(adjacency_list)):\n",
    "        if color[i] is None:\n",
    "            color[i] = 'W'\n",
    "            Q = deque([i])\n",
    "            while len(Q) != 0:\n",
    "                vertex = Q.popleft()\n",
    "                for path in adjacency_list[vertex]:\n",
    "                    if color[path] is None:\n",
    "                        if color[vertex] == 'W':\n",
    "                            Q.append(path)\n",
    "                            color[path] = 'B'\n",
    "                        if color[vertex] == 'B':\n",
    "                            Q.append(path)\n",
    "                            color[path] = 'W'\n",
    "                    else:\n",
    "                        if (color[vertex] == 'W' and color[path] == 'W') or (color[vertex] == 'B' and color[path] == 'B'):\n",
    "                            return 0\n",
    "    return 1\n",
    "\n",
    "if __name__ == '__main__':\n",
    "    vertex, edge = map(int, input().split())\n",
    "    data = list(map(int, input().split()))\n",
    "    edges = []\n",
    "    for i in range(0, len(data), 2):\n",
    "        edges.append(data[i:i+2])\n",
    "    adjacency_list = [[] for _ in range(vertex)]\n",
    "    for a, b in edges:\n",
    "        adjacency_list[a - 1].append(b - 1)\n",
    "        adjacency_list[b - 1].append(a - 1)\n",
    "    print(BFS(adjacency_list))"
   ]
  },
  {
   "cell_type": "markdown",
   "metadata": {},
   "source": [
    "### Computing the Minimum Cost of a Flight (Dijkstra's Algorithm)\n",
    "\n",
    "**Problem Introduction:**\n",
    "Now, you are interested in minimizing not the number of segments, but the total cost of a flight. For this\n",
    "you construct a weighted graph: the weight of an edge from one city to another one is the cost of the\n",
    "corresponding flight.\n",
    "\n",
    "**Task:** Given an directed graph with positive edge weights and with $n$ vertices and $m$ edges as well as two\n",
    "vertices $u$ and $v$, compute the weight of a shortest path between $u$ and $v$ (that is, the minimum total\n",
    "weight of a path from $u$ to $v$).\n",
    "\n",
    "**Input Format:** A graph is given in the standard format. The next line contains two vertices $u$ and $v$.\n",
    "\n",
    "**Constraints:** $1 \\leq n \\leq 10^4, 0 \\leq m \\leq 10^5, u \\neq v, 1 \\leq u, v ≤ n$, edge weights are non-negative integers not exceeding $10^8$.\n",
    "\n",
    "**Output Format:** Output the minimum weight of a path from $u$ to $v$, or $−1$ if there is no path."
   ]
  },
  {
   "cell_type": "code",
   "execution_count": 8,
   "metadata": {},
   "outputs": [
    {
     "name": "stdout",
     "output_type": "stream",
     "text": [
      "4 4\n",
      "1 2 1 4 1 2 2 3 2 1 3 5\n",
      "1 3\n",
      "3\n"
     ]
    }
   ],
   "source": [
    "import heapq\n",
    "\n",
    "def Dijkstra(adjacency_list, cost_list, start, end):\n",
    "    distance = [float('inf') for _ in range(len(adjacency_list))]\n",
    "    distance[start] = 0\n",
    "    H = [(distance[start], start)]\n",
    "    while len(H) != 0:\n",
    "        heapq.heapify(H)\n",
    "        item = heapq.heappop(H)\n",
    "        vertex = item[1]\n",
    "        for i in range(len(adjacency_list[vertex])):\n",
    "            if distance[adjacency_list[vertex][i]] > distance[vertex] + cost_list[vertex][i]:\n",
    "                distance[adjacency_list[vertex][i]] = distance[vertex] + cost_list[vertex][i]\n",
    "                H.append((distance[adjacency_list[vertex][i]], adjacency_list[vertex][i]))\n",
    "        if vertex == end:\n",
    "            return item[0]\n",
    "    return -1\n",
    "\n",
    "if __name__ == '__main__':\n",
    "    vertex, edge = map(int, input().split())\n",
    "    data = list(map(int, input().split()))\n",
    "    edges = []\n",
    "    for i in range(0, len(data), 3):\n",
    "        edges.append(data[i:i+3])\n",
    "    start, end = map(int, input().split())\n",
    "    start, end = start - 1, end - 1\n",
    "    adjacency_list = [[] for _ in range(vertex)]\n",
    "    cost_list = [[] for _ in range(vertex)]\n",
    "    for a, b, w in edges:\n",
    "        adjacency_list[a - 1].append(b - 1)\n",
    "        cost_list[a - 1].append(w)\n",
    "    print(Dijkstra(adjacency_list, cost_list, start, end))"
   ]
  },
  {
   "cell_type": "markdown",
   "metadata": {},
   "source": [
    "### Reconstruction of Path in Dijksta's Algorithm"
   ]
  },
  {
   "cell_type": "code",
   "execution_count": 11,
   "metadata": {},
   "outputs": [
    {
     "name": "stdout",
     "output_type": "stream",
     "text": [
      "5 9\n",
      "1 2 4 1 3 2 2 3 2 3 2 1 2 4 2 3 5 5 5 4 1 2 5 3 3 4 4\n",
      "1 5\n",
      "cost of route:  6\n",
      "fastest route:  1 -> 3 -> 2 -> 5\n"
     ]
    }
   ],
   "source": [
    "import heapq\n",
    "\n",
    "def Dijkstra(adjacency_list, cost_list, start, end):\n",
    "    distance = [float('inf') for _ in range(len(adjacency_list))]\n",
    "    parent = [None for _ in range(len(adjacency_list))]\n",
    "    distance[start] = 0\n",
    "    H = [(distance[start], start)]\n",
    "    while len(H) != 0:\n",
    "        heapq.heapify(H)\n",
    "        item = heapq.heappop(H)\n",
    "        vertex = item[1]\n",
    "        for i in range(len(adjacency_list[vertex])):\n",
    "            if distance[adjacency_list[vertex][i]] > distance[vertex] + cost_list[vertex][i]:\n",
    "                distance[adjacency_list[vertex][i]] = distance[vertex] + cost_list[vertex][i]\n",
    "                parent[adjacency_list[vertex][i]] = vertex\n",
    "                H.append((distance[adjacency_list[vertex][i]], adjacency_list[vertex][i]))\n",
    "        if vertex == end:\n",
    "            print('cost of route: ', item[0])\n",
    "            return parent\n",
    "    return None\n",
    "\n",
    "def ReconstructPath(start, end, parent):\n",
    "    result = []\n",
    "    while end != None:\n",
    "        result.append(end)\n",
    "        end = parent[end]\n",
    "    return list(reversed(result))\n",
    "\n",
    "if __name__ == '__main__':\n",
    "    vertex, edge = map(int, input().split())\n",
    "    data = list(map(int, input().split()))\n",
    "    edges = []\n",
    "    for i in range(0, len(data), 3):\n",
    "        edges.append(data[i:i+3])\n",
    "    start, end = map(int, input().split())\n",
    "    start, end = start - 1, end - 1\n",
    "    adjacency_list = [[] for _ in range(vertex)]\n",
    "    cost_list = [[] for _ in range(vertex)]\n",
    "    for a, b, w in edges:\n",
    "        adjacency_list[a - 1].append(b - 1)\n",
    "        cost_list[a - 1].append(w)\n",
    "    parent = Dijkstra(adjacency_list, cost_list, start, end)\n",
    "    if parent is None:\n",
    "        print(f'There is no path from {start + 1} to {end + 1}')\n",
    "    else:\n",
    "        result = ReconstructPath(start, end, parent)\n",
    "        print('fastest route: ', end = ' ')\n",
    "        for i in result:\n",
    "            if i != result[-1]:\n",
    "                print(i + 1, end = ' -> ')\n",
    "            else:\n",
    "                print(i + 1)"
   ]
  },
  {
   "cell_type": "markdown",
   "metadata": {},
   "source": [
    "    Alternative solution of Dijkstra's Algorithm by using heapdict() function."
   ]
  },
  {
   "cell_type": "code",
   "execution_count": 12,
   "metadata": {},
   "outputs": [
    {
     "name": "stdout",
     "output_type": "stream",
     "text": [
      "5 9\n",
      "1 2 4 1 3 2 2 3 2 3 2 1 2 4 2 3 5 4 5 4 1 2 5 3 3 4 4\n",
      "1 4\n",
      "5\n"
     ]
    }
   ],
   "source": [
    "import heapdict\n",
    "\n",
    "def Dijkstra(adjacency_list, cost_list, start, end):\n",
    "    distance = [float('inf') for _ in range(len(adjacency_list))]\n",
    "    distance[start] = 0\n",
    "    h = heapdict.heapdict()\n",
    "    h[start] = distance[start]\n",
    "    while len(h) != 0:\n",
    "        item = h.popitem()\n",
    "        vertex = item[0]\n",
    "        for i in range(len(adjacency_list[vertex])):\n",
    "            if distance[adjacency_list[vertex][i]] > distance[vertex] + cost_list[vertex][i]:\n",
    "                distance[adjacency_list[vertex][i]] = distance[vertex] + cost_list[vertex][i]\n",
    "                h[adjacency_list[vertex][i]] = distance[adjacency_list[vertex][i]]\n",
    "        if vertex == end:\n",
    "            return item[1]\n",
    "    return -1\n",
    "\n",
    "if __name__ == '__main__':\n",
    "    vertex, edge = map(int, input().split())\n",
    "    data = list(map(int, input().split()))\n",
    "    edges = []\n",
    "    for i in range(0, len(data), 3):\n",
    "        edges.append(data[i:i+3])\n",
    "    start, end = map(int, input().split())\n",
    "    start, end = start - 1, end - 1\n",
    "    adjacency_list = [[] for _ in range(vertex)]\n",
    "    cost_list = [[] for _ in range(vertex)]\n",
    "    for a, b, w in edges:\n",
    "        adjacency_list[a - 1].append(b - 1)\n",
    "        cost_list[a - 1].append(w)\n",
    "    print(Dijkstra(adjacency_list, cost_list, start, end))"
   ]
  },
  {
   "cell_type": "markdown",
   "metadata": {},
   "source": [
    "    Now, we give random input for boundary conditions to verify whether the code is as fast as desired.\n",
    "    Furthermore, we reconstruct the path to see which path we need to travel for fastest route."
   ]
  },
  {
   "cell_type": "code",
   "execution_count": 27,
   "metadata": {},
   "outputs": [
    {
     "name": "stdout",
     "output_type": "stream",
     "text": [
      "10000 100000\n",
      "777 7777\n",
      "cost of route:  13\n",
      "fastest route:  777 -> 6692 -> 5615 -> 1805 -> 1130 -> 8672 -> 7777\n"
     ]
    }
   ],
   "source": [
    "import heapdict\n",
    "from random import randint\n",
    "\n",
    "def Dijkstra(adjacency_list, cost_list, start, end):\n",
    "    distance = [float('inf') for _ in range(len(adjacency_list))]\n",
    "    parent = [None for _ in range(len(adjacency_list))]\n",
    "    distance[start] = 0\n",
    "    h = heapdict.heapdict()\n",
    "    h[start] = distance[start]\n",
    "    while len(h) != 0:\n",
    "        item = h.popitem()\n",
    "        vertex = item[0]\n",
    "        for i in range(len(adjacency_list[vertex])):\n",
    "            if distance[adjacency_list[vertex][i]] > distance[vertex] + cost_list[vertex][i]:\n",
    "                distance[adjacency_list[vertex][i]] = distance[vertex] + cost_list[vertex][i]\n",
    "                parent[adjacency_list[vertex][i]] = vertex\n",
    "                h[adjacency_list[vertex][i]] = distance[adjacency_list[vertex][i]]\n",
    "        if vertex == end:\n",
    "            print('cost of route: ', item[1])\n",
    "            return parent\n",
    "    return None\n",
    "\n",
    "def ReconstructPath(start, end, parent):\n",
    "    result = []\n",
    "    while end != None:\n",
    "        result.append(end)\n",
    "        end = parent[end]\n",
    "    return list(reversed(result))\n",
    "\n",
    "if __name__ == '__main__':\n",
    "    vertex, edge = map(int, input().split())\n",
    "    data = [(randint(1, vertex), randint(1, vertex), randint(1, 10)) for _ in range(edge)]\n",
    "    start, end = map(int, input().split())\n",
    "    start, end = start - 1, end - 1\n",
    "    adjacency_list = [[] for _ in range(vertex)]\n",
    "    cost_list = [[] for _ in range(vertex)]\n",
    "    for a, b, w in data:\n",
    "        adjacency_list[a - 1].append(b - 1)\n",
    "        cost_list[a - 1].append(w)\n",
    "    parent = Dijkstra(adjacency_list, cost_list, start, end)\n",
    "    if parent is None:\n",
    "        print(f'There is no path from {start + 1} to {end + 1}')\n",
    "    else:\n",
    "        result = ReconstructPath(start, end, parent)\n",
    "        print('fastest route: ', end = ' ')\n",
    "        for i in result:\n",
    "            if i != result[-1]:\n",
    "                print(i + 1, end = ' -> ')\n",
    "            else:\n",
    "                print(i + 1)"
   ]
  },
  {
   "cell_type": "markdown",
   "metadata": {},
   "source": [
    "### Detecting Anomalies in Currency Exchange Rates (Bellman-Ford Algorithm)\n",
    "\n",
    "**Problem Introduction:**\n",
    "You are given a list of currencies $c_1, c_2, \\dotsc , c_n$ together with a list of exchange\n",
    "rates: $r_{ij}$ is the number of units of currency $c_j$ that one gets for one unit\n",
    "of $c_i$. You would like to check whether it is possible to start with one unit\n",
    "of some currency, perform a sequence of exchanges, and get more than one\n",
    "unit of the same currency. In other words, you would like to find currencies\n",
    "$c_{i_1} , c_{i_2} , \\dotsc , c_{i_k}$ such that\n",
    "$r_{i_1,i_2} \\cdot r_{i_2,i_3} \\cdot r_{i_{k-1},i_k} , r_{i_k,i_1} > 1$. For this, you construct\n",
    "the following graph: vertices are currencies $c_1, c_2, \\dotsc , c_n$, the weight of\n",
    "an edge from $c_i$ to $c_j$ is equal to $ − \\log r_{ij}$. There it suffices to check whether is\n",
    "a negative cycle in this graph. Indeed, assume that a cycle $c_i → c_j → c_k → c_i$\n",
    "has negative weight. This means that $−(\\log c_{ij} + \\log c_{jk} + \\log c_{ki}) < 0$ and\n",
    "hence $\\log c_{ij} + \\log c_{jk} + \\log c_{ki} > 0$. This, in turn, means that\n",
    "$$r_{ij}r_{jk}r_{ji} = 2^{\\log c_{ij}}2^{\\log c_{jk}}2^{\\log c_{ki}} = 2^{\\log c_{ij} + \\log c_{jk} + \\log c_{ki}} > 1$$.\n",
    "\n",
    "**Task:** Given an directed graph with possibly negative edge weights and with $n$ vertices and $m$ edges, check\n",
    "whether it contains a cycle of negative weight.\n",
    "\n",
    "**Input Format:** A graph is given in the standard format.\n",
    "\n",
    "**Constraints:** $1 \\leq n \\leq 10^3, 0 \\leq m \\leq 10^4$, edge weights are integers of absolute value at most $10^3$.\n",
    "\n",
    "**Output Format:** Output $1$ if the graph contains a cycle of negative weight and $0$ otherwise."
   ]
  },
  {
   "cell_type": "code",
   "execution_count": 18,
   "metadata": {},
   "outputs": [
    {
     "name": "stdout",
     "output_type": "stream",
     "text": [
      "4 4\n",
      "1 2 -5 4 1 2 2 3 2 3 1 1\n",
      "1\n"
     ]
    }
   ],
   "source": [
    "def Bellman_Ford(adjacency_list, cost_list):\n",
    "    distance = [10**19 for _ in range(len(adjacency_list))]\n",
    "    distance[0] = 0\n",
    "    for _ in range(len(adjacency_list) - 1):\n",
    "        for u in range(len(adjacency_list)):\n",
    "            for v in adjacency_list[u]:\n",
    "                index = adjacency_list[u].index(v)\n",
    "                if distance[v] > distance[u] + cost_list[u][index]:\n",
    "                    distance[v] = distance[u] + cost_list[u][index]                   \n",
    "    reserved = list(distance)                    \n",
    "    for i in range(len(adjacency_list)):\n",
    "        for j in adjacency_list[i]:\n",
    "            index = adjacency_list[i].index(j)\n",
    "            if distance[j] > distance[i] + cost_list[i][index]:\n",
    "                distance[j] = distance[i] + cost_list[i][index]\n",
    "    return 0 if reserved == distance else 1\n",
    "\n",
    "if __name__ == '__main__':\n",
    "    vertex, edge = map(int, input().split())\n",
    "    data = list(map(int, input().split()))\n",
    "    edges = []\n",
    "    for i in range(0, len(data), 3):\n",
    "        edges.append(data[i:i+3])\n",
    "    adjacency_list = [[] for _ in range(vertex)]\n",
    "    cost_list = [[] for _ in range(vertex)]\n",
    "    for a, b, w in edges:\n",
    "        adjacency_list[a - 1].append(b - 1)\n",
    "        cost_list[a - 1].append(w)\n",
    "    print(Bellman_Ford(adjacency_list, cost_list))"
   ]
  },
  {
   "cell_type": "markdown",
   "metadata": {},
   "source": [
    "### Exchanging Money Optimally\n",
    "\n",
    "**Problem Introduction:**\n",
    "Now, you would like to compute an optimal way of exchanging the given currency $c_i$ into all other currencies.\n",
    "For this, you find shortest paths from the vertex $c_i$ to all the other vertices.\n",
    "\n",
    "**Task:** Given an directed graph with possibly negative edge weights and with $n$ vertices and $m$ edges as well\n",
    "as its vertex $s$, compute the length of shortest paths from $s$ to all other vertices of the graph.\n",
    "Input Format. A graph is given in the standard format.\n",
    "\n",
    "**Constraints:** $1 \\leq n \\leq 10^3, 0 \\leq m \\leq 10^4, 1 \\leq s \\leq n$, edge weights are integers of absolute value at most\n",
    "$10^9$.\n",
    "\n",
    "**Output Format:** For all vertices $i$ from $1$ to $n$ output the following on a separate line:\n",
    "- $\"*\"$, if there is no path from $s$ to $u$;\n",
    "- $\"-\"$, if there is a path from $s$ to $u$, but there is no shortest path from $s$ to $u$ (that is, the distance\n",
    "from $s$ to $u$ is $-\\infty$);\n",
    "- the length of a shortest path otherwise."
   ]
  },
  {
   "cell_type": "code",
   "execution_count": null,
   "metadata": {},
   "outputs": [],
   "source": [
    "import queue\n",
    "\n",
    "def shortet_paths(adj, cost, s, distance, reachable, shortest):\n",
    "    #write your code here\n",
    "    pass\n",
    "\n",
    "if __name__ == '__main__':\n",
    "    data = list(map(int, input().split()))\n",
    "    n, m = data[0:2]\n",
    "    data = data[2:]\n",
    "    edges = list(zip(zip(data[0:(3 * m):3], data[1:(3 * m):3]), data[2:(3 * m):3]))\n",
    "    data = data[3 * m:]\n",
    "    adj = [[] for _ in range(n)]\n",
    "    cost = [[] for _ in range(n)]\n",
    "    for ((a, b), w) in edges:\n",
    "        adj[a - 1].append(b - 1)\n",
    "        cost[a - 1].append(w)\n",
    "    s = data[0]\n",
    "    s -= 1\n",
    "    distance = [10**19] * n\n",
    "    reachable = [0] * n\n",
    "    shortest = [1] * n\n",
    "    shortet_paths(adj, cost, s, distance, reachable, shortest)\n",
    "    for x in range(n):\n",
    "        if reachable[x] == 0:\n",
    "            print('*')\n",
    "        elif shortest[x] == 0:\n",
    "            print('-')\n",
    "        else:\n",
    "            print(distance[x])"
   ]
  }
 ],
 "metadata": {
  "kernelspec": {
   "display_name": "Python 3",
   "language": "python",
   "name": "python3"
  },
  "language_info": {
   "codemirror_mode": {
    "name": "ipython",
    "version": 3
   },
   "file_extension": ".py",
   "mimetype": "text/x-python",
   "name": "python",
   "nbconvert_exporter": "python",
   "pygments_lexer": "ipython3",
   "version": "3.7.3"
  }
 },
 "nbformat": 4,
 "nbformat_minor": 2
}
