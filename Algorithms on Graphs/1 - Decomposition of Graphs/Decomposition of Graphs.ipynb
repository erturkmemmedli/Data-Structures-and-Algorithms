{
 "cells": [
  {
   "cell_type": "markdown",
   "metadata": {},
   "source": [
    "## Decomposition of Graphs"
   ]
  },
  {
   "cell_type": "markdown",
   "metadata": {},
   "source": [
    "### Finding an Exit from a Maze\n",
    "\n",
    "**Problem Introduction:**\n",
    "A maze is a rectangular grid of cells with walls between some of adjacent cells.\n",
    "You would like to check whether there is a path from a given cell to a given\n",
    "exit from a maze where an exit is also a cell that lies on the border of the maze\n",
    "(in the example shown to the right there are two exits: one on the left border\n",
    "and one on the right border). For this, you represent the maze as an undirected\n",
    "graph: vertices of the graph are cells of the maze, two vertices are connected by\n",
    "an undirected edge if they are adjacent and there is no wall between them. Then,\n",
    "to check whether there is a path between two given cells in the maze, it suffices to\n",
    "check that there is a path between the corresponding two vertices in the graph.\n",
    "\n",
    "**Task:** Given an undirected graph and two distinct vertices $u$ and $v$, check if there is a path between $u$ and $v$.\n",
    "\n",
    "**Input Format:** An undirected graph with $n$ vertices and $m$ edges. The next line contains two vertices $u$\n",
    "and $v$ of the graph.\n",
    "\n",
    "**Constraints:** $2 \\leq n \\leq 10^3; 1 \\leq m \\leq 10^3; 1 \\leq u, v \\leq n; u \\neq v.$\n",
    "\n",
    "**Output Format:** Output $1$ if there is a path between $u$ and $v$ and $0$ otherwise."
   ]
  },
  {
   "cell_type": "code",
   "execution_count": 1,
   "metadata": {},
   "outputs": [
    {
     "name": "stdout",
     "output_type": "stream",
     "text": [
      "100 100\n",
      "27 96 6 9 81 98 21 94 22 68 76 100 8 50 38 86 71 75 32 93 16 50 71 84 6 72 22 58 7 19 19 76 44 75 24 76 31 35 11 89 42 98 63 92 37 38 20 98 45 91 23 53 37 91 76 93 67 90 12 22 43 52 23 56 67 68 1 21 17 83 63 72 30 32 7 91 50 69 38 44 55 89 15 23 11 72 28 42 22 69 56 79 5 83 55 73 13 72 7 93 20 54 21 55 66 89 2 91 18 88 26 64 11 61 28 59 12 86 42 95 17 82 50 66 66 99 40 71 20 40 5 66 92 95 32 46 7 36 44 94 6 31 19 67 26 57 53 84 10 68 28 74 34 94 25 61 71 88 10 89 28 52 72 79 39 73 11 80 44 79 13 77 30 96 30 53 10 39 1 90 40 91 62 71 44 54 15 17 69 74 13 67 24 69 34 96 21 50 20 91 42 46\n",
      "42 46\n",
      "1\n"
     ]
    }
   ],
   "source": [
    "def explore(adjacency_list, start, end, visited):\n",
    "    if visited[start] == False:\n",
    "        if start == end:\n",
    "            return 1\n",
    "        visited[start] = True \n",
    "        for neighbor in adjacency_list[start]:\n",
    "            # print('vertex', start, 'neighbor', neighbor)\n",
    "            if neighbor == end:\n",
    "                return 1\n",
    "            if explore(adjacency_list, neighbor, end, visited):\n",
    "                return 1\n",
    "    return 0\n",
    "\n",
    "if __name__ == '__main__':\n",
    "    # Number of vertices and number of edges are given.\n",
    "    vertex, edge = map(int, input().split())\n",
    "    # Edges are given so that we know which vertices are connected.\n",
    "    # edges = [tuple(map(int, input().split())) for _ in range(edge)]\n",
    "    data = list(map(int, input().split()))\n",
    "    edges = []\n",
    "    for i in range(0, len(data), 2):\n",
    "        edges.append(data[i:i+2])\n",
    "    # Starting vertex and ending vertex are given.\n",
    "    start, end = map(int, input().split())\n",
    "    # Since vertices are given in 1-based index, we need to convert them to 0-based index.\n",
    "    start, end = start - 1, end - 1\n",
    "    # Create adjacency list consisting of empty lists.\n",
    "    adjacency_list = [[] for _ in range(vertex)]\n",
    "    # Construct adjacency list by filling empty sub-lists.\n",
    "    # Here, as well, we need to convert 1-based indices to 0-based indices.\n",
    "    for a, b in edges:\n",
    "        adjacency_list[a - 1].append(b - 1)\n",
    "        adjacency_list[b - 1].append(a - 1)\n",
    "    # At first, assign all vertices as non-visited\n",
    "    visited = [False for _ in range(len(adjacency_list))]\n",
    "    # Print if there \"end\" vertex is reachable from \"start\" vertex.\n",
    "    print(explore(adjacency_list, start, end, visited))"
   ]
  },
  {
   "cell_type": "markdown",
   "metadata": {},
   "source": [
    "### Adding Exits to a Maze\n",
    "\n",
    "**Problem Introduction:**\n",
    "Now you decide to make sure that there are no dead zones in a maze, that is, that at least one exit is\n",
    "reachable from each cell. For this, you find connected components of the corresponding undirected graph\n",
    "and ensure that each component contains an exit cell.\n",
    "\n",
    "**Task:** Given an undirected graph with $n$ vertices and $m$ edges, compute the number of connected components\n",
    "in it.\n",
    "\n",
    "**Input Format:** A graph is given in the standard format.\n",
    "\n",
    "**Constraints:**. $1 \\leq n \\leq 10^3, 0 \\leq m \\leq 10^3$.\n",
    "\n",
    "**Output Format:** Output the number of connected components."
   ]
  },
  {
   "cell_type": "code",
   "execution_count": 3,
   "metadata": {},
   "outputs": [
    {
     "name": "stdout",
     "output_type": "stream",
     "text": [
      "4 2\n",
      "1 2 3 2\n",
      "connected components: [1, 1, 1, 2]\n",
      "2\n"
     ]
    }
   ],
   "source": [
    "def DFS(adjacency_list):\n",
    "    global cc\n",
    "    result = 0\n",
    "    # Mark all vertices unvisited at the beginning.\n",
    "    visited = [False for _ in range(len(adjacency_list))]\n",
    "    # Create zero matrix for connected components.\n",
    "    connected_components = [0 for _ in range(len(adjacency_list))]\n",
    "    for vertex in range(len(adjacency_list)):\n",
    "        if visited[vertex] == False:\n",
    "            explore(adjacency_list, vertex, visited, connected_components)\n",
    "            cc += 1\n",
    "            result += 1\n",
    "    print('connected components:', connected_components)\n",
    "    return result\n",
    "\n",
    "def explore(adjacency_list, vertex, visited, connected_components):\n",
    "    if visited[vertex] == False:\n",
    "        visited[vertex] = True\n",
    "        connected_components[vertex] = cc\n",
    "        for neighbor in adjacency_list[vertex]:\n",
    "            # print('vertex', vertex, 'neighbor', neighbor) \n",
    "            if explore(adjacency_list, neighbor, visited, connected_components):\n",
    "                return 1\n",
    "    return 0\n",
    "\n",
    "if __name__ == '__main__':\n",
    "    vertex, edge = map(int, input().split())\n",
    "    data = list(map(int, input().split()))\n",
    "    edges = []\n",
    "    for i in range(0, len(data), 2):\n",
    "        edges.append(data[i:i+2])\n",
    "    adjacency_list = [[] for _ in range(vertex)]\n",
    "    for a, b in edges:\n",
    "        adjacency_list[a - 1].append(b - 1)\n",
    "        adjacency_list[b - 1].append(a - 1)\n",
    "    # Assign cc to 1 at the beginning to categorize which vertix belongs to which connected component.\n",
    "    global cc\n",
    "    cc = 1\n",
    "    # Use Depth-First Search algorithm.\n",
    "    print(DFS(adjacency_list))"
   ]
  },
  {
   "cell_type": "markdown",
   "metadata": {},
   "source": [
    "### Previsit and Postvisit Orderings in Depth-First Search"
   ]
  },
  {
   "cell_type": "code",
   "execution_count": 4,
   "metadata": {},
   "outputs": [
    {
     "name": "stdout",
     "output_type": "stream",
     "text": [
      "4 2\n",
      "1 2 3 2\n",
      "vertex 0 is visited 1 / 6\n",
      "vertex 1 is visited 2 / 5\n",
      "vertex 2 is visited 3 / 4\n",
      "vertex 3 is visited 7 / 8\n"
     ]
    }
   ],
   "source": [
    "def DFS(adjacency_list):\n",
    "    global clock\n",
    "    pre = [0 for _ in range(len(adjacency_list))]\n",
    "    post = [0 for _ in range(len(adjacency_list))]\n",
    "    visited = [False for _ in range(len(adjacency_list))]\n",
    "    for vertex in range(len(adjacency_list)):\n",
    "        if visited[vertex] == False:\n",
    "            explore(adjacency_list, vertex, visited, pre, post)\n",
    "    for i in range(len(adjacency_list)):\n",
    "        print (f'vertex {i} is visited {pre[i]} / {post[i]}')\n",
    "\n",
    "def previsit(pre, vertex):\n",
    "    global clock\n",
    "    pre[vertex] = clock\n",
    "    clock += 1\n",
    "\n",
    "def postvisit(post, vertex):\n",
    "    global clock\n",
    "    post[vertex] = clock\n",
    "    clock += 1\n",
    "\n",
    "def explore(adjacency_list, vertex, visited, pre, post):\n",
    "    global clock\n",
    "    if visited[vertex] == False:\n",
    "        visited[vertex] = True\n",
    "        previsit(pre, vertex)\n",
    "        for neighbor in adjacency_list[vertex]:\n",
    "            if explore(adjacency_list, neighbor, visited, pre, post):\n",
    "                return 1\n",
    "        postvisit(post, vertex)\n",
    "    return 0\n",
    "\n",
    "if __name__ == '__main__':\n",
    "    vertex, edge = map(int, input().split())\n",
    "    data = list(map(int, input().split()))\n",
    "    edges = []\n",
    "    for i in range(0, len(data), 2):\n",
    "        edges.append(data[i:i+2])\n",
    "    adjacency_list = [[] for _ in range(vertex)]\n",
    "    for a, b in edges:\n",
    "        adjacency_list[a - 1].append(b - 1)\n",
    "        adjacency_list[b - 1].append(a - 1)\n",
    "    global clock\n",
    "    clock = 1\n",
    "    DFS(adjacency_list)"
   ]
  },
  {
   "cell_type": "markdown",
   "metadata": {},
   "source": [
    "### Checking Consistency of CS Curriculum\n",
    "**Problem Introduction:**\n",
    "A Computer Science curriculum specifies the prerequisites for each course as a list of courses that should be\n",
    "taken before taking this course. You would like to perform a consistency check of the curriculum, that is,\n",
    "to check that there are no cyclic dependencies. For this, you construct the following directed graph: vertices\n",
    "correspond to courses, there is a directed edge $(u, v)$ is the course $u$ should be taken before the course $v$.\n",
    "Then, it is enough to check whether the resulting graph contains a cycle.\n",
    "\n",
    "**Task:** Check whether a given directed graph with $n$ vertices and $m$ edges contains a cycle.\n",
    "\n",
    "**Input Format:** A graph is given in the standard format.\n",
    "\n",
    "**Constraints:** $1 \\leq n \\leq 10^3, 0 \\leq m \\leq 10^3$.\n",
    "\n",
    "**Output Format:** Output $1$ if the graph contains a cycle and $0$ otherwise."
   ]
  },
  {
   "cell_type": "code",
   "execution_count": 13,
   "metadata": {},
   "outputs": [
    {
     "name": "stdout",
     "output_type": "stream",
     "text": [
      "10 20\n",
      "7 8 4 10 3 2 1 3 4 9 2 6 8 3 8 2 6 1 6 10 10 6 1 4 3 8 1 5 8 9 5 3 3 4 5 1 8 5 8 4\n",
      "1\n"
     ]
    }
   ],
   "source": [
    "def DFS(adjacency_list):\n",
    "    visited = [[False, False] for _ in range(len(adjacency_list))]\n",
    "    for vertex in range(len(adjacency_list)):\n",
    "        if visited[vertex][1] == False:\n",
    "            if visited[vertex][0] == False:\n",
    "                if explore(adjacency_list, vertex, visited):\n",
    "                    return 1\n",
    "    return 0\n",
    "\n",
    "def explore(adjacency_list, vertex, visited):\n",
    "    if visited[vertex][1] == False:\n",
    "        if visited[vertex][0] == False:\n",
    "            visited[vertex][0] = True\n",
    "            for neighbor in adjacency_list[vertex]:\n",
    "                if explore(adjacency_list, neighbor, visited):\n",
    "                    return 1\n",
    "                visited[vertex][1] = True\n",
    "        if len(adjacency_list[vertex]) == 0:\n",
    "            visited[vertex][1] = True\n",
    "    if visited[vertex][1] == True:\n",
    "        return 0\n",
    "    return 1\n",
    "\n",
    "if __name__ == '__main__':\n",
    "    vertex, edge = map(int, input().split())\n",
    "    data = list(map(int, input().split()))\n",
    "    edges = []\n",
    "    for i in range(0, len(data), 2):\n",
    "        edges.append(data[i:i+2])\n",
    "    adjacency_list = [[] for _ in range(vertex)]\n",
    "    for a, b in edges:\n",
    "        adjacency_list[a - 1].append(b - 1)\n",
    "    print(DFS(adjacency_list))"
   ]
  },
  {
   "cell_type": "markdown",
   "metadata": {},
   "source": [
    "### Determining an Order of Courses\n",
    "\n",
    "**Problem Introduction:**\n",
    "Now, when you are sure that there are no cyclic dependencies in the given CS curriculum, you would like to\n",
    "find an order of all courses that is consistent with all dependencies. For this, you find a topological ordering\n",
    "of the corresponding directed graph.\n",
    "\n",
    "**Task:** Compute a topological ordering of a given directed acyclic graph (DAG) with $n$ vertices and $m$ edges.\n",
    "\n",
    "**Input Format:** A graph is given in the standard format.\n",
    "\n",
    "**Constraints:** $1 \\leq n \\leq 10^5, 0 \\leq m \\leq 10^5$. The given graph is guaranteed to be acyclic.\n",
    "\n",
    "**Output Format:** Output any topological ordering of its vertices. (Many DAGs have more than just one\n",
    "topological ordering. You may output any of them.)"
   ]
  },
  {
   "cell_type": "code",
   "execution_count": 1,
   "metadata": {},
   "outputs": [
    {
     "name": "stdout",
     "output_type": "stream",
     "text": [
      "10 20\n",
      "1 2 10 8 5 4 3 2 9 7 10 4 2 8 3 10 10 2 7 6 8 4 1 5 1 8 1 6 1 9 3 6 7 10 9 4 9 5 5 3\n",
      "1 9 7 5 3 6 10 2 8 4\n"
     ]
    }
   ],
   "source": [
    "def DFS(adjacency_list):\n",
    "    global clock\n",
    "    post = [[i, 0] for i in range(len(adjacency_list))]\n",
    "    visited = [False for _ in range(len(adjacency_list))]\n",
    "    for vertex in range(len(adjacency_list)):\n",
    "        explore(adjacency_list, vertex, visited, post)\n",
    "    return post\n",
    "\n",
    "def postvisit(post, vertex):\n",
    "    global clock\n",
    "    post[vertex][1] = clock\n",
    "    clock += 1\n",
    "\n",
    "def explore(adjacency_list, vertex, visited, post):\n",
    "    global clock\n",
    "    if visited[vertex] == False:\n",
    "        visited[vertex] = True\n",
    "        for neighbor in adjacency_list[vertex]:\n",
    "            if explore(adjacency_list, neighbor, visited, post):\n",
    "                return 1\n",
    "        postvisit(post, vertex)\n",
    "    return 0\n",
    "\n",
    "def TopologicalSort(adjacency_list):\n",
    "    traversal = DFS(adjacency_list)\n",
    "    traversal = sorted(traversal, key = lambda x: x[1], reverse = True)\n",
    "    order = [traversal[i][0] + 1 for i in range(len(traversal))]\n",
    "    return order\n",
    "\n",
    "if __name__ == '__main__':\n",
    "    vertex, edge = map(int, input().split())\n",
    "    data = list(map(int, input().split()))\n",
    "    edges = []\n",
    "    for i in range(0, len(data), 2):\n",
    "        edges.append(data[i:i+2])\n",
    "    adjacency_list = [[] for _ in range(vertex)]\n",
    "    for a, b in edges:\n",
    "        adjacency_list[a - 1].append(b - 1)\n",
    "    global clock\n",
    "    clock = 1\n",
    "    print(*TopologicalSort(adjacency_list))"
   ]
  },
  {
   "cell_type": "markdown",
   "metadata": {},
   "source": [
    "### Checking Whether Any Intersection in a City is Reachable from Any Other\n",
    "\n",
    "**Problem Introduction:**\n",
    "The police department of a city has made all streets one-way. You would like\n",
    "to check whether it is still possible to drive legally from any intersection to\n",
    "any other intersection. For this, you construct a directed graph: vertices are\n",
    "intersections, there is an edge $(u, v)$ whenever there is a (one-way) street from\n",
    "$u$ to $v$ in the city. Then, it suffices to check whether all the vertices in the\n",
    "graph lie in the same strongly connected component.\n",
    "\n",
    "**Task:** Compute the number of strongly connected components of a given directed graph with $n$ vertices and $m$ edges.\n",
    "\n",
    "**Input Format:** A graph is given in the standard format.\n",
    "\n",
    "**Constraints:** $1 \\leq n \\leq 10^4, 0 \\leq m \\leq 10^4$.\n",
    "\n",
    "**Output Format:** Output the number of strongly connected components."
   ]
  },
  {
   "cell_type": "code",
   "execution_count": null,
   "metadata": {},
   "outputs": [],
   "source": []
  }
 ],
 "metadata": {
  "kernelspec": {
   "display_name": "Python 3",
   "language": "python",
   "name": "python3"
  },
  "language_info": {
   "codemirror_mode": {
    "name": "ipython",
    "version": 3
   },
   "file_extension": ".py",
   "mimetype": "text/x-python",
   "name": "python",
   "nbconvert_exporter": "python",
   "pygments_lexer": "ipython3",
   "version": "3.7.3"
  }
 },
 "nbformat": 4,
 "nbformat_minor": 4
}
